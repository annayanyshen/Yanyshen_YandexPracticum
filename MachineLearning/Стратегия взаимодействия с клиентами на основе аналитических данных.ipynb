{
 "cells": [
  {
   "cell_type": "markdown",
   "metadata": {
    "toc": true
   },
   "source": [
    "<h1>Содержание проекта<span class=\"tocSkip\"></span></h1>\n",
    "<div class=\"toc\"><ul class=\"toc-item\"><li><span><a href=\"#Описание-проекта\" data-toc-modified-id=\"Описание-проекта-1\"><span class=\"toc-item-num\">1&nbsp;&nbsp;</span>Описание проекта</a></span></li><li><span><a href=\"#Загрузка-данных\" data-toc-modified-id=\"Загрузка-данных-2\"><span class=\"toc-item-num\">2&nbsp;&nbsp;</span>Загрузка данных</a></span></li><li><span><a href=\"#Исследовательский-анализ-данных-(EDA)\" data-toc-modified-id=\"Исследовательский-анализ-данных-(EDA)-3\"><span class=\"toc-item-num\">3&nbsp;&nbsp;</span>Исследовательский анализ данных (EDA)</a></span></li><li><span><a href=\"#Построение-модели-прогнозирования-оттока-клиентов\" data-toc-modified-id=\"Построение-модели-прогнозирования-оттока-клиентов-4\"><span class=\"toc-item-num\">4&nbsp;&nbsp;</span>Построение модели прогнозирования оттока клиентов</a></span><ul class=\"toc-item\"><li><span><a href=\"#Разбиение-данных-на-обучающую-и-валидационную-выборку\" data-toc-modified-id=\"Разбиение-данных-на-обучающую-и-валидационную-выборку-4.1\"><span class=\"toc-item-num\">4.1&nbsp;&nbsp;</span>Разбиение данных на обучающую и валидационную выборку</a></span></li><li><span><a href=\"#Обучение-модели-на-train-выборке-логистической-регрессией\" data-toc-modified-id=\"Обучение-модели-на-train-выборке-логистической-регрессией-4.2\"><span class=\"toc-item-num\">4.2&nbsp;&nbsp;</span>Обучение модели на train-выборке логистической регрессией</a></span></li><li><span><a href=\"#Обучение-модели-на-train-выборке-случайным-лесом.\" data-toc-modified-id=\"Обучение-модели-на-train-выборке-случайным-лесом.-4.3\"><span class=\"toc-item-num\">4.3&nbsp;&nbsp;</span>Обучение модели на train-выборке случайным лесом.</a></span></li><li><span><a href=\"#Оценка-метрик-accuracy,-precision-и-recall\" data-toc-modified-id=\"Оценка-метрик-accuracy,-precision-и-recall-4.4\"><span class=\"toc-item-num\">4.4&nbsp;&nbsp;</span>Оценка метрик accuracy, precision и recall</a></span></li></ul></li><li><span><a href=\"#Кластеризация-клиентов\" data-toc-modified-id=\"Кластеризация-клиентов-5\"><span class=\"toc-item-num\">5&nbsp;&nbsp;</span>Кластеризация клиентов</a></span><ul class=\"toc-item\"><li><span><a href=\"#Стандартизация-данных\" data-toc-modified-id=\"Стандартизация-данных-5.1\"><span class=\"toc-item-num\">5.1&nbsp;&nbsp;</span>Стандартизация данных</a></span></li><li><span><a href=\"#Построение-матрицы-расстояний-и-дендрограммы.\" data-toc-modified-id=\"Построение-матрицы-расстояний-и-дендрограммы.-5.2\"><span class=\"toc-item-num\">5.2&nbsp;&nbsp;</span>Построение матрицы расстояний и дендрограммы.</a></span></li><li><span><a href=\"#Обучение-модели-кластеризации-на-основании-алгоритма-K-Means\" data-toc-modified-id=\"Обучение-модели-кластеризации-на-основании-алгоритма-K-Means-5.3\"><span class=\"toc-item-num\">5.3&nbsp;&nbsp;</span>Обучение модели кластеризации на основании алгоритма K-Means</a></span></li><li><span><a href=\"#Подсчет-доли-оттока-по-кластерам\" data-toc-modified-id=\"Подсчет-доли-оттока-по-кластерам-5.4\"><span class=\"toc-item-num\">5.4&nbsp;&nbsp;</span>Подсчет доли оттока по кластерам</a></span></li></ul></li><li><span><a href=\"#Вывод\" data-toc-modified-id=\"Вывод-6\"><span class=\"toc-item-num\">6&nbsp;&nbsp;</span>Вывод</a></span></li><li><span><a href=\"#Чек-лист-готовности-проекта\" data-toc-modified-id=\"Чек-лист-готовности-проекта-7\"><span class=\"toc-item-num\">7&nbsp;&nbsp;</span>Чек-лист готовности проекта</a></span></li></ul></div>"
   ]
  },
  {
   "cell_type": "markdown",
   "metadata": {},
   "source": [
    "# Проект \"Стратегия взаимодействия с клиентами на основе аналитических данных\""
   ]
  },
  {
   "cell_type": "markdown",
   "metadata": {},
   "source": [
    "## Описание проекта"
   ]
  },
  {
   "cell_type": "markdown",
   "metadata": {},
   "source": [
    "Аналитику предлагается набор данных от сети фитнес-клубов для разработки стратегии взаимодействия с клиентами. <br>\n",
    "<b>Задача: </b>провести анализ и подготовить план действий по удержанию клиентов:<br>\n",
    "\n",
    "- научиться прогнозировать вероятность оттока (на уровне следующего месяца) для каждого клиента;<br>\n",
    "- сформировать типичные портреты клиентов: выделить несколько наиболее ярких групп и охарактеризовать их основные свойства;<br>\n",
    "- проанализировать основные признаки, наиболее сильно влияющие на отток;<br>\n",
    "- сформулировать основные выводы и разработать рекомендации по повышению качества работы с клиентами:<br>\n",
    "    1) выделить целевые группы клиентов;<br>\n",
    "    2) предложить меры по снижению оттока;<br>\n",
    "    3) определить другие особенности взаимодействия с клиентами.<br>\n",
    "\n",
    "<b>Данные от заказчика - сети фитнес-клубов </b>, они содержат данные на месяц до оттока и факт оттока на определённый месяц. <br>"
   ]
  },
  {
   "cell_type": "markdown",
   "metadata": {},
   "source": [
    "## Загрузка данных"
   ]
  },
  {
   "cell_type": "code",
   "execution_count": 1,
   "metadata": {},
   "outputs": [],
   "source": [
    "import pandas as pd\n",
    "import seaborn as sns\n",
    "import matplotlib.pyplot as plt\n",
    "from sklearn.preprocessing import StandardScaler\n",
    "from sklearn.model_selection import train_test_split\n",
    "import matplotlib.pyplot as plt\n",
    "from sklearn.linear_model import LogisticRegression\n",
    "from sklearn.metrics import accuracy_score, precision_score, recall_score, f1_score\n",
    "from scipy.cluster.hierarchy import dendrogram, linkage \n",
    "from sklearn.cluster import KMeans\n",
    "from sklearn.ensemble import RandomForestClassifier\n"
   ]
  },
  {
   "cell_type": "code",
   "execution_count": 2,
   "metadata": {},
   "outputs": [
    {
     "data": {
      "text/html": [
       "<div>\n",
       "<style scoped>\n",
       "    .dataframe tbody tr th:only-of-type {\n",
       "        vertical-align: middle;\n",
       "    }\n",
       "\n",
       "    .dataframe tbody tr th {\n",
       "        vertical-align: top;\n",
       "    }\n",
       "\n",
       "    .dataframe thead th {\n",
       "        text-align: right;\n",
       "    }\n",
       "</style>\n",
       "<table border=\"1\" class=\"dataframe\">\n",
       "  <thead>\n",
       "    <tr style=\"text-align: right;\">\n",
       "      <th></th>\n",
       "      <th>gender</th>\n",
       "      <th>Near_Location</th>\n",
       "      <th>Partner</th>\n",
       "      <th>Promo_friends</th>\n",
       "      <th>Phone</th>\n",
       "      <th>Contract_period</th>\n",
       "      <th>Group_visits</th>\n",
       "      <th>Age</th>\n",
       "      <th>Avg_additional_charges_total</th>\n",
       "      <th>Month_to_end_contract</th>\n",
       "      <th>Lifetime</th>\n",
       "      <th>Avg_class_frequency_total</th>\n",
       "      <th>Avg_class_frequency_current_month</th>\n",
       "      <th>Churn</th>\n",
       "    </tr>\n",
       "  </thead>\n",
       "  <tbody>\n",
       "    <tr>\n",
       "      <th>0</th>\n",
       "      <td>1</td>\n",
       "      <td>1</td>\n",
       "      <td>1</td>\n",
       "      <td>1</td>\n",
       "      <td>0</td>\n",
       "      <td>6</td>\n",
       "      <td>1</td>\n",
       "      <td>29</td>\n",
       "      <td>14.227470</td>\n",
       "      <td>5.0</td>\n",
       "      <td>3</td>\n",
       "      <td>0.020398</td>\n",
       "      <td>0.000000</td>\n",
       "      <td>0</td>\n",
       "    </tr>\n",
       "    <tr>\n",
       "      <th>1</th>\n",
       "      <td>0</td>\n",
       "      <td>1</td>\n",
       "      <td>0</td>\n",
       "      <td>0</td>\n",
       "      <td>1</td>\n",
       "      <td>12</td>\n",
       "      <td>1</td>\n",
       "      <td>31</td>\n",
       "      <td>113.202938</td>\n",
       "      <td>12.0</td>\n",
       "      <td>7</td>\n",
       "      <td>1.922936</td>\n",
       "      <td>1.910244</td>\n",
       "      <td>0</td>\n",
       "    </tr>\n",
       "    <tr>\n",
       "      <th>2</th>\n",
       "      <td>0</td>\n",
       "      <td>1</td>\n",
       "      <td>1</td>\n",
       "      <td>0</td>\n",
       "      <td>1</td>\n",
       "      <td>1</td>\n",
       "      <td>0</td>\n",
       "      <td>28</td>\n",
       "      <td>129.448479</td>\n",
       "      <td>1.0</td>\n",
       "      <td>2</td>\n",
       "      <td>1.859098</td>\n",
       "      <td>1.736502</td>\n",
       "      <td>0</td>\n",
       "    </tr>\n",
       "    <tr>\n",
       "      <th>3</th>\n",
       "      <td>0</td>\n",
       "      <td>1</td>\n",
       "      <td>1</td>\n",
       "      <td>1</td>\n",
       "      <td>1</td>\n",
       "      <td>12</td>\n",
       "      <td>1</td>\n",
       "      <td>33</td>\n",
       "      <td>62.669863</td>\n",
       "      <td>12.0</td>\n",
       "      <td>2</td>\n",
       "      <td>3.205633</td>\n",
       "      <td>3.357215</td>\n",
       "      <td>0</td>\n",
       "    </tr>\n",
       "    <tr>\n",
       "      <th>4</th>\n",
       "      <td>1</td>\n",
       "      <td>1</td>\n",
       "      <td>1</td>\n",
       "      <td>1</td>\n",
       "      <td>1</td>\n",
       "      <td>1</td>\n",
       "      <td>0</td>\n",
       "      <td>26</td>\n",
       "      <td>198.362265</td>\n",
       "      <td>1.0</td>\n",
       "      <td>3</td>\n",
       "      <td>1.113884</td>\n",
       "      <td>1.120078</td>\n",
       "      <td>0</td>\n",
       "    </tr>\n",
       "    <tr>\n",
       "      <th>...</th>\n",
       "      <td>...</td>\n",
       "      <td>...</td>\n",
       "      <td>...</td>\n",
       "      <td>...</td>\n",
       "      <td>...</td>\n",
       "      <td>...</td>\n",
       "      <td>...</td>\n",
       "      <td>...</td>\n",
       "      <td>...</td>\n",
       "      <td>...</td>\n",
       "      <td>...</td>\n",
       "      <td>...</td>\n",
       "      <td>...</td>\n",
       "      <td>...</td>\n",
       "    </tr>\n",
       "    <tr>\n",
       "      <th>3995</th>\n",
       "      <td>1</td>\n",
       "      <td>1</td>\n",
       "      <td>1</td>\n",
       "      <td>0</td>\n",
       "      <td>1</td>\n",
       "      <td>12</td>\n",
       "      <td>0</td>\n",
       "      <td>33</td>\n",
       "      <td>2.406023</td>\n",
       "      <td>12.0</td>\n",
       "      <td>8</td>\n",
       "      <td>2.284497</td>\n",
       "      <td>2.349070</td>\n",
       "      <td>0</td>\n",
       "    </tr>\n",
       "    <tr>\n",
       "      <th>3996</th>\n",
       "      <td>0</td>\n",
       "      <td>1</td>\n",
       "      <td>0</td>\n",
       "      <td>0</td>\n",
       "      <td>1</td>\n",
       "      <td>1</td>\n",
       "      <td>1</td>\n",
       "      <td>29</td>\n",
       "      <td>68.883764</td>\n",
       "      <td>1.0</td>\n",
       "      <td>1</td>\n",
       "      <td>1.277168</td>\n",
       "      <td>0.292859</td>\n",
       "      <td>1</td>\n",
       "    </tr>\n",
       "    <tr>\n",
       "      <th>3997</th>\n",
       "      <td>1</td>\n",
       "      <td>1</td>\n",
       "      <td>1</td>\n",
       "      <td>1</td>\n",
       "      <td>1</td>\n",
       "      <td>12</td>\n",
       "      <td>0</td>\n",
       "      <td>28</td>\n",
       "      <td>78.250542</td>\n",
       "      <td>11.0</td>\n",
       "      <td>2</td>\n",
       "      <td>2.786146</td>\n",
       "      <td>2.831439</td>\n",
       "      <td>0</td>\n",
       "    </tr>\n",
       "    <tr>\n",
       "      <th>3998</th>\n",
       "      <td>0</td>\n",
       "      <td>1</td>\n",
       "      <td>1</td>\n",
       "      <td>1</td>\n",
       "      <td>1</td>\n",
       "      <td>6</td>\n",
       "      <td>0</td>\n",
       "      <td>32</td>\n",
       "      <td>61.912657</td>\n",
       "      <td>5.0</td>\n",
       "      <td>3</td>\n",
       "      <td>1.630108</td>\n",
       "      <td>1.596237</td>\n",
       "      <td>0</td>\n",
       "    </tr>\n",
       "    <tr>\n",
       "      <th>3999</th>\n",
       "      <td>1</td>\n",
       "      <td>0</td>\n",
       "      <td>1</td>\n",
       "      <td>0</td>\n",
       "      <td>0</td>\n",
       "      <td>12</td>\n",
       "      <td>1</td>\n",
       "      <td>30</td>\n",
       "      <td>178.861814</td>\n",
       "      <td>12.0</td>\n",
       "      <td>1</td>\n",
       "      <td>1.101832</td>\n",
       "      <td>1.035270</td>\n",
       "      <td>0</td>\n",
       "    </tr>\n",
       "  </tbody>\n",
       "</table>\n",
       "<p>4000 rows × 14 columns</p>\n",
       "</div>"
      ],
      "text/plain": [
       "      gender  Near_Location  Partner  Promo_friends  Phone  Contract_period  \\\n",
       "0          1              1        1              1      0                6   \n",
       "1          0              1        0              0      1               12   \n",
       "2          0              1        1              0      1                1   \n",
       "3          0              1        1              1      1               12   \n",
       "4          1              1        1              1      1                1   \n",
       "...      ...            ...      ...            ...    ...              ...   \n",
       "3995       1              1        1              0      1               12   \n",
       "3996       0              1        0              0      1                1   \n",
       "3997       1              1        1              1      1               12   \n",
       "3998       0              1        1              1      1                6   \n",
       "3999       1              0        1              0      0               12   \n",
       "\n",
       "      Group_visits  Age  Avg_additional_charges_total  Month_to_end_contract  \\\n",
       "0                1   29                     14.227470                    5.0   \n",
       "1                1   31                    113.202938                   12.0   \n",
       "2                0   28                    129.448479                    1.0   \n",
       "3                1   33                     62.669863                   12.0   \n",
       "4                0   26                    198.362265                    1.0   \n",
       "...            ...  ...                           ...                    ...   \n",
       "3995             0   33                      2.406023                   12.0   \n",
       "3996             1   29                     68.883764                    1.0   \n",
       "3997             0   28                     78.250542                   11.0   \n",
       "3998             0   32                     61.912657                    5.0   \n",
       "3999             1   30                    178.861814                   12.0   \n",
       "\n",
       "      Lifetime  Avg_class_frequency_total  Avg_class_frequency_current_month  \\\n",
       "0            3                   0.020398                           0.000000   \n",
       "1            7                   1.922936                           1.910244   \n",
       "2            2                   1.859098                           1.736502   \n",
       "3            2                   3.205633                           3.357215   \n",
       "4            3                   1.113884                           1.120078   \n",
       "...        ...                        ...                                ...   \n",
       "3995         8                   2.284497                           2.349070   \n",
       "3996         1                   1.277168                           0.292859   \n",
       "3997         2                   2.786146                           2.831439   \n",
       "3998         3                   1.630108                           1.596237   \n",
       "3999         1                   1.101832                           1.035270   \n",
       "\n",
       "      Churn  \n",
       "0         0  \n",
       "1         0  \n",
       "2         0  \n",
       "3         0  \n",
       "4         0  \n",
       "...     ...  \n",
       "3995      0  \n",
       "3996      1  \n",
       "3997      0  \n",
       "3998      0  \n",
       "3999      0  \n",
       "\n",
       "[4000 rows x 14 columns]"
      ]
     },
     "execution_count": 2,
     "metadata": {},
     "output_type": "execute_result"
    }
   ],
   "source": [
    "#загружаю данные\n",
    "gym_churn = pd.read_csv('/datasets/gym_churn.csv')\n",
    "gym_churn"
   ]
  },
  {
   "cell_type": "code",
   "execution_count": 3,
   "metadata": {},
   "outputs": [
    {
     "name": "stdout",
     "output_type": "stream",
     "text": [
      "<class 'pandas.core.frame.DataFrame'>\n",
      "RangeIndex: 4000 entries, 0 to 3999\n",
      "Data columns (total 14 columns):\n",
      " #   Column                             Non-Null Count  Dtype  \n",
      "---  ------                             --------------  -----  \n",
      " 0   gender                             4000 non-null   int64  \n",
      " 1   Near_Location                      4000 non-null   int64  \n",
      " 2   Partner                            4000 non-null   int64  \n",
      " 3   Promo_friends                      4000 non-null   int64  \n",
      " 4   Phone                              4000 non-null   int64  \n",
      " 5   Contract_period                    4000 non-null   int64  \n",
      " 6   Group_visits                       4000 non-null   int64  \n",
      " 7   Age                                4000 non-null   int64  \n",
      " 8   Avg_additional_charges_total       4000 non-null   float64\n",
      " 9   Month_to_end_contract              4000 non-null   float64\n",
      " 10  Lifetime                           4000 non-null   int64  \n",
      " 11  Avg_class_frequency_total          4000 non-null   float64\n",
      " 12  Avg_class_frequency_current_month  4000 non-null   float64\n",
      " 13  Churn                              4000 non-null   int64  \n",
      "dtypes: float64(4), int64(10)\n",
      "memory usage: 437.6 KB\n"
     ]
    }
   ],
   "source": [
    "#смотрю общую информацию о датасете\n",
    "gym_churn.info()"
   ]
  },
  {
   "cell_type": "code",
   "execution_count": 4,
   "metadata": {},
   "outputs": [
    {
     "data": {
      "text/plain": [
       "gender                               0\n",
       "Near_Location                        0\n",
       "Partner                              0\n",
       "Promo_friends                        0\n",
       "Phone                                0\n",
       "Contract_period                      0\n",
       "Group_visits                         0\n",
       "Age                                  0\n",
       "Avg_additional_charges_total         0\n",
       "Month_to_end_contract                0\n",
       "Lifetime                             0\n",
       "Avg_class_frequency_total            0\n",
       "Avg_class_frequency_current_month    0\n",
       "Churn                                0\n",
       "dtype: int64"
      ]
     },
     "execution_count": 4,
     "metadata": {},
     "output_type": "execute_result"
    }
   ],
   "source": [
    "#проверяю данные на пропуски\n",
    "gym_churn.isna().sum()"
   ]
  },
  {
   "cell_type": "code",
   "execution_count": 5,
   "metadata": {},
   "outputs": [
    {
     "data": {
      "text/plain": [
       "0"
      ]
     },
     "execution_count": 5,
     "metadata": {},
     "output_type": "execute_result"
    }
   ],
   "source": [
    "#проверяю данные на полные дубликаты\n",
    "gym_churn.duplicated().sum()"
   ]
  },
  {
   "cell_type": "code",
   "execution_count": 6,
   "metadata": {},
   "outputs": [
    {
     "data": {
      "text/plain": [
       "Index(['gender', 'near_location', 'partner', 'promo_friends', 'phone',\n",
       "       'contract_period', 'group_visits', 'age',\n",
       "       'avg_additional_charges_total', 'month_to_end_contract', 'lifetime',\n",
       "       'avg_class_frequency_total', 'avg_class_frequency_current_month',\n",
       "       'churn'],\n",
       "      dtype='object')"
      ]
     },
     "execution_count": 6,
     "metadata": {},
     "output_type": "execute_result"
    }
   ],
   "source": [
    "#привожу названия столбцов к нижнему регистру \n",
    "gym_churn.columns = gym_churn.columns.str.lower()\n",
    "gym_churn.columns"
   ]
  },
  {
   "cell_type": "code",
   "execution_count": 7,
   "metadata": {},
   "outputs": [
    {
     "data": {
      "text/plain": [
       "(4000, 14)"
      ]
     },
     "execution_count": 7,
     "metadata": {},
     "output_type": "execute_result"
    }
   ],
   "source": [
    "gym_churn.shape"
   ]
  },
  {
   "cell_type": "code",
   "execution_count": 8,
   "metadata": {},
   "outputs": [
    {
     "data": {
      "text/plain": [
       "array([0, 1])"
      ]
     },
     "execution_count": 8,
     "metadata": {},
     "output_type": "execute_result"
    }
   ],
   "source": [
    "#проверю уникальные значения в столбцах, признаки которых определяются бинарно \n",
    "gym_churn['churn'].unique()"
   ]
  },
  {
   "cell_type": "code",
   "execution_count": 9,
   "metadata": {},
   "outputs": [
    {
     "data": {
      "text/plain": [
       "array([1, 0])"
      ]
     },
     "execution_count": 9,
     "metadata": {},
     "output_type": "execute_result"
    }
   ],
   "source": [
    "gym_churn['gender'].unique()"
   ]
  },
  {
   "cell_type": "code",
   "execution_count": 10,
   "metadata": {},
   "outputs": [
    {
     "data": {
      "text/plain": [
       "array([1, 0])"
      ]
     },
     "execution_count": 10,
     "metadata": {},
     "output_type": "execute_result"
    }
   ],
   "source": [
    "gym_churn['partner'].unique()"
   ]
  },
  {
   "cell_type": "code",
   "execution_count": 11,
   "metadata": {},
   "outputs": [
    {
     "data": {
      "text/plain": [
       "array([1, 0])"
      ]
     },
     "execution_count": 11,
     "metadata": {},
     "output_type": "execute_result"
    }
   ],
   "source": [
    "gym_churn['promo_friends'].unique()"
   ]
  },
  {
   "cell_type": "code",
   "execution_count": 12,
   "metadata": {},
   "outputs": [
    {
     "data": {
      "text/plain": [
       "array([0, 1])"
      ]
     },
     "execution_count": 12,
     "metadata": {},
     "output_type": "execute_result"
    }
   ],
   "source": [
    "gym_churn['phone'].unique()"
   ]
  },
  {
   "cell_type": "code",
   "execution_count": 13,
   "metadata": {},
   "outputs": [
    {
     "data": {
      "text/plain": [
       "array([1, 0])"
      ]
     },
     "execution_count": 13,
     "metadata": {},
     "output_type": "execute_result"
    }
   ],
   "source": [
    "gym_churn['group_visits'].unique()"
   ]
  },
  {
   "cell_type": "markdown",
   "metadata": {},
   "source": [
    "В датасете 4000 наблюдений, нет пропусков и дубликатов. 14 полей: 13 признаков и 1 целевая переменная churn - факт оттока посетителей.\n",
    "\n",
    "По большей части все признаки численные, но можно отметить, что признаки churn, gender, partner, promo_friends, phone, group_visits - категориальные, значения которых задаются бинарным кодом. "
   ]
  },
  {
   "cell_type": "markdown",
   "metadata": {},
   "source": [
    "## Исследовательский анализ данных (EDA)"
   ]
  },
  {
   "cell_type": "code",
   "execution_count": 14,
   "metadata": {},
   "outputs": [
    {
     "data": {
      "text/html": [
       "<div>\n",
       "<style scoped>\n",
       "    .dataframe tbody tr th:only-of-type {\n",
       "        vertical-align: middle;\n",
       "    }\n",
       "\n",
       "    .dataframe tbody tr th {\n",
       "        vertical-align: top;\n",
       "    }\n",
       "\n",
       "    .dataframe thead th {\n",
       "        text-align: right;\n",
       "    }\n",
       "</style>\n",
       "<table border=\"1\" class=\"dataframe\">\n",
       "  <thead>\n",
       "    <tr style=\"text-align: right;\">\n",
       "      <th></th>\n",
       "      <th>gender</th>\n",
       "      <th>near_location</th>\n",
       "      <th>partner</th>\n",
       "      <th>promo_friends</th>\n",
       "      <th>phone</th>\n",
       "      <th>contract_period</th>\n",
       "      <th>group_visits</th>\n",
       "      <th>age</th>\n",
       "      <th>avg_additional_charges_total</th>\n",
       "      <th>month_to_end_contract</th>\n",
       "      <th>lifetime</th>\n",
       "      <th>avg_class_frequency_total</th>\n",
       "      <th>avg_class_frequency_current_month</th>\n",
       "      <th>churn</th>\n",
       "    </tr>\n",
       "  </thead>\n",
       "  <tbody>\n",
       "    <tr>\n",
       "      <th>count</th>\n",
       "      <td>4000.000000</td>\n",
       "      <td>4000.000000</td>\n",
       "      <td>4000.000000</td>\n",
       "      <td>4000.000000</td>\n",
       "      <td>4000.000000</td>\n",
       "      <td>4000.000000</td>\n",
       "      <td>4000.000000</td>\n",
       "      <td>4000.000000</td>\n",
       "      <td>4000.000000</td>\n",
       "      <td>4000.000000</td>\n",
       "      <td>4000.000000</td>\n",
       "      <td>4000.000000</td>\n",
       "      <td>4000.000000</td>\n",
       "      <td>4000.000000</td>\n",
       "    </tr>\n",
       "    <tr>\n",
       "      <th>mean</th>\n",
       "      <td>0.510250</td>\n",
       "      <td>0.845250</td>\n",
       "      <td>0.486750</td>\n",
       "      <td>0.308500</td>\n",
       "      <td>0.903500</td>\n",
       "      <td>4.681250</td>\n",
       "      <td>0.412250</td>\n",
       "      <td>29.184250</td>\n",
       "      <td>146.943728</td>\n",
       "      <td>4.322750</td>\n",
       "      <td>3.724750</td>\n",
       "      <td>1.879020</td>\n",
       "      <td>1.767052</td>\n",
       "      <td>0.265250</td>\n",
       "    </tr>\n",
       "    <tr>\n",
       "      <th>std</th>\n",
       "      <td>0.499957</td>\n",
       "      <td>0.361711</td>\n",
       "      <td>0.499887</td>\n",
       "      <td>0.461932</td>\n",
       "      <td>0.295313</td>\n",
       "      <td>4.549706</td>\n",
       "      <td>0.492301</td>\n",
       "      <td>3.258367</td>\n",
       "      <td>96.355602</td>\n",
       "      <td>4.191297</td>\n",
       "      <td>3.749267</td>\n",
       "      <td>0.972245</td>\n",
       "      <td>1.052906</td>\n",
       "      <td>0.441521</td>\n",
       "    </tr>\n",
       "    <tr>\n",
       "      <th>min</th>\n",
       "      <td>0.000000</td>\n",
       "      <td>0.000000</td>\n",
       "      <td>0.000000</td>\n",
       "      <td>0.000000</td>\n",
       "      <td>0.000000</td>\n",
       "      <td>1.000000</td>\n",
       "      <td>0.000000</td>\n",
       "      <td>18.000000</td>\n",
       "      <td>0.148205</td>\n",
       "      <td>1.000000</td>\n",
       "      <td>0.000000</td>\n",
       "      <td>0.000000</td>\n",
       "      <td>0.000000</td>\n",
       "      <td>0.000000</td>\n",
       "    </tr>\n",
       "    <tr>\n",
       "      <th>25%</th>\n",
       "      <td>0.000000</td>\n",
       "      <td>1.000000</td>\n",
       "      <td>0.000000</td>\n",
       "      <td>0.000000</td>\n",
       "      <td>1.000000</td>\n",
       "      <td>1.000000</td>\n",
       "      <td>0.000000</td>\n",
       "      <td>27.000000</td>\n",
       "      <td>68.868830</td>\n",
       "      <td>1.000000</td>\n",
       "      <td>1.000000</td>\n",
       "      <td>1.180875</td>\n",
       "      <td>0.963003</td>\n",
       "      <td>0.000000</td>\n",
       "    </tr>\n",
       "    <tr>\n",
       "      <th>50%</th>\n",
       "      <td>1.000000</td>\n",
       "      <td>1.000000</td>\n",
       "      <td>0.000000</td>\n",
       "      <td>0.000000</td>\n",
       "      <td>1.000000</td>\n",
       "      <td>1.000000</td>\n",
       "      <td>0.000000</td>\n",
       "      <td>29.000000</td>\n",
       "      <td>136.220159</td>\n",
       "      <td>1.000000</td>\n",
       "      <td>3.000000</td>\n",
       "      <td>1.832768</td>\n",
       "      <td>1.719574</td>\n",
       "      <td>0.000000</td>\n",
       "    </tr>\n",
       "    <tr>\n",
       "      <th>75%</th>\n",
       "      <td>1.000000</td>\n",
       "      <td>1.000000</td>\n",
       "      <td>1.000000</td>\n",
       "      <td>1.000000</td>\n",
       "      <td>1.000000</td>\n",
       "      <td>6.000000</td>\n",
       "      <td>1.000000</td>\n",
       "      <td>31.000000</td>\n",
       "      <td>210.949625</td>\n",
       "      <td>6.000000</td>\n",
       "      <td>5.000000</td>\n",
       "      <td>2.536078</td>\n",
       "      <td>2.510336</td>\n",
       "      <td>1.000000</td>\n",
       "    </tr>\n",
       "    <tr>\n",
       "      <th>max</th>\n",
       "      <td>1.000000</td>\n",
       "      <td>1.000000</td>\n",
       "      <td>1.000000</td>\n",
       "      <td>1.000000</td>\n",
       "      <td>1.000000</td>\n",
       "      <td>12.000000</td>\n",
       "      <td>1.000000</td>\n",
       "      <td>41.000000</td>\n",
       "      <td>552.590740</td>\n",
       "      <td>12.000000</td>\n",
       "      <td>31.000000</td>\n",
       "      <td>6.023668</td>\n",
       "      <td>6.146783</td>\n",
       "      <td>1.000000</td>\n",
       "    </tr>\n",
       "  </tbody>\n",
       "</table>\n",
       "</div>"
      ],
      "text/plain": [
       "            gender  near_location      partner  promo_friends        phone  \\\n",
       "count  4000.000000    4000.000000  4000.000000    4000.000000  4000.000000   \n",
       "mean      0.510250       0.845250     0.486750       0.308500     0.903500   \n",
       "std       0.499957       0.361711     0.499887       0.461932     0.295313   \n",
       "min       0.000000       0.000000     0.000000       0.000000     0.000000   \n",
       "25%       0.000000       1.000000     0.000000       0.000000     1.000000   \n",
       "50%       1.000000       1.000000     0.000000       0.000000     1.000000   \n",
       "75%       1.000000       1.000000     1.000000       1.000000     1.000000   \n",
       "max       1.000000       1.000000     1.000000       1.000000     1.000000   \n",
       "\n",
       "       contract_period  group_visits          age  \\\n",
       "count      4000.000000   4000.000000  4000.000000   \n",
       "mean          4.681250      0.412250    29.184250   \n",
       "std           4.549706      0.492301     3.258367   \n",
       "min           1.000000      0.000000    18.000000   \n",
       "25%           1.000000      0.000000    27.000000   \n",
       "50%           1.000000      0.000000    29.000000   \n",
       "75%           6.000000      1.000000    31.000000   \n",
       "max          12.000000      1.000000    41.000000   \n",
       "\n",
       "       avg_additional_charges_total  month_to_end_contract     lifetime  \\\n",
       "count                   4000.000000            4000.000000  4000.000000   \n",
       "mean                     146.943728               4.322750     3.724750   \n",
       "std                       96.355602               4.191297     3.749267   \n",
       "min                        0.148205               1.000000     0.000000   \n",
       "25%                       68.868830               1.000000     1.000000   \n",
       "50%                      136.220159               1.000000     3.000000   \n",
       "75%                      210.949625               6.000000     5.000000   \n",
       "max                      552.590740              12.000000    31.000000   \n",
       "\n",
       "       avg_class_frequency_total  avg_class_frequency_current_month  \\\n",
       "count                4000.000000                        4000.000000   \n",
       "mean                    1.879020                           1.767052   \n",
       "std                     0.972245                           1.052906   \n",
       "min                     0.000000                           0.000000   \n",
       "25%                     1.180875                           0.963003   \n",
       "50%                     1.832768                           1.719574   \n",
       "75%                     2.536078                           2.510336   \n",
       "max                     6.023668                           6.146783   \n",
       "\n",
       "             churn  \n",
       "count  4000.000000  \n",
       "mean      0.265250  \n",
       "std       0.441521  \n",
       "min       0.000000  \n",
       "25%       0.000000  \n",
       "50%       0.000000  \n",
       "75%       1.000000  \n",
       "max       1.000000  "
      ]
     },
     "execution_count": 14,
     "metadata": {},
     "output_type": "execute_result"
    }
   ],
   "source": [
    "#изучу средние значения и стандартные отклонения \n",
    "gym_churn.describe()"
   ]
  },
  {
   "cell_type": "markdown",
   "metadata": {},
   "source": [
    "Среднее значение для пола - 0,5 - это значит, что посетителей мужчин и женщин примерно поровну (стандартное отклонение 0,5 свидетельствует о том же)\n",
    "\n",
    "Проживание или работа в районе, где находится ФЦ: среднее 0,84 - близко к 1, значит, большинство посетителей живут или работают неподалеку, это вполне логично, мало кто готов тратить дополнительное время, чтобы добираться до спортзала.\n",
    "\n",
    "Partner - среднее 0,49 - значит, около половины посетителей приходят по программе лояльности от компании-партнера клуба. Сейчас многие работодатели оплачивают своим сотрудникам абонементы в фитнес-клубы, по данным видно, что работники этим успешно пользуются. \n",
    "\n",
    "Акция \"Приведи друга\" характеризуется средним 0,3 - по этой акции приходит около 30% всех посетителей. Думаю, это довольно-таки хороший показатель, почти треть всех посетителей. \n",
    "\n",
    "Телефон - среднее 0,9 - почти все посетители оставляют контактный телефон, значит, клуб может легко связаться с большинством из своих гостей. \n",
    "\n",
    "Длительность текущего действующего абонемента - среднее 4,68 месяцев, стандартное отклонение 4,54. Большинство выбирает между абонементами на 3 или 6 месяцев. Обычно у фитнес-клубов действуют акции на покупку абонемента сразу на несколько месяцев, должно быть, посетители этим пользуются.\n",
    "\n",
    "Посещение групповых занятий - 0,41 - то есть около 40% посетителй было на групповых занятиях, но большинство предпочло индивидуальные тренировки\n",
    "\n",
    "Средний возраст посетителей сети фитнес-центров - 29 лет, стандартное отклонение чуть больше 3 лет, то есть в основном покупают абонементы достаточно молодые люди, но в то же время, они уже в основном закончили учебу, работают и, следовательно, они более стабильны чем более молодые люди. Сдлеаю предположение, что у посетителей более старшего возраста уже больше дополнительных \"обременений\" - появляется семья, скорее всего уже нет много времени, чтобы ходить в спортзал. \n",
    "\n",
    "Среднее по суммарной выручке от доп услуг составило 146 (у.е.?), стандартное отклонение - 96, у некоторых посетителей доп траты доходили до 552. Можно сделать вывод о том, что посетители пользуются дополнительными услугами.\n",
    "\n",
    "Срок до окончания действующего абонемента - среднее значение 4,3 месяца при стандартном отклонении до 4.2. Тут может быть вывод о том, что посетители либо недавно купили абонементы, либо хорошо следят за их сроком, обновляют и лояльны к клубу, увидим далее по целевой переменной churn\n",
    "\n",
    "Время с момента первого обращения в фитнес-центр: в среднем 3,7 месяцев со стандартным отклонением 3,7. Тут уже начинает прорисовываться, что посетители в большинстве своем не так-то и лояльны к посещению спортзала. В среднем всего чуть больше 3,5 месяцев, как они купили первый абонемент, а срок до его окончания в среднем - 4,3, получается, что у большинства куплены абонементы на 6 месяцев, причем пришли эти посетители не так давно. Можно было бы предположить, что это новый фитнес-центр, но мы видим, что максимальное значение в этой колонке - 51 месяц, то есть кто-то уже более 4 лет посещает данный спортклуб. \n",
    "\n",
    "Средняя частота посещений в неделю (за все время) - 1.87, за последний месяц - 1.76 - менее двух раз в неделю, это не очень много. \n",
    "\n",
    "Отток - средний 0,26 со стандартным отклонением 0,44. Получается, что в среднем за последний месяц клуб потерял почти четверть своих клиентов, которые ранее купили абонемент, достаточно большая доля. \n",
    "\n",
    "\n",
    "У переменных довольно разные по величине стандартные отклонения. Это говорит о том, что их нужно стандартизировать перед обучением."
   ]
  },
  {
   "cell_type": "code",
   "execution_count": 15,
   "metadata": {},
   "outputs": [
    {
     "data": {
      "text/html": [
       "<div>\n",
       "<style scoped>\n",
       "    .dataframe tbody tr th:only-of-type {\n",
       "        vertical-align: middle;\n",
       "    }\n",
       "\n",
       "    .dataframe tbody tr th {\n",
       "        vertical-align: top;\n",
       "    }\n",
       "\n",
       "    .dataframe thead th {\n",
       "        text-align: right;\n",
       "    }\n",
       "</style>\n",
       "<table border=\"1\" class=\"dataframe\">\n",
       "  <thead>\n",
       "    <tr style=\"text-align: right;\">\n",
       "      <th></th>\n",
       "      <th>gender</th>\n",
       "      <th>near_location</th>\n",
       "      <th>partner</th>\n",
       "      <th>promo_friends</th>\n",
       "      <th>phone</th>\n",
       "      <th>contract_period</th>\n",
       "      <th>group_visits</th>\n",
       "      <th>age</th>\n",
       "      <th>avg_additional_charges_total</th>\n",
       "      <th>month_to_end_contract</th>\n",
       "      <th>lifetime</th>\n",
       "      <th>avg_class_frequency_total</th>\n",
       "      <th>avg_class_frequency_current_month</th>\n",
       "    </tr>\n",
       "    <tr>\n",
       "      <th>churn</th>\n",
       "      <th></th>\n",
       "      <th></th>\n",
       "      <th></th>\n",
       "      <th></th>\n",
       "      <th></th>\n",
       "      <th></th>\n",
       "      <th></th>\n",
       "      <th></th>\n",
       "      <th></th>\n",
       "      <th></th>\n",
       "      <th></th>\n",
       "      <th></th>\n",
       "      <th></th>\n",
       "    </tr>\n",
       "  </thead>\n",
       "  <tbody>\n",
       "    <tr>\n",
       "      <th>0</th>\n",
       "      <td>0.510037</td>\n",
       "      <td>0.873086</td>\n",
       "      <td>0.534195</td>\n",
       "      <td>0.353522</td>\n",
       "      <td>0.903709</td>\n",
       "      <td>5.747193</td>\n",
       "      <td>0.464103</td>\n",
       "      <td>29.976523</td>\n",
       "      <td>158.445715</td>\n",
       "      <td>5.283089</td>\n",
       "      <td>4.711807</td>\n",
       "      <td>2.024876</td>\n",
       "      <td>2.027882</td>\n",
       "    </tr>\n",
       "    <tr>\n",
       "      <th>1</th>\n",
       "      <td>0.510839</td>\n",
       "      <td>0.768143</td>\n",
       "      <td>0.355325</td>\n",
       "      <td>0.183789</td>\n",
       "      <td>0.902922</td>\n",
       "      <td>1.728558</td>\n",
       "      <td>0.268615</td>\n",
       "      <td>26.989632</td>\n",
       "      <td>115.082899</td>\n",
       "      <td>1.662582</td>\n",
       "      <td>0.990575</td>\n",
       "      <td>1.474995</td>\n",
       "      <td>1.044546</td>\n",
       "    </tr>\n",
       "  </tbody>\n",
       "</table>\n",
       "</div>"
      ],
      "text/plain": [
       "         gender  near_location   partner  promo_friends     phone  \\\n",
       "churn                                                               \n",
       "0      0.510037       0.873086  0.534195       0.353522  0.903709   \n",
       "1      0.510839       0.768143  0.355325       0.183789  0.902922   \n",
       "\n",
       "       contract_period  group_visits        age  avg_additional_charges_total  \\\n",
       "churn                                                                           \n",
       "0             5.747193      0.464103  29.976523                    158.445715   \n",
       "1             1.728558      0.268615  26.989632                    115.082899   \n",
       "\n",
       "       month_to_end_contract  lifetime  avg_class_frequency_total  \\\n",
       "churn                                                               \n",
       "0                   5.283089  4.711807                   2.024876   \n",
       "1                   1.662582  0.990575                   1.474995   \n",
       "\n",
       "       avg_class_frequency_current_month  \n",
       "churn                                     \n",
       "0                               2.027882  \n",
       "1                               1.044546  "
      ]
     },
     "execution_count": 15,
     "metadata": {},
     "output_type": "execute_result"
    }
   ],
   "source": [
    "#смотрю средние значения для признаков при разделении на группы с оттоков и без \n",
    "gym_churn.groupby('churn').agg({'gender': 'mean', 'near_location': 'mean', 'partner': 'mean', 'promo_friends': 'mean',\\\n",
    "                                'phone': 'mean', 'contract_period': 'mean', 'group_visits': 'mean', 'age': 'mean', \\\n",
    "                                'avg_additional_charges_total': 'mean', 'month_to_end_contract': 'mean', \\\n",
    "                               'lifetime': 'mean', 'avg_class_frequency_total': 'mean', 'avg_class_frequency_current_month': 'mean', \\\n",
    "                               })"
   ]
  },
  {
   "cell_type": "markdown",
   "metadata": {},
   "source": [
    "Из сильно отличающихся признаков у групп: \n",
    "\n",
    "Среднее по приходу в клуб через акцию приведи друга - у тех, кто остался в 2 раза больше, чем у тех, кто ушел.\n",
    "\n",
    "Длительность текущего действующего абонемента - у тех, кто ушел почти 2 месяца, у оставшихся - почти 6. Дата до окончания контракта - более 5 мес у оставшихся и примерно 1,5 у группы оттока. Оставшаяся группа покупала абонементы на более длительные сроки.\n",
    "\n",
    "Из оставшихся посещали групповые занятия 46%, из ушедших - 27.\n",
    "\n",
    "Средний возраст оставшихся на 3 года больше, чем у группы оттока.\n",
    "\n",
    "Оставшиеся тратили в среднем чуть больше. Время с момента первого обращения гораздо больше у оставшихся - почти 5 месяцев они с клубом, а ушедшие были всего месяц. \n",
    "\n",
    "Оставшиеся в клубе посещают тренировки чуть чаще - более 2 раз в неделю в среднем за все время и за полседний месяц, тогда как у тех, кто ушел, почти 1,5 раза и 1 раз, соответственно. \n",
    "\n",
    "Т.о. оставшаяся группа по большинству признаков превосходит посетителей из группы оттока. "
   ]
  },
  {
   "cell_type": "code",
   "execution_count": 16,
   "metadata": {},
   "outputs": [
    {
     "data": {
      "text/html": [
       "<div>\n",
       "<style scoped>\n",
       "    .dataframe tbody tr th:only-of-type {\n",
       "        vertical-align: middle;\n",
       "    }\n",
       "\n",
       "    .dataframe tbody tr th {\n",
       "        vertical-align: top;\n",
       "    }\n",
       "\n",
       "    .dataframe thead th {\n",
       "        text-align: right;\n",
       "    }\n",
       "</style>\n",
       "<table border=\"1\" class=\"dataframe\">\n",
       "  <thead>\n",
       "    <tr style=\"text-align: right;\">\n",
       "      <th></th>\n",
       "      <th>gender</th>\n",
       "      <th>near_location</th>\n",
       "      <th>partner</th>\n",
       "      <th>promo_friends</th>\n",
       "      <th>phone</th>\n",
       "      <th>contract_period</th>\n",
       "      <th>group_visits</th>\n",
       "      <th>age</th>\n",
       "      <th>avg_additional_charges_total</th>\n",
       "      <th>month_to_end_contract</th>\n",
       "      <th>lifetime</th>\n",
       "      <th>avg_class_frequency_total</th>\n",
       "      <th>avg_class_frequency_current_month</th>\n",
       "      <th>churn</th>\n",
       "    </tr>\n",
       "  </thead>\n",
       "  <tbody>\n",
       "    <tr>\n",
       "      <th>7</th>\n",
       "      <td>0</td>\n",
       "      <td>1</td>\n",
       "      <td>0</td>\n",
       "      <td>0</td>\n",
       "      <td>1</td>\n",
       "      <td>1</td>\n",
       "      <td>0</td>\n",
       "      <td>30</td>\n",
       "      <td>217.786641</td>\n",
       "      <td>1.0</td>\n",
       "      <td>0</td>\n",
       "      <td>1.213502</td>\n",
       "      <td>1.049387</td>\n",
       "      <td>1</td>\n",
       "    </tr>\n",
       "    <tr>\n",
       "      <th>11</th>\n",
       "      <td>1</td>\n",
       "      <td>1</td>\n",
       "      <td>1</td>\n",
       "      <td>0</td>\n",
       "      <td>1</td>\n",
       "      <td>1</td>\n",
       "      <td>0</td>\n",
       "      <td>27</td>\n",
       "      <td>266.783824</td>\n",
       "      <td>1.0</td>\n",
       "      <td>2</td>\n",
       "      <td>2.348535</td>\n",
       "      <td>1.584316</td>\n",
       "      <td>1</td>\n",
       "    </tr>\n",
       "    <tr>\n",
       "      <th>13</th>\n",
       "      <td>1</td>\n",
       "      <td>1</td>\n",
       "      <td>0</td>\n",
       "      <td>0</td>\n",
       "      <td>1</td>\n",
       "      <td>1</td>\n",
       "      <td>1</td>\n",
       "      <td>27</td>\n",
       "      <td>152.748668</td>\n",
       "      <td>1.0</td>\n",
       "      <td>1</td>\n",
       "      <td>0.000000</td>\n",
       "      <td>0.000000</td>\n",
       "      <td>1</td>\n",
       "    </tr>\n",
       "    <tr>\n",
       "      <th>21</th>\n",
       "      <td>0</td>\n",
       "      <td>0</td>\n",
       "      <td>0</td>\n",
       "      <td>0</td>\n",
       "      <td>1</td>\n",
       "      <td>1</td>\n",
       "      <td>0</td>\n",
       "      <td>30</td>\n",
       "      <td>153.198594</td>\n",
       "      <td>1.0</td>\n",
       "      <td>3</td>\n",
       "      <td>0.636382</td>\n",
       "      <td>0.000000</td>\n",
       "      <td>1</td>\n",
       "    </tr>\n",
       "    <tr>\n",
       "      <th>23</th>\n",
       "      <td>1</td>\n",
       "      <td>1</td>\n",
       "      <td>0</td>\n",
       "      <td>0</td>\n",
       "      <td>1</td>\n",
       "      <td>1</td>\n",
       "      <td>1</td>\n",
       "      <td>32</td>\n",
       "      <td>276.079882</td>\n",
       "      <td>1.0</td>\n",
       "      <td>1</td>\n",
       "      <td>1.420637</td>\n",
       "      <td>1.043101</td>\n",
       "      <td>1</td>\n",
       "    </tr>\n",
       "    <tr>\n",
       "      <th>...</th>\n",
       "      <td>...</td>\n",
       "      <td>...</td>\n",
       "      <td>...</td>\n",
       "      <td>...</td>\n",
       "      <td>...</td>\n",
       "      <td>...</td>\n",
       "      <td>...</td>\n",
       "      <td>...</td>\n",
       "      <td>...</td>\n",
       "      <td>...</td>\n",
       "      <td>...</td>\n",
       "      <td>...</td>\n",
       "      <td>...</td>\n",
       "      <td>...</td>\n",
       "    </tr>\n",
       "    <tr>\n",
       "      <th>3982</th>\n",
       "      <td>1</td>\n",
       "      <td>1</td>\n",
       "      <td>0</td>\n",
       "      <td>0</td>\n",
       "      <td>1</td>\n",
       "      <td>1</td>\n",
       "      <td>0</td>\n",
       "      <td>24</td>\n",
       "      <td>135.395712</td>\n",
       "      <td>1.0</td>\n",
       "      <td>0</td>\n",
       "      <td>1.390251</td>\n",
       "      <td>0.789321</td>\n",
       "      <td>1</td>\n",
       "    </tr>\n",
       "    <tr>\n",
       "      <th>3984</th>\n",
       "      <td>1</td>\n",
       "      <td>1</td>\n",
       "      <td>0</td>\n",
       "      <td>0</td>\n",
       "      <td>1</td>\n",
       "      <td>6</td>\n",
       "      <td>1</td>\n",
       "      <td>22</td>\n",
       "      <td>101.107544</td>\n",
       "      <td>6.0</td>\n",
       "      <td>2</td>\n",
       "      <td>1.377860</td>\n",
       "      <td>0.343915</td>\n",
       "      <td>1</td>\n",
       "    </tr>\n",
       "    <tr>\n",
       "      <th>3986</th>\n",
       "      <td>0</td>\n",
       "      <td>1</td>\n",
       "      <td>1</td>\n",
       "      <td>1</td>\n",
       "      <td>1</td>\n",
       "      <td>1</td>\n",
       "      <td>1</td>\n",
       "      <td>34</td>\n",
       "      <td>226.804845</td>\n",
       "      <td>1.0</td>\n",
       "      <td>0</td>\n",
       "      <td>1.399529</td>\n",
       "      <td>0.304130</td>\n",
       "      <td>1</td>\n",
       "    </tr>\n",
       "    <tr>\n",
       "      <th>3994</th>\n",
       "      <td>1</td>\n",
       "      <td>1</td>\n",
       "      <td>0</td>\n",
       "      <td>0</td>\n",
       "      <td>1</td>\n",
       "      <td>1</td>\n",
       "      <td>0</td>\n",
       "      <td>26</td>\n",
       "      <td>31.066721</td>\n",
       "      <td>1.0</td>\n",
       "      <td>1</td>\n",
       "      <td>1.157451</td>\n",
       "      <td>0.269597</td>\n",
       "      <td>1</td>\n",
       "    </tr>\n",
       "    <tr>\n",
       "      <th>3996</th>\n",
       "      <td>0</td>\n",
       "      <td>1</td>\n",
       "      <td>0</td>\n",
       "      <td>0</td>\n",
       "      <td>1</td>\n",
       "      <td>1</td>\n",
       "      <td>1</td>\n",
       "      <td>29</td>\n",
       "      <td>68.883764</td>\n",
       "      <td>1.0</td>\n",
       "      <td>1</td>\n",
       "      <td>1.277168</td>\n",
       "      <td>0.292859</td>\n",
       "      <td>1</td>\n",
       "    </tr>\n",
       "  </tbody>\n",
       "</table>\n",
       "<p>1061 rows × 14 columns</p>\n",
       "</div>"
      ],
      "text/plain": [
       "      gender  near_location  partner  promo_friends  phone  contract_period  \\\n",
       "7          0              1        0              0      1                1   \n",
       "11         1              1        1              0      1                1   \n",
       "13         1              1        0              0      1                1   \n",
       "21         0              0        0              0      1                1   \n",
       "23         1              1        0              0      1                1   \n",
       "...      ...            ...      ...            ...    ...              ...   \n",
       "3982       1              1        0              0      1                1   \n",
       "3984       1              1        0              0      1                6   \n",
       "3986       0              1        1              1      1                1   \n",
       "3994       1              1        0              0      1                1   \n",
       "3996       0              1        0              0      1                1   \n",
       "\n",
       "      group_visits  age  avg_additional_charges_total  month_to_end_contract  \\\n",
       "7                0   30                    217.786641                    1.0   \n",
       "11               0   27                    266.783824                    1.0   \n",
       "13               1   27                    152.748668                    1.0   \n",
       "21               0   30                    153.198594                    1.0   \n",
       "23               1   32                    276.079882                    1.0   \n",
       "...            ...  ...                           ...                    ...   \n",
       "3982             0   24                    135.395712                    1.0   \n",
       "3984             1   22                    101.107544                    6.0   \n",
       "3986             1   34                    226.804845                    1.0   \n",
       "3994             0   26                     31.066721                    1.0   \n",
       "3996             1   29                     68.883764                    1.0   \n",
       "\n",
       "      lifetime  avg_class_frequency_total  avg_class_frequency_current_month  \\\n",
       "7            0                   1.213502                           1.049387   \n",
       "11           2                   2.348535                           1.584316   \n",
       "13           1                   0.000000                           0.000000   \n",
       "21           3                   0.636382                           0.000000   \n",
       "23           1                   1.420637                           1.043101   \n",
       "...        ...                        ...                                ...   \n",
       "3982         0                   1.390251                           0.789321   \n",
       "3984         2                   1.377860                           0.343915   \n",
       "3986         0                   1.399529                           0.304130   \n",
       "3994         1                   1.157451                           0.269597   \n",
       "3996         1                   1.277168                           0.292859   \n",
       "\n",
       "      churn  \n",
       "7         1  \n",
       "11        1  \n",
       "13        1  \n",
       "21        1  \n",
       "23        1  \n",
       "...     ...  \n",
       "3982      1  \n",
       "3984      1  \n",
       "3986      1  \n",
       "3994      1  \n",
       "3996      1  \n",
       "\n",
       "[1061 rows x 14 columns]"
      ]
     },
     "execution_count": 16,
     "metadata": {},
     "output_type": "execute_result"
    }
   ],
   "source": [
    "#разделю датафрейм на две таблицы для построения гистрограм \n",
    "gym_churn_one = gym_churn.query('churn == 1')\n",
    "gym_churn_one"
   ]
  },
  {
   "cell_type": "code",
   "execution_count": 17,
   "metadata": {},
   "outputs": [
    {
     "data": {
      "text/html": [
       "<div>\n",
       "<style scoped>\n",
       "    .dataframe tbody tr th:only-of-type {\n",
       "        vertical-align: middle;\n",
       "    }\n",
       "\n",
       "    .dataframe tbody tr th {\n",
       "        vertical-align: top;\n",
       "    }\n",
       "\n",
       "    .dataframe thead th {\n",
       "        text-align: right;\n",
       "    }\n",
       "</style>\n",
       "<table border=\"1\" class=\"dataframe\">\n",
       "  <thead>\n",
       "    <tr style=\"text-align: right;\">\n",
       "      <th></th>\n",
       "      <th>gender</th>\n",
       "      <th>near_location</th>\n",
       "      <th>partner</th>\n",
       "      <th>promo_friends</th>\n",
       "      <th>phone</th>\n",
       "      <th>contract_period</th>\n",
       "      <th>group_visits</th>\n",
       "      <th>age</th>\n",
       "      <th>avg_additional_charges_total</th>\n",
       "      <th>month_to_end_contract</th>\n",
       "      <th>lifetime</th>\n",
       "      <th>avg_class_frequency_total</th>\n",
       "      <th>avg_class_frequency_current_month</th>\n",
       "      <th>churn</th>\n",
       "    </tr>\n",
       "  </thead>\n",
       "  <tbody>\n",
       "    <tr>\n",
       "      <th>0</th>\n",
       "      <td>1</td>\n",
       "      <td>1</td>\n",
       "      <td>1</td>\n",
       "      <td>1</td>\n",
       "      <td>0</td>\n",
       "      <td>6</td>\n",
       "      <td>1</td>\n",
       "      <td>29</td>\n",
       "      <td>14.227470</td>\n",
       "      <td>5.0</td>\n",
       "      <td>3</td>\n",
       "      <td>0.020398</td>\n",
       "      <td>0.000000</td>\n",
       "      <td>0</td>\n",
       "    </tr>\n",
       "    <tr>\n",
       "      <th>1</th>\n",
       "      <td>0</td>\n",
       "      <td>1</td>\n",
       "      <td>0</td>\n",
       "      <td>0</td>\n",
       "      <td>1</td>\n",
       "      <td>12</td>\n",
       "      <td>1</td>\n",
       "      <td>31</td>\n",
       "      <td>113.202938</td>\n",
       "      <td>12.0</td>\n",
       "      <td>7</td>\n",
       "      <td>1.922936</td>\n",
       "      <td>1.910244</td>\n",
       "      <td>0</td>\n",
       "    </tr>\n",
       "    <tr>\n",
       "      <th>2</th>\n",
       "      <td>0</td>\n",
       "      <td>1</td>\n",
       "      <td>1</td>\n",
       "      <td>0</td>\n",
       "      <td>1</td>\n",
       "      <td>1</td>\n",
       "      <td>0</td>\n",
       "      <td>28</td>\n",
       "      <td>129.448479</td>\n",
       "      <td>1.0</td>\n",
       "      <td>2</td>\n",
       "      <td>1.859098</td>\n",
       "      <td>1.736502</td>\n",
       "      <td>0</td>\n",
       "    </tr>\n",
       "    <tr>\n",
       "      <th>3</th>\n",
       "      <td>0</td>\n",
       "      <td>1</td>\n",
       "      <td>1</td>\n",
       "      <td>1</td>\n",
       "      <td>1</td>\n",
       "      <td>12</td>\n",
       "      <td>1</td>\n",
       "      <td>33</td>\n",
       "      <td>62.669863</td>\n",
       "      <td>12.0</td>\n",
       "      <td>2</td>\n",
       "      <td>3.205633</td>\n",
       "      <td>3.357215</td>\n",
       "      <td>0</td>\n",
       "    </tr>\n",
       "    <tr>\n",
       "      <th>4</th>\n",
       "      <td>1</td>\n",
       "      <td>1</td>\n",
       "      <td>1</td>\n",
       "      <td>1</td>\n",
       "      <td>1</td>\n",
       "      <td>1</td>\n",
       "      <td>0</td>\n",
       "      <td>26</td>\n",
       "      <td>198.362265</td>\n",
       "      <td>1.0</td>\n",
       "      <td>3</td>\n",
       "      <td>1.113884</td>\n",
       "      <td>1.120078</td>\n",
       "      <td>0</td>\n",
       "    </tr>\n",
       "    <tr>\n",
       "      <th>...</th>\n",
       "      <td>...</td>\n",
       "      <td>...</td>\n",
       "      <td>...</td>\n",
       "      <td>...</td>\n",
       "      <td>...</td>\n",
       "      <td>...</td>\n",
       "      <td>...</td>\n",
       "      <td>...</td>\n",
       "      <td>...</td>\n",
       "      <td>...</td>\n",
       "      <td>...</td>\n",
       "      <td>...</td>\n",
       "      <td>...</td>\n",
       "      <td>...</td>\n",
       "    </tr>\n",
       "    <tr>\n",
       "      <th>3993</th>\n",
       "      <td>0</td>\n",
       "      <td>1</td>\n",
       "      <td>1</td>\n",
       "      <td>0</td>\n",
       "      <td>1</td>\n",
       "      <td>1</td>\n",
       "      <td>0</td>\n",
       "      <td>33</td>\n",
       "      <td>231.778628</td>\n",
       "      <td>1.0</td>\n",
       "      <td>3</td>\n",
       "      <td>1.418791</td>\n",
       "      <td>1.450442</td>\n",
       "      <td>0</td>\n",
       "    </tr>\n",
       "    <tr>\n",
       "      <th>3995</th>\n",
       "      <td>1</td>\n",
       "      <td>1</td>\n",
       "      <td>1</td>\n",
       "      <td>0</td>\n",
       "      <td>1</td>\n",
       "      <td>12</td>\n",
       "      <td>0</td>\n",
       "      <td>33</td>\n",
       "      <td>2.406023</td>\n",
       "      <td>12.0</td>\n",
       "      <td>8</td>\n",
       "      <td>2.284497</td>\n",
       "      <td>2.349070</td>\n",
       "      <td>0</td>\n",
       "    </tr>\n",
       "    <tr>\n",
       "      <th>3997</th>\n",
       "      <td>1</td>\n",
       "      <td>1</td>\n",
       "      <td>1</td>\n",
       "      <td>1</td>\n",
       "      <td>1</td>\n",
       "      <td>12</td>\n",
       "      <td>0</td>\n",
       "      <td>28</td>\n",
       "      <td>78.250542</td>\n",
       "      <td>11.0</td>\n",
       "      <td>2</td>\n",
       "      <td>2.786146</td>\n",
       "      <td>2.831439</td>\n",
       "      <td>0</td>\n",
       "    </tr>\n",
       "    <tr>\n",
       "      <th>3998</th>\n",
       "      <td>0</td>\n",
       "      <td>1</td>\n",
       "      <td>1</td>\n",
       "      <td>1</td>\n",
       "      <td>1</td>\n",
       "      <td>6</td>\n",
       "      <td>0</td>\n",
       "      <td>32</td>\n",
       "      <td>61.912657</td>\n",
       "      <td>5.0</td>\n",
       "      <td>3</td>\n",
       "      <td>1.630108</td>\n",
       "      <td>1.596237</td>\n",
       "      <td>0</td>\n",
       "    </tr>\n",
       "    <tr>\n",
       "      <th>3999</th>\n",
       "      <td>1</td>\n",
       "      <td>0</td>\n",
       "      <td>1</td>\n",
       "      <td>0</td>\n",
       "      <td>0</td>\n",
       "      <td>12</td>\n",
       "      <td>1</td>\n",
       "      <td>30</td>\n",
       "      <td>178.861814</td>\n",
       "      <td>12.0</td>\n",
       "      <td>1</td>\n",
       "      <td>1.101832</td>\n",
       "      <td>1.035270</td>\n",
       "      <td>0</td>\n",
       "    </tr>\n",
       "  </tbody>\n",
       "</table>\n",
       "<p>2939 rows × 14 columns</p>\n",
       "</div>"
      ],
      "text/plain": [
       "      gender  near_location  partner  promo_friends  phone  contract_period  \\\n",
       "0          1              1        1              1      0                6   \n",
       "1          0              1        0              0      1               12   \n",
       "2          0              1        1              0      1                1   \n",
       "3          0              1        1              1      1               12   \n",
       "4          1              1        1              1      1                1   \n",
       "...      ...            ...      ...            ...    ...              ...   \n",
       "3993       0              1        1              0      1                1   \n",
       "3995       1              1        1              0      1               12   \n",
       "3997       1              1        1              1      1               12   \n",
       "3998       0              1        1              1      1                6   \n",
       "3999       1              0        1              0      0               12   \n",
       "\n",
       "      group_visits  age  avg_additional_charges_total  month_to_end_contract  \\\n",
       "0                1   29                     14.227470                    5.0   \n",
       "1                1   31                    113.202938                   12.0   \n",
       "2                0   28                    129.448479                    1.0   \n",
       "3                1   33                     62.669863                   12.0   \n",
       "4                0   26                    198.362265                    1.0   \n",
       "...            ...  ...                           ...                    ...   \n",
       "3993             0   33                    231.778628                    1.0   \n",
       "3995             0   33                      2.406023                   12.0   \n",
       "3997             0   28                     78.250542                   11.0   \n",
       "3998             0   32                     61.912657                    5.0   \n",
       "3999             1   30                    178.861814                   12.0   \n",
       "\n",
       "      lifetime  avg_class_frequency_total  avg_class_frequency_current_month  \\\n",
       "0            3                   0.020398                           0.000000   \n",
       "1            7                   1.922936                           1.910244   \n",
       "2            2                   1.859098                           1.736502   \n",
       "3            2                   3.205633                           3.357215   \n",
       "4            3                   1.113884                           1.120078   \n",
       "...        ...                        ...                                ...   \n",
       "3993         3                   1.418791                           1.450442   \n",
       "3995         8                   2.284497                           2.349070   \n",
       "3997         2                   2.786146                           2.831439   \n",
       "3998         3                   1.630108                           1.596237   \n",
       "3999         1                   1.101832                           1.035270   \n",
       "\n",
       "      churn  \n",
       "0         0  \n",
       "1         0  \n",
       "2         0  \n",
       "3         0  \n",
       "4         0  \n",
       "...     ...  \n",
       "3993      0  \n",
       "3995      0  \n",
       "3997      0  \n",
       "3998      0  \n",
       "3999      0  \n",
       "\n",
       "[2939 rows x 14 columns]"
      ]
     },
     "execution_count": 17,
     "metadata": {},
     "output_type": "execute_result"
    }
   ],
   "source": [
    "gym_churn_null = gym_churn.query('churn == 0')\n",
    "gym_churn_null"
   ]
  },
  {
   "cell_type": "code",
   "execution_count": 18,
   "metadata": {},
   "outputs": [
    {
     "data": {
      "image/png": "[encoded data removed]",
      "text/plain": [
       "<Figure size 432x288 with 1 Axes>"
      ]
     },
     "metadata": {
      "needs_background": "light"
     },
     "output_type": "display_data"
    },
    {
     "data": {
      "image/png": "[encoded data removed]",
      "text/plain": [
       "<Figure size 432x288 with 1 Axes>"
      ]
     },
     "metadata": {
      "needs_background": "light"
     },
     "output_type": "display_data"
    },
    {
     "data": {
      "image/png": "[encoded data removed]",
      "text/plain": [
       "<Figure size 432x288 with 1 Axes>"
      ]
     },
     "metadata": {
      "needs_background": "light"
     },
     "output_type": "display_data"
    },
    {
     "data": {
      "image/png": "[encoded data removed]",
      "text/plain": [
       "<Figure size 432x288 with 1 Axes>"
      ]
     },
     "metadata": {
      "needs_background": "light"
     },
     "output_type": "display_data"
    },
    {
     "data": {
      "image/png": "[encoded data removed]",
      "text/plain": [
       "<Figure size 432x288 with 1 Axes>"
      ]
     },
     "metadata": {
      "needs_background": "light"
     },
     "output_type": "display_data"
    },
    {
     "data": {
      "image/png": "[encoded data removed]",
      "text/plain": [
       "<Figure size 432x288 with 1 Axes>"
      ]
     },
     "metadata": {
      "needs_background": "light"
     },
     "output_type": "display_data"
    },
    {
     "data": {
      "image/png": "[encoded data removed]",
      "text/plain": [
       "<Figure size 432x288 with 1 Axes>"
      ]
     },
     "metadata": {
      "needs_background": "light"
     },
     "output_type": "display_data"
    },
    {
     "data": {
      "image/png": "[encoded data removed]",
      "text/plain": [
       "<Figure size 432x288 with 1 Axes>"
      ]
     },
     "metadata": {
      "needs_background": "light"
     },
     "output_type": "display_data"
    },
    {
     "data": {
      "image/png": "[encoded data removed]",
      "text/plain": [
       "<Figure size 432x288 with 1 Axes>"
      ]
     },
     "metadata": {
      "needs_background": "light"
     },
     "output_type": "display_data"
    },
    {
     "data": {
      "image/png": "[encoded data removed]",
      "text/plain": [
       "<Figure size 432x288 with 1 Axes>"
      ]
     },
     "metadata": {
      "needs_background": "light"
     },
     "output_type": "display_data"
    },
    {
     "data": {
      "image/png": "[encoded data removed]",
      "text/plain": [
       "<Figure size 432x288 with 1 Axes>"
      ]
     },
     "metadata": {
      "needs_background": "light"
     },
     "output_type": "display_data"
    },
    {
     "data": {
      "image/png": "[encoded data removed]",
      "text/plain": [
       "<Figure size 432x288 with 1 Axes>"
      ]
     },
     "metadata": {
      "needs_background": "light"
     },
     "output_type": "display_data"
    },
    {
     "data": {
      "image/png": "[encoded data removed]",
      "text/plain": [
       "<Figure size 432x288 with 1 Axes>"
      ]
     },
     "metadata": {
      "needs_background": "light"
     },
     "output_type": "display_data"
    }
   ],
   "source": [
    "#задам функцию для отрисовки гистограм, чтоб увидеть распределение признаков в группах оставшихся посетителей и ушедших\n",
    "def hists(col_one, col_null):\n",
    "    plt.hist([col_one, col_null], bins = 10, label=['ушли', 'остались'])  \n",
    "    plt.legend()\n",
    "    plt.ylabel('Число посетителей, шт', fontsize = 10)\n",
    "    plt.show()\n",
    "\n",
    "#рисую гистограммы для каждого признака\n",
    "plt.title('Распределение по полу', fontsize = 15)\n",
    "hists(gym_churn_one['gender'], gym_churn_null['gender'])\n",
    "plt.title('Распределение по близости расположения', fontsize = 15)\n",
    "hists(gym_churn_one['near_location'], gym_churn_null['near_location'])\n",
    "plt.title('Распределение по участию в партнерской программе', fontsize = 15)\n",
    "hists(gym_churn_one['partner'], gym_churn_null['partner'])\n",
    "plt.title('Распределение по участию в акции Приведи друга', fontsize = 15)\n",
    "hists(gym_churn_one['promo_friends'], gym_churn_null['promo_friends'])\n",
    "plt.title('Распределение по наличию контактного телефона', fontsize = 15)\n",
    "hists(gym_churn_one['phone'], gym_churn_null['phone'])\n",
    "plt.title('Распределение по сроку абонемента', fontsize = 15)\n",
    "hists(gym_churn_one['contract_period'], gym_churn_null['contract_period'])\n",
    "plt.title('Распределение по посещению групповых занятий', fontsize = 15)\n",
    "hists(gym_churn_one['group_visits'], gym_churn_null['group_visits'])\n",
    "plt.title('Распределение по возрасту', fontsize = 15)\n",
    "hists(gym_churn_one['age'], gym_churn_null['age'])\n",
    "plt.title('Распределение по дополнительным тратам', fontsize = 15)\n",
    "hists(gym_churn_one['avg_additional_charges_total'], gym_churn_null['avg_additional_charges_total'])\n",
    "plt.title('Распределение по количеству месяцев до окончания контракта', fontsize = 15)\n",
    "hists(gym_churn_one['month_to_end_contract'], gym_churn_null['month_to_end_contract'])\n",
    "plt.title('Распределение по времени с момента первого обращения', fontsize = 15)\n",
    "hists(gym_churn_one['lifetime'], gym_churn_null['lifetime'])\n",
    "plt.title('Распределение по посещаемости в неделю всего', fontsize = 15)\n",
    "hists(gym_churn_one['avg_class_frequency_total'], gym_churn_null['avg_class_frequency_total'])\n",
    "plt.title('Распределение по посещаемости в неделю за последний месяц', fontsize = 15)\n",
    "hists(gym_churn_one['avg_class_frequency_current_month'], gym_churn_null['avg_class_frequency_current_month'])\n"
   ]
  },
  {
   "cell_type": "markdown",
   "metadata": {},
   "source": [
    "Гистограммы подтверждают ранее сделанные выводы по вычислению средних показателей признаков. "
   ]
  },
  {
   "cell_type": "code",
   "execution_count": 19,
   "metadata": {},
   "outputs": [
    {
     "data": {
      "image/png": "[encoded data removed]",
      "text/plain": [
       "<Figure size 1080x1080 with 2 Axes>"
      ]
     },
     "metadata": {
      "needs_background": "light"
     },
     "output_type": "display_data"
    }
   ],
   "source": [
    "#вычисляю матрицу корреляций \n",
    "cm = gym_churn.corr()\n",
    "\n",
    "#строю тепловую карту корреляций признаков\n",
    "plt.figure(figsize = (15,15))\n",
    "plt.title('Матрица корреляций', fontsize = 24)\n",
    "plt.xticks(fontsize = 20)\n",
    "plt.yticks(fontsize = 20)\n",
    "sns.heatmap(cm, square = True, annot = True)\n",
    "plt.show()"
   ]
  },
  {
   "cell_type": "markdown",
   "metadata": {},
   "source": [
    "В основном зависимостей признаков не наблюдается, но есть и интересные пары: \n",
    "\n",
    "Самая сильная корреляция между признаками срок до конца абонемента и и длительность текущего абонемента, а также у признаков посещаемости за последний месяц и посещаемости всего, эти зависимости стремятся к единице, и действительно, эти признаки зависят друг от друга, таким образом, подтверждаются ранее сформированные выводы, когда были рассматрены средние значения и стандартные отклонения. \n",
    "\n",
    "Пока что нельзя говорить о сильной корреляции признаков с целевой переменной. Но можно отметить, что признаки Длительность текущего контракта, Возраст, Время с момента первого обращения и Посещаемость за последний месяц коррелируют с целевой переменной сильнее остальных. "
   ]
  },
  {
   "cell_type": "markdown",
   "metadata": {},
   "source": [
    "## Построение модели прогнозирования оттока клиентов"
   ]
  },
  {
   "cell_type": "code",
   "execution_count": 20,
   "metadata": {},
   "outputs": [
    {
     "name": "stdout",
     "output_type": "stream",
     "text": [
      "<class 'pandas.core.frame.DataFrame'>\n",
      "RangeIndex: 4000 entries, 0 to 3999\n",
      "Data columns (total 14 columns):\n",
      " #   Column                             Non-Null Count  Dtype  \n",
      "---  ------                             --------------  -----  \n",
      " 0   gender                             4000 non-null   int64  \n",
      " 1   near_location                      4000 non-null   int64  \n",
      " 2   partner                            4000 non-null   int64  \n",
      " 3   promo_friends                      4000 non-null   int64  \n",
      " 4   phone                              4000 non-null   int64  \n",
      " 5   contract_period                    4000 non-null   int64  \n",
      " 6   group_visits                       4000 non-null   int64  \n",
      " 7   age                                4000 non-null   int64  \n",
      " 8   avg_additional_charges_total       4000 non-null   float64\n",
      " 9   month_to_end_contract              4000 non-null   float64\n",
      " 10  lifetime                           4000 non-null   int64  \n",
      " 11  avg_class_frequency_total          4000 non-null   float64\n",
      " 12  avg_class_frequency_current_month  4000 non-null   float64\n",
      " 13  churn                              4000 non-null   int64  \n",
      "dtypes: float64(4), int64(10)\n",
      "memory usage: 437.6 KB\n"
     ]
    }
   ],
   "source": [
    "#проведу преобразование призаков функцией get_dummies\n",
    "gym_churn = pd.get_dummies(gym_churn) \n",
    "gym_churn.info()"
   ]
  },
  {
   "cell_type": "markdown",
   "metadata": {},
   "source": [
    "ничего не изменилось"
   ]
  },
  {
   "cell_type": "markdown",
   "metadata": {},
   "source": [
    "### Разбиение данных на обучающую и валидационную выборку"
   ]
  },
  {
   "cell_type": "code",
   "execution_count": 21,
   "metadata": {},
   "outputs": [],
   "source": [
    "#разобью данные на обучающую и валидационную выборку случайным образом, так как можно пренебречь влиянием соседних наблюдений друг на друга\n",
    "#разделяю данные на признаки (матрица X) и целевую переменную (y)\n",
    "X = gym_churn.drop(columns=['churn'], axis = 1)\n",
    "y = gym_churn['churn']\n",
    "\n",
    "# разделяем модель на обучающую и валидационную выборки\n",
    "X_train, X_test, y_train, y_test = train_test_split(X, y, test_size=0.2, random_state=0, stratify = y)"
   ]
  },
  {
   "cell_type": "markdown",
   "metadata": {},
   "source": [
    "### Обучение модели на train-выборке логистической регрессией"
   ]
  },
  {
   "cell_type": "code",
   "execution_count": 22,
   "metadata": {},
   "outputs": [],
   "source": [
    "#задаю алгоритм для модели\n",
    "model = LogisticRegression(solver='lbfgs', max_iter=700) \n",
    "\n",
    "#обучаю модель\n",
    "model.fit(X_train, y_train)\n",
    "\n",
    "#делаю прогнозы, пользуясь моделью\n",
    "predictions = model.predict(X_test) \n",
    "probabilities = model.predict_proba(X_test)[:,1]\n"
   ]
  },
  {
   "cell_type": "markdown",
   "metadata": {},
   "source": [
    "### Обучение модели на train-выборке случайным лесом."
   ]
  },
  {
   "cell_type": "code",
   "execution_count": 23,
   "metadata": {},
   "outputs": [],
   "source": [
    "#задаю алгоритм для модели на основе алгоритма решающего дерева\n",
    "rf_model = RandomForestClassifier(n_estimators = 100, random_state = 0)\n",
    "\n",
    "#обучаю модель\n",
    "rf_model.fit(X_train, y_train)\n",
    "#делаю прогнозы, пользуясь моделью\n",
    "rf_predictions = rf_model.predict(X_test)\n",
    "rf_probabilities = rf_model.predict_proba(X_test)[:,1]"
   ]
  },
  {
   "cell_type": "markdown",
   "metadata": {},
   "source": [
    "### Оценка метрик accuracy, precision и recall"
   ]
  },
  {
   "cell_type": "code",
   "execution_count": 24,
   "metadata": {},
   "outputs": [
    {
     "name": "stdout",
     "output_type": "stream",
     "text": [
      "Метрики для логистической регрессии\n",
      "Accuracy: 0.93\n",
      "Precision: 0.89\n",
      "Recall: 0.85\n"
     ]
    }
   ],
   "source": [
    "print('Метрики для логистической регрессии')\n",
    "print('Accuracy: {:.2f}'.format(accuracy_score(y_test, predictions)))\n",
    "print('Precision: {:.2f}'.format(precision_score(y_test, predictions)))\n",
    "print('Recall: {:.2f}'.format(recall_score(y_test, predictions)))\n"
   ]
  },
  {
   "cell_type": "code",
   "execution_count": 25,
   "metadata": {},
   "outputs": [
    {
     "name": "stdout",
     "output_type": "stream",
     "text": [
      "Метрики для случайного леса\n",
      "Accuracy: 0.92\n",
      "Precision: 0.88\n",
      "Recall: 0.83\n"
     ]
    }
   ],
   "source": [
    "print('Метрики для случайного леса')\n",
    "print('Accuracy: {:.2f}'.format(accuracy_score(y_test, rf_predictions)))\n",
    "print('Precision: {:.2f}'.format(precision_score(y_test, rf_predictions)))\n",
    "print('Recall: {:.2f}'.format(recall_score(y_test, rf_predictions)))\n"
   ]
  },
  {
   "cell_type": "markdown",
   "metadata": {},
   "source": [
    "Доля правильных ответов, полноста и точность чуть лучше у модели логистической регрессии, выходит, в данном случае при рассмотрании двух моделей логистическая регрессия немного качественней, но, в целом, разница в сотых, наверное не очень критична. \n",
    "\n"
   ]
  },
  {
   "cell_type": "markdown",
   "metadata": {},
   "source": [
    "## Кластеризация клиентов"
   ]
  },
  {
   "cell_type": "markdown",
   "metadata": {},
   "source": [
    "### Стандартизация данных"
   ]
  },
  {
   "cell_type": "code",
   "execution_count": 26,
   "metadata": {},
   "outputs": [],
   "source": [
    "#стандартизирую данные\n",
    "sc = StandardScaler()\n",
    "X_sc = sc.fit_transform(X)"
   ]
  },
  {
   "cell_type": "markdown",
   "metadata": {},
   "source": [
    "### Построение матрицы расстояний и дендрограммы."
   ]
  },
  {
   "cell_type": "code",
   "execution_count": 27,
   "metadata": {},
   "outputs": [],
   "source": [
    "#построение матрицы расстояний на стандартизованной матрице признаков\n",
    "linked = linkage(X_sc, method = 'ward') "
   ]
  },
  {
   "cell_type": "code",
   "execution_count": 28,
   "metadata": {},
   "outputs": [
    {
     "data": {
      "image/png": "[encoded data removed]",
      "text/plain": [
       "<Figure size 1080x720 with 1 Axes>"
      ]
     },
     "metadata": {
      "needs_background": "light"
     },
     "output_type": "display_data"
    }
   ],
   "source": [
    "#рисую дендограмму \n",
    "plt.figure(figsize=(15, 10))  \n",
    "dendrogram(linked, orientation='top')\n",
    "plt.title('Дендограмма кластеризации клиентов')\n",
    "plt.show() "
   ]
  },
  {
   "cell_type": "markdown",
   "metadata": {},
   "source": [
    "По результатам анализа можно разбить клиентов фитнес-клуба на 4 кластера. (4 цвета на графике)"
   ]
  },
  {
   "cell_type": "markdown",
   "metadata": {},
   "source": [
    "### Обучение модели кластеризации на основании алгоритма K-Means "
   ]
  },
  {
   "cell_type": "code",
   "execution_count": 29,
   "metadata": {},
   "outputs": [
    {
     "data": {
      "text/html": [
       "<div>\n",
       "<style scoped>\n",
       "    .dataframe tbody tr th:only-of-type {\n",
       "        vertical-align: middle;\n",
       "    }\n",
       "\n",
       "    .dataframe tbody tr th {\n",
       "        vertical-align: top;\n",
       "    }\n",
       "\n",
       "    .dataframe thead th {\n",
       "        text-align: right;\n",
       "    }\n",
       "</style>\n",
       "<table border=\"1\" class=\"dataframe\">\n",
       "  <thead>\n",
       "    <tr style=\"text-align: right;\">\n",
       "      <th></th>\n",
       "      <th>gender</th>\n",
       "      <th>near_location</th>\n",
       "      <th>partner</th>\n",
       "      <th>promo_friends</th>\n",
       "      <th>phone</th>\n",
       "      <th>contract_period</th>\n",
       "      <th>group_visits</th>\n",
       "      <th>age</th>\n",
       "      <th>avg_additional_charges_total</th>\n",
       "      <th>month_to_end_contract</th>\n",
       "      <th>lifetime</th>\n",
       "      <th>avg_class_frequency_total</th>\n",
       "      <th>avg_class_frequency_current_month</th>\n",
       "      <th>churn</th>\n",
       "    </tr>\n",
       "    <tr>\n",
       "      <th>cluster_km</th>\n",
       "      <th></th>\n",
       "      <th></th>\n",
       "      <th></th>\n",
       "      <th></th>\n",
       "      <th></th>\n",
       "      <th></th>\n",
       "      <th></th>\n",
       "      <th></th>\n",
       "      <th></th>\n",
       "      <th></th>\n",
       "      <th></th>\n",
       "      <th></th>\n",
       "      <th></th>\n",
       "      <th></th>\n",
       "    </tr>\n",
       "  </thead>\n",
       "  <tbody>\n",
       "    <tr>\n",
       "      <th>0</th>\n",
       "      <td>0.502970</td>\n",
       "      <td>0.959406</td>\n",
       "      <td>0.783168</td>\n",
       "      <td>0.574257</td>\n",
       "      <td>1.000000</td>\n",
       "      <td>10.889109</td>\n",
       "      <td>0.542574</td>\n",
       "      <td>29.982178</td>\n",
       "      <td>160.761016</td>\n",
       "      <td>9.954455</td>\n",
       "      <td>4.736634</td>\n",
       "      <td>1.982055</td>\n",
       "      <td>1.974789</td>\n",
       "      <td>0.027723</td>\n",
       "    </tr>\n",
       "    <tr>\n",
       "      <th>1</th>\n",
       "      <td>0.522078</td>\n",
       "      <td>0.862338</td>\n",
       "      <td>0.470130</td>\n",
       "      <td>0.306494</td>\n",
       "      <td>0.000000</td>\n",
       "      <td>4.787013</td>\n",
       "      <td>0.425974</td>\n",
       "      <td>29.301299</td>\n",
       "      <td>143.957664</td>\n",
       "      <td>4.475325</td>\n",
       "      <td>3.924675</td>\n",
       "      <td>1.847220</td>\n",
       "      <td>1.716369</td>\n",
       "      <td>0.267532</td>\n",
       "    </tr>\n",
       "    <tr>\n",
       "      <th>2</th>\n",
       "      <td>0.495050</td>\n",
       "      <td>0.000000</td>\n",
       "      <td>0.463366</td>\n",
       "      <td>0.079208</td>\n",
       "      <td>1.000000</td>\n",
       "      <td>2.352475</td>\n",
       "      <td>0.215842</td>\n",
       "      <td>28.477228</td>\n",
       "      <td>135.457501</td>\n",
       "      <td>2.198020</td>\n",
       "      <td>2.809901</td>\n",
       "      <td>1.660461</td>\n",
       "      <td>1.477324</td>\n",
       "      <td>0.443564</td>\n",
       "    </tr>\n",
       "    <tr>\n",
       "      <th>3</th>\n",
       "      <td>0.485737</td>\n",
       "      <td>1.000000</td>\n",
       "      <td>0.350238</td>\n",
       "      <td>0.240095</td>\n",
       "      <td>1.000000</td>\n",
       "      <td>1.948494</td>\n",
       "      <td>0.341521</td>\n",
       "      <td>28.167987</td>\n",
       "      <td>131.622204</td>\n",
       "      <td>1.856577</td>\n",
       "      <td>2.440571</td>\n",
       "      <td>1.247634</td>\n",
       "      <td>1.012983</td>\n",
       "      <td>0.514263</td>\n",
       "    </tr>\n",
       "    <tr>\n",
       "      <th>4</th>\n",
       "      <td>0.559666</td>\n",
       "      <td>0.976134</td>\n",
       "      <td>0.356802</td>\n",
       "      <td>0.230310</td>\n",
       "      <td>0.998807</td>\n",
       "      <td>2.669451</td>\n",
       "      <td>0.473747</td>\n",
       "      <td>30.125298</td>\n",
       "      <td>161.657905</td>\n",
       "      <td>2.459427</td>\n",
       "      <td>4.898568</td>\n",
       "      <td>2.852002</td>\n",
       "      <td>2.850161</td>\n",
       "      <td>0.068019</td>\n",
       "    </tr>\n",
       "  </tbody>\n",
       "</table>\n",
       "</div>"
      ],
      "text/plain": [
       "              gender  near_location   partner  promo_friends     phone  \\\n",
       "cluster_km                                                               \n",
       "0           0.502970       0.959406  0.783168       0.574257  1.000000   \n",
       "1           0.522078       0.862338  0.470130       0.306494  0.000000   \n",
       "2           0.495050       0.000000  0.463366       0.079208  1.000000   \n",
       "3           0.485737       1.000000  0.350238       0.240095  1.000000   \n",
       "4           0.559666       0.976134  0.356802       0.230310  0.998807   \n",
       "\n",
       "            contract_period  group_visits        age  \\\n",
       "cluster_km                                             \n",
       "0                 10.889109      0.542574  29.982178   \n",
       "1                  4.787013      0.425974  29.301299   \n",
       "2                  2.352475      0.215842  28.477228   \n",
       "3                  1.948494      0.341521  28.167987   \n",
       "4                  2.669451      0.473747  30.125298   \n",
       "\n",
       "            avg_additional_charges_total  month_to_end_contract  lifetime  \\\n",
       "cluster_km                                                                  \n",
       "0                             160.761016               9.954455  4.736634   \n",
       "1                             143.957664               4.475325  3.924675   \n",
       "2                             135.457501               2.198020  2.809901   \n",
       "3                             131.622204               1.856577  2.440571   \n",
       "4                             161.657905               2.459427  4.898568   \n",
       "\n",
       "            avg_class_frequency_total  avg_class_frequency_current_month  \\\n",
       "cluster_km                                                                 \n",
       "0                            1.982055                           1.974789   \n",
       "1                            1.847220                           1.716369   \n",
       "2                            1.660461                           1.477324   \n",
       "3                            1.247634                           1.012983   \n",
       "4                            2.852002                           2.850161   \n",
       "\n",
       "               churn  \n",
       "cluster_km            \n",
       "0           0.027723  \n",
       "1           0.267532  \n",
       "2           0.443564  \n",
       "3           0.514263  \n",
       "4           0.068019  "
      ]
     },
     "execution_count": 29,
     "metadata": {},
     "output_type": "execute_result"
    }
   ],
   "source": [
    "#функция отрисовки графиков попарных признаков для кластеров\n",
    "# def show_clusters_on_plot(gym_churn, x_name, y_name, cluster_name):\n",
    "#     plt.figure(figsize=(7, 7))\n",
    "#     sns.scatterplot(\n",
    "#         gym_churn[x_name], gym_churn[y_name], hue=gym_churn[cluster_name], palette='Paired'\n",
    "#     )\n",
    "#     plt.title('{} vs {}'.format(x_name, y_name))\n",
    "#     plt.legend()\n",
    "#     plt.show()\n",
    "    \n",
    "def show_clusters_on_countplot(gym_churn, x_name, cluster_name):\n",
    "    plt.figure(figsize=(7, 7))\n",
    "    sns.countplot(\n",
    "        data = gym_churn, x = x_name, hue = cluster_name, palette='Paired'\n",
    "    )\n",
    "    plt.title('{}'.format(x_name))\n",
    "    plt.legend()\n",
    "    plt.show()    \n",
    "    \n",
    "def show_clusters_on_boxplot(gym_churn, y_name, cluster_name):\n",
    "    plt.figure(figsize=(7, 7))\n",
    "    sns.boxplot(\n",
    "        x =cluster_name,y = y_name, data = gym_churn, palette='Paired'\n",
    "    )\n",
    "    plt.title('{}'.format(y_name))\n",
    "    plt.show()    \n",
    "\n",
    "\n",
    "#стандартизация данных данные\n",
    "sc = StandardScaler()\n",
    "x_sc = sc.fit_transform(X)\n",
    "\n",
    "#задаю модель k_means с числом кластеров 5\n",
    "km = KMeans(n_clusters = 5, random_state=0)\n",
    "\n",
    "#прогнозирую кластеры для наблюдений \n",
    "labels = km.fit_predict(x_sc)\n",
    "\n",
    "#сохраняю метки кластера в поле нашего датасета\n",
    "gym_churn['cluster_km'] = labels\n",
    "\n",
    "#вывожу средние значения признаков для кластеров\n",
    "gym_churn.groupby(['cluster_km']).mean()\n"
   ]
  },
  {
   "cell_type": "markdown",
   "metadata": {},
   "source": [
    "Можно отметить, что по полу кластеры разделены равномерно, в 1 и 5 кластере больше клиентов, у которых близко дом или работа к клубу, по партнерской программе и программе Приведи друга кластеры разделены по увеличению числа клиентов, использующих программы, во 2 кластер попали посетители, которые не оставили контактный номер телефона, по периоду действия абонемента в 1 кластере посетители, которые выбрали годовой абонемент, в остальных - абонементы с меньшим числом месяцев, примерно одинаковое разбиение на кластеры по посещению групповых занятий - почти половина пользователей, только в третьем - около 22%, по возрасту кластеры распределились равномерно, по дополнительным тратам тоже. Срок до окончания абонемента больше всего в 1 кластере (ранее было отмечено, что там пользователи приобретают абонементы большей длительтности), при грубой оценке можно сказать, что среднее время с момента первого обращения у пользователей в кластерах одинаковое, по посещаемости в неделю за все время и за последний месяц выделяется пятый кластер, в нем наиболее активные посетители - 2.8 раза в среднем. Наибольший отток наблюдается в четвертом кластере - более 50% посетителей, пользователи этого кластера хуже всех посещают занятия, у них меньше всего времени с момента первого обращени в клуб, а также они меньше всего совершали дополнительных покупок (по сумме), они самые молодые по среднему значению в кластерах, и как раз они (как было отмечено выше) меньше всего посещали групповые занятия и пользовались реферальными программами. Сделующий по оттоку и по схожим показателям - 3 кластер - около 44%\n"
   ]
  },
  {
   "cell_type": "code",
   "execution_count": 30,
   "metadata": {},
   "outputs": [
    {
     "data": {
      "image/png": "[encoded data removed]",
      "text/plain": [
       "<Figure size 504x504 with 1 Axes>"
      ]
     },
     "metadata": {
      "needs_background": "light"
     },
     "output_type": "display_data"
    },
    {
     "data": {
      "image/png": "[encoded data removed]",
      "text/plain": [
       "<Figure size 504x504 with 1 Axes>"
      ]
     },
     "metadata": {
      "needs_background": "light"
     },
     "output_type": "display_data"
    },
    {
     "data": {
      "image/png": "[encoded data removed]",
      "text/plain": [
       "<Figure size 504x504 with 1 Axes>"
      ]
     },
     "metadata": {
      "needs_background": "light"
     },
     "output_type": "display_data"
    },
    {
     "data": {
      "image/png": "[encoded data removed]",
      "text/plain": [
       "<Figure size 504x504 with 1 Axes>"
      ]
     },
     "metadata": {
      "needs_background": "light"
     },
     "output_type": "display_data"
    },
    {
     "data": {
      "image/png": "[encoded data removed]",
      "text/plain": [
       "<Figure size 504x504 with 1 Axes>"
      ]
     },
     "metadata": {
      "needs_background": "light"
     },
     "output_type": "display_data"
    },
    {
     "data": {
      "image/png": "[encoded data removed]",
      "text/plain": [
       "<Figure size 504x504 with 1 Axes>"
      ]
     },
     "metadata": {
      "needs_background": "light"
     },
     "output_type": "display_data"
    },
    {
     "data": {
      "image/png": "[encoded data removed]",
      "text/plain": [
       "<Figure size 504x504 with 1 Axes>"
      ]
     },
     "metadata": {
      "needs_background": "light"
     },
     "output_type": "display_data"
    },
    {
     "data": {
      "image/png": "[encoded data removed]",
      "text/plain": [
       "<Figure size 504x504 with 1 Axes>"
      ]
     },
     "metadata": {
      "needs_background": "light"
     },
     "output_type": "display_data"
    },
    {
     "data": {
      "image/png": "[encoded data removed]",
      "text/plain": [
       "<Figure size 504x504 with 1 Axes>"
      ]
     },
     "metadata": {
      "needs_background": "light"
     },
     "output_type": "display_data"
    },
    {
     "data": {
      "image/png": "[encoded data removed]",
      "text/plain": [
       "<Figure size 504x504 with 1 Axes>"
      ]
     },
     "metadata": {
      "needs_background": "light"
     },
     "output_type": "display_data"
    },
    {
     "data": {
      "image/png": "[encoded data removed]",
      "text/plain": [
       "<Figure size 504x504 with 1 Axes>"
      ]
     },
     "metadata": {
      "needs_background": "light"
     },
     "output_type": "display_data"
    },
    {
     "data": {
      "image/png": "[encoded data removed]",
      "text/plain": [
       "<Figure size 504x504 with 1 Axes>"
      ]
     },
     "metadata": {
      "needs_background": "light"
     },
     "output_type": "display_data"
    },
    {
     "data": {
      "image/png": "[encoded data removed]",
      "text/plain": [
       "<Figure size 504x504 with 1 Axes>"
      ]
     },
     "metadata": {
      "needs_background": "light"
     },
     "output_type": "display_data"
    }
   ],
   "source": [
    "#рисую попарные графики\n",
    "show_clusters_on_countplot(gym_churn, 'gender', 'cluster_km')\n",
    "show_clusters_on_countplot(gym_churn, 'near_location', 'cluster_km')\n",
    "show_clusters_on_countplot(gym_churn, 'partner', 'cluster_km')\n",
    "show_clusters_on_countplot(gym_churn, 'promo_friends', 'cluster_km')\n",
    "show_clusters_on_countplot(gym_churn, 'phone', 'cluster_km')\n",
    "show_clusters_on_boxplot(gym_churn, 'contract_period', 'cluster_km')\n",
    "show_clusters_on_countplot(gym_churn, 'group_visits', 'cluster_km')\n",
    "show_clusters_on_boxplot(gym_churn, 'age', 'cluster_km')\n",
    "show_clusters_on_boxplot(gym_churn, 'avg_additional_charges_total', 'cluster_km')\n",
    "show_clusters_on_boxplot(gym_churn, 'month_to_end_contract', 'cluster_km')\n",
    "show_clusters_on_boxplot(gym_churn, 'lifetime', 'cluster_km')\n",
    "show_clusters_on_boxplot(gym_churn, 'avg_class_frequency_total', 'cluster_km')\n",
    "show_clusters_on_boxplot(gym_churn, 'avg_class_frequency_current_month', 'cluster_km')\n",
    " \n"
   ]
  },
  {
   "cell_type": "markdown",
   "metadata": {},
   "source": [
    "Вывела распределение признаков по кластерам на графиках, они достаточно информативно отобразили выводы, полученные ранее"
   ]
  },
  {
   "cell_type": "markdown",
   "metadata": {},
   "source": [
    "### Подсчет доли оттока по кластерам"
   ]
  },
  {
   "cell_type": "code",
   "execution_count": 31,
   "metadata": {},
   "outputs": [
    {
     "data": {
      "text/html": [
       "<div>\n",
       "<style scoped>\n",
       "    .dataframe tbody tr th:only-of-type {\n",
       "        vertical-align: middle;\n",
       "    }\n",
       "\n",
       "    .dataframe tbody tr th {\n",
       "        vertical-align: top;\n",
       "    }\n",
       "\n",
       "    .dataframe thead th {\n",
       "        text-align: right;\n",
       "    }\n",
       "</style>\n",
       "<table border=\"1\" class=\"dataframe\">\n",
       "  <thead>\n",
       "    <tr style=\"text-align: right;\">\n",
       "      <th></th>\n",
       "      <th>churn</th>\n",
       "    </tr>\n",
       "    <tr>\n",
       "      <th>cluster_km</th>\n",
       "      <th></th>\n",
       "    </tr>\n",
       "  </thead>\n",
       "  <tbody>\n",
       "    <tr>\n",
       "      <th>0</th>\n",
       "      <td>0.03</td>\n",
       "    </tr>\n",
       "    <tr>\n",
       "      <th>1</th>\n",
       "      <td>0.27</td>\n",
       "    </tr>\n",
       "    <tr>\n",
       "      <th>2</th>\n",
       "      <td>0.44</td>\n",
       "    </tr>\n",
       "    <tr>\n",
       "      <th>3</th>\n",
       "      <td>0.51</td>\n",
       "    </tr>\n",
       "    <tr>\n",
       "      <th>4</th>\n",
       "      <td>0.07</td>\n",
       "    </tr>\n",
       "  </tbody>\n",
       "</table>\n",
       "</div>"
      ],
      "text/plain": [
       "            churn\n",
       "cluster_km       \n",
       "0            0.03\n",
       "1            0.27\n",
       "2            0.44\n",
       "3            0.51\n",
       "4            0.07"
      ]
     },
     "execution_count": 31,
     "metadata": {},
     "output_type": "execute_result"
    }
   ],
   "source": [
    "gym_churn.groupby('cluster_km').agg({'churn': 'mean'}).round(2)"
   ]
  },
  {
   "cell_type": "code",
   "execution_count": 32,
   "metadata": {},
   "outputs": [
    {
     "data": {
      "text/html": [
       "<div>\n",
       "<style scoped>\n",
       "    .dataframe tbody tr th:only-of-type {\n",
       "        vertical-align: middle;\n",
       "    }\n",
       "\n",
       "    .dataframe tbody tr th {\n",
       "        vertical-align: top;\n",
       "    }\n",
       "\n",
       "    .dataframe thead th {\n",
       "        text-align: right;\n",
       "    }\n",
       "</style>\n",
       "<table border=\"1\" class=\"dataframe\">\n",
       "  <thead>\n",
       "    <tr style=\"text-align: right;\">\n",
       "      <th></th>\n",
       "      <th>gender</th>\n",
       "      <th>near_location</th>\n",
       "      <th>partner</th>\n",
       "      <th>promo_friends</th>\n",
       "      <th>phone</th>\n",
       "      <th>contract_period</th>\n",
       "      <th>group_visits</th>\n",
       "      <th>age</th>\n",
       "      <th>avg_additional_charges_total</th>\n",
       "      <th>month_to_end_contract</th>\n",
       "      <th>lifetime</th>\n",
       "      <th>avg_class_frequency_total</th>\n",
       "      <th>avg_class_frequency_current_month</th>\n",
       "      <th>churn</th>\n",
       "    </tr>\n",
       "    <tr>\n",
       "      <th>cluster_km</th>\n",
       "      <th></th>\n",
       "      <th></th>\n",
       "      <th></th>\n",
       "      <th></th>\n",
       "      <th></th>\n",
       "      <th></th>\n",
       "      <th></th>\n",
       "      <th></th>\n",
       "      <th></th>\n",
       "      <th></th>\n",
       "      <th></th>\n",
       "      <th></th>\n",
       "      <th></th>\n",
       "      <th></th>\n",
       "    </tr>\n",
       "  </thead>\n",
       "  <tbody>\n",
       "    <tr>\n",
       "      <th>0</th>\n",
       "      <td>0.502970</td>\n",
       "      <td>0.959406</td>\n",
       "      <td>0.783168</td>\n",
       "      <td>0.574257</td>\n",
       "      <td>1.000000</td>\n",
       "      <td>10.889109</td>\n",
       "      <td>0.542574</td>\n",
       "      <td>29.982178</td>\n",
       "      <td>160.761016</td>\n",
       "      <td>9.954455</td>\n",
       "      <td>4.736634</td>\n",
       "      <td>1.982055</td>\n",
       "      <td>1.974789</td>\n",
       "      <td>0.027723</td>\n",
       "    </tr>\n",
       "    <tr>\n",
       "      <th>1</th>\n",
       "      <td>0.522078</td>\n",
       "      <td>0.862338</td>\n",
       "      <td>0.470130</td>\n",
       "      <td>0.306494</td>\n",
       "      <td>0.000000</td>\n",
       "      <td>4.787013</td>\n",
       "      <td>0.425974</td>\n",
       "      <td>29.301299</td>\n",
       "      <td>143.957664</td>\n",
       "      <td>4.475325</td>\n",
       "      <td>3.924675</td>\n",
       "      <td>1.847220</td>\n",
       "      <td>1.716369</td>\n",
       "      <td>0.267532</td>\n",
       "    </tr>\n",
       "    <tr>\n",
       "      <th>2</th>\n",
       "      <td>0.495050</td>\n",
       "      <td>0.000000</td>\n",
       "      <td>0.463366</td>\n",
       "      <td>0.079208</td>\n",
       "      <td>1.000000</td>\n",
       "      <td>2.352475</td>\n",
       "      <td>0.215842</td>\n",
       "      <td>28.477228</td>\n",
       "      <td>135.457501</td>\n",
       "      <td>2.198020</td>\n",
       "      <td>2.809901</td>\n",
       "      <td>1.660461</td>\n",
       "      <td>1.477324</td>\n",
       "      <td>0.443564</td>\n",
       "    </tr>\n",
       "    <tr>\n",
       "      <th>3</th>\n",
       "      <td>0.485737</td>\n",
       "      <td>1.000000</td>\n",
       "      <td>0.350238</td>\n",
       "      <td>0.240095</td>\n",
       "      <td>1.000000</td>\n",
       "      <td>1.948494</td>\n",
       "      <td>0.341521</td>\n",
       "      <td>28.167987</td>\n",
       "      <td>131.622204</td>\n",
       "      <td>1.856577</td>\n",
       "      <td>2.440571</td>\n",
       "      <td>1.247634</td>\n",
       "      <td>1.012983</td>\n",
       "      <td>0.514263</td>\n",
       "    </tr>\n",
       "    <tr>\n",
       "      <th>4</th>\n",
       "      <td>0.559666</td>\n",
       "      <td>0.976134</td>\n",
       "      <td>0.356802</td>\n",
       "      <td>0.230310</td>\n",
       "      <td>0.998807</td>\n",
       "      <td>2.669451</td>\n",
       "      <td>0.473747</td>\n",
       "      <td>30.125298</td>\n",
       "      <td>161.657905</td>\n",
       "      <td>2.459427</td>\n",
       "      <td>4.898568</td>\n",
       "      <td>2.852002</td>\n",
       "      <td>2.850161</td>\n",
       "      <td>0.068019</td>\n",
       "    </tr>\n",
       "  </tbody>\n",
       "</table>\n",
       "</div>"
      ],
      "text/plain": [
       "              gender  near_location   partner  promo_friends     phone  \\\n",
       "cluster_km                                                               \n",
       "0           0.502970       0.959406  0.783168       0.574257  1.000000   \n",
       "1           0.522078       0.862338  0.470130       0.306494  0.000000   \n",
       "2           0.495050       0.000000  0.463366       0.079208  1.000000   \n",
       "3           0.485737       1.000000  0.350238       0.240095  1.000000   \n",
       "4           0.559666       0.976134  0.356802       0.230310  0.998807   \n",
       "\n",
       "            contract_period  group_visits        age  \\\n",
       "cluster_km                                             \n",
       "0                 10.889109      0.542574  29.982178   \n",
       "1                  4.787013      0.425974  29.301299   \n",
       "2                  2.352475      0.215842  28.477228   \n",
       "3                  1.948494      0.341521  28.167987   \n",
       "4                  2.669451      0.473747  30.125298   \n",
       "\n",
       "            avg_additional_charges_total  month_to_end_contract  lifetime  \\\n",
       "cluster_km                                                                  \n",
       "0                             160.761016               9.954455  4.736634   \n",
       "1                             143.957664               4.475325  3.924675   \n",
       "2                             135.457501               2.198020  2.809901   \n",
       "3                             131.622204               1.856577  2.440571   \n",
       "4                             161.657905               2.459427  4.898568   \n",
       "\n",
       "            avg_class_frequency_total  avg_class_frequency_current_month  \\\n",
       "cluster_km                                                                 \n",
       "0                            1.982055                           1.974789   \n",
       "1                            1.847220                           1.716369   \n",
       "2                            1.660461                           1.477324   \n",
       "3                            1.247634                           1.012983   \n",
       "4                            2.852002                           2.850161   \n",
       "\n",
       "               churn  \n",
       "cluster_km            \n",
       "0           0.027723  \n",
       "1           0.267532  \n",
       "2           0.443564  \n",
       "3           0.514263  \n",
       "4           0.068019  "
      ]
     },
     "execution_count": 32,
     "metadata": {},
     "output_type": "execute_result"
    }
   ],
   "source": [
    "gym_churn.groupby(['cluster_km']).mean()"
   ]
  },
  {
   "cell_type": "markdown",
   "metadata": {},
   "source": [
    "Кластеры отличаются по средней доле оттока, но эта доля не превосходит 51%. Если два кластера с минимальным оттоков - 0.03 и 0.07 - они наиболее надежные, кластеры с оттоков 51% и 44% представляются самыми ненадежными."
   ]
  },
  {
   "cell_type": "markdown",
   "metadata": {},
   "source": [
    "## Вывод"
   ]
  },
  {
   "cell_type": "markdown",
   "metadata": {},
   "source": [
    "В данном исследовании был проведен анализ активности посетилелей фитнес-клуба по нескольким признакам, были сформированы портреты пользователей и проведено разбиение пользователей на группы, в соответствие с которыми предлагается ряд рекомендаций. \n",
    "\n",
    "Исходя из проведенного анализа и построенной дендограммы было видно, что данные можно разбить на 4 кластера, но из-за специфики задания было выделено 5 кластеров. \n",
    "\n",
    "Два кластера характеризуются низкой долей оттока, два - средней, один - наибольшей для рассматриваемых данных. \n",
    "Признаки, по которым отличаются эти кластеры: \n",
    "* В кластерах с наименьшей долей оттока была отмечена наибольшая средняя посещаемость в неделю за весь период и за последний месяц, а также наибольшее время, прошедшее с момента первого обращения. Это логичное наблюдение, но повлиять на него отдельно трудно, это зависит непосредственно от клиентов. \n",
    "* Отмечается, что в кластере с большим процентом оттока наиболее молодые посетители, правда нельзя гвоорить о сильной разнице в возрасте, речь идет о 28-30 годах (это средний возраст посетителей по всему датасету). Также к признакам, не особо влияющим на целевую переменную можно отнести пол и наличие контактного номера телефона.\n",
    "* Можно подчеркнуть тот факт, что кластер с наибольшим процентом оттока клиентов характеризуется наибольшей отдаленностью их дома или работы от места расположения фитнес-центра. Это важный показатель, получается, что подтверждается вывод о том, что удаленность центра от привычной локации играет роль. \n",
    "* Помимо локации можно отметить, что среди тех, кто перестал ходить в зал, малое число пользователей реферальных программ: партнерской и Приведи друга (хотя кластер с долей оттока 0.08 тоже характеризуется так же, что не мешает этим клиентам оставаться в фитнес-клубе)\n",
    "* Из выделяющихся признаков: участие в групповых занятиях, явно можно отметить, что те, кто не любят посещать групповые занятия, наиболее склонны к оттоку, а также эти люди покупали абонементы на самое меньшее число месяцев, скорее всего они брали пробный период - абонемент на месяц (максимум на 3), не замахивафсь на полугодовые и годовые абонементы. \n",
    "\n",
    "Таким образом, можно отметить, что для удержания клиентов стоит привлекать тех, кто живет или работает рядом, нужно развивать партнерские и дружественные программы и продвигать среди посетителей посещение групповых занятий. \n"
   ]
  },
  {
   "cell_type": "markdown",
   "metadata": {},
   "source": [
    "<b>Предложение маркетинговых действий: </b>\n",
    "\n",
    "Фитнес-клубу можно расширять число своих посетителей путем создания так называемого \"Цифрового двойника\" - в данном случае вести актвино социальные сети, правильно настраивать таргетированную рекламу: после проведени исследования мы видим, что важен возраст посетителей, их географическое положение, нужен грамотный специалист по таргету. Думаю, что сейчас без ведения инстаграма мало какому бизнесу удается сохранять и увеличивать свою аудиторию. После этого можно добавить для наблюдения параметр, кто пришел из социальных сетей, наблюдать их процент притока-оттока. \n",
    "\n",
    "Так как была выявлена важность посещения групповых занятий, нужно дать посетителям возможность попробовать себя в этих тренировках: в том же инстаграме показывать занятия, вешать плашку с онлайн-записью на тренировки, ведь сейчас люди стараются в основном не звонить, а записываться онлайн. \n",
    "\n",
    "Если идти дальше, можно разработать приложение, где клиенты всегда могут хранить свои абонементы и не бояться забыть карточку. Так же подключить уведомления об акциях и там же сделать онайлн запись. \n",
    "\n",
    "В приложении можно сделать как бесплатный - единый для всех контент, так и сделат ьплатный, например, с тренером онлайн или с отслеживанием питания тоже тренером. "
   ]
  },
  {
   "cell_type": "markdown",
   "metadata": {},
   "source": [
    "## Чек-лист готовности проекта"
   ]
  },
  {
   "cell_type": "markdown",
   "metadata": {},
   "source": [
    "- [x] Загрузите и изучите данные\n",
    "- [x] Посмотрите на датасет: есть ли в нем отсутствующие признаки, изучите средние значения и стандартные отклонения (пригодится метод describe());\n",
    "- [x] Посмотрите на средние значения признаков в двух группах — тех, кто ушел в отток и тех, кто остался (воспользуйтесь методом groupby());\n",
    "- [x] Постройте столбчатые гистограммы и распределения признаков для тех, кто ушёл (отток) и тех, кто остался (не попали в отток);\n",
    "- [x] Постройте матрицу корреляций и отобразите её.\n",
    "- [x] Разбейте данные на обучающую и валидационную выборку функцией train_test_split()\n",
    "- [x] Обучите модель на train-выборке логистической регрессией,\n",
    "- [x] Обучите модель на train-выборке случайным лесом.\n",
    "- [x] Оцените метрики accuracy, precision и recall для обеих моделей на валидационной выборке. Сравните по ним модели. Какая модель показала себя лучше на основании метрик?\n",
    "- [x] Стандартизируйте данные.\n",
    "- [x] Постройте матрицу расстояний функцией linkage() на стандартизованной матрице признаков и нарисуйте дендрограмму.\n",
    "- [x] На основании полученного графика предположите, какое количество кластеров можно выделить.\n",
    "- [x] Обучите модель кластеризации на основании алгоритма K-Means и спрогнозируйте кластеры клиентов. \n",
    "- [x] Посмотрите на средние значения признаков для кластеров. Можно ли сразу что-то заметить?\n",
    "- [x] Постройте распределения признаков для кластеров. Можно ли что-то заметить по ним?\n",
    "- [x] Для каждого полученного кластера посчитайте долю оттока (методом groupby()). Отличаются ли они по доле оттока? Какие кластеры склонны к оттоку, а какие — надёжны?\n",
    "- [x] Сформулируйте основные выводы и предложите рекомендации для стратегии взаимодействия с клиентами и их удержания.\n",
    "\n"
   ]
  }
 ],
 "metadata": {
  "ExecuteTimeLog": [
   {
    "duration": 324,
    "start_time": "2021-12-03T07:26:15.846Z"
   },
   {
    "duration": 785,
    "start_time": "2021-12-03T07:32:17.792Z"
   },
   {
    "duration": 56,
    "start_time": "2021-12-03T07:33:18.217Z"
   },
   {
    "duration": 302,
    "start_time": "2021-12-03T09:17:42.390Z"
   },
   {
    "duration": 43,
    "start_time": "2021-12-03T09:17:51.276Z"
   },
   {
    "duration": 11,
    "start_time": "2021-12-03T09:17:55.934Z"
   },
   {
    "duration": 8,
    "start_time": "2021-12-03T09:19:32.467Z"
   },
   {
    "duration": 13,
    "start_time": "2021-12-03T09:19:47.155Z"
   },
   {
    "duration": 17,
    "start_time": "2021-12-03T09:33:21.080Z"
   },
   {
    "duration": 264,
    "start_time": "2021-12-03T09:33:27.416Z"
   },
   {
    "duration": 7,
    "start_time": "2021-12-03T09:33:29.366Z"
   },
   {
    "duration": 8,
    "start_time": "2021-12-03T09:48:41.357Z"
   },
   {
    "duration": 6,
    "start_time": "2021-12-03T09:48:47.212Z"
   },
   {
    "duration": 6,
    "start_time": "2021-12-03T09:58:33.016Z"
   },
   {
    "duration": 6,
    "start_time": "2021-12-03T09:58:47.098Z"
   },
   {
    "duration": 6,
    "start_time": "2021-12-03T09:58:57.365Z"
   },
   {
    "duration": 6,
    "start_time": "2021-12-03T09:59:01.332Z"
   },
   {
    "duration": 8,
    "start_time": "2021-12-03T09:59:02.657Z"
   },
   {
    "duration": 5,
    "start_time": "2021-12-03T09:59:07.392Z"
   },
   {
    "duration": 6,
    "start_time": "2021-12-03T09:59:12.435Z"
   },
   {
    "duration": 6,
    "start_time": "2021-12-03T09:59:14.737Z"
   },
   {
    "duration": 5,
    "start_time": "2021-12-03T09:59:23.143Z"
   },
   {
    "duration": 5,
    "start_time": "2021-12-03T09:59:26.130Z"
   },
   {
    "duration": 7,
    "start_time": "2021-12-03T09:59:37.689Z"
   },
   {
    "duration": 6,
    "start_time": "2021-12-03T09:59:40.984Z"
   },
   {
    "duration": 7,
    "start_time": "2021-12-03T09:59:43.641Z"
   },
   {
    "duration": 7,
    "start_time": "2021-12-03T09:59:47.664Z"
   },
   {
    "duration": 6,
    "start_time": "2021-12-03T10:00:15.867Z"
   },
   {
    "duration": 75,
    "start_time": "2021-12-03T10:02:00.596Z"
   },
   {
    "duration": 741,
    "start_time": "2021-12-03T10:03:23.541Z"
   },
   {
    "duration": 237,
    "start_time": "2021-12-03T10:03:27.391Z"
   },
   {
    "duration": 230,
    "start_time": "2021-12-03T10:03:43.491Z"
   },
   {
    "duration": 1448,
    "start_time": "2021-12-03T10:03:50.521Z"
   },
   {
    "duration": 50,
    "start_time": "2021-12-03T10:03:51.972Z"
   },
   {
    "duration": 10,
    "start_time": "2021-12-03T10:03:52.026Z"
   },
   {
    "duration": 8,
    "start_time": "2021-12-03T10:03:52.039Z"
   },
   {
    "duration": 13,
    "start_time": "2021-12-03T10:03:52.069Z"
   },
   {
    "duration": 7,
    "start_time": "2021-12-03T10:03:52.085Z"
   },
   {
    "duration": 6,
    "start_time": "2021-12-03T10:03:52.094Z"
   },
   {
    "duration": 6,
    "start_time": "2021-12-03T10:03:52.104Z"
   },
   {
    "duration": 7,
    "start_time": "2021-12-03T10:03:52.113Z"
   },
   {
    "duration": 8,
    "start_time": "2021-12-03T10:03:52.169Z"
   },
   {
    "duration": 9,
    "start_time": "2021-12-03T10:03:52.180Z"
   },
   {
    "duration": 12,
    "start_time": "2021-12-03T10:03:52.192Z"
   },
   {
    "duration": 9,
    "start_time": "2021-12-03T10:03:52.207Z"
   },
   {
    "duration": 121,
    "start_time": "2021-12-03T10:03:52.218Z"
   },
   {
    "duration": 270,
    "start_time": "2021-12-03T10:03:52.342Z"
   },
   {
    "duration": 1711,
    "start_time": "2021-12-03T10:04:49.413Z"
   },
   {
    "duration": 639,
    "start_time": "2021-12-03T10:05:19.722Z"
   },
   {
    "duration": 1547,
    "start_time": "2021-12-03T10:05:50.781Z"
   },
   {
    "duration": 1699,
    "start_time": "2021-12-03T10:06:03.350Z"
   },
   {
    "duration": 1468,
    "start_time": "2021-12-03T10:06:13.181Z"
   },
   {
    "duration": 1723,
    "start_time": "2021-12-03T10:07:37.122Z"
   },
   {
    "duration": 1594,
    "start_time": "2021-12-03T10:07:45.146Z"
   },
   {
    "duration": 1849,
    "start_time": "2021-12-03T10:08:42.668Z"
   },
   {
    "duration": 3534,
    "start_time": "2021-12-03T10:09:01.042Z"
   },
   {
    "duration": 1473,
    "start_time": "2021-12-03T10:09:15.082Z"
   },
   {
    "duration": 3490,
    "start_time": "2021-12-03T10:09:39.942Z"
   },
   {
    "duration": 3410,
    "start_time": "2021-12-03T10:09:51.539Z"
   },
   {
    "duration": 3295,
    "start_time": "2021-12-03T10:11:22.712Z"
   },
   {
    "duration": 3738,
    "start_time": "2021-12-03T10:11:32.262Z"
   },
   {
    "duration": 3377,
    "start_time": "2021-12-03T10:11:37.539Z"
   },
   {
    "duration": 3513,
    "start_time": "2021-12-03T10:13:42.333Z"
   },
   {
    "duration": 3363,
    "start_time": "2021-12-03T10:13:57.711Z"
   },
   {
    "duration": 3528,
    "start_time": "2021-12-03T10:14:08.329Z"
   },
   {
    "duration": 2973,
    "start_time": "2021-12-03T10:14:14.827Z"
   },
   {
    "duration": 3024,
    "start_time": "2021-12-03T10:14:42.095Z"
   },
   {
    "duration": 1626,
    "start_time": "2021-12-03T10:14:55.764Z"
   },
   {
    "duration": 2966,
    "start_time": "2021-12-03T10:15:45.858Z"
   },
   {
    "duration": 2996,
    "start_time": "2021-12-03T10:16:04.535Z"
   },
   {
    "duration": 3118,
    "start_time": "2021-12-03T10:16:17.118Z"
   },
   {
    "duration": 2971,
    "start_time": "2021-12-03T10:16:39.616Z"
   },
   {
    "duration": 235,
    "start_time": "2021-12-03T10:16:59.693Z"
   },
   {
    "duration": 245,
    "start_time": "2021-12-03T10:17:02.688Z"
   },
   {
    "duration": 2590,
    "start_time": "2021-12-03T10:17:05.966Z"
   },
   {
    "duration": 7,
    "start_time": "2021-12-03T10:19:21.424Z"
   },
   {
    "duration": 2450,
    "start_time": "2021-12-03T10:19:25.263Z"
   },
   {
    "duration": 2625,
    "start_time": "2021-12-03T10:20:01.106Z"
   },
   {
    "duration": 2736,
    "start_time": "2021-12-03T10:20:24.531Z"
   },
   {
    "duration": 3045,
    "start_time": "2021-12-03T10:20:27.600Z"
   },
   {
    "duration": 3180,
    "start_time": "2021-12-03T10:21:02.487Z"
   },
   {
    "duration": 7,
    "start_time": "2021-12-03T10:21:07.924Z"
   },
   {
    "duration": 3148,
    "start_time": "2021-12-03T10:21:09.346Z"
   },
   {
    "duration": 5898,
    "start_time": "2021-12-03T10:29:38.451Z"
   },
   {
    "duration": 1482,
    "start_time": "2021-12-03T11:09:22.078Z"
   },
   {
    "duration": 52,
    "start_time": "2021-12-03T11:09:23.563Z"
   },
   {
    "duration": 11,
    "start_time": "2021-12-03T11:09:23.618Z"
   },
   {
    "duration": 10,
    "start_time": "2021-12-03T11:09:23.632Z"
   },
   {
    "duration": 12,
    "start_time": "2021-12-03T11:09:23.668Z"
   },
   {
    "duration": 7,
    "start_time": "2021-12-03T11:09:23.682Z"
   },
   {
    "duration": 6,
    "start_time": "2021-12-03T11:09:23.691Z"
   },
   {
    "duration": 13,
    "start_time": "2021-12-03T11:09:23.701Z"
   },
   {
    "duration": 14,
    "start_time": "2021-12-03T11:09:23.717Z"
   },
   {
    "duration": 7,
    "start_time": "2021-12-03T11:09:23.767Z"
   },
   {
    "duration": 9,
    "start_time": "2021-12-03T11:09:23.777Z"
   },
   {
    "duration": 8,
    "start_time": "2021-12-03T11:09:23.788Z"
   },
   {
    "duration": 7,
    "start_time": "2021-12-03T11:09:23.798Z"
   },
   {
    "duration": 115,
    "start_time": "2021-12-03T11:09:23.807Z"
   },
   {
    "duration": 6,
    "start_time": "2021-12-03T11:09:23.925Z"
   },
   {
    "duration": 3108,
    "start_time": "2021-12-03T11:09:23.933Z"
   },
   {
    "duration": 5774,
    "start_time": "2021-12-03T11:09:27.044Z"
   },
   {
    "duration": 72,
    "start_time": "2021-12-03T14:33:44.319Z"
   },
   {
    "duration": 240,
    "start_time": "2021-12-03T14:34:43.014Z"
   },
   {
    "duration": 3208,
    "start_time": "2021-12-03T14:34:45.053Z"
   },
   {
    "duration": 1489,
    "start_time": "2021-12-03T14:35:29.387Z"
   },
   {
    "duration": 56,
    "start_time": "2021-12-03T14:35:30.879Z"
   },
   {
    "duration": 26,
    "start_time": "2021-12-03T14:35:30.942Z"
   },
   {
    "duration": 7,
    "start_time": "2021-12-03T14:35:30.971Z"
   },
   {
    "duration": 12,
    "start_time": "2021-12-03T14:35:30.981Z"
   },
   {
    "duration": 6,
    "start_time": "2021-12-03T14:35:30.995Z"
   },
   {
    "duration": 14,
    "start_time": "2021-12-03T14:35:31.005Z"
   },
   {
    "duration": 47,
    "start_time": "2021-12-03T14:35:31.022Z"
   },
   {
    "duration": 28,
    "start_time": "2021-12-03T14:35:31.071Z"
   },
   {
    "duration": 9,
    "start_time": "2021-12-03T14:35:31.101Z"
   },
   {
    "duration": 17,
    "start_time": "2021-12-03T14:35:31.112Z"
   },
   {
    "duration": 19,
    "start_time": "2021-12-03T14:35:31.131Z"
   },
   {
    "duration": 24,
    "start_time": "2021-12-03T14:35:31.152Z"
   },
   {
    "duration": 74,
    "start_time": "2021-12-03T14:35:31.179Z"
   },
   {
    "duration": 262,
    "start_time": "2021-12-03T14:35:31.256Z"
   },
   {
    "duration": 3255,
    "start_time": "2021-12-03T14:35:31.521Z"
   },
   {
    "duration": 3489,
    "start_time": "2021-12-03T14:57:20.733Z"
   },
   {
    "duration": 3035,
    "start_time": "2021-12-03T14:57:40.715Z"
   },
   {
    "duration": 2497,
    "start_time": "2021-12-03T14:57:57.042Z"
   },
   {
    "duration": 7,
    "start_time": "2021-12-03T15:33:03.589Z"
   },
   {
    "duration": 77,
    "start_time": "2021-12-03T15:33:09.901Z"
   },
   {
    "duration": 388,
    "start_time": "2021-12-03T15:33:12.590Z"
   },
   {
    "duration": 240,
    "start_time": "2021-12-03T15:34:15.148Z"
   },
   {
    "duration": 245,
    "start_time": "2021-12-03T15:35:13.816Z"
   },
   {
    "duration": 6,
    "start_time": "2021-12-03T15:36:03.626Z"
   },
   {
    "duration": 34,
    "start_time": "2021-12-03T15:37:53.999Z"
   },
   {
    "duration": 36,
    "start_time": "2021-12-03T15:38:11.271Z"
   },
   {
    "duration": 516,
    "start_time": "2021-12-03T16:08:05.990Z"
   },
   {
    "duration": 629,
    "start_time": "2021-12-03T16:08:13.560Z"
   },
   {
    "duration": 313,
    "start_time": "2021-12-03T16:08:24.981Z"
   },
   {
    "duration": 359,
    "start_time": "2021-12-03T16:12:35.387Z"
   },
   {
    "duration": 147,
    "start_time": "2021-12-03T16:12:43.170Z"
   },
   {
    "duration": 32,
    "start_time": "2021-12-03T16:13:05.883Z"
   },
   {
    "duration": 838,
    "start_time": "2021-12-03T16:14:59.253Z"
   },
   {
    "duration": 484,
    "start_time": "2021-12-03T16:15:10.178Z"
   },
   {
    "duration": 479,
    "start_time": "2021-12-03T16:15:30.099Z"
   },
   {
    "duration": 565,
    "start_time": "2021-12-03T16:15:45.271Z"
   },
   {
    "duration": 597,
    "start_time": "2021-12-03T16:15:50.489Z"
   },
   {
    "duration": 550,
    "start_time": "2021-12-03T16:16:41.295Z"
   },
   {
    "duration": 619,
    "start_time": "2021-12-03T16:16:46.493Z"
   },
   {
    "duration": 807,
    "start_time": "2021-12-03T16:17:15.995Z"
   },
   {
    "duration": 752,
    "start_time": "2021-12-03T16:17:28.696Z"
   },
   {
    "duration": 641,
    "start_time": "2021-12-03T16:18:15.097Z"
   },
   {
    "duration": 781,
    "start_time": "2021-12-03T16:18:25.461Z"
   },
   {
    "duration": 288,
    "start_time": "2021-12-03T16:21:51.616Z"
   },
   {
    "duration": 254,
    "start_time": "2021-12-03T16:21:55.029Z"
   },
   {
    "duration": 313,
    "start_time": "2021-12-03T16:22:02.954Z"
   },
   {
    "duration": 345,
    "start_time": "2021-12-03T16:22:46.225Z"
   },
   {
    "duration": 347,
    "start_time": "2021-12-03T16:22:51.043Z"
   },
   {
    "duration": 349,
    "start_time": "2021-12-03T16:23:03.879Z"
   },
   {
    "duration": 357,
    "start_time": "2021-12-03T16:23:43.543Z"
   },
   {
    "duration": 362,
    "start_time": "2021-12-03T16:24:19.845Z"
   },
   {
    "duration": 374,
    "start_time": "2021-12-03T16:25:03.988Z"
   },
   {
    "duration": 364,
    "start_time": "2021-12-03T16:25:13.635Z"
   },
   {
    "duration": 377,
    "start_time": "2021-12-03T16:25:28.847Z"
   },
   {
    "duration": 381,
    "start_time": "2021-12-03T16:25:44.540Z"
   },
   {
    "duration": 487,
    "start_time": "2021-12-03T16:26:15.431Z"
   },
   {
    "duration": 4641,
    "start_time": "2021-12-03T16:28:36.897Z"
   },
   {
    "duration": 4807,
    "start_time": "2021-12-03T16:29:07.672Z"
   },
   {
    "duration": 4698,
    "start_time": "2021-12-03T16:29:35.772Z"
   },
   {
    "duration": 4811,
    "start_time": "2021-12-03T16:30:30.034Z"
   },
   {
    "duration": 6087,
    "start_time": "2021-12-03T16:31:16.520Z"
   },
   {
    "duration": 5739,
    "start_time": "2021-12-03T16:31:28.732Z"
   },
   {
    "duration": 5014,
    "start_time": "2021-12-03T16:31:35.157Z"
   },
   {
    "duration": 5643,
    "start_time": "2021-12-03T16:32:25.448Z"
   },
   {
    "duration": 55,
    "start_time": "2021-12-04T09:28:49.966Z"
   },
   {
    "duration": 2061,
    "start_time": "2021-12-04T09:28:57.743Z"
   },
   {
    "duration": 65,
    "start_time": "2021-12-04T09:28:59.806Z"
   },
   {
    "duration": 7,
    "start_time": "2021-12-04T09:28:59.875Z"
   },
   {
    "duration": 32,
    "start_time": "2021-12-04T09:28:59.884Z"
   },
   {
    "duration": 25,
    "start_time": "2021-12-04T09:28:59.917Z"
   },
   {
    "duration": 20,
    "start_time": "2021-12-04T09:28:59.944Z"
   },
   {
    "duration": 10,
    "start_time": "2021-12-04T09:28:59.967Z"
   },
   {
    "duration": 7,
    "start_time": "2021-12-04T09:28:59.979Z"
   },
   {
    "duration": 10,
    "start_time": "2021-12-04T09:28:59.987Z"
   },
   {
    "duration": 7,
    "start_time": "2021-12-04T09:28:59.999Z"
   },
   {
    "duration": 9,
    "start_time": "2021-12-04T09:29:00.008Z"
   },
   {
    "duration": 10,
    "start_time": "2021-12-04T09:29:00.019Z"
   },
   {
    "duration": 8,
    "start_time": "2021-12-04T09:29:00.031Z"
   },
   {
    "duration": 61,
    "start_time": "2021-12-04T09:29:00.041Z"
   },
   {
    "duration": 21,
    "start_time": "2021-12-04T09:29:00.105Z"
   },
   {
    "duration": 19,
    "start_time": "2021-12-04T09:29:00.128Z"
   },
   {
    "duration": 43,
    "start_time": "2021-12-04T09:29:00.149Z"
   },
   {
    "duration": 243,
    "start_time": "2021-12-04T09:29:00.194Z"
   },
   {
    "duration": 62,
    "start_time": "2021-12-04T09:29:00.439Z"
   },
   {
    "duration": -63,
    "start_time": "2021-12-04T09:29:00.566Z"
   },
   {
    "duration": -73,
    "start_time": "2021-12-04T09:29:00.577Z"
   },
   {
    "duration": 7287,
    "start_time": "2021-12-04T09:29:22.352Z"
   },
   {
    "duration": 33938,
    "start_time": "2021-12-04T09:29:46.682Z"
   },
   {
    "duration": 458,
    "start_time": "2021-12-04T09:31:03.653Z"
   },
   {
    "duration": 33612,
    "start_time": "2021-12-04T09:31:23.815Z"
   },
   {
    "duration": 3413,
    "start_time": "2021-12-04T09:32:45.388Z"
   },
   {
    "duration": 218,
    "start_time": "2021-12-04T09:32:55.398Z"
   },
   {
    "duration": 212,
    "start_time": "2021-12-04T09:35:13.805Z"
   },
   {
    "duration": 236,
    "start_time": "2021-12-04T09:35:45.523Z"
   },
   {
    "duration": 219,
    "start_time": "2021-12-04T09:35:56.446Z"
   },
   {
    "duration": 678,
    "start_time": "2021-12-04T09:36:24.671Z"
   },
   {
    "duration": 168,
    "start_time": "2021-12-04T09:38:34.323Z"
   },
   {
    "duration": 166,
    "start_time": "2021-12-04T09:38:57.675Z"
   },
   {
    "duration": 58,
    "start_time": "2021-12-04T09:39:26.011Z"
   },
   {
    "duration": 63,
    "start_time": "2021-12-04T09:40:06.608Z"
   },
   {
    "duration": 14983,
    "start_time": "2021-12-04T09:40:21.424Z"
   },
   {
    "duration": 39412,
    "start_time": "2021-12-04T09:41:15.082Z"
   },
   {
    "duration": 3432,
    "start_time": "2021-12-04T09:42:54.120Z"
   },
   {
    "duration": 183,
    "start_time": "2021-12-04T09:45:12.245Z"
   },
   {
    "duration": 224,
    "start_time": "2021-12-04T09:45:33.656Z"
   },
   {
    "duration": 466,
    "start_time": "2021-12-04T09:45:53.494Z"
   },
   {
    "duration": 226,
    "start_time": "2021-12-04T09:46:34.186Z"
   },
   {
    "duration": 3,
    "start_time": "2021-12-04T09:49:44.975Z"
   },
   {
    "duration": 516,
    "start_time": "2021-12-04T09:50:38.735Z"
   },
   {
    "duration": 200,
    "start_time": "2021-12-04T09:51:20.847Z"
   },
   {
    "duration": 380,
    "start_time": "2021-12-04T09:52:22.595Z"
   },
   {
    "duration": 513,
    "start_time": "2021-12-04T09:52:38.497Z"
   },
   {
    "duration": 232,
    "start_time": "2021-12-04T09:53:00.879Z"
   },
   {
    "duration": 507,
    "start_time": "2021-12-04T09:53:56.354Z"
   },
   {
    "duration": 521,
    "start_time": "2021-12-04T09:54:26.375Z"
   },
   {
    "duration": 454,
    "start_time": "2021-12-04T09:54:33.388Z"
   },
   {
    "duration": 437,
    "start_time": "2021-12-04T09:54:54.641Z"
   },
   {
    "duration": 439,
    "start_time": "2021-12-04T09:55:13.262Z"
   },
   {
    "duration": 3193,
    "start_time": "2021-12-04T10:00:56.214Z"
   },
   {
    "duration": 144,
    "start_time": "2021-12-04T10:03:31.379Z"
   },
   {
    "duration": 1557,
    "start_time": "2021-12-04T10:03:34.392Z"
   },
   {
    "duration": 7,
    "start_time": "2021-12-04T10:28:44.612Z"
   },
   {
    "duration": 28,
    "start_time": "2021-12-04T10:28:52.801Z"
   },
   {
    "duration": 14,
    "start_time": "2021-12-04T10:28:57.877Z"
   },
   {
    "duration": 17,
    "start_time": "2021-12-04T10:29:32.841Z"
   },
   {
    "duration": 187,
    "start_time": "2021-12-04T10:35:29.388Z"
   },
   {
    "duration": 1193,
    "start_time": "2021-12-04T10:35:52.669Z"
   },
   {
    "duration": 39,
    "start_time": "2021-12-04T10:35:53.864Z"
   },
   {
    "duration": 6,
    "start_time": "2021-12-04T10:35:53.905Z"
   },
   {
    "duration": 5,
    "start_time": "2021-12-04T10:35:53.913Z"
   },
   {
    "duration": 8,
    "start_time": "2021-12-04T10:35:53.920Z"
   },
   {
    "duration": 9,
    "start_time": "2021-12-04T10:35:53.929Z"
   },
   {
    "duration": 11,
    "start_time": "2021-12-04T10:35:53.940Z"
   },
   {
    "duration": 6,
    "start_time": "2021-12-04T10:35:53.953Z"
   },
   {
    "duration": 31,
    "start_time": "2021-12-04T10:35:53.961Z"
   },
   {
    "duration": 6,
    "start_time": "2021-12-04T10:35:53.994Z"
   },
   {
    "duration": 7,
    "start_time": "2021-12-04T10:35:54.001Z"
   },
   {
    "duration": 6,
    "start_time": "2021-12-04T10:35:54.009Z"
   },
   {
    "duration": 5,
    "start_time": "2021-12-04T10:35:54.016Z"
   },
   {
    "duration": 46,
    "start_time": "2021-12-04T10:35:54.023Z"
   },
   {
    "duration": 38,
    "start_time": "2021-12-04T10:35:54.071Z"
   },
   {
    "duration": 19,
    "start_time": "2021-12-04T10:35:54.110Z"
   },
   {
    "duration": 18,
    "start_time": "2021-12-04T10:35:54.130Z"
   },
   {
    "duration": 3074,
    "start_time": "2021-12-04T10:35:54.150Z"
   },
   {
    "duration": 161,
    "start_time": "2021-12-04T10:35:57.226Z"
   },
   {
    "duration": 1672,
    "start_time": "2021-12-04T10:35:57.391Z"
   },
   {
    "duration": 15,
    "start_time": "2021-12-04T10:35:59.064Z"
   },
   {
    "duration": 6,
    "start_time": "2021-12-04T10:35:59.091Z"
   },
   {
    "duration": 15,
    "start_time": "2021-12-04T10:36:18.255Z"
   },
   {
    "duration": 14,
    "start_time": "2021-12-04T10:36:53.613Z"
   },
   {
    "duration": 8,
    "start_time": "2021-12-04T10:38:54.002Z"
   },
   {
    "duration": 1328,
    "start_time": "2021-12-04T10:45:23.726Z"
   },
   {
    "duration": 1351,
    "start_time": "2021-12-04T10:45:57.061Z"
   },
   {
    "duration": 1342,
    "start_time": "2021-12-04T10:46:07.423Z"
   },
   {
    "duration": 1429,
    "start_time": "2021-12-04T10:46:18.626Z"
   },
   {
    "duration": 1368,
    "start_time": "2021-12-04T10:46:28.698Z"
   },
   {
    "duration": 278,
    "start_time": "2021-12-04T11:19:26.870Z"
   },
   {
    "duration": 4,
    "start_time": "2021-12-04T11:19:34.568Z"
   },
   {
    "duration": 24,
    "start_time": "2021-12-04T11:19:38.533Z"
   },
   {
    "duration": 5,
    "start_time": "2021-12-04T11:19:55.287Z"
   },
   {
    "duration": 173,
    "start_time": "2021-12-04T11:22:27.261Z"
   },
   {
    "duration": 182,
    "start_time": "2021-12-04T11:22:55.697Z"
   },
   {
    "duration": 209,
    "start_time": "2021-12-04T11:23:31.642Z"
   },
   {
    "duration": 1159,
    "start_time": "2021-12-04T11:23:56.009Z"
   },
   {
    "duration": 41,
    "start_time": "2021-12-04T11:23:57.170Z"
   },
   {
    "duration": 6,
    "start_time": "2021-12-04T11:23:57.213Z"
   },
   {
    "duration": 6,
    "start_time": "2021-12-04T11:23:57.221Z"
   },
   {
    "duration": 8,
    "start_time": "2021-12-04T11:23:57.228Z"
   },
   {
    "duration": 5,
    "start_time": "2021-12-04T11:23:57.237Z"
   },
   {
    "duration": 6,
    "start_time": "2021-12-04T11:23:57.243Z"
   },
   {
    "duration": 4,
    "start_time": "2021-12-04T11:23:57.252Z"
   },
   {
    "duration": 5,
    "start_time": "2021-12-04T11:23:57.291Z"
   },
   {
    "duration": 8,
    "start_time": "2021-12-04T11:23:57.297Z"
   },
   {
    "duration": 7,
    "start_time": "2021-12-04T11:23:57.307Z"
   },
   {
    "duration": 8,
    "start_time": "2021-12-04T11:23:57.316Z"
   },
   {
    "duration": 9,
    "start_time": "2021-12-04T11:23:57.326Z"
   },
   {
    "duration": 72,
    "start_time": "2021-12-04T11:23:57.337Z"
   },
   {
    "duration": 22,
    "start_time": "2021-12-04T11:23:57.411Z"
   },
   {
    "duration": 20,
    "start_time": "2021-12-04T11:23:57.435Z"
   },
   {
    "duration": 43,
    "start_time": "2021-12-04T11:23:57.456Z"
   },
   {
    "duration": 3019,
    "start_time": "2021-12-04T11:23:57.501Z"
   },
   {
    "duration": 1534,
    "start_time": "2021-12-04T11:24:00.522Z"
   },
   {
    "duration": 15,
    "start_time": "2021-12-04T11:24:02.058Z"
   },
   {
    "duration": 19,
    "start_time": "2021-12-04T11:24:02.074Z"
   },
   {
    "duration": 30,
    "start_time": "2021-12-04T11:24:02.094Z"
   },
   {
    "duration": 104,
    "start_time": "2021-12-04T11:24:02.192Z"
   },
   {
    "duration": 409,
    "start_time": "2021-12-04T11:30:06.524Z"
   },
   {
    "duration": 165,
    "start_time": "2021-12-04T11:30:08.710Z"
   },
   {
    "duration": 4,
    "start_time": "2021-12-04T11:30:29.677Z"
   },
   {
    "duration": 8,
    "start_time": "2021-12-04T11:30:32.907Z"
   },
   {
    "duration": 8,
    "start_time": "2021-12-04T11:30:34.330Z"
   },
   {
    "duration": 7,
    "start_time": "2021-12-04T12:38:01.424Z"
   },
   {
    "duration": 4,
    "start_time": "2021-12-04T12:44:07.795Z"
   },
   {
    "duration": 7,
    "start_time": "2021-12-04T12:45:43.972Z"
   },
   {
    "duration": 191,
    "start_time": "2021-12-04T12:46:51.099Z"
   },
   {
    "duration": 521,
    "start_time": "2021-12-04T12:46:55.892Z"
   },
   {
    "duration": 89872,
    "start_time": "2021-12-04T12:46:57.695Z"
   },
   {
    "duration": -98,
    "start_time": "2021-12-04T12:51:17.289Z"
   },
   {
    "duration": 91986,
    "start_time": "2021-12-04T12:53:40.205Z"
   },
   {
    "duration": 6,
    "start_time": "2021-12-04T12:55:48.234Z"
   },
   {
    "duration": 96,
    "start_time": "2021-12-04T12:58:11.860Z"
   },
   {
    "duration": 4,
    "start_time": "2021-12-04T12:58:51.400Z"
   },
   {
    "duration": 1589,
    "start_time": "2021-12-04T13:01:35.013Z"
   },
   {
    "duration": 543,
    "start_time": "2021-12-04T13:04:20.927Z"
   },
   {
    "duration": 585,
    "start_time": "2021-12-04T13:04:31.299Z"
   },
   {
    "duration": 583,
    "start_time": "2021-12-04T13:04:39.654Z"
   },
   {
    "duration": 1613,
    "start_time": "2021-12-04T13:05:43.491Z"
   },
   {
    "duration": 601,
    "start_time": "2021-12-04T13:05:52.071Z"
   },
   {
    "duration": 633,
    "start_time": "2021-12-04T13:05:57.687Z"
   },
   {
    "duration": 1829,
    "start_time": "2021-12-04T13:08:17.190Z"
   },
   {
    "duration": 567,
    "start_time": "2021-12-04T13:08:49.310Z"
   },
   {
    "duration": 1482,
    "start_time": "2021-12-04T13:10:41.722Z"
   },
   {
    "duration": 1603,
    "start_time": "2021-12-04T13:10:45.007Z"
   },
   {
    "duration": 7339,
    "start_time": "2021-12-04T13:21:29.303Z"
   },
   {
    "duration": 1589,
    "start_time": "2021-12-04T13:23:31.424Z"
   },
   {
    "duration": 7844,
    "start_time": "2021-12-04T13:23:40.034Z"
   },
   {
    "duration": 6,
    "start_time": "2021-12-04T13:30:41.210Z"
   },
   {
    "duration": 178,
    "start_time": "2021-12-04T13:30:57.879Z"
   },
   {
    "duration": 59,
    "start_time": "2021-12-04T13:31:04.438Z"
   },
   {
    "duration": 4,
    "start_time": "2021-12-04T13:31:07.298Z"
   },
   {
    "duration": 60,
    "start_time": "2021-12-04T13:31:12.969Z"
   },
   {
    "duration": 5,
    "start_time": "2021-12-04T13:31:15.916Z"
   },
   {
    "duration": 1633,
    "start_time": "2021-12-04T13:35:09.769Z"
   },
   {
    "duration": 340,
    "start_time": "2021-12-04T13:35:34.652Z"
   },
   {
    "duration": 1552,
    "start_time": "2021-12-04T13:35:59.359Z"
   },
   {
    "duration": 655,
    "start_time": "2021-12-04T13:36:52.339Z"
   },
   {
    "duration": 1530,
    "start_time": "2021-12-04T13:37:18.278Z"
   },
   {
    "duration": 333,
    "start_time": "2021-12-04T13:37:22.463Z"
   },
   {
    "duration": 1586,
    "start_time": "2021-12-04T13:37:44.817Z"
   },
   {
    "duration": 1476,
    "start_time": "2021-12-04T13:37:47.925Z"
   },
   {
    "duration": 7652,
    "start_time": "2021-12-04T13:37:51.509Z"
   },
   {
    "duration": 1612,
    "start_time": "2021-12-04T13:39:28.226Z"
   },
   {
    "duration": 7655,
    "start_time": "2021-12-04T13:39:32.350Z"
   },
   {
    "duration": 1663,
    "start_time": "2021-12-04T13:40:48.355Z"
   },
   {
    "duration": 7135,
    "start_time": "2021-12-04T13:40:57.593Z"
   },
   {
    "duration": 20,
    "start_time": "2021-12-04T13:44:48.932Z"
   },
   {
    "duration": 10,
    "start_time": "2021-12-04T13:45:41.651Z"
   },
   {
    "duration": 19,
    "start_time": "2021-12-04T13:50:51.174Z"
   },
   {
    "duration": 10,
    "start_time": "2021-12-04T13:51:38.183Z"
   },
   {
    "duration": 1135,
    "start_time": "2021-12-04T14:10:24.544Z"
   },
   {
    "duration": 40,
    "start_time": "2021-12-04T14:10:25.681Z"
   },
   {
    "duration": 7,
    "start_time": "2021-12-04T14:10:25.723Z"
   },
   {
    "duration": 6,
    "start_time": "2021-12-04T14:10:25.733Z"
   },
   {
    "duration": 9,
    "start_time": "2021-12-04T14:10:25.740Z"
   },
   {
    "duration": 4,
    "start_time": "2021-12-04T14:10:25.750Z"
   },
   {
    "duration": 36,
    "start_time": "2021-12-04T14:10:25.756Z"
   },
   {
    "duration": 4,
    "start_time": "2021-12-04T14:10:25.796Z"
   },
   {
    "duration": 6,
    "start_time": "2021-12-04T14:10:25.802Z"
   },
   {
    "duration": 8,
    "start_time": "2021-12-04T14:10:25.810Z"
   },
   {
    "duration": 8,
    "start_time": "2021-12-04T14:10:25.819Z"
   },
   {
    "duration": 9,
    "start_time": "2021-12-04T14:10:25.829Z"
   },
   {
    "duration": 11,
    "start_time": "2021-12-04T14:10:25.840Z"
   },
   {
    "duration": 74,
    "start_time": "2021-12-04T14:10:25.853Z"
   },
   {
    "duration": 22,
    "start_time": "2021-12-04T14:10:25.929Z"
   },
   {
    "duration": 45,
    "start_time": "2021-12-04T14:10:25.953Z"
   },
   {
    "duration": 27,
    "start_time": "2021-12-04T14:10:26.000Z"
   },
   {
    "duration": 3282,
    "start_time": "2021-12-04T14:10:26.029Z"
   },
   {
    "duration": 1439,
    "start_time": "2021-12-04T14:10:29.313Z"
   },
   {
    "duration": 16,
    "start_time": "2021-12-04T14:10:30.753Z"
   },
   {
    "duration": 24,
    "start_time": "2021-12-04T14:10:30.771Z"
   },
   {
    "duration": 38,
    "start_time": "2021-12-04T14:10:30.797Z"
   },
   {
    "duration": 111,
    "start_time": "2021-12-04T14:10:30.895Z"
   },
   {
    "duration": 8,
    "start_time": "2021-12-04T14:10:31.008Z"
   },
   {
    "duration": 17,
    "start_time": "2021-12-04T14:10:31.018Z"
   },
   {
    "duration": 10,
    "start_time": "2021-12-04T14:10:31.037Z"
   },
   {
    "duration": 606,
    "start_time": "2021-12-04T14:10:31.049Z"
   },
   {
    "duration": 87108,
    "start_time": "2021-12-04T14:10:31.657Z"
   },
   {
    "duration": 1446,
    "start_time": "2021-12-04T14:11:58.767Z"
   },
   {
    "duration": 7547,
    "start_time": "2021-12-04T14:12:00.215Z"
   },
   {
    "duration": 10,
    "start_time": "2021-12-04T14:12:07.764Z"
   },
   {
    "duration": 29,
    "start_time": "2021-12-04T14:12:07.776Z"
   },
   {
    "duration": 3,
    "start_time": "2021-12-04T14:13:15.938Z"
   },
   {
    "duration": 1181,
    "start_time": "2021-12-05T12:24:19.503Z"
   },
   {
    "duration": 39,
    "start_time": "2021-12-05T12:24:20.686Z"
   },
   {
    "duration": 7,
    "start_time": "2021-12-05T12:24:20.730Z"
   },
   {
    "duration": 7,
    "start_time": "2021-12-05T12:24:20.739Z"
   },
   {
    "duration": 8,
    "start_time": "2021-12-05T12:24:20.747Z"
   },
   {
    "duration": 4,
    "start_time": "2021-12-05T12:24:20.757Z"
   },
   {
    "duration": 4,
    "start_time": "2021-12-05T12:24:20.763Z"
   },
   {
    "duration": 25,
    "start_time": "2021-12-05T12:24:20.769Z"
   },
   {
    "duration": 8,
    "start_time": "2021-12-05T12:24:20.795Z"
   },
   {
    "duration": 6,
    "start_time": "2021-12-05T12:24:20.805Z"
   },
   {
    "duration": 7,
    "start_time": "2021-12-05T12:24:20.812Z"
   },
   {
    "duration": 6,
    "start_time": "2021-12-05T12:24:20.820Z"
   },
   {
    "duration": 5,
    "start_time": "2021-12-05T12:24:20.828Z"
   },
   {
    "duration": 70,
    "start_time": "2021-12-05T12:24:20.834Z"
   },
   {
    "duration": 19,
    "start_time": "2021-12-05T12:24:20.905Z"
   },
   {
    "duration": 18,
    "start_time": "2021-12-05T12:24:20.926Z"
   },
   {
    "duration": 17,
    "start_time": "2021-12-05T12:24:20.945Z"
   },
   {
    "duration": 2966,
    "start_time": "2021-12-05T12:24:20.963Z"
   },
   {
    "duration": 1437,
    "start_time": "2021-12-05T12:24:23.930Z"
   },
   {
    "duration": 26,
    "start_time": "2021-12-05T12:24:25.368Z"
   },
   {
    "duration": 6,
    "start_time": "2021-12-05T12:24:25.396Z"
   },
   {
    "duration": 28,
    "start_time": "2021-12-05T12:24:25.405Z"
   },
   {
    "duration": 163,
    "start_time": "2021-12-05T12:24:25.436Z"
   },
   {
    "duration": 9,
    "start_time": "2021-12-05T12:24:25.601Z"
   },
   {
    "duration": 7,
    "start_time": "2021-12-05T12:24:25.611Z"
   },
   {
    "duration": 6,
    "start_time": "2021-12-05T12:24:25.619Z"
   },
   {
    "duration": 561,
    "start_time": "2021-12-05T12:24:25.626Z"
   },
   {
    "duration": 86454,
    "start_time": "2021-12-05T12:24:26.192Z"
   },
   {
    "duration": 1558,
    "start_time": "2021-12-05T12:25:52.647Z"
   },
   {
    "duration": 7153,
    "start_time": "2021-12-05T12:25:54.207Z"
   },
   {
    "duration": 10,
    "start_time": "2021-12-05T12:26:01.362Z"
   },
   {
    "duration": 28,
    "start_time": "2021-12-05T12:26:01.374Z"
   },
   {
    "duration": 199,
    "start_time": "2021-12-05T14:59:58.363Z"
   },
   {
    "duration": 1164,
    "start_time": "2021-12-05T15:00:03.410Z"
   },
   {
    "duration": 41,
    "start_time": "2021-12-05T15:00:04.576Z"
   },
   {
    "duration": 7,
    "start_time": "2021-12-05T15:00:04.619Z"
   },
   {
    "duration": 17,
    "start_time": "2021-12-05T15:00:04.628Z"
   },
   {
    "duration": 20,
    "start_time": "2021-12-05T15:00:04.647Z"
   },
   {
    "duration": 12,
    "start_time": "2021-12-05T15:00:04.668Z"
   },
   {
    "duration": 19,
    "start_time": "2021-12-05T15:00:04.681Z"
   },
   {
    "duration": 5,
    "start_time": "2021-12-05T15:00:04.703Z"
   },
   {
    "duration": 18,
    "start_time": "2021-12-05T15:00:04.710Z"
   },
   {
    "duration": 16,
    "start_time": "2021-12-05T15:00:04.730Z"
   },
   {
    "duration": 18,
    "start_time": "2021-12-05T15:00:04.747Z"
   },
   {
    "duration": 17,
    "start_time": "2021-12-05T15:00:04.766Z"
   },
   {
    "duration": 25,
    "start_time": "2021-12-05T15:00:04.785Z"
   },
   {
    "duration": 53,
    "start_time": "2021-12-05T15:00:04.812Z"
   },
   {
    "duration": 19,
    "start_time": "2021-12-05T15:00:04.867Z"
   },
   {
    "duration": 19,
    "start_time": "2021-12-05T15:00:04.887Z"
   },
   {
    "duration": 18,
    "start_time": "2021-12-05T15:00:04.908Z"
   },
   {
    "duration": 3075,
    "start_time": "2021-12-05T15:00:04.927Z"
   },
   {
    "duration": 1467,
    "start_time": "2021-12-05T15:00:08.004Z"
   },
   {
    "duration": 25,
    "start_time": "2021-12-05T15:00:09.472Z"
   },
   {
    "duration": 9,
    "start_time": "2021-12-05T15:00:09.499Z"
   },
   {
    "duration": 33,
    "start_time": "2021-12-05T15:00:09.510Z"
   },
   {
    "duration": 113,
    "start_time": "2021-12-05T15:00:09.601Z"
   },
   {
    "duration": 8,
    "start_time": "2021-12-05T15:00:09.717Z"
   },
   {
    "duration": 9,
    "start_time": "2021-12-05T15:00:09.727Z"
   },
   {
    "duration": 8,
    "start_time": "2021-12-05T15:00:09.738Z"
   },
   {
    "duration": 543,
    "start_time": "2021-12-05T15:00:09.748Z"
   },
   {
    "duration": 1122,
    "start_time": "2021-12-05T15:01:10.144Z"
   },
   {
    "duration": 38,
    "start_time": "2021-12-05T15:01:11.268Z"
   },
   {
    "duration": 5,
    "start_time": "2021-12-05T15:01:11.308Z"
   },
   {
    "duration": 5,
    "start_time": "2021-12-05T15:01:11.315Z"
   },
   {
    "duration": 7,
    "start_time": "2021-12-05T15:01:11.321Z"
   },
   {
    "duration": 3,
    "start_time": "2021-12-05T15:01:11.330Z"
   },
   {
    "duration": 7,
    "start_time": "2021-12-05T15:01:11.335Z"
   },
   {
    "duration": 6,
    "start_time": "2021-12-05T15:01:11.343Z"
   },
   {
    "duration": 43,
    "start_time": "2021-12-05T15:01:11.351Z"
   },
   {
    "duration": 6,
    "start_time": "2021-12-05T15:01:11.396Z"
   },
   {
    "duration": 6,
    "start_time": "2021-12-05T15:01:11.403Z"
   },
   {
    "duration": 6,
    "start_time": "2021-12-05T15:01:11.410Z"
   },
   {
    "duration": 6,
    "start_time": "2021-12-05T15:01:11.417Z"
   },
   {
    "duration": 81,
    "start_time": "2021-12-05T15:01:11.424Z"
   },
   {
    "duration": 20,
    "start_time": "2021-12-05T15:01:11.506Z"
   },
   {
    "duration": 74,
    "start_time": "2021-12-05T15:01:11.528Z"
   },
   {
    "duration": 18,
    "start_time": "2021-12-05T15:01:11.604Z"
   },
   {
    "duration": 3181,
    "start_time": "2021-12-05T15:01:11.623Z"
   },
   {
    "duration": 1448,
    "start_time": "2021-12-05T15:01:14.807Z"
   },
   {
    "duration": 14,
    "start_time": "2021-12-05T15:01:16.257Z"
   },
   {
    "duration": 24,
    "start_time": "2021-12-05T15:01:16.273Z"
   },
   {
    "duration": 35,
    "start_time": "2021-12-05T15:01:16.299Z"
   },
   {
    "duration": 163,
    "start_time": "2021-12-05T15:01:16.336Z"
   },
   {
    "duration": 8,
    "start_time": "2021-12-05T15:01:16.501Z"
   },
   {
    "duration": 8,
    "start_time": "2021-12-05T15:01:16.511Z"
   },
   {
    "duration": 6,
    "start_time": "2021-12-05T15:01:16.521Z"
   },
   {
    "duration": 518,
    "start_time": "2021-12-05T15:01:16.530Z"
   },
   {
    "duration": 87052,
    "start_time": "2021-12-05T15:01:17.049Z"
   },
   {
    "duration": 1506,
    "start_time": "2021-12-05T15:02:44.103Z"
   },
   {
    "duration": 7307,
    "start_time": "2021-12-05T15:02:45.611Z"
   },
   {
    "duration": 9,
    "start_time": "2021-12-05T15:02:52.919Z"
   },
   {
    "duration": 25,
    "start_time": "2021-12-05T15:02:52.930Z"
   },
   {
    "duration": 1038,
    "start_time": "2021-12-05T15:03:29.699Z"
   },
   {
    "duration": 193,
    "start_time": "2021-12-05T15:03:39.911Z"
   },
   {
    "duration": 194,
    "start_time": "2021-12-05T15:03:42.705Z"
   },
   {
    "duration": 170,
    "start_time": "2021-12-05T15:03:45.988Z"
   },
   {
    "duration": 175,
    "start_time": "2021-12-05T15:03:52.269Z"
   },
   {
    "duration": 39,
    "start_time": "2021-12-05T15:04:19.153Z"
   },
   {
    "duration": 583,
    "start_time": "2021-12-05T15:04:47.915Z"
   },
   {
    "duration": 31,
    "start_time": "2021-12-05T15:05:08.429Z"
   },
   {
    "duration": 478,
    "start_time": "2021-12-05T15:05:48.720Z"
   },
   {
    "duration": 31,
    "start_time": "2021-12-05T15:06:37.939Z"
   },
   {
    "duration": 3,
    "start_time": "2021-12-05T15:06:42.690Z"
   },
   {
    "duration": 30,
    "start_time": "2021-12-05T15:06:45.265Z"
   },
   {
    "duration": 171,
    "start_time": "2021-12-05T15:06:48.701Z"
   },
   {
    "duration": 177,
    "start_time": "2021-12-05T15:06:58.582Z"
   },
   {
    "duration": 777,
    "start_time": "2021-12-05T15:07:04.020Z"
   },
   {
    "duration": 533,
    "start_time": "2021-12-05T15:07:41.267Z"
   },
   {
    "duration": 732,
    "start_time": "2021-12-05T15:07:59.965Z"
   },
   {
    "duration": 565,
    "start_time": "2021-12-05T15:08:05.128Z"
   },
   {
    "duration": 68,
    "start_time": "2021-12-05T15:09:33.597Z"
   },
   {
    "duration": 56,
    "start_time": "2021-12-05T15:09:40.091Z"
   },
   {
    "duration": 3,
    "start_time": "2021-12-05T15:09:44.747Z"
   },
   {
    "duration": 691,
    "start_time": "2021-12-05T15:10:41.805Z"
   },
   {
    "duration": 4288,
    "start_time": "2021-12-05T15:10:51.906Z"
   },
   {
    "duration": 11,
    "start_time": "2021-12-05T15:12:37.486Z"
   },
   {
    "duration": 211,
    "start_time": "2021-12-05T15:14:30.452Z"
   },
   {
    "duration": 324,
    "start_time": "2021-12-05T15:14:36.333Z"
   },
   {
    "duration": 9,
    "start_time": "2021-12-05T15:14:50.479Z"
   },
   {
    "duration": 8,
    "start_time": "2021-12-05T15:14:52.953Z"
   },
   {
    "duration": 1722,
    "start_time": "2021-12-05T15:17:23.676Z"
   },
   {
    "duration": 1441,
    "start_time": "2021-12-05T15:17:34.557Z"
   },
   {
    "duration": 1538,
    "start_time": "2021-12-05T15:17:39.360Z"
   },
   {
    "duration": 1617,
    "start_time": "2021-12-05T15:23:31.685Z"
   },
   {
    "duration": 1617,
    "start_time": "2021-12-05T15:29:16.486Z"
   },
   {
    "duration": 1456,
    "start_time": "2021-12-05T15:29:47.445Z"
   },
   {
    "duration": 3248,
    "start_time": "2021-12-05T15:32:04.561Z"
   },
   {
    "duration": 1705,
    "start_time": "2021-12-05T15:33:21.196Z"
   },
   {
    "duration": 3408,
    "start_time": "2021-12-05T15:33:25.783Z"
   },
   {
    "duration": 1530,
    "start_time": "2021-12-05T15:35:04.072Z"
   },
   {
    "duration": 2913,
    "start_time": "2021-12-05T15:35:09.780Z"
   },
   {
    "duration": 1723,
    "start_time": "2021-12-05T15:37:38.985Z"
   },
   {
    "duration": 1586,
    "start_time": "2021-12-05T15:37:43.415Z"
   },
   {
    "duration": 1580,
    "start_time": "2021-12-05T15:38:05.618Z"
   },
   {
    "duration": 1622,
    "start_time": "2021-12-05T15:38:11.564Z"
   },
   {
    "duration": 1566,
    "start_time": "2021-12-05T15:38:21.743Z"
   },
   {
    "duration": 2916,
    "start_time": "2021-12-05T15:38:25.183Z"
   },
   {
    "duration": 8,
    "start_time": "2021-12-05T15:44:12.359Z"
   },
   {
    "duration": 8,
    "start_time": "2021-12-05T15:44:13.628Z"
   },
   {
    "duration": 8,
    "start_time": "2021-12-05T15:44:14.751Z"
   },
   {
    "duration": 8,
    "start_time": "2021-12-05T15:44:15.638Z"
   },
   {
    "duration": 8,
    "start_time": "2021-12-05T15:44:17.079Z"
   },
   {
    "duration": 8,
    "start_time": "2021-12-05T15:44:18.104Z"
   },
   {
    "duration": 7,
    "start_time": "2021-12-05T15:44:18.953Z"
   },
   {
    "duration": 8,
    "start_time": "2021-12-05T15:44:19.672Z"
   },
   {
    "duration": 327,
    "start_time": "2021-12-05T15:44:21.669Z"
   },
   {
    "duration": 6019,
    "start_time": "2021-12-05T15:44:24.081Z"
   },
   {
    "duration": 1435,
    "start_time": "2021-12-05T15:44:33.566Z"
   },
   {
    "duration": 2301,
    "start_time": "2021-12-05T15:44:38.692Z"
   },
   {
    "duration": 3067,
    "start_time": "2021-12-05T15:44:48.824Z"
   },
   {
    "duration": 4007,
    "start_time": "2021-12-05T15:44:55.286Z"
   },
   {
    "duration": 328,
    "start_time": "2021-12-05T15:45:24.005Z"
   },
   {
    "duration": 7,
    "start_time": "2021-12-05T15:45:25.625Z"
   },
   {
    "duration": 8,
    "start_time": "2021-12-05T15:45:27.168Z"
   },
   {
    "duration": 1186,
    "start_time": "2021-12-05T15:59:07.289Z"
   },
   {
    "duration": 40,
    "start_time": "2021-12-05T15:59:08.477Z"
   },
   {
    "duration": 7,
    "start_time": "2021-12-05T15:59:08.520Z"
   },
   {
    "duration": 7,
    "start_time": "2021-12-05T15:59:08.529Z"
   },
   {
    "duration": 9,
    "start_time": "2021-12-05T15:59:08.537Z"
   },
   {
    "duration": 4,
    "start_time": "2021-12-05T15:59:08.547Z"
   },
   {
    "duration": 6,
    "start_time": "2021-12-05T15:59:08.553Z"
   },
   {
    "duration": 33,
    "start_time": "2021-12-05T15:59:08.561Z"
   },
   {
    "duration": 4,
    "start_time": "2021-12-05T15:59:08.596Z"
   },
   {
    "duration": 5,
    "start_time": "2021-12-05T15:59:08.602Z"
   },
   {
    "duration": 6,
    "start_time": "2021-12-05T15:59:08.609Z"
   },
   {
    "duration": 7,
    "start_time": "2021-12-05T15:59:08.616Z"
   },
   {
    "duration": 5,
    "start_time": "2021-12-05T15:59:08.625Z"
   },
   {
    "duration": 74,
    "start_time": "2021-12-05T15:59:08.632Z"
   },
   {
    "duration": 21,
    "start_time": "2021-12-05T15:59:08.708Z"
   },
   {
    "duration": 28,
    "start_time": "2021-12-05T15:59:08.731Z"
   },
   {
    "duration": 41,
    "start_time": "2021-12-05T15:59:08.761Z"
   },
   {
    "duration": 3028,
    "start_time": "2021-12-05T15:59:08.804Z"
   },
   {
    "duration": 1437,
    "start_time": "2021-12-05T15:59:11.833Z"
   },
   {
    "duration": 29,
    "start_time": "2021-12-05T15:59:13.272Z"
   },
   {
    "duration": 9,
    "start_time": "2021-12-05T15:59:13.303Z"
   },
   {
    "duration": 3278,
    "start_time": "2021-12-05T15:59:13.314Z"
   },
   {
    "duration": 434,
    "start_time": "2021-12-05T15:59:16.598Z"
   },
   {
    "duration": 8,
    "start_time": "2021-12-05T15:59:17.034Z"
   },
   {
    "duration": 274,
    "start_time": "2021-12-05T15:59:17.044Z"
   },
   {
    "duration": -62,
    "start_time": "2021-12-05T15:59:17.382Z"
   },
   {
    "duration": -67,
    "start_time": "2021-12-05T15:59:17.388Z"
   },
   {
    "duration": -71,
    "start_time": "2021-12-05T15:59:17.393Z"
   },
   {
    "duration": -75,
    "start_time": "2021-12-05T15:59:17.397Z"
   },
   {
    "duration": -83,
    "start_time": "2021-12-05T15:59:17.406Z"
   },
   {
    "duration": -86,
    "start_time": "2021-12-05T15:59:17.410Z"
   },
   {
    "duration": -90,
    "start_time": "2021-12-05T15:59:17.415Z"
   },
   {
    "duration": 8,
    "start_time": "2021-12-05T16:00:52.288Z"
   },
   {
    "duration": 1175,
    "start_time": "2021-12-05T16:01:00.306Z"
   },
   {
    "duration": 40,
    "start_time": "2021-12-05T16:01:01.483Z"
   },
   {
    "duration": 8,
    "start_time": "2021-12-05T16:01:01.525Z"
   },
   {
    "duration": 11,
    "start_time": "2021-12-05T16:01:01.535Z"
   },
   {
    "duration": 15,
    "start_time": "2021-12-05T16:01:01.548Z"
   },
   {
    "duration": 12,
    "start_time": "2021-12-05T16:01:01.565Z"
   },
   {
    "duration": 17,
    "start_time": "2021-12-05T16:01:01.579Z"
   },
   {
    "duration": 16,
    "start_time": "2021-12-05T16:01:01.597Z"
   },
   {
    "duration": 15,
    "start_time": "2021-12-05T16:01:01.615Z"
   },
   {
    "duration": 8,
    "start_time": "2021-12-05T16:01:01.632Z"
   },
   {
    "duration": 13,
    "start_time": "2021-12-05T16:01:01.642Z"
   },
   {
    "duration": 24,
    "start_time": "2021-12-05T16:01:01.657Z"
   },
   {
    "duration": 17,
    "start_time": "2021-12-05T16:01:01.682Z"
   },
   {
    "duration": 57,
    "start_time": "2021-12-05T16:01:01.701Z"
   },
   {
    "duration": 23,
    "start_time": "2021-12-05T16:01:03.582Z"
   },
   {
    "duration": 18,
    "start_time": "2021-12-05T16:01:03.607Z"
   },
   {
    "duration": 19,
    "start_time": "2021-12-05T16:01:03.627Z"
   },
   {
    "duration": 3023,
    "start_time": "2021-12-05T16:01:07.269Z"
   },
   {
    "duration": 1494,
    "start_time": "2021-12-05T16:01:10.295Z"
   },
   {
    "duration": 16,
    "start_time": "2021-12-05T16:01:11.791Z"
   },
   {
    "duration": 9,
    "start_time": "2021-12-05T16:01:11.809Z"
   },
   {
    "duration": 5777,
    "start_time": "2021-12-05T16:01:11.820Z"
   },
   {
    "duration": 510,
    "start_time": "2021-12-05T16:01:17.600Z"
   },
   {
    "duration": 9,
    "start_time": "2021-12-05T16:01:18.112Z"
   },
   {
    "duration": 14,
    "start_time": "2021-12-05T16:01:18.123Z"
   },
   {
    "duration": 9,
    "start_time": "2021-12-05T16:01:18.138Z"
   },
   {
    "duration": 504,
    "start_time": "2021-12-05T16:01:18.149Z"
   },
   {
    "duration": 86461,
    "start_time": "2021-12-05T16:01:18.655Z"
   },
   {
    "duration": 1483,
    "start_time": "2021-12-05T16:02:45.117Z"
   },
   {
    "duration": 2990,
    "start_time": "2021-12-05T16:02:46.602Z"
   },
   {
    "duration": 10,
    "start_time": "2021-12-05T16:02:49.593Z"
   },
   {
    "duration": 20,
    "start_time": "2021-12-05T16:02:49.605Z"
   },
   {
    "duration": 1869,
    "start_time": "2022-04-07T11:50:27.221Z"
   },
   {
    "duration": 44,
    "start_time": "2022-04-07T11:50:29.093Z"
   },
   {
    "duration": 11,
    "start_time": "2022-04-07T11:50:29.139Z"
   },
   {
    "duration": 9,
    "start_time": "2022-04-07T11:50:29.151Z"
   },
   {
    "duration": 8,
    "start_time": "2022-04-07T11:50:29.162Z"
   },
   {
    "duration": 4,
    "start_time": "2022-04-07T11:50:29.171Z"
   },
   {
    "duration": 4,
    "start_time": "2022-04-07T11:50:29.177Z"
   },
   {
    "duration": 37,
    "start_time": "2022-04-07T11:50:29.182Z"
   },
   {
    "duration": 12,
    "start_time": "2022-04-07T11:50:29.221Z"
   },
   {
    "duration": 6,
    "start_time": "2022-04-07T11:50:29.235Z"
   },
   {
    "duration": 4,
    "start_time": "2022-04-07T11:50:29.243Z"
   },
   {
    "duration": 5,
    "start_time": "2022-04-07T11:50:29.249Z"
   },
   {
    "duration": 5,
    "start_time": "2022-04-07T11:50:29.256Z"
   },
   {
    "duration": 76,
    "start_time": "2022-04-07T11:50:29.264Z"
   },
   {
    "duration": 23,
    "start_time": "2022-04-07T11:50:29.341Z"
   },
   {
    "duration": 20,
    "start_time": "2022-04-07T11:50:29.365Z"
   },
   {
    "duration": 51,
    "start_time": "2022-04-07T11:50:29.386Z"
   },
   {
    "duration": 2506,
    "start_time": "2022-04-07T11:50:29.438Z"
   },
   {
    "duration": 1781,
    "start_time": "2022-04-07T11:50:31.946Z"
   },
   {
    "duration": 15,
    "start_time": "2022-04-07T11:50:33.733Z"
   },
   {
    "duration": 25,
    "start_time": "2022-04-07T11:50:33.750Z"
   },
   {
    "duration": 12955,
    "start_time": "2022-04-07T11:50:33.777Z"
   },
   {
    "duration": 552,
    "start_time": "2022-04-07T11:50:46.735Z"
   },
   {
    "duration": 7,
    "start_time": "2022-04-07T11:50:47.289Z"
   },
   {
    "duration": 22,
    "start_time": "2022-04-07T11:50:47.298Z"
   },
   {
    "duration": 11,
    "start_time": "2022-04-07T11:50:47.325Z"
   },
   {
    "duration": 558,
    "start_time": "2022-04-07T11:50:47.338Z"
   },
   {
    "duration": 118653,
    "start_time": "2022-04-07T11:50:47.898Z"
   },
   {
    "duration": 1180,
    "start_time": "2022-04-07T11:52:46.553Z"
   },
   {
    "duration": 2385,
    "start_time": "2022-04-07T11:52:47.739Z"
   },
   {
    "duration": 14,
    "start_time": "2022-04-07T11:52:50.126Z"
   },
   {
    "duration": 19,
    "start_time": "2022-04-07T11:52:50.141Z"
   }
  ],
  "kernelspec": {
   "display_name": "Python 3 (ipykernel)",
   "language": "python",
   "name": "python3"
  },
  "language_info": {
   "codemirror_mode": {
    "name": "ipython",
    "version": 3
   },
   "file_extension": ".py",
   "mimetype": "text/x-python",
   "name": "python",
   "nbconvert_exporter": "python",
   "pygments_lexer": "ipython3",
   "version": "3.9.5"
  },
  "toc": {
   "base_numbering": 1,
   "nav_menu": {},
   "number_sections": true,
   "sideBar": true,
   "skip_h1_title": true,
   "title_cell": "Содержание проекта",
   "title_sidebar": "Содержание проекта",
   "toc_cell": true,
   "toc_position": {
    "height": "calc(100% - 180px)",
    "left": "10px",
    "top": "150px",
    "width": "177px"
   },
   "toc_section_display": true,
   "toc_window_display": true
  }
 },
 "nbformat": 4,
 "nbformat_minor": 2
}
