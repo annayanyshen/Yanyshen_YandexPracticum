{
 "cells": [
  {
   "cell_type": "markdown",
   "metadata": {},
   "source": [
    "# Определение перспективного тарифа для телеком компании"
   ]
  },
  {
   "cell_type": "markdown",
   "metadata": {},
   "source": [
    "## Описание проекта"
   ]
  },
  {
   "cell_type": "markdown",
   "metadata": {},
   "source": [
    "Федеральный оператор сотовой связи компания \"Мегалайн\" предлагает клиентам два тарифа: «Смарт» и «Ультра». \n",
    "\n",
    "Задача аналитика в данном проекте заключается в том, чтобы выяснить, какой тариф приносит больше денег.\n",
    "\n",
    "Данные предоставлены заказчиком - коммерческим департаментом, цель которого заключается в корректировке рекламного бюджета. \n",
    "\n",
    "Аналитику необходимо провести предварительный анализ на выборке из 500 клиентов. \n",
    "\n",
    "Датасет содержит информацию об этих 500 пользователях: кто они, откуда, каким тарифом пользуются, сколько звонков и сообщений каждый отправил за 2018 год. \n",
    "\n",
    "На основе анализа поведения пользователей необходимо определить, какой тариф лучше. "
   ]
  },
  {
   "cell_type": "markdown",
   "metadata": {},
   "source": [
    "## Изучение общей информации и подготовка данных из файлов"
   ]
  },
  {
   "cell_type": "code",
   "execution_count": 1,
   "metadata": {},
   "outputs": [],
   "source": [
    "import pandas as pd\n",
    "import numpy as np\n",
    "import matplotlib.pyplot as plt\n",
    "import seaborn as sns\n",
    "from scipy import stats as st\n",
    "import math as mt\n",
    "from math import factorial"
   ]
  },
  {
   "cell_type": "code",
   "execution_count": 2,
   "metadata": {},
   "outputs": [],
   "source": [
    "#выгружаю все таблицы\n",
    "\n",
    "calls = pd.read_csv('/datasets/calls.csv')\n",
    "internet = pd.read_csv('/datasets/internet.csv')\n",
    "messages = pd.read_csv('/datasets/messages.csv')\n",
    "tariffs = pd.read_csv('/datasets/tariffs.csv')\n",
    "users = pd.read_csv('/datasets/users.csv')"
   ]
  },
  {
   "cell_type": "code",
   "execution_count": 3,
   "metadata": {},
   "outputs": [
    {
     "name": "stdout",
     "output_type": "stream",
     "text": [
      "<class 'pandas.core.frame.DataFrame'>\n",
      "RangeIndex: 202607 entries, 0 to 202606\n",
      "Data columns (total 4 columns):\n",
      "id           202607 non-null object\n",
      "call_date    202607 non-null object\n",
      "duration     202607 non-null float64\n",
      "user_id      202607 non-null int64\n",
      "dtypes: float64(1), int64(1), object(2)\n",
      "memory usage: 6.2+ MB\n"
     ]
    },
    {
     "data": {
      "text/html": [
       "<div>\n",
       "<style scoped>\n",
       "    .dataframe tbody tr th:only-of-type {\n",
       "        vertical-align: middle;\n",
       "    }\n",
       "\n",
       "    .dataframe tbody tr th {\n",
       "        vertical-align: top;\n",
       "    }\n",
       "\n",
       "    .dataframe thead th {\n",
       "        text-align: right;\n",
       "    }\n",
       "</style>\n",
       "<table border=\"1\" class=\"dataframe\">\n",
       "  <thead>\n",
       "    <tr style=\"text-align: right;\">\n",
       "      <th></th>\n",
       "      <th>id</th>\n",
       "      <th>call_date</th>\n",
       "      <th>duration</th>\n",
       "      <th>user_id</th>\n",
       "    </tr>\n",
       "  </thead>\n",
       "  <tbody>\n",
       "    <tr>\n",
       "      <td>0</td>\n",
       "      <td>1000_0</td>\n",
       "      <td>2018-07-25</td>\n",
       "      <td>0.00</td>\n",
       "      <td>1000</td>\n",
       "    </tr>\n",
       "    <tr>\n",
       "      <td>1</td>\n",
       "      <td>1000_1</td>\n",
       "      <td>2018-08-17</td>\n",
       "      <td>0.00</td>\n",
       "      <td>1000</td>\n",
       "    </tr>\n",
       "    <tr>\n",
       "      <td>2</td>\n",
       "      <td>1000_2</td>\n",
       "      <td>2018-06-11</td>\n",
       "      <td>2.85</td>\n",
       "      <td>1000</td>\n",
       "    </tr>\n",
       "    <tr>\n",
       "      <td>3</td>\n",
       "      <td>1000_3</td>\n",
       "      <td>2018-09-21</td>\n",
       "      <td>13.80</td>\n",
       "      <td>1000</td>\n",
       "    </tr>\n",
       "    <tr>\n",
       "      <td>4</td>\n",
       "      <td>1000_4</td>\n",
       "      <td>2018-12-15</td>\n",
       "      <td>5.18</td>\n",
       "      <td>1000</td>\n",
       "    </tr>\n",
       "    <tr>\n",
       "      <td>...</td>\n",
       "      <td>...</td>\n",
       "      <td>...</td>\n",
       "      <td>...</td>\n",
       "      <td>...</td>\n",
       "    </tr>\n",
       "    <tr>\n",
       "      <td>202602</td>\n",
       "      <td>1499_215</td>\n",
       "      <td>2018-12-26</td>\n",
       "      <td>0.76</td>\n",
       "      <td>1499</td>\n",
       "    </tr>\n",
       "    <tr>\n",
       "      <td>202603</td>\n",
       "      <td>1499_216</td>\n",
       "      <td>2018-10-18</td>\n",
       "      <td>18.83</td>\n",
       "      <td>1499</td>\n",
       "    </tr>\n",
       "    <tr>\n",
       "      <td>202604</td>\n",
       "      <td>1499_217</td>\n",
       "      <td>2018-11-10</td>\n",
       "      <td>10.81</td>\n",
       "      <td>1499</td>\n",
       "    </tr>\n",
       "    <tr>\n",
       "      <td>202605</td>\n",
       "      <td>1499_218</td>\n",
       "      <td>2018-10-06</td>\n",
       "      <td>4.27</td>\n",
       "      <td>1499</td>\n",
       "    </tr>\n",
       "    <tr>\n",
       "      <td>202606</td>\n",
       "      <td>1499_219</td>\n",
       "      <td>2018-12-14</td>\n",
       "      <td>19.62</td>\n",
       "      <td>1499</td>\n",
       "    </tr>\n",
       "  </tbody>\n",
       "</table>\n",
       "<p>202607 rows × 4 columns</p>\n",
       "</div>"
      ],
      "text/plain": [
       "              id   call_date  duration  user_id\n",
       "0         1000_0  2018-07-25      0.00     1000\n",
       "1         1000_1  2018-08-17      0.00     1000\n",
       "2         1000_2  2018-06-11      2.85     1000\n",
       "3         1000_3  2018-09-21     13.80     1000\n",
       "4         1000_4  2018-12-15      5.18     1000\n",
       "...          ...         ...       ...      ...\n",
       "202602  1499_215  2018-12-26      0.76     1499\n",
       "202603  1499_216  2018-10-18     18.83     1499\n",
       "202604  1499_217  2018-11-10     10.81     1499\n",
       "202605  1499_218  2018-10-06      4.27     1499\n",
       "202606  1499_219  2018-12-14     19.62     1499\n",
       "\n",
       "[202607 rows x 4 columns]"
      ]
     },
     "execution_count": 3,
     "metadata": {},
     "output_type": "execute_result"
    }
   ],
   "source": [
    "#смотрю таблицу звонков\n",
    "calls.info()\n",
    "calls"
   ]
  },
  {
   "cell_type": "code",
   "execution_count": 4,
   "metadata": {},
   "outputs": [
    {
     "name": "stdout",
     "output_type": "stream",
     "text": [
      "<class 'pandas.core.frame.DataFrame'>\n",
      "RangeIndex: 202607 entries, 0 to 202606\n",
      "Data columns (total 4 columns):\n",
      "id           202607 non-null object\n",
      "call_date    202607 non-null datetime64[ns]\n",
      "duration     202607 non-null float64\n",
      "user_id      202607 non-null int64\n",
      "dtypes: datetime64[ns](1), float64(1), int64(1), object(1)\n",
      "memory usage: 6.2+ MB\n"
     ]
    }
   ],
   "source": [
    "#перевожу столбец call_date в формат datetime и проверяю результат\n",
    "calls['call_date'] = pd.to_datetime(calls['call_date'], format = '%Y-%m-%d')\n",
    "calls.info()"
   ]
  },
  {
   "cell_type": "code",
   "execution_count": 5,
   "metadata": {},
   "outputs": [
    {
     "data": {
      "text/html": [
       "<div>\n",
       "<style scoped>\n",
       "    .dataframe tbody tr th:only-of-type {\n",
       "        vertical-align: middle;\n",
       "    }\n",
       "\n",
       "    .dataframe tbody tr th {\n",
       "        vertical-align: top;\n",
       "    }\n",
       "\n",
       "    .dataframe thead th {\n",
       "        text-align: right;\n",
       "    }\n",
       "</style>\n",
       "<table border=\"1\" class=\"dataframe\">\n",
       "  <thead>\n",
       "    <tr style=\"text-align: right;\">\n",
       "      <th></th>\n",
       "      <th>id</th>\n",
       "      <th>call_date</th>\n",
       "      <th>duration</th>\n",
       "      <th>user_id</th>\n",
       "      <th>month</th>\n",
       "    </tr>\n",
       "  </thead>\n",
       "  <tbody>\n",
       "    <tr>\n",
       "      <td>0</td>\n",
       "      <td>1000_0</td>\n",
       "      <td>2018-07-25</td>\n",
       "      <td>0.0</td>\n",
       "      <td>1000</td>\n",
       "      <td>7</td>\n",
       "    </tr>\n",
       "    <tr>\n",
       "      <td>1</td>\n",
       "      <td>1000_1</td>\n",
       "      <td>2018-08-17</td>\n",
       "      <td>0.0</td>\n",
       "      <td>1000</td>\n",
       "      <td>8</td>\n",
       "    </tr>\n",
       "    <tr>\n",
       "      <td>2</td>\n",
       "      <td>1000_2</td>\n",
       "      <td>2018-06-11</td>\n",
       "      <td>3.0</td>\n",
       "      <td>1000</td>\n",
       "      <td>6</td>\n",
       "    </tr>\n",
       "    <tr>\n",
       "      <td>3</td>\n",
       "      <td>1000_3</td>\n",
       "      <td>2018-09-21</td>\n",
       "      <td>14.0</td>\n",
       "      <td>1000</td>\n",
       "      <td>9</td>\n",
       "    </tr>\n",
       "    <tr>\n",
       "      <td>4</td>\n",
       "      <td>1000_4</td>\n",
       "      <td>2018-12-15</td>\n",
       "      <td>6.0</td>\n",
       "      <td>1000</td>\n",
       "      <td>12</td>\n",
       "    </tr>\n",
       "    <tr>\n",
       "      <td>5</td>\n",
       "      <td>1000_5</td>\n",
       "      <td>2018-11-02</td>\n",
       "      <td>0.0</td>\n",
       "      <td>1000</td>\n",
       "      <td>11</td>\n",
       "    </tr>\n",
       "    <tr>\n",
       "      <td>6</td>\n",
       "      <td>1000_6</td>\n",
       "      <td>2018-10-18</td>\n",
       "      <td>0.0</td>\n",
       "      <td>1000</td>\n",
       "      <td>10</td>\n",
       "    </tr>\n",
       "    <tr>\n",
       "      <td>7</td>\n",
       "      <td>1000_7</td>\n",
       "      <td>2018-08-22</td>\n",
       "      <td>19.0</td>\n",
       "      <td>1000</td>\n",
       "      <td>8</td>\n",
       "    </tr>\n",
       "    <tr>\n",
       "      <td>8</td>\n",
       "      <td>1000_8</td>\n",
       "      <td>2018-09-15</td>\n",
       "      <td>19.0</td>\n",
       "      <td>1000</td>\n",
       "      <td>9</td>\n",
       "    </tr>\n",
       "    <tr>\n",
       "      <td>9</td>\n",
       "      <td>1000_9</td>\n",
       "      <td>2018-08-15</td>\n",
       "      <td>0.0</td>\n",
       "      <td>1000</td>\n",
       "      <td>8</td>\n",
       "    </tr>\n",
       "    <tr>\n",
       "      <td>10</td>\n",
       "      <td>1000_10</td>\n",
       "      <td>2018-08-22</td>\n",
       "      <td>6.0</td>\n",
       "      <td>1000</td>\n",
       "      <td>8</td>\n",
       "    </tr>\n",
       "    <tr>\n",
       "      <td>11</td>\n",
       "      <td>1000_11</td>\n",
       "      <td>2018-05-28</td>\n",
       "      <td>19.0</td>\n",
       "      <td>1000</td>\n",
       "      <td>5</td>\n",
       "    </tr>\n",
       "    <tr>\n",
       "      <td>12</td>\n",
       "      <td>1000_12</td>\n",
       "      <td>2018-07-05</td>\n",
       "      <td>3.0</td>\n",
       "      <td>1000</td>\n",
       "      <td>7</td>\n",
       "    </tr>\n",
       "    <tr>\n",
       "      <td>13</td>\n",
       "      <td>1000_13</td>\n",
       "      <td>2018-09-29</td>\n",
       "      <td>8.0</td>\n",
       "      <td>1000</td>\n",
       "      <td>9</td>\n",
       "    </tr>\n",
       "    <tr>\n",
       "      <td>14</td>\n",
       "      <td>1000_14</td>\n",
       "      <td>2018-12-11</td>\n",
       "      <td>10.0</td>\n",
       "      <td>1000</td>\n",
       "      <td>12</td>\n",
       "    </tr>\n",
       "    <tr>\n",
       "      <td>15</td>\n",
       "      <td>1000_15</td>\n",
       "      <td>2018-07-27</td>\n",
       "      <td>10.0</td>\n",
       "      <td>1000</td>\n",
       "      <td>7</td>\n",
       "    </tr>\n",
       "    <tr>\n",
       "      <td>16</td>\n",
       "      <td>1000_16</td>\n",
       "      <td>2018-08-11</td>\n",
       "      <td>5.0</td>\n",
       "      <td>1000</td>\n",
       "      <td>8</td>\n",
       "    </tr>\n",
       "    <tr>\n",
       "      <td>17</td>\n",
       "      <td>1000_17</td>\n",
       "      <td>2018-08-02</td>\n",
       "      <td>13.0</td>\n",
       "      <td>1000</td>\n",
       "      <td>8</td>\n",
       "    </tr>\n",
       "    <tr>\n",
       "      <td>18</td>\n",
       "      <td>1000_18</td>\n",
       "      <td>2018-06-15</td>\n",
       "      <td>5.0</td>\n",
       "      <td>1000</td>\n",
       "      <td>6</td>\n",
       "    </tr>\n",
       "    <tr>\n",
       "      <td>19</td>\n",
       "      <td>1000_19</td>\n",
       "      <td>2018-11-02</td>\n",
       "      <td>16.0</td>\n",
       "      <td>1000</td>\n",
       "      <td>11</td>\n",
       "    </tr>\n",
       "  </tbody>\n",
       "</table>\n",
       "</div>"
      ],
      "text/plain": [
       "         id  call_date  duration  user_id  month\n",
       "0    1000_0 2018-07-25       0.0     1000      7\n",
       "1    1000_1 2018-08-17       0.0     1000      8\n",
       "2    1000_2 2018-06-11       3.0     1000      6\n",
       "3    1000_3 2018-09-21      14.0     1000      9\n",
       "4    1000_4 2018-12-15       6.0     1000     12\n",
       "5    1000_5 2018-11-02       0.0     1000     11\n",
       "6    1000_6 2018-10-18       0.0     1000     10\n",
       "7    1000_7 2018-08-22      19.0     1000      8\n",
       "8    1000_8 2018-09-15      19.0     1000      9\n",
       "9    1000_9 2018-08-15       0.0     1000      8\n",
       "10  1000_10 2018-08-22       6.0     1000      8\n",
       "11  1000_11 2018-05-28      19.0     1000      5\n",
       "12  1000_12 2018-07-05       3.0     1000      7\n",
       "13  1000_13 2018-09-29       8.0     1000      9\n",
       "14  1000_14 2018-12-11      10.0     1000     12\n",
       "15  1000_15 2018-07-27      10.0     1000      7\n",
       "16  1000_16 2018-08-11       5.0     1000      8\n",
       "17  1000_17 2018-08-02      13.0     1000      8\n",
       "18  1000_18 2018-06-15       5.0     1000      6\n",
       "19  1000_19 2018-11-02      16.0     1000     11"
      ]
     },
     "execution_count": 5,
     "metadata": {},
     "output_type": "execute_result"
    }
   ],
   "source": [
    "#получаю столбец месяц для дальнейшей группировки\n",
    "calls['month'] = calls['call_date'].dt.month\n",
    "#по условию каждый звонок округляется до минуты, поэтому округляю длительность всех звонков в большую сторону\n",
    "calls['duration'] = np.ceil(calls['duration'])\n",
    "\n",
    "calls.head(20)"
   ]
  },
  {
   "cell_type": "code",
   "execution_count": 6,
   "metadata": {},
   "outputs": [
    {
     "data": {
      "text/html": [
       "<div>\n",
       "<style scoped>\n",
       "    .dataframe tbody tr th:only-of-type {\n",
       "        vertical-align: middle;\n",
       "    }\n",
       "\n",
       "    .dataframe tbody tr th {\n",
       "        vertical-align: top;\n",
       "    }\n",
       "\n",
       "    .dataframe thead th {\n",
       "        text-align: right;\n",
       "    }\n",
       "</style>\n",
       "<table border=\"1\" class=\"dataframe\">\n",
       "  <thead>\n",
       "    <tr style=\"text-align: right;\">\n",
       "      <th></th>\n",
       "      <th>user_id</th>\n",
       "      <th>month</th>\n",
       "      <th>duration_sum</th>\n",
       "      <th>duration_count</th>\n",
       "    </tr>\n",
       "  </thead>\n",
       "  <tbody>\n",
       "    <tr>\n",
       "      <td>0</td>\n",
       "      <td>1000</td>\n",
       "      <td>5</td>\n",
       "      <td>159.0</td>\n",
       "      <td>22</td>\n",
       "    </tr>\n",
       "    <tr>\n",
       "      <td>1</td>\n",
       "      <td>1000</td>\n",
       "      <td>6</td>\n",
       "      <td>172.0</td>\n",
       "      <td>43</td>\n",
       "    </tr>\n",
       "    <tr>\n",
       "      <td>2</td>\n",
       "      <td>1000</td>\n",
       "      <td>7</td>\n",
       "      <td>340.0</td>\n",
       "      <td>47</td>\n",
       "    </tr>\n",
       "    <tr>\n",
       "      <td>3</td>\n",
       "      <td>1000</td>\n",
       "      <td>8</td>\n",
       "      <td>408.0</td>\n",
       "      <td>52</td>\n",
       "    </tr>\n",
       "    <tr>\n",
       "      <td>4</td>\n",
       "      <td>1000</td>\n",
       "      <td>9</td>\n",
       "      <td>466.0</td>\n",
       "      <td>58</td>\n",
       "    </tr>\n",
       "    <tr>\n",
       "      <td>...</td>\n",
       "      <td>...</td>\n",
       "      <td>...</td>\n",
       "      <td>...</td>\n",
       "      <td>...</td>\n",
       "    </tr>\n",
       "    <tr>\n",
       "      <td>3169</td>\n",
       "      <td>1498</td>\n",
       "      <td>10</td>\n",
       "      <td>247.0</td>\n",
       "      <td>41</td>\n",
       "    </tr>\n",
       "    <tr>\n",
       "      <td>3170</td>\n",
       "      <td>1499</td>\n",
       "      <td>9</td>\n",
       "      <td>70.0</td>\n",
       "      <td>9</td>\n",
       "    </tr>\n",
       "    <tr>\n",
       "      <td>3171</td>\n",
       "      <td>1499</td>\n",
       "      <td>10</td>\n",
       "      <td>449.0</td>\n",
       "      <td>68</td>\n",
       "    </tr>\n",
       "    <tr>\n",
       "      <td>3172</td>\n",
       "      <td>1499</td>\n",
       "      <td>11</td>\n",
       "      <td>612.0</td>\n",
       "      <td>74</td>\n",
       "    </tr>\n",
       "    <tr>\n",
       "      <td>3173</td>\n",
       "      <td>1499</td>\n",
       "      <td>12</td>\n",
       "      <td>492.0</td>\n",
       "      <td>69</td>\n",
       "    </tr>\n",
       "  </tbody>\n",
       "</table>\n",
       "<p>3174 rows × 4 columns</p>\n",
       "</div>"
      ],
      "text/plain": [
       "      user_id  month  duration_sum  duration_count\n",
       "0        1000      5         159.0              22\n",
       "1        1000      6         172.0              43\n",
       "2        1000      7         340.0              47\n",
       "3        1000      8         408.0              52\n",
       "4        1000      9         466.0              58\n",
       "...       ...    ...           ...             ...\n",
       "3169     1498     10         247.0              41\n",
       "3170     1499      9          70.0               9\n",
       "3171     1499     10         449.0              68\n",
       "3172     1499     11         612.0              74\n",
       "3173     1499     12         492.0              69\n",
       "\n",
       "[3174 rows x 4 columns]"
      ]
     },
     "execution_count": 6,
     "metadata": {},
     "output_type": "execute_result"
    }
   ],
   "source": [
    "#создаю сгруппированную таблицу со звонками: с суммой минут и количеством звонков по каждому пользователю за каждый месяц\n",
    "calls_grpd = calls.groupby(['user_id', 'month']).agg({'duration': ['sum', 'count']}).reset_index()\n",
    "#переименовываю столбцы \n",
    "calls_grpd.columns = ['user_id', 'month', 'duration_sum', 'duration_count']\n",
    "calls_grpd"
   ]
  },
  {
   "cell_type": "code",
   "execution_count": 7,
   "metadata": {},
   "outputs": [
    {
     "name": "stdout",
     "output_type": "stream",
     "text": [
      "<class 'pandas.core.frame.DataFrame'>\n",
      "RangeIndex: 149396 entries, 0 to 149395\n",
      "Data columns (total 5 columns):\n",
      "Unnamed: 0      149396 non-null int64\n",
      "id              149396 non-null object\n",
      "mb_used         149396 non-null float64\n",
      "session_date    149396 non-null object\n",
      "user_id         149396 non-null int64\n",
      "dtypes: float64(1), int64(2), object(2)\n",
      "memory usage: 5.7+ MB\n"
     ]
    },
    {
     "data": {
      "text/html": [
       "<div>\n",
       "<style scoped>\n",
       "    .dataframe tbody tr th:only-of-type {\n",
       "        vertical-align: middle;\n",
       "    }\n",
       "\n",
       "    .dataframe tbody tr th {\n",
       "        vertical-align: top;\n",
       "    }\n",
       "\n",
       "    .dataframe thead th {\n",
       "        text-align: right;\n",
       "    }\n",
       "</style>\n",
       "<table border=\"1\" class=\"dataframe\">\n",
       "  <thead>\n",
       "    <tr style=\"text-align: right;\">\n",
       "      <th></th>\n",
       "      <th>Unnamed: 0</th>\n",
       "      <th>id</th>\n",
       "      <th>mb_used</th>\n",
       "      <th>session_date</th>\n",
       "      <th>user_id</th>\n",
       "    </tr>\n",
       "  </thead>\n",
       "  <tbody>\n",
       "    <tr>\n",
       "      <td>0</td>\n",
       "      <td>0</td>\n",
       "      <td>1000_0</td>\n",
       "      <td>112.95</td>\n",
       "      <td>2018-11-25</td>\n",
       "      <td>1000</td>\n",
       "    </tr>\n",
       "    <tr>\n",
       "      <td>1</td>\n",
       "      <td>1</td>\n",
       "      <td>1000_1</td>\n",
       "      <td>1052.81</td>\n",
       "      <td>2018-09-07</td>\n",
       "      <td>1000</td>\n",
       "    </tr>\n",
       "    <tr>\n",
       "      <td>2</td>\n",
       "      <td>2</td>\n",
       "      <td>1000_2</td>\n",
       "      <td>1197.26</td>\n",
       "      <td>2018-06-25</td>\n",
       "      <td>1000</td>\n",
       "    </tr>\n",
       "    <tr>\n",
       "      <td>3</td>\n",
       "      <td>3</td>\n",
       "      <td>1000_3</td>\n",
       "      <td>550.27</td>\n",
       "      <td>2018-08-22</td>\n",
       "      <td>1000</td>\n",
       "    </tr>\n",
       "    <tr>\n",
       "      <td>4</td>\n",
       "      <td>4</td>\n",
       "      <td>1000_4</td>\n",
       "      <td>302.56</td>\n",
       "      <td>2018-09-24</td>\n",
       "      <td>1000</td>\n",
       "    </tr>\n",
       "    <tr>\n",
       "      <td>...</td>\n",
       "      <td>...</td>\n",
       "      <td>...</td>\n",
       "      <td>...</td>\n",
       "      <td>...</td>\n",
       "      <td>...</td>\n",
       "    </tr>\n",
       "    <tr>\n",
       "      <td>149391</td>\n",
       "      <td>149391</td>\n",
       "      <td>1499_152</td>\n",
       "      <td>318.90</td>\n",
       "      <td>2018-10-03</td>\n",
       "      <td>1499</td>\n",
       "    </tr>\n",
       "    <tr>\n",
       "      <td>149392</td>\n",
       "      <td>149392</td>\n",
       "      <td>1499_153</td>\n",
       "      <td>490.13</td>\n",
       "      <td>2018-12-14</td>\n",
       "      <td>1499</td>\n",
       "    </tr>\n",
       "    <tr>\n",
       "      <td>149393</td>\n",
       "      <td>149393</td>\n",
       "      <td>1499_154</td>\n",
       "      <td>0.00</td>\n",
       "      <td>2018-10-27</td>\n",
       "      <td>1499</td>\n",
       "    </tr>\n",
       "    <tr>\n",
       "      <td>149394</td>\n",
       "      <td>149394</td>\n",
       "      <td>1499_155</td>\n",
       "      <td>1246.32</td>\n",
       "      <td>2018-11-26</td>\n",
       "      <td>1499</td>\n",
       "    </tr>\n",
       "    <tr>\n",
       "      <td>149395</td>\n",
       "      <td>149395</td>\n",
       "      <td>1499_156</td>\n",
       "      <td>544.37</td>\n",
       "      <td>2018-10-26</td>\n",
       "      <td>1499</td>\n",
       "    </tr>\n",
       "  </tbody>\n",
       "</table>\n",
       "<p>149396 rows × 5 columns</p>\n",
       "</div>"
      ],
      "text/plain": [
       "        Unnamed: 0        id  mb_used session_date  user_id\n",
       "0                0    1000_0   112.95   2018-11-25     1000\n",
       "1                1    1000_1  1052.81   2018-09-07     1000\n",
       "2                2    1000_2  1197.26   2018-06-25     1000\n",
       "3                3    1000_3   550.27   2018-08-22     1000\n",
       "4                4    1000_4   302.56   2018-09-24     1000\n",
       "...            ...       ...      ...          ...      ...\n",
       "149391      149391  1499_152   318.90   2018-10-03     1499\n",
       "149392      149392  1499_153   490.13   2018-12-14     1499\n",
       "149393      149393  1499_154     0.00   2018-10-27     1499\n",
       "149394      149394  1499_155  1246.32   2018-11-26     1499\n",
       "149395      149395  1499_156   544.37   2018-10-26     1499\n",
       "\n",
       "[149396 rows x 5 columns]"
      ]
     },
     "execution_count": 7,
     "metadata": {},
     "output_type": "execute_result"
    }
   ],
   "source": [
    "internet.info()\n",
    "internet"
   ]
  },
  {
   "cell_type": "code",
   "execution_count": 8,
   "metadata": {},
   "outputs": [
    {
     "data": {
      "text/html": [
       "<div>\n",
       "<style scoped>\n",
       "    .dataframe tbody tr th:only-of-type {\n",
       "        vertical-align: middle;\n",
       "    }\n",
       "\n",
       "    .dataframe tbody tr th {\n",
       "        vertical-align: top;\n",
       "    }\n",
       "\n",
       "    .dataframe thead th {\n",
       "        text-align: right;\n",
       "    }\n",
       "</style>\n",
       "<table border=\"1\" class=\"dataframe\">\n",
       "  <thead>\n",
       "    <tr style=\"text-align: right;\">\n",
       "      <th></th>\n",
       "      <th>user_id</th>\n",
       "      <th>month</th>\n",
       "      <th>internet_used_count</th>\n",
       "      <th>gb_used_sum</th>\n",
       "    </tr>\n",
       "  </thead>\n",
       "  <tbody>\n",
       "    <tr>\n",
       "      <td>0</td>\n",
       "      <td>1000</td>\n",
       "      <td>5</td>\n",
       "      <td>5</td>\n",
       "      <td>3.0</td>\n",
       "    </tr>\n",
       "    <tr>\n",
       "      <td>1</td>\n",
       "      <td>1000</td>\n",
       "      <td>6</td>\n",
       "      <td>49</td>\n",
       "      <td>23.0</td>\n",
       "    </tr>\n",
       "    <tr>\n",
       "      <td>2</td>\n",
       "      <td>1000</td>\n",
       "      <td>7</td>\n",
       "      <td>29</td>\n",
       "      <td>14.0</td>\n",
       "    </tr>\n",
       "    <tr>\n",
       "      <td>3</td>\n",
       "      <td>1000</td>\n",
       "      <td>8</td>\n",
       "      <td>29</td>\n",
       "      <td>14.0</td>\n",
       "    </tr>\n",
       "    <tr>\n",
       "      <td>4</td>\n",
       "      <td>1000</td>\n",
       "      <td>9</td>\n",
       "      <td>27</td>\n",
       "      <td>15.0</td>\n",
       "    </tr>\n",
       "    <tr>\n",
       "      <td>...</td>\n",
       "      <td>...</td>\n",
       "      <td>...</td>\n",
       "      <td>...</td>\n",
       "      <td>...</td>\n",
       "    </tr>\n",
       "    <tr>\n",
       "      <td>3198</td>\n",
       "      <td>1498</td>\n",
       "      <td>10</td>\n",
       "      <td>59</td>\n",
       "      <td>21.0</td>\n",
       "    </tr>\n",
       "    <tr>\n",
       "      <td>3199</td>\n",
       "      <td>1499</td>\n",
       "      <td>9</td>\n",
       "      <td>5</td>\n",
       "      <td>2.0</td>\n",
       "    </tr>\n",
       "    <tr>\n",
       "      <td>3200</td>\n",
       "      <td>1499</td>\n",
       "      <td>10</td>\n",
       "      <td>58</td>\n",
       "      <td>18.0</td>\n",
       "    </tr>\n",
       "    <tr>\n",
       "      <td>3201</td>\n",
       "      <td>1499</td>\n",
       "      <td>11</td>\n",
       "      <td>49</td>\n",
       "      <td>18.0</td>\n",
       "    </tr>\n",
       "    <tr>\n",
       "      <td>3202</td>\n",
       "      <td>1499</td>\n",
       "      <td>12</td>\n",
       "      <td>45</td>\n",
       "      <td>13.0</td>\n",
       "    </tr>\n",
       "  </tbody>\n",
       "</table>\n",
       "<p>3203 rows × 4 columns</p>\n",
       "</div>"
      ],
      "text/plain": [
       "      user_id  month  internet_used_count  gb_used_sum\n",
       "0        1000      5                    5          3.0\n",
       "1        1000      6                   49         23.0\n",
       "2        1000      7                   29         14.0\n",
       "3        1000      8                   29         14.0\n",
       "4        1000      9                   27         15.0\n",
       "...       ...    ...                  ...          ...\n",
       "3198     1498     10                   59         21.0\n",
       "3199     1499      9                    5          2.0\n",
       "3200     1499     10                   58         18.0\n",
       "3201     1499     11                   49         18.0\n",
       "3202     1499     12                   45         13.0\n",
       "\n",
       "[3203 rows x 4 columns]"
      ]
     },
     "execution_count": 8,
     "metadata": {},
     "output_type": "execute_result"
    }
   ],
   "source": [
    "#аналогично таблице со звонками делаю все по интернет-трафику: меняю тип столбца даты\n",
    "internet['session_date'] = pd.to_datetime(internet['session_date'], format = '%Y-%m-%d')\n",
    "#выделяю столбец месяц\n",
    "internet['month'] = internet['session_date'].dt.month\n",
    "#группирую новую таблицу по каждому юзеру за месяц с количеством трафика и количеством сессий\n",
    "internet_grpd = internet.groupby(['user_id', 'month']).agg({'mb_used': ['sum', 'count']}).reset_index()\n",
    "internet_grpd.columns = ['user_id', 'month', 'mb_used_sum', 'internet_used_count']\n",
    "#в сгруппированной таблице округляю мегабайты до гигабайт за месяц в большую сторону, в соотвутствии с условием \n",
    "internet_grpd['gb_used_sum'] = np.ceil(internet_grpd['mb_used_sum'] / 1024)\n",
    "internet_grpd.drop('mb_used_sum', axis=1, inplace=True)\n",
    "internet_grpd\n"
   ]
  },
  {
   "cell_type": "code",
   "execution_count": 9,
   "metadata": {},
   "outputs": [
    {
     "name": "stdout",
     "output_type": "stream",
     "text": [
      "<class 'pandas.core.frame.DataFrame'>\n",
      "RangeIndex: 123036 entries, 0 to 123035\n",
      "Data columns (total 3 columns):\n",
      "id              123036 non-null object\n",
      "message_date    123036 non-null object\n",
      "user_id         123036 non-null int64\n",
      "dtypes: int64(1), object(2)\n",
      "memory usage: 2.8+ MB\n"
     ]
    },
    {
     "data": {
      "text/html": [
       "<div>\n",
       "<style scoped>\n",
       "    .dataframe tbody tr th:only-of-type {\n",
       "        vertical-align: middle;\n",
       "    }\n",
       "\n",
       "    .dataframe tbody tr th {\n",
       "        vertical-align: top;\n",
       "    }\n",
       "\n",
       "    .dataframe thead th {\n",
       "        text-align: right;\n",
       "    }\n",
       "</style>\n",
       "<table border=\"1\" class=\"dataframe\">\n",
       "  <thead>\n",
       "    <tr style=\"text-align: right;\">\n",
       "      <th></th>\n",
       "      <th>id</th>\n",
       "      <th>message_date</th>\n",
       "      <th>user_id</th>\n",
       "    </tr>\n",
       "  </thead>\n",
       "  <tbody>\n",
       "    <tr>\n",
       "      <td>0</td>\n",
       "      <td>1000_0</td>\n",
       "      <td>2018-06-27</td>\n",
       "      <td>1000</td>\n",
       "    </tr>\n",
       "    <tr>\n",
       "      <td>1</td>\n",
       "      <td>1000_1</td>\n",
       "      <td>2018-10-08</td>\n",
       "      <td>1000</td>\n",
       "    </tr>\n",
       "    <tr>\n",
       "      <td>2</td>\n",
       "      <td>1000_2</td>\n",
       "      <td>2018-08-04</td>\n",
       "      <td>1000</td>\n",
       "    </tr>\n",
       "    <tr>\n",
       "      <td>3</td>\n",
       "      <td>1000_3</td>\n",
       "      <td>2018-06-16</td>\n",
       "      <td>1000</td>\n",
       "    </tr>\n",
       "    <tr>\n",
       "      <td>4</td>\n",
       "      <td>1000_4</td>\n",
       "      <td>2018-12-05</td>\n",
       "      <td>1000</td>\n",
       "    </tr>\n",
       "    <tr>\n",
       "      <td>...</td>\n",
       "      <td>...</td>\n",
       "      <td>...</td>\n",
       "      <td>...</td>\n",
       "    </tr>\n",
       "    <tr>\n",
       "      <td>123031</td>\n",
       "      <td>1499_179</td>\n",
       "      <td>2018-12-12</td>\n",
       "      <td>1499</td>\n",
       "    </tr>\n",
       "    <tr>\n",
       "      <td>123032</td>\n",
       "      <td>1499_180</td>\n",
       "      <td>2018-09-28</td>\n",
       "      <td>1499</td>\n",
       "    </tr>\n",
       "    <tr>\n",
       "      <td>123033</td>\n",
       "      <td>1499_181</td>\n",
       "      <td>2018-09-27</td>\n",
       "      <td>1499</td>\n",
       "    </tr>\n",
       "    <tr>\n",
       "      <td>123034</td>\n",
       "      <td>1499_182</td>\n",
       "      <td>2018-11-15</td>\n",
       "      <td>1499</td>\n",
       "    </tr>\n",
       "    <tr>\n",
       "      <td>123035</td>\n",
       "      <td>1499_183</td>\n",
       "      <td>2018-11-16</td>\n",
       "      <td>1499</td>\n",
       "    </tr>\n",
       "  </tbody>\n",
       "</table>\n",
       "<p>123036 rows × 3 columns</p>\n",
       "</div>"
      ],
      "text/plain": [
       "              id message_date  user_id\n",
       "0         1000_0   2018-06-27     1000\n",
       "1         1000_1   2018-10-08     1000\n",
       "2         1000_2   2018-08-04     1000\n",
       "3         1000_3   2018-06-16     1000\n",
       "4         1000_4   2018-12-05     1000\n",
       "...          ...          ...      ...\n",
       "123031  1499_179   2018-12-12     1499\n",
       "123032  1499_180   2018-09-28     1499\n",
       "123033  1499_181   2018-09-27     1499\n",
       "123034  1499_182   2018-11-15     1499\n",
       "123035  1499_183   2018-11-16     1499\n",
       "\n",
       "[123036 rows x 3 columns]"
      ]
     },
     "execution_count": 9,
     "metadata": {},
     "output_type": "execute_result"
    }
   ],
   "source": [
    "messages.info()\n",
    "messages"
   ]
  },
  {
   "cell_type": "code",
   "execution_count": 10,
   "metadata": {},
   "outputs": [
    {
     "data": {
      "text/html": [
       "<div>\n",
       "<style scoped>\n",
       "    .dataframe tbody tr th:only-of-type {\n",
       "        vertical-align: middle;\n",
       "    }\n",
       "\n",
       "    .dataframe tbody tr th {\n",
       "        vertical-align: top;\n",
       "    }\n",
       "\n",
       "    .dataframe thead th {\n",
       "        text-align: right;\n",
       "    }\n",
       "</style>\n",
       "<table border=\"1\" class=\"dataframe\">\n",
       "  <thead>\n",
       "    <tr style=\"text-align: right;\">\n",
       "      <th></th>\n",
       "      <th>user_id</th>\n",
       "      <th>month</th>\n",
       "      <th>messages_count</th>\n",
       "    </tr>\n",
       "  </thead>\n",
       "  <tbody>\n",
       "    <tr>\n",
       "      <td>0</td>\n",
       "      <td>1000</td>\n",
       "      <td>5</td>\n",
       "      <td>22</td>\n",
       "    </tr>\n",
       "    <tr>\n",
       "      <td>1</td>\n",
       "      <td>1000</td>\n",
       "      <td>6</td>\n",
       "      <td>60</td>\n",
       "    </tr>\n",
       "    <tr>\n",
       "      <td>2</td>\n",
       "      <td>1000</td>\n",
       "      <td>7</td>\n",
       "      <td>75</td>\n",
       "    </tr>\n",
       "    <tr>\n",
       "      <td>3</td>\n",
       "      <td>1000</td>\n",
       "      <td>8</td>\n",
       "      <td>81</td>\n",
       "    </tr>\n",
       "    <tr>\n",
       "      <td>4</td>\n",
       "      <td>1000</td>\n",
       "      <td>9</td>\n",
       "      <td>57</td>\n",
       "    </tr>\n",
       "    <tr>\n",
       "      <td>...</td>\n",
       "      <td>...</td>\n",
       "      <td>...</td>\n",
       "      <td>...</td>\n",
       "    </tr>\n",
       "    <tr>\n",
       "      <td>2712</td>\n",
       "      <td>1498</td>\n",
       "      <td>10</td>\n",
       "      <td>42</td>\n",
       "    </tr>\n",
       "    <tr>\n",
       "      <td>2713</td>\n",
       "      <td>1499</td>\n",
       "      <td>9</td>\n",
       "      <td>11</td>\n",
       "    </tr>\n",
       "    <tr>\n",
       "      <td>2714</td>\n",
       "      <td>1499</td>\n",
       "      <td>10</td>\n",
       "      <td>48</td>\n",
       "    </tr>\n",
       "    <tr>\n",
       "      <td>2715</td>\n",
       "      <td>1499</td>\n",
       "      <td>11</td>\n",
       "      <td>59</td>\n",
       "    </tr>\n",
       "    <tr>\n",
       "      <td>2716</td>\n",
       "      <td>1499</td>\n",
       "      <td>12</td>\n",
       "      <td>66</td>\n",
       "    </tr>\n",
       "  </tbody>\n",
       "</table>\n",
       "<p>2717 rows × 3 columns</p>\n",
       "</div>"
      ],
      "text/plain": [
       "      user_id  month  messages_count\n",
       "0        1000      5              22\n",
       "1        1000      6              60\n",
       "2        1000      7              75\n",
       "3        1000      8              81\n",
       "4        1000      9              57\n",
       "...       ...    ...             ...\n",
       "2712     1498     10              42\n",
       "2713     1499      9              11\n",
       "2714     1499     10              48\n",
       "2715     1499     11              59\n",
       "2716     1499     12              66\n",
       "\n",
       "[2717 rows x 3 columns]"
      ]
     },
     "execution_count": 10,
     "metadata": {},
     "output_type": "execute_result"
    }
   ],
   "source": [
    "#в таблице сообщения меняю тип столбца дата и выделяю месяц отправки сообщения\n",
    "messages['message_date'] = pd.to_datetime(messages['message_date'], format = '%Y-%m-%d')\n",
    "messages['month'] = messages['message_date'].dt.month\n",
    "#создаю сгруппированную таблицу по каждому юзеру по количеству сообщений в месяц \n",
    "messages_grpd = messages.groupby(['user_id', 'month']).agg({'message_date': ['count']}).reset_index()\n",
    "messages_grpd.columns = ['user_id', 'month', 'messages_count']\n",
    "messages_grpd\n"
   ]
  },
  {
   "cell_type": "code",
   "execution_count": 11,
   "metadata": {},
   "outputs": [
    {
     "name": "stdout",
     "output_type": "stream",
     "text": [
      "<class 'pandas.core.frame.DataFrame'>\n",
      "RangeIndex: 2 entries, 0 to 1\n",
      "Data columns (total 8 columns):\n",
      "messages_included        2 non-null int64\n",
      "mb_per_month_included    2 non-null int64\n",
      "minutes_included         2 non-null int64\n",
      "rub_monthly_fee          2 non-null int64\n",
      "rub_per_gb               2 non-null int64\n",
      "rub_per_message          2 non-null int64\n",
      "rub_per_minute           2 non-null int64\n",
      "tariff_name              2 non-null object\n",
      "dtypes: int64(7), object(1)\n",
      "memory usage: 256.0+ bytes\n"
     ]
    },
    {
     "data": {
      "text/html": [
       "<div>\n",
       "<style scoped>\n",
       "    .dataframe tbody tr th:only-of-type {\n",
       "        vertical-align: middle;\n",
       "    }\n",
       "\n",
       "    .dataframe tbody tr th {\n",
       "        vertical-align: top;\n",
       "    }\n",
       "\n",
       "    .dataframe thead th {\n",
       "        text-align: right;\n",
       "    }\n",
       "</style>\n",
       "<table border=\"1\" class=\"dataframe\">\n",
       "  <thead>\n",
       "    <tr style=\"text-align: right;\">\n",
       "      <th></th>\n",
       "      <th>messages_included</th>\n",
       "      <th>mb_per_month_included</th>\n",
       "      <th>minutes_included</th>\n",
       "      <th>rub_monthly_fee</th>\n",
       "      <th>rub_per_gb</th>\n",
       "      <th>rub_per_message</th>\n",
       "      <th>rub_per_minute</th>\n",
       "      <th>tariff_name</th>\n",
       "    </tr>\n",
       "  </thead>\n",
       "  <tbody>\n",
       "    <tr>\n",
       "      <td>0</td>\n",
       "      <td>50</td>\n",
       "      <td>15360</td>\n",
       "      <td>500</td>\n",
       "      <td>550</td>\n",
       "      <td>200</td>\n",
       "      <td>3</td>\n",
       "      <td>3</td>\n",
       "      <td>smart</td>\n",
       "    </tr>\n",
       "    <tr>\n",
       "      <td>1</td>\n",
       "      <td>1000</td>\n",
       "      <td>30720</td>\n",
       "      <td>3000</td>\n",
       "      <td>1950</td>\n",
       "      <td>150</td>\n",
       "      <td>1</td>\n",
       "      <td>1</td>\n",
       "      <td>ultra</td>\n",
       "    </tr>\n",
       "  </tbody>\n",
       "</table>\n",
       "</div>"
      ],
      "text/plain": [
       "   messages_included  mb_per_month_included  minutes_included  \\\n",
       "0                 50                  15360               500   \n",
       "1               1000                  30720              3000   \n",
       "\n",
       "   rub_monthly_fee  rub_per_gb  rub_per_message  rub_per_minute tariff_name  \n",
       "0              550         200                3               3       smart  \n",
       "1             1950         150                1               1       ultra  "
      ]
     },
     "execution_count": 11,
     "metadata": {},
     "output_type": "execute_result"
    }
   ],
   "source": [
    "tariffs.info()\n",
    "tariffs"
   ]
  },
  {
   "cell_type": "code",
   "execution_count": 12,
   "metadata": {},
   "outputs": [
    {
     "name": "stdout",
     "output_type": "stream",
     "text": [
      "<class 'pandas.core.frame.DataFrame'>\n",
      "RangeIndex: 500 entries, 0 to 499\n",
      "Data columns (total 8 columns):\n",
      "user_id       500 non-null int64\n",
      "age           500 non-null int64\n",
      "churn_date    38 non-null object\n",
      "city          500 non-null object\n",
      "first_name    500 non-null object\n",
      "last_name     500 non-null object\n",
      "reg_date      500 non-null object\n",
      "tariff        500 non-null object\n",
      "dtypes: int64(2), object(6)\n",
      "memory usage: 31.4+ KB\n"
     ]
    },
    {
     "data": {
      "text/html": [
       "<div>\n",
       "<style scoped>\n",
       "    .dataframe tbody tr th:only-of-type {\n",
       "        vertical-align: middle;\n",
       "    }\n",
       "\n",
       "    .dataframe tbody tr th {\n",
       "        vertical-align: top;\n",
       "    }\n",
       "\n",
       "    .dataframe thead th {\n",
       "        text-align: right;\n",
       "    }\n",
       "</style>\n",
       "<table border=\"1\" class=\"dataframe\">\n",
       "  <thead>\n",
       "    <tr style=\"text-align: right;\">\n",
       "      <th></th>\n",
       "      <th>user_id</th>\n",
       "      <th>age</th>\n",
       "      <th>churn_date</th>\n",
       "      <th>city</th>\n",
       "      <th>first_name</th>\n",
       "      <th>last_name</th>\n",
       "      <th>reg_date</th>\n",
       "      <th>tariff</th>\n",
       "    </tr>\n",
       "  </thead>\n",
       "  <tbody>\n",
       "    <tr>\n",
       "      <td>0</td>\n",
       "      <td>1000</td>\n",
       "      <td>52</td>\n",
       "      <td>NaN</td>\n",
       "      <td>Краснодар</td>\n",
       "      <td>Рафаил</td>\n",
       "      <td>Верещагин</td>\n",
       "      <td>2018-05-25</td>\n",
       "      <td>ultra</td>\n",
       "    </tr>\n",
       "    <tr>\n",
       "      <td>1</td>\n",
       "      <td>1001</td>\n",
       "      <td>41</td>\n",
       "      <td>NaN</td>\n",
       "      <td>Москва</td>\n",
       "      <td>Иван</td>\n",
       "      <td>Ежов</td>\n",
       "      <td>2018-11-01</td>\n",
       "      <td>smart</td>\n",
       "    </tr>\n",
       "    <tr>\n",
       "      <td>2</td>\n",
       "      <td>1002</td>\n",
       "      <td>59</td>\n",
       "      <td>NaN</td>\n",
       "      <td>Стерлитамак</td>\n",
       "      <td>Евгений</td>\n",
       "      <td>Абрамович</td>\n",
       "      <td>2018-06-17</td>\n",
       "      <td>smart</td>\n",
       "    </tr>\n",
       "    <tr>\n",
       "      <td>3</td>\n",
       "      <td>1003</td>\n",
       "      <td>23</td>\n",
       "      <td>NaN</td>\n",
       "      <td>Москва</td>\n",
       "      <td>Белла</td>\n",
       "      <td>Белякова</td>\n",
       "      <td>2018-08-17</td>\n",
       "      <td>ultra</td>\n",
       "    </tr>\n",
       "    <tr>\n",
       "      <td>4</td>\n",
       "      <td>1004</td>\n",
       "      <td>68</td>\n",
       "      <td>NaN</td>\n",
       "      <td>Новокузнецк</td>\n",
       "      <td>Татьяна</td>\n",
       "      <td>Авдеенко</td>\n",
       "      <td>2018-05-14</td>\n",
       "      <td>ultra</td>\n",
       "    </tr>\n",
       "    <tr>\n",
       "      <td>...</td>\n",
       "      <td>...</td>\n",
       "      <td>...</td>\n",
       "      <td>...</td>\n",
       "      <td>...</td>\n",
       "      <td>...</td>\n",
       "      <td>...</td>\n",
       "      <td>...</td>\n",
       "      <td>...</td>\n",
       "    </tr>\n",
       "    <tr>\n",
       "      <td>495</td>\n",
       "      <td>1495</td>\n",
       "      <td>65</td>\n",
       "      <td>NaN</td>\n",
       "      <td>Иркутск</td>\n",
       "      <td>Авксентий</td>\n",
       "      <td>Фокин</td>\n",
       "      <td>2018-08-28</td>\n",
       "      <td>ultra</td>\n",
       "    </tr>\n",
       "    <tr>\n",
       "      <td>496</td>\n",
       "      <td>1496</td>\n",
       "      <td>36</td>\n",
       "      <td>NaN</td>\n",
       "      <td>Вологда</td>\n",
       "      <td>Трифон</td>\n",
       "      <td>Блохин</td>\n",
       "      <td>2018-01-27</td>\n",
       "      <td>smart</td>\n",
       "    </tr>\n",
       "    <tr>\n",
       "      <td>497</td>\n",
       "      <td>1497</td>\n",
       "      <td>32</td>\n",
       "      <td>NaN</td>\n",
       "      <td>Челябинск</td>\n",
       "      <td>Каролина</td>\n",
       "      <td>Агеева</td>\n",
       "      <td>2018-10-09</td>\n",
       "      <td>smart</td>\n",
       "    </tr>\n",
       "    <tr>\n",
       "      <td>498</td>\n",
       "      <td>1498</td>\n",
       "      <td>68</td>\n",
       "      <td>2018-10-25</td>\n",
       "      <td>Владикавказ</td>\n",
       "      <td>Всеволод</td>\n",
       "      <td>Акимчин</td>\n",
       "      <td>2018-07-19</td>\n",
       "      <td>smart</td>\n",
       "    </tr>\n",
       "    <tr>\n",
       "      <td>499</td>\n",
       "      <td>1499</td>\n",
       "      <td>35</td>\n",
       "      <td>NaN</td>\n",
       "      <td>Пермь</td>\n",
       "      <td>Гектор</td>\n",
       "      <td>Корнилов</td>\n",
       "      <td>2018-09-27</td>\n",
       "      <td>smart</td>\n",
       "    </tr>\n",
       "  </tbody>\n",
       "</table>\n",
       "<p>500 rows × 8 columns</p>\n",
       "</div>"
      ],
      "text/plain": [
       "     user_id  age  churn_date         city first_name  last_name    reg_date  \\\n",
       "0       1000   52         NaN    Краснодар     Рафаил  Верещагин  2018-05-25   \n",
       "1       1001   41         NaN       Москва       Иван       Ежов  2018-11-01   \n",
       "2       1002   59         NaN  Стерлитамак    Евгений  Абрамович  2018-06-17   \n",
       "3       1003   23         NaN       Москва      Белла   Белякова  2018-08-17   \n",
       "4       1004   68         NaN  Новокузнецк    Татьяна   Авдеенко  2018-05-14   \n",
       "..       ...  ...         ...          ...        ...        ...         ...   \n",
       "495     1495   65         NaN      Иркутск  Авксентий      Фокин  2018-08-28   \n",
       "496     1496   36         NaN      Вологда     Трифон     Блохин  2018-01-27   \n",
       "497     1497   32         NaN    Челябинск   Каролина     Агеева  2018-10-09   \n",
       "498     1498   68  2018-10-25  Владикавказ   Всеволод    Акимчин  2018-07-19   \n",
       "499     1499   35         NaN        Пермь     Гектор   Корнилов  2018-09-27   \n",
       "\n",
       "    tariff  \n",
       "0    ultra  \n",
       "1    smart  \n",
       "2    smart  \n",
       "3    ultra  \n",
       "4    ultra  \n",
       "..     ...  \n",
       "495  ultra  \n",
       "496  smart  \n",
       "497  smart  \n",
       "498  smart  \n",
       "499  smart  \n",
       "\n",
       "[500 rows x 8 columns]"
      ]
     },
     "execution_count": 12,
     "metadata": {},
     "output_type": "execute_result"
    }
   ],
   "source": [
    "users.info()\n",
    "users"
   ]
  },
  {
   "cell_type": "code",
   "execution_count": 13,
   "metadata": {},
   "outputs": [
    {
     "data": {
      "text/plain": [
       "0"
      ]
     },
     "execution_count": 13,
     "metadata": {},
     "output_type": "execute_result"
    }
   ],
   "source": [
    "#в столбце churn_date очень много пропущенных, предполагаю, что это означает, что пользователи все еще пользуются своим тарифом\n",
    "#предварительно заменила на 2099 год как маркер \n",
    "users['churn_date'] = users['churn_date'].fillna('2099-01-01')\n",
    "users['churn_date'] = pd.to_datetime(users['churn_date'], format = '%Y-%m-%d')\n",
    "#проверяю таблицу на дубликаты\n",
    "users.duplicated().sum()"
   ]
  },
  {
   "cell_type": "code",
   "execution_count": 14,
   "metadata": {},
   "outputs": [
    {
     "name": "stdout",
     "output_type": "stream",
     "text": [
      "<class 'pandas.core.frame.DataFrame'>\n",
      "Int64Index: 3214 entries, 0 to 3213\n",
      "Data columns (total 9 columns):\n",
      "user_id                3214 non-null int64\n",
      "month                  3214 non-null int64\n",
      "duration_sum           3214 non-null float64\n",
      "duration_count         3214 non-null float64\n",
      "messages_count         3214 non-null float64\n",
      "internet_used_count    3214 non-null float64\n",
      "gb_used_sum            3214 non-null float64\n",
      "tariff                 3214 non-null object\n",
      "city                   3214 non-null object\n",
      "dtypes: float64(5), int64(2), object(2)\n",
      "memory usage: 251.1+ KB\n"
     ]
    },
    {
     "data": {
      "text/html": [
       "<div>\n",
       "<style scoped>\n",
       "    .dataframe tbody tr th:only-of-type {\n",
       "        vertical-align: middle;\n",
       "    }\n",
       "\n",
       "    .dataframe tbody tr th {\n",
       "        vertical-align: top;\n",
       "    }\n",
       "\n",
       "    .dataframe thead th {\n",
       "        text-align: right;\n",
       "    }\n",
       "</style>\n",
       "<table border=\"1\" class=\"dataframe\">\n",
       "  <thead>\n",
       "    <tr style=\"text-align: right;\">\n",
       "      <th></th>\n",
       "      <th>user_id</th>\n",
       "      <th>month</th>\n",
       "      <th>duration_sum</th>\n",
       "      <th>duration_count</th>\n",
       "      <th>messages_count</th>\n",
       "      <th>internet_used_count</th>\n",
       "      <th>gb_used_sum</th>\n",
       "      <th>tariff</th>\n",
       "      <th>city</th>\n",
       "    </tr>\n",
       "  </thead>\n",
       "  <tbody>\n",
       "    <tr>\n",
       "      <td>0</td>\n",
       "      <td>1000</td>\n",
       "      <td>5</td>\n",
       "      <td>159.0</td>\n",
       "      <td>22.0</td>\n",
       "      <td>22.0</td>\n",
       "      <td>5.0</td>\n",
       "      <td>3.0</td>\n",
       "      <td>ultra</td>\n",
       "      <td>Краснодар</td>\n",
       "    </tr>\n",
       "    <tr>\n",
       "      <td>1</td>\n",
       "      <td>1000</td>\n",
       "      <td>6</td>\n",
       "      <td>172.0</td>\n",
       "      <td>43.0</td>\n",
       "      <td>60.0</td>\n",
       "      <td>49.0</td>\n",
       "      <td>23.0</td>\n",
       "      <td>ultra</td>\n",
       "      <td>Краснодар</td>\n",
       "    </tr>\n",
       "    <tr>\n",
       "      <td>2</td>\n",
       "      <td>1000</td>\n",
       "      <td>7</td>\n",
       "      <td>340.0</td>\n",
       "      <td>47.0</td>\n",
       "      <td>75.0</td>\n",
       "      <td>29.0</td>\n",
       "      <td>14.0</td>\n",
       "      <td>ultra</td>\n",
       "      <td>Краснодар</td>\n",
       "    </tr>\n",
       "    <tr>\n",
       "      <td>3</td>\n",
       "      <td>1000</td>\n",
       "      <td>8</td>\n",
       "      <td>408.0</td>\n",
       "      <td>52.0</td>\n",
       "      <td>81.0</td>\n",
       "      <td>29.0</td>\n",
       "      <td>14.0</td>\n",
       "      <td>ultra</td>\n",
       "      <td>Краснодар</td>\n",
       "    </tr>\n",
       "    <tr>\n",
       "      <td>4</td>\n",
       "      <td>1000</td>\n",
       "      <td>9</td>\n",
       "      <td>466.0</td>\n",
       "      <td>58.0</td>\n",
       "      <td>57.0</td>\n",
       "      <td>27.0</td>\n",
       "      <td>15.0</td>\n",
       "      <td>ultra</td>\n",
       "      <td>Краснодар</td>\n",
       "    </tr>\n",
       "    <tr>\n",
       "      <td>...</td>\n",
       "      <td>...</td>\n",
       "      <td>...</td>\n",
       "      <td>...</td>\n",
       "      <td>...</td>\n",
       "      <td>...</td>\n",
       "      <td>...</td>\n",
       "      <td>...</td>\n",
       "      <td>...</td>\n",
       "      <td>...</td>\n",
       "    </tr>\n",
       "    <tr>\n",
       "      <td>3209</td>\n",
       "      <td>1489</td>\n",
       "      <td>9</td>\n",
       "      <td>0.0</td>\n",
       "      <td>0.0</td>\n",
       "      <td>32.0</td>\n",
       "      <td>63.0</td>\n",
       "      <td>17.0</td>\n",
       "      <td>smart</td>\n",
       "      <td>Санкт-Петербург</td>\n",
       "    </tr>\n",
       "    <tr>\n",
       "      <td>3210</td>\n",
       "      <td>1489</td>\n",
       "      <td>10</td>\n",
       "      <td>0.0</td>\n",
       "      <td>0.0</td>\n",
       "      <td>21.0</td>\n",
       "      <td>63.0</td>\n",
       "      <td>20.0</td>\n",
       "      <td>smart</td>\n",
       "      <td>Санкт-Петербург</td>\n",
       "    </tr>\n",
       "    <tr>\n",
       "      <td>3211</td>\n",
       "      <td>1489</td>\n",
       "      <td>11</td>\n",
       "      <td>0.0</td>\n",
       "      <td>0.0</td>\n",
       "      <td>20.0</td>\n",
       "      <td>55.0</td>\n",
       "      <td>18.0</td>\n",
       "      <td>smart</td>\n",
       "      <td>Санкт-Петербург</td>\n",
       "    </tr>\n",
       "    <tr>\n",
       "      <td>3212</td>\n",
       "      <td>1489</td>\n",
       "      <td>12</td>\n",
       "      <td>0.0</td>\n",
       "      <td>0.0</td>\n",
       "      <td>35.0</td>\n",
       "      <td>51.0</td>\n",
       "      <td>17.0</td>\n",
       "      <td>smart</td>\n",
       "      <td>Санкт-Петербург</td>\n",
       "    </tr>\n",
       "    <tr>\n",
       "      <td>3213</td>\n",
       "      <td>1476</td>\n",
       "      <td>4</td>\n",
       "      <td>0.0</td>\n",
       "      <td>0.0</td>\n",
       "      <td>0.0</td>\n",
       "      <td>1.0</td>\n",
       "      <td>1.0</td>\n",
       "      <td>ultra</td>\n",
       "      <td>Москва</td>\n",
       "    </tr>\n",
       "  </tbody>\n",
       "</table>\n",
       "<p>3214 rows × 9 columns</p>\n",
       "</div>"
      ],
      "text/plain": [
       "      user_id  month  duration_sum  duration_count  messages_count  \\\n",
       "0        1000      5         159.0            22.0            22.0   \n",
       "1        1000      6         172.0            43.0            60.0   \n",
       "2        1000      7         340.0            47.0            75.0   \n",
       "3        1000      8         408.0            52.0            81.0   \n",
       "4        1000      9         466.0            58.0            57.0   \n",
       "...       ...    ...           ...             ...             ...   \n",
       "3209     1489      9           0.0             0.0            32.0   \n",
       "3210     1489     10           0.0             0.0            21.0   \n",
       "3211     1489     11           0.0             0.0            20.0   \n",
       "3212     1489     12           0.0             0.0            35.0   \n",
       "3213     1476      4           0.0             0.0             0.0   \n",
       "\n",
       "      internet_used_count  gb_used_sum tariff             city  \n",
       "0                     5.0          3.0  ultra        Краснодар  \n",
       "1                    49.0         23.0  ultra        Краснодар  \n",
       "2                    29.0         14.0  ultra        Краснодар  \n",
       "3                    29.0         14.0  ultra        Краснодар  \n",
       "4                    27.0         15.0  ultra        Краснодар  \n",
       "...                   ...          ...    ...              ...  \n",
       "3209                 63.0         17.0  smart  Санкт-Петербург  \n",
       "3210                 63.0         20.0  smart  Санкт-Петербург  \n",
       "3211                 55.0         18.0  smart  Санкт-Петербург  \n",
       "3212                 51.0         17.0  smart  Санкт-Петербург  \n",
       "3213                  1.0          1.0  ultra           Москва  \n",
       "\n",
       "[3214 rows x 9 columns]"
      ]
     },
     "execution_count": 14,
     "metadata": {},
     "output_type": "execute_result"
    }
   ],
   "source": [
    "#объединяю необходимые мне для анализа данные в одну таблицу\n",
    "df = calls_grpd.merge(messages_grpd, how = 'outer', on = ['user_id', 'month']).merge(internet_grpd, how = 'outer', on = ['user_id', 'month']).merge(users[['user_id', 'tariff', 'city']], how = 'left', on = ['user_id'])\n",
    "df.isna().sum()\n",
    "df = df.fillna(0)\n",
    "\n",
    "df.isna().sum()\n",
    "df.info()\n",
    "df"
   ]
  },
  {
   "cell_type": "code",
   "execution_count": 15,
   "metadata": {},
   "outputs": [
    {
     "data": {
      "text/html": [
       "<div>\n",
       "<style scoped>\n",
       "    .dataframe tbody tr th:only-of-type {\n",
       "        vertical-align: middle;\n",
       "    }\n",
       "\n",
       "    .dataframe tbody tr th {\n",
       "        vertical-align: top;\n",
       "    }\n",
       "\n",
       "    .dataframe thead th {\n",
       "        text-align: right;\n",
       "    }\n",
       "</style>\n",
       "<table border=\"1\" class=\"dataframe\">\n",
       "  <thead>\n",
       "    <tr style=\"text-align: right;\">\n",
       "      <th></th>\n",
       "      <th>messages_included</th>\n",
       "      <th>gb_per_month_included</th>\n",
       "      <th>minutes_included</th>\n",
       "      <th>rub_monthly_fee</th>\n",
       "      <th>rub_per_gb</th>\n",
       "      <th>rub_per_message</th>\n",
       "      <th>rub_per_minute</th>\n",
       "      <th>tariff_name</th>\n",
       "    </tr>\n",
       "  </thead>\n",
       "  <tbody>\n",
       "    <tr>\n",
       "      <td>0</td>\n",
       "      <td>50</td>\n",
       "      <td>15.0</td>\n",
       "      <td>500</td>\n",
       "      <td>550</td>\n",
       "      <td>200</td>\n",
       "      <td>3</td>\n",
       "      <td>3</td>\n",
       "      <td>smart</td>\n",
       "    </tr>\n",
       "    <tr>\n",
       "      <td>1</td>\n",
       "      <td>1000</td>\n",
       "      <td>30.0</td>\n",
       "      <td>3000</td>\n",
       "      <td>1950</td>\n",
       "      <td>150</td>\n",
       "      <td>1</td>\n",
       "      <td>1</td>\n",
       "      <td>ultra</td>\n",
       "    </tr>\n",
       "  </tbody>\n",
       "</table>\n",
       "</div>"
      ],
      "text/plain": [
       "   messages_included  gb_per_month_included  minutes_included  \\\n",
       "0                 50                   15.0               500   \n",
       "1               1000                   30.0              3000   \n",
       "\n",
       "   rub_monthly_fee  rub_per_gb  rub_per_message  rub_per_minute tariff_name  \n",
       "0              550         200                3               3       smart  \n",
       "1             1950         150                1               1       ultra  "
      ]
     },
     "execution_count": 15,
     "metadata": {},
     "output_type": "execute_result"
    }
   ],
   "source": [
    "#в таблице тарифы изменила столбец количества мегабайт в месяц на количество гигабайт, а также название столбцов\n",
    "tariffs\n",
    "tariffs['mb_per_month_included'] = tariffs['mb_per_month_included'] / 1024\n",
    "tariffs.columns\n",
    "tariffs.columns = ['messages_included', 'gb_per_month_included', 'minutes_included',\n",
    "       'rub_monthly_fee', 'rub_per_gb', 'rub_per_message', 'rub_per_minute',\n",
    "       'tariff_name']\n",
    "tariffs\n"
   ]
  },
  {
   "cell_type": "code",
   "execution_count": 16,
   "metadata": {},
   "outputs": [
    {
     "data": {
      "text/html": [
       "<div>\n",
       "<style scoped>\n",
       "    .dataframe tbody tr th:only-of-type {\n",
       "        vertical-align: middle;\n",
       "    }\n",
       "\n",
       "    .dataframe tbody tr th {\n",
       "        vertical-align: top;\n",
       "    }\n",
       "\n",
       "    .dataframe thead th {\n",
       "        text-align: right;\n",
       "    }\n",
       "</style>\n",
       "<table border=\"1\" class=\"dataframe\">\n",
       "  <thead>\n",
       "    <tr style=\"text-align: right;\">\n",
       "      <th></th>\n",
       "      <th>user_id</th>\n",
       "      <th>month</th>\n",
       "      <th>duration_sum</th>\n",
       "      <th>duration_count</th>\n",
       "      <th>messages_count</th>\n",
       "      <th>internet_used_count</th>\n",
       "      <th>gb_used_sum</th>\n",
       "      <th>tariff</th>\n",
       "      <th>city</th>\n",
       "      <th>messages_included</th>\n",
       "      <th>gb_per_month_included</th>\n",
       "      <th>minutes_included</th>\n",
       "      <th>rub_monthly_fee</th>\n",
       "      <th>rub_per_gb</th>\n",
       "      <th>rub_per_message</th>\n",
       "      <th>rub_per_minute</th>\n",
       "    </tr>\n",
       "  </thead>\n",
       "  <tbody>\n",
       "    <tr>\n",
       "      <td>0</td>\n",
       "      <td>1000</td>\n",
       "      <td>5</td>\n",
       "      <td>159.0</td>\n",
       "      <td>22.0</td>\n",
       "      <td>22.0</td>\n",
       "      <td>5.0</td>\n",
       "      <td>3.0</td>\n",
       "      <td>ultra</td>\n",
       "      <td>Краснодар</td>\n",
       "      <td>1000</td>\n",
       "      <td>30.0</td>\n",
       "      <td>3000</td>\n",
       "      <td>1950</td>\n",
       "      <td>150</td>\n",
       "      <td>1</td>\n",
       "      <td>1</td>\n",
       "    </tr>\n",
       "    <tr>\n",
       "      <td>1</td>\n",
       "      <td>1000</td>\n",
       "      <td>6</td>\n",
       "      <td>172.0</td>\n",
       "      <td>43.0</td>\n",
       "      <td>60.0</td>\n",
       "      <td>49.0</td>\n",
       "      <td>23.0</td>\n",
       "      <td>ultra</td>\n",
       "      <td>Краснодар</td>\n",
       "      <td>1000</td>\n",
       "      <td>30.0</td>\n",
       "      <td>3000</td>\n",
       "      <td>1950</td>\n",
       "      <td>150</td>\n",
       "      <td>1</td>\n",
       "      <td>1</td>\n",
       "    </tr>\n",
       "    <tr>\n",
       "      <td>2</td>\n",
       "      <td>1000</td>\n",
       "      <td>7</td>\n",
       "      <td>340.0</td>\n",
       "      <td>47.0</td>\n",
       "      <td>75.0</td>\n",
       "      <td>29.0</td>\n",
       "      <td>14.0</td>\n",
       "      <td>ultra</td>\n",
       "      <td>Краснодар</td>\n",
       "      <td>1000</td>\n",
       "      <td>30.0</td>\n",
       "      <td>3000</td>\n",
       "      <td>1950</td>\n",
       "      <td>150</td>\n",
       "      <td>1</td>\n",
       "      <td>1</td>\n",
       "    </tr>\n",
       "    <tr>\n",
       "      <td>3</td>\n",
       "      <td>1000</td>\n",
       "      <td>8</td>\n",
       "      <td>408.0</td>\n",
       "      <td>52.0</td>\n",
       "      <td>81.0</td>\n",
       "      <td>29.0</td>\n",
       "      <td>14.0</td>\n",
       "      <td>ultra</td>\n",
       "      <td>Краснодар</td>\n",
       "      <td>1000</td>\n",
       "      <td>30.0</td>\n",
       "      <td>3000</td>\n",
       "      <td>1950</td>\n",
       "      <td>150</td>\n",
       "      <td>1</td>\n",
       "      <td>1</td>\n",
       "    </tr>\n",
       "    <tr>\n",
       "      <td>4</td>\n",
       "      <td>1000</td>\n",
       "      <td>9</td>\n",
       "      <td>466.0</td>\n",
       "      <td>58.0</td>\n",
       "      <td>57.0</td>\n",
       "      <td>27.0</td>\n",
       "      <td>15.0</td>\n",
       "      <td>ultra</td>\n",
       "      <td>Краснодар</td>\n",
       "      <td>1000</td>\n",
       "      <td>30.0</td>\n",
       "      <td>3000</td>\n",
       "      <td>1950</td>\n",
       "      <td>150</td>\n",
       "      <td>1</td>\n",
       "      <td>1</td>\n",
       "    </tr>\n",
       "    <tr>\n",
       "      <td>...</td>\n",
       "      <td>...</td>\n",
       "      <td>...</td>\n",
       "      <td>...</td>\n",
       "      <td>...</td>\n",
       "      <td>...</td>\n",
       "      <td>...</td>\n",
       "      <td>...</td>\n",
       "      <td>...</td>\n",
       "      <td>...</td>\n",
       "      <td>...</td>\n",
       "      <td>...</td>\n",
       "      <td>...</td>\n",
       "      <td>...</td>\n",
       "      <td>...</td>\n",
       "      <td>...</td>\n",
       "      <td>...</td>\n",
       "    </tr>\n",
       "    <tr>\n",
       "      <td>3209</td>\n",
       "      <td>1489</td>\n",
       "      <td>8</td>\n",
       "      <td>0.0</td>\n",
       "      <td>0.0</td>\n",
       "      <td>17.0</td>\n",
       "      <td>34.0</td>\n",
       "      <td>11.0</td>\n",
       "      <td>smart</td>\n",
       "      <td>Санкт-Петербург</td>\n",
       "      <td>50</td>\n",
       "      <td>15.0</td>\n",
       "      <td>500</td>\n",
       "      <td>550</td>\n",
       "      <td>200</td>\n",
       "      <td>3</td>\n",
       "      <td>3</td>\n",
       "    </tr>\n",
       "    <tr>\n",
       "      <td>3210</td>\n",
       "      <td>1489</td>\n",
       "      <td>9</td>\n",
       "      <td>0.0</td>\n",
       "      <td>0.0</td>\n",
       "      <td>32.0</td>\n",
       "      <td>63.0</td>\n",
       "      <td>17.0</td>\n",
       "      <td>smart</td>\n",
       "      <td>Санкт-Петербург</td>\n",
       "      <td>50</td>\n",
       "      <td>15.0</td>\n",
       "      <td>500</td>\n",
       "      <td>550</td>\n",
       "      <td>200</td>\n",
       "      <td>3</td>\n",
       "      <td>3</td>\n",
       "    </tr>\n",
       "    <tr>\n",
       "      <td>3211</td>\n",
       "      <td>1489</td>\n",
       "      <td>10</td>\n",
       "      <td>0.0</td>\n",
       "      <td>0.0</td>\n",
       "      <td>21.0</td>\n",
       "      <td>63.0</td>\n",
       "      <td>20.0</td>\n",
       "      <td>smart</td>\n",
       "      <td>Санкт-Петербург</td>\n",
       "      <td>50</td>\n",
       "      <td>15.0</td>\n",
       "      <td>500</td>\n",
       "      <td>550</td>\n",
       "      <td>200</td>\n",
       "      <td>3</td>\n",
       "      <td>3</td>\n",
       "    </tr>\n",
       "    <tr>\n",
       "      <td>3212</td>\n",
       "      <td>1489</td>\n",
       "      <td>11</td>\n",
       "      <td>0.0</td>\n",
       "      <td>0.0</td>\n",
       "      <td>20.0</td>\n",
       "      <td>55.0</td>\n",
       "      <td>18.0</td>\n",
       "      <td>smart</td>\n",
       "      <td>Санкт-Петербург</td>\n",
       "      <td>50</td>\n",
       "      <td>15.0</td>\n",
       "      <td>500</td>\n",
       "      <td>550</td>\n",
       "      <td>200</td>\n",
       "      <td>3</td>\n",
       "      <td>3</td>\n",
       "    </tr>\n",
       "    <tr>\n",
       "      <td>3213</td>\n",
       "      <td>1489</td>\n",
       "      <td>12</td>\n",
       "      <td>0.0</td>\n",
       "      <td>0.0</td>\n",
       "      <td>35.0</td>\n",
       "      <td>51.0</td>\n",
       "      <td>17.0</td>\n",
       "      <td>smart</td>\n",
       "      <td>Санкт-Петербург</td>\n",
       "      <td>50</td>\n",
       "      <td>15.0</td>\n",
       "      <td>500</td>\n",
       "      <td>550</td>\n",
       "      <td>200</td>\n",
       "      <td>3</td>\n",
       "      <td>3</td>\n",
       "    </tr>\n",
       "  </tbody>\n",
       "</table>\n",
       "<p>3214 rows × 16 columns</p>\n",
       "</div>"
      ],
      "text/plain": [
       "      user_id  month  duration_sum  duration_count  messages_count  \\\n",
       "0        1000      5         159.0            22.0            22.0   \n",
       "1        1000      6         172.0            43.0            60.0   \n",
       "2        1000      7         340.0            47.0            75.0   \n",
       "3        1000      8         408.0            52.0            81.0   \n",
       "4        1000      9         466.0            58.0            57.0   \n",
       "...       ...    ...           ...             ...             ...   \n",
       "3209     1489      8           0.0             0.0            17.0   \n",
       "3210     1489      9           0.0             0.0            32.0   \n",
       "3211     1489     10           0.0             0.0            21.0   \n",
       "3212     1489     11           0.0             0.0            20.0   \n",
       "3213     1489     12           0.0             0.0            35.0   \n",
       "\n",
       "      internet_used_count  gb_used_sum tariff             city  \\\n",
       "0                     5.0          3.0  ultra        Краснодар   \n",
       "1                    49.0         23.0  ultra        Краснодар   \n",
       "2                    29.0         14.0  ultra        Краснодар   \n",
       "3                    29.0         14.0  ultra        Краснодар   \n",
       "4                    27.0         15.0  ultra        Краснодар   \n",
       "...                   ...          ...    ...              ...   \n",
       "3209                 34.0         11.0  smart  Санкт-Петербург   \n",
       "3210                 63.0         17.0  smart  Санкт-Петербург   \n",
       "3211                 63.0         20.0  smart  Санкт-Петербург   \n",
       "3212                 55.0         18.0  smart  Санкт-Петербург   \n",
       "3213                 51.0         17.0  smart  Санкт-Петербург   \n",
       "\n",
       "      messages_included  gb_per_month_included  minutes_included  \\\n",
       "0                  1000                   30.0              3000   \n",
       "1                  1000                   30.0              3000   \n",
       "2                  1000                   30.0              3000   \n",
       "3                  1000                   30.0              3000   \n",
       "4                  1000                   30.0              3000   \n",
       "...                 ...                    ...               ...   \n",
       "3209                 50                   15.0               500   \n",
       "3210                 50                   15.0               500   \n",
       "3211                 50                   15.0               500   \n",
       "3212                 50                   15.0               500   \n",
       "3213                 50                   15.0               500   \n",
       "\n",
       "      rub_monthly_fee  rub_per_gb  rub_per_message  rub_per_minute  \n",
       "0                1950         150                1               1  \n",
       "1                1950         150                1               1  \n",
       "2                1950         150                1               1  \n",
       "3                1950         150                1               1  \n",
       "4                1950         150                1               1  \n",
       "...               ...         ...              ...             ...  \n",
       "3209              550         200                3               3  \n",
       "3210              550         200                3               3  \n",
       "3211              550         200                3               3  \n",
       "3212              550         200                3               3  \n",
       "3213              550         200                3               3  \n",
       "\n",
       "[3214 rows x 16 columns]"
      ]
     },
     "execution_count": 16,
     "metadata": {},
     "output_type": "execute_result"
    }
   ],
   "source": [
    "#соединила таблицу тарифы с общим датафреймом по пользователям\n",
    "df_tariffs = df.merge(tariffs, left_on = 'tariff', right_on = 'tariff_name', how = 'outer')\n",
    "df_tariffs.drop('tariff_name', axis=1, inplace=True)\n",
    "df_tariffs"
   ]
  },
  {
   "cell_type": "code",
   "execution_count": 17,
   "metadata": {},
   "outputs": [
    {
     "data": {
      "text/html": [
       "<div>\n",
       "<style scoped>\n",
       "    .dataframe tbody tr th:only-of-type {\n",
       "        vertical-align: middle;\n",
       "    }\n",
       "\n",
       "    .dataframe tbody tr th {\n",
       "        vertical-align: top;\n",
       "    }\n",
       "\n",
       "    .dataframe thead th {\n",
       "        text-align: right;\n",
       "    }\n",
       "</style>\n",
       "<table border=\"1\" class=\"dataframe\">\n",
       "  <thead>\n",
       "    <tr style=\"text-align: right;\">\n",
       "      <th></th>\n",
       "      <th>user_id</th>\n",
       "      <th>month</th>\n",
       "      <th>duration_sum</th>\n",
       "      <th>duration_count</th>\n",
       "      <th>messages_count</th>\n",
       "      <th>internet_used_count</th>\n",
       "      <th>gb_used_sum</th>\n",
       "      <th>tariff</th>\n",
       "      <th>city</th>\n",
       "      <th>messages_included</th>\n",
       "      <th>gb_per_month_included</th>\n",
       "      <th>minutes_included</th>\n",
       "      <th>rub_monthly_fee</th>\n",
       "      <th>rub_per_gb</th>\n",
       "      <th>rub_per_message</th>\n",
       "      <th>rub_per_minute</th>\n",
       "      <th>over</th>\n",
       "    </tr>\n",
       "  </thead>\n",
       "  <tbody>\n",
       "    <tr>\n",
       "      <td>1073</td>\n",
       "      <td>1015</td>\n",
       "      <td>7</td>\n",
       "      <td>556.0</td>\n",
       "      <td>79.0</td>\n",
       "      <td>90.0</td>\n",
       "      <td>63.0</td>\n",
       "      <td>20.0</td>\n",
       "      <td>smart</td>\n",
       "      <td>Челябинск</td>\n",
       "      <td>50</td>\n",
       "      <td>15.0</td>\n",
       "      <td>500</td>\n",
       "      <td>550</td>\n",
       "      <td>200</td>\n",
       "      <td>3</td>\n",
       "      <td>3</td>\n",
       "      <td>1288.0</td>\n",
       "    </tr>\n",
       "    <tr>\n",
       "      <td>1076</td>\n",
       "      <td>1015</td>\n",
       "      <td>10</td>\n",
       "      <td>577.0</td>\n",
       "      <td>67.0</td>\n",
       "      <td>68.0</td>\n",
       "      <td>55.0</td>\n",
       "      <td>17.0</td>\n",
       "      <td>smart</td>\n",
       "      <td>Челябинск</td>\n",
       "      <td>50</td>\n",
       "      <td>15.0</td>\n",
       "      <td>500</td>\n",
       "      <td>550</td>\n",
       "      <td>200</td>\n",
       "      <td>3</td>\n",
       "      <td>3</td>\n",
       "      <td>685.0</td>\n",
       "    </tr>\n",
       "    <tr>\n",
       "      <td>1106</td>\n",
       "      <td>1026</td>\n",
       "      <td>12</td>\n",
       "      <td>531.0</td>\n",
       "      <td>68.0</td>\n",
       "      <td>57.0</td>\n",
       "      <td>54.0</td>\n",
       "      <td>17.0</td>\n",
       "      <td>smart</td>\n",
       "      <td>Мурманск</td>\n",
       "      <td>50</td>\n",
       "      <td>15.0</td>\n",
       "      <td>500</td>\n",
       "      <td>550</td>\n",
       "      <td>200</td>\n",
       "      <td>3</td>\n",
       "      <td>3</td>\n",
       "      <td>514.0</td>\n",
       "    </tr>\n",
       "    <tr>\n",
       "      <td>1117</td>\n",
       "      <td>1029</td>\n",
       "      <td>10</td>\n",
       "      <td>609.0</td>\n",
       "      <td>92.0</td>\n",
       "      <td>62.0</td>\n",
       "      <td>68.0</td>\n",
       "      <td>22.0</td>\n",
       "      <td>smart</td>\n",
       "      <td>Екатеринбург</td>\n",
       "      <td>50</td>\n",
       "      <td>15.0</td>\n",
       "      <td>500</td>\n",
       "      <td>550</td>\n",
       "      <td>200</td>\n",
       "      <td>3</td>\n",
       "      <td>3</td>\n",
       "      <td>1763.0</td>\n",
       "    </tr>\n",
       "    <tr>\n",
       "      <td>1183</td>\n",
       "      <td>1042</td>\n",
       "      <td>12</td>\n",
       "      <td>728.0</td>\n",
       "      <td>121.0</td>\n",
       "      <td>75.0</td>\n",
       "      <td>112.0</td>\n",
       "      <td>37.0</td>\n",
       "      <td>smart</td>\n",
       "      <td>Хабаровск</td>\n",
       "      <td>50</td>\n",
       "      <td>15.0</td>\n",
       "      <td>500</td>\n",
       "      <td>550</td>\n",
       "      <td>200</td>\n",
       "      <td>3</td>\n",
       "      <td>3</td>\n",
       "      <td>5159.0</td>\n",
       "    </tr>\n",
       "  </tbody>\n",
       "</table>\n",
       "</div>"
      ],
      "text/plain": [
       "      user_id  month  duration_sum  duration_count  messages_count  \\\n",
       "1073     1015      7         556.0            79.0            90.0   \n",
       "1076     1015     10         577.0            67.0            68.0   \n",
       "1106     1026     12         531.0            68.0            57.0   \n",
       "1117     1029     10         609.0            92.0            62.0   \n",
       "1183     1042     12         728.0           121.0            75.0   \n",
       "\n",
       "      internet_used_count  gb_used_sum tariff          city  \\\n",
       "1073                 63.0         20.0  smart     Челябинск   \n",
       "1076                 55.0         17.0  smart     Челябинск   \n",
       "1106                 54.0         17.0  smart      Мурманск   \n",
       "1117                 68.0         22.0  smart  Екатеринбург   \n",
       "1183                112.0         37.0  smart     Хабаровск   \n",
       "\n",
       "      messages_included  gb_per_month_included  minutes_included  \\\n",
       "1073                 50                   15.0               500   \n",
       "1076                 50                   15.0               500   \n",
       "1106                 50                   15.0               500   \n",
       "1117                 50                   15.0               500   \n",
       "1183                 50                   15.0               500   \n",
       "\n",
       "      rub_monthly_fee  rub_per_gb  rub_per_message  rub_per_minute    over  \n",
       "1073              550         200                3               3  1288.0  \n",
       "1076              550         200                3               3   685.0  \n",
       "1106              550         200                3               3   514.0  \n",
       "1117              550         200                3               3  1763.0  \n",
       "1183              550         200                3               3  5159.0  "
      ]
     },
     "execution_count": 17,
     "metadata": {},
     "output_type": "execute_result"
    }
   ],
   "source": [
    "#функция, возвращающая дополнитеольную плату сверх лимитов по тарифам\n",
    "def check_tariff(row):\n",
    "    extra_call_sum = 0\n",
    "    extra_sms_sum = 0\n",
    "    extra_internet_sum = 0\n",
    "    if row['duration_sum'] > row['minutes_included']:        \n",
    "        extra_call_sum = (row['duration_sum'] - row['minutes_included']) * row['rub_per_minute']        \n",
    "    if row['messages_count'] > row['messages_included']:\n",
    "        extra_sms_sum = (row['messages_count'] - row['messages_included']) * row['rub_per_message']        \n",
    "    if row['gb_used_sum'] > row['gb_per_month_included']:\n",
    "        extra_internet_sum = np.ceil(row['gb_used_sum'] - row['gb_per_month_included']) * row['rub_per_gb']        \n",
    "    return (extra_call_sum + extra_sms_sum + extra_internet_sum)\n",
    "   \n",
    "#применяю функцию и смотрю результат ее работы на примере запроса по превышению лимитов на тарифе смарт   \n",
    "df_tariffs['over'] = df_tariffs.apply(check_tariff, axis = 1)\n",
    "df_tariffs.query('gb_used_sum > 15 and tariff == \"smart\" and duration_sum > 500 and messages_count > 50').head()\n"
   ]
  },
  {
   "cell_type": "code",
   "execution_count": 18,
   "metadata": {
    "scrolled": true
   },
   "outputs": [
    {
     "data": {
      "text/html": [
       "<div>\n",
       "<style scoped>\n",
       "    .dataframe tbody tr th:only-of-type {\n",
       "        vertical-align: middle;\n",
       "    }\n",
       "\n",
       "    .dataframe tbody tr th {\n",
       "        vertical-align: top;\n",
       "    }\n",
       "\n",
       "    .dataframe thead th {\n",
       "        text-align: right;\n",
       "    }\n",
       "</style>\n",
       "<table border=\"1\" class=\"dataframe\">\n",
       "  <thead>\n",
       "    <tr style=\"text-align: right;\">\n",
       "      <th></th>\n",
       "      <th>user_id</th>\n",
       "      <th>month</th>\n",
       "      <th>duration_sum</th>\n",
       "      <th>duration_count</th>\n",
       "      <th>messages_count</th>\n",
       "      <th>internet_used_count</th>\n",
       "      <th>gb_used_sum</th>\n",
       "      <th>tariff</th>\n",
       "      <th>city</th>\n",
       "      <th>messages_included</th>\n",
       "      <th>gb_per_month_included</th>\n",
       "      <th>minutes_included</th>\n",
       "      <th>rub_monthly_fee</th>\n",
       "      <th>rub_per_gb</th>\n",
       "      <th>rub_per_message</th>\n",
       "      <th>rub_per_minute</th>\n",
       "      <th>over</th>\n",
       "      <th>user_sum</th>\n",
       "    </tr>\n",
       "  </thead>\n",
       "  <tbody>\n",
       "    <tr>\n",
       "      <td>0</td>\n",
       "      <td>1000</td>\n",
       "      <td>5</td>\n",
       "      <td>159.0</td>\n",
       "      <td>22.0</td>\n",
       "      <td>22.0</td>\n",
       "      <td>5.0</td>\n",
       "      <td>3.0</td>\n",
       "      <td>ultra</td>\n",
       "      <td>Краснодар</td>\n",
       "      <td>1000</td>\n",
       "      <td>30.0</td>\n",
       "      <td>3000</td>\n",
       "      <td>1950</td>\n",
       "      <td>150</td>\n",
       "      <td>1</td>\n",
       "      <td>1</td>\n",
       "      <td>0.0</td>\n",
       "      <td>1950.0</td>\n",
       "    </tr>\n",
       "    <tr>\n",
       "      <td>1</td>\n",
       "      <td>1000</td>\n",
       "      <td>6</td>\n",
       "      <td>172.0</td>\n",
       "      <td>43.0</td>\n",
       "      <td>60.0</td>\n",
       "      <td>49.0</td>\n",
       "      <td>23.0</td>\n",
       "      <td>ultra</td>\n",
       "      <td>Краснодар</td>\n",
       "      <td>1000</td>\n",
       "      <td>30.0</td>\n",
       "      <td>3000</td>\n",
       "      <td>1950</td>\n",
       "      <td>150</td>\n",
       "      <td>1</td>\n",
       "      <td>1</td>\n",
       "      <td>0.0</td>\n",
       "      <td>1950.0</td>\n",
       "    </tr>\n",
       "    <tr>\n",
       "      <td>2</td>\n",
       "      <td>1000</td>\n",
       "      <td>7</td>\n",
       "      <td>340.0</td>\n",
       "      <td>47.0</td>\n",
       "      <td>75.0</td>\n",
       "      <td>29.0</td>\n",
       "      <td>14.0</td>\n",
       "      <td>ultra</td>\n",
       "      <td>Краснодар</td>\n",
       "      <td>1000</td>\n",
       "      <td>30.0</td>\n",
       "      <td>3000</td>\n",
       "      <td>1950</td>\n",
       "      <td>150</td>\n",
       "      <td>1</td>\n",
       "      <td>1</td>\n",
       "      <td>0.0</td>\n",
       "      <td>1950.0</td>\n",
       "    </tr>\n",
       "    <tr>\n",
       "      <td>3</td>\n",
       "      <td>1000</td>\n",
       "      <td>8</td>\n",
       "      <td>408.0</td>\n",
       "      <td>52.0</td>\n",
       "      <td>81.0</td>\n",
       "      <td>29.0</td>\n",
       "      <td>14.0</td>\n",
       "      <td>ultra</td>\n",
       "      <td>Краснодар</td>\n",
       "      <td>1000</td>\n",
       "      <td>30.0</td>\n",
       "      <td>3000</td>\n",
       "      <td>1950</td>\n",
       "      <td>150</td>\n",
       "      <td>1</td>\n",
       "      <td>1</td>\n",
       "      <td>0.0</td>\n",
       "      <td>1950.0</td>\n",
       "    </tr>\n",
       "    <tr>\n",
       "      <td>4</td>\n",
       "      <td>1000</td>\n",
       "      <td>9</td>\n",
       "      <td>466.0</td>\n",
       "      <td>58.0</td>\n",
       "      <td>57.0</td>\n",
       "      <td>27.0</td>\n",
       "      <td>15.0</td>\n",
       "      <td>ultra</td>\n",
       "      <td>Краснодар</td>\n",
       "      <td>1000</td>\n",
       "      <td>30.0</td>\n",
       "      <td>3000</td>\n",
       "      <td>1950</td>\n",
       "      <td>150</td>\n",
       "      <td>1</td>\n",
       "      <td>1</td>\n",
       "      <td>0.0</td>\n",
       "      <td>1950.0</td>\n",
       "    </tr>\n",
       "    <tr>\n",
       "      <td>...</td>\n",
       "      <td>...</td>\n",
       "      <td>...</td>\n",
       "      <td>...</td>\n",
       "      <td>...</td>\n",
       "      <td>...</td>\n",
       "      <td>...</td>\n",
       "      <td>...</td>\n",
       "      <td>...</td>\n",
       "      <td>...</td>\n",
       "      <td>...</td>\n",
       "      <td>...</td>\n",
       "      <td>...</td>\n",
       "      <td>...</td>\n",
       "      <td>...</td>\n",
       "      <td>...</td>\n",
       "      <td>...</td>\n",
       "      <td>...</td>\n",
       "      <td>...</td>\n",
       "    </tr>\n",
       "    <tr>\n",
       "      <td>3209</td>\n",
       "      <td>1489</td>\n",
       "      <td>8</td>\n",
       "      <td>0.0</td>\n",
       "      <td>0.0</td>\n",
       "      <td>17.0</td>\n",
       "      <td>34.0</td>\n",
       "      <td>11.0</td>\n",
       "      <td>smart</td>\n",
       "      <td>Санкт-Петербург</td>\n",
       "      <td>50</td>\n",
       "      <td>15.0</td>\n",
       "      <td>500</td>\n",
       "      <td>550</td>\n",
       "      <td>200</td>\n",
       "      <td>3</td>\n",
       "      <td>3</td>\n",
       "      <td>0.0</td>\n",
       "      <td>550.0</td>\n",
       "    </tr>\n",
       "    <tr>\n",
       "      <td>3210</td>\n",
       "      <td>1489</td>\n",
       "      <td>9</td>\n",
       "      <td>0.0</td>\n",
       "      <td>0.0</td>\n",
       "      <td>32.0</td>\n",
       "      <td>63.0</td>\n",
       "      <td>17.0</td>\n",
       "      <td>smart</td>\n",
       "      <td>Санкт-Петербург</td>\n",
       "      <td>50</td>\n",
       "      <td>15.0</td>\n",
       "      <td>500</td>\n",
       "      <td>550</td>\n",
       "      <td>200</td>\n",
       "      <td>3</td>\n",
       "      <td>3</td>\n",
       "      <td>400.0</td>\n",
       "      <td>950.0</td>\n",
       "    </tr>\n",
       "    <tr>\n",
       "      <td>3211</td>\n",
       "      <td>1489</td>\n",
       "      <td>10</td>\n",
       "      <td>0.0</td>\n",
       "      <td>0.0</td>\n",
       "      <td>21.0</td>\n",
       "      <td>63.0</td>\n",
       "      <td>20.0</td>\n",
       "      <td>smart</td>\n",
       "      <td>Санкт-Петербург</td>\n",
       "      <td>50</td>\n",
       "      <td>15.0</td>\n",
       "      <td>500</td>\n",
       "      <td>550</td>\n",
       "      <td>200</td>\n",
       "      <td>3</td>\n",
       "      <td>3</td>\n",
       "      <td>1000.0</td>\n",
       "      <td>1550.0</td>\n",
       "    </tr>\n",
       "    <tr>\n",
       "      <td>3212</td>\n",
       "      <td>1489</td>\n",
       "      <td>11</td>\n",
       "      <td>0.0</td>\n",
       "      <td>0.0</td>\n",
       "      <td>20.0</td>\n",
       "      <td>55.0</td>\n",
       "      <td>18.0</td>\n",
       "      <td>smart</td>\n",
       "      <td>Санкт-Петербург</td>\n",
       "      <td>50</td>\n",
       "      <td>15.0</td>\n",
       "      <td>500</td>\n",
       "      <td>550</td>\n",
       "      <td>200</td>\n",
       "      <td>3</td>\n",
       "      <td>3</td>\n",
       "      <td>600.0</td>\n",
       "      <td>1150.0</td>\n",
       "    </tr>\n",
       "    <tr>\n",
       "      <td>3213</td>\n",
       "      <td>1489</td>\n",
       "      <td>12</td>\n",
       "      <td>0.0</td>\n",
       "      <td>0.0</td>\n",
       "      <td>35.0</td>\n",
       "      <td>51.0</td>\n",
       "      <td>17.0</td>\n",
       "      <td>smart</td>\n",
       "      <td>Санкт-Петербург</td>\n",
       "      <td>50</td>\n",
       "      <td>15.0</td>\n",
       "      <td>500</td>\n",
       "      <td>550</td>\n",
       "      <td>200</td>\n",
       "      <td>3</td>\n",
       "      <td>3</td>\n",
       "      <td>400.0</td>\n",
       "      <td>950.0</td>\n",
       "    </tr>\n",
       "  </tbody>\n",
       "</table>\n",
       "<p>3214 rows × 18 columns</p>\n",
       "</div>"
      ],
      "text/plain": [
       "      user_id  month  duration_sum  duration_count  messages_count  \\\n",
       "0        1000      5         159.0            22.0            22.0   \n",
       "1        1000      6         172.0            43.0            60.0   \n",
       "2        1000      7         340.0            47.0            75.0   \n",
       "3        1000      8         408.0            52.0            81.0   \n",
       "4        1000      9         466.0            58.0            57.0   \n",
       "...       ...    ...           ...             ...             ...   \n",
       "3209     1489      8           0.0             0.0            17.0   \n",
       "3210     1489      9           0.0             0.0            32.0   \n",
       "3211     1489     10           0.0             0.0            21.0   \n",
       "3212     1489     11           0.0             0.0            20.0   \n",
       "3213     1489     12           0.0             0.0            35.0   \n",
       "\n",
       "      internet_used_count  gb_used_sum tariff             city  \\\n",
       "0                     5.0          3.0  ultra        Краснодар   \n",
       "1                    49.0         23.0  ultra        Краснодар   \n",
       "2                    29.0         14.0  ultra        Краснодар   \n",
       "3                    29.0         14.0  ultra        Краснодар   \n",
       "4                    27.0         15.0  ultra        Краснодар   \n",
       "...                   ...          ...    ...              ...   \n",
       "3209                 34.0         11.0  smart  Санкт-Петербург   \n",
       "3210                 63.0         17.0  smart  Санкт-Петербург   \n",
       "3211                 63.0         20.0  smart  Санкт-Петербург   \n",
       "3212                 55.0         18.0  smart  Санкт-Петербург   \n",
       "3213                 51.0         17.0  smart  Санкт-Петербург   \n",
       "\n",
       "      messages_included  gb_per_month_included  minutes_included  \\\n",
       "0                  1000                   30.0              3000   \n",
       "1                  1000                   30.0              3000   \n",
       "2                  1000                   30.0              3000   \n",
       "3                  1000                   30.0              3000   \n",
       "4                  1000                   30.0              3000   \n",
       "...                 ...                    ...               ...   \n",
       "3209                 50                   15.0               500   \n",
       "3210                 50                   15.0               500   \n",
       "3211                 50                   15.0               500   \n",
       "3212                 50                   15.0               500   \n",
       "3213                 50                   15.0               500   \n",
       "\n",
       "      rub_monthly_fee  rub_per_gb  rub_per_message  rub_per_minute    over  \\\n",
       "0                1950         150                1               1     0.0   \n",
       "1                1950         150                1               1     0.0   \n",
       "2                1950         150                1               1     0.0   \n",
       "3                1950         150                1               1     0.0   \n",
       "4                1950         150                1               1     0.0   \n",
       "...               ...         ...              ...             ...     ...   \n",
       "3209              550         200                3               3     0.0   \n",
       "3210              550         200                3               3   400.0   \n",
       "3211              550         200                3               3  1000.0   \n",
       "3212              550         200                3               3   600.0   \n",
       "3213              550         200                3               3   400.0   \n",
       "\n",
       "      user_sum  \n",
       "0       1950.0  \n",
       "1       1950.0  \n",
       "2       1950.0  \n",
       "3       1950.0  \n",
       "4       1950.0  \n",
       "...        ...  \n",
       "3209     550.0  \n",
       "3210     950.0  \n",
       "3211    1550.0  \n",
       "3212    1150.0  \n",
       "3213     950.0  \n",
       "\n",
       "[3214 rows x 18 columns]"
      ]
     },
     "execution_count": 18,
     "metadata": {},
     "output_type": "execute_result"
    }
   ],
   "source": [
    "#добавила столбец с итоговой суммой на каждого пользователя за каждый месяц\n",
    "df_tariffs['user_sum'] = df_tariffs['rub_monthly_fee'] + df_tariffs['over']\n",
    "df_tariffs\n"
   ]
  },
  {
   "cell_type": "markdown",
   "metadata": {},
   "source": [
    "Изучила данные из файлов, исправила типы данных, заполнила пропуски. <br>\n",
    "Объединила таблицы для дальнейшего анализа.<br>\n",
    "Добавила столбцы со сверхтарифными расходами на каждого пользователя в каждом месяце и суммарное количество затрат каждого пользователя"
   ]
  },
  {
   "cell_type": "markdown",
   "metadata": {},
   "source": [
    "## Анализ данных"
   ]
  },
  {
   "cell_type": "code",
   "execution_count": 19,
   "metadata": {},
   "outputs": [
    {
     "data": {
      "text/html": [
       "<div>\n",
       "<style scoped>\n",
       "    .dataframe tbody tr th:only-of-type {\n",
       "        vertical-align: middle;\n",
       "    }\n",
       "\n",
       "    .dataframe tbody tr th {\n",
       "        vertical-align: top;\n",
       "    }\n",
       "\n",
       "    .dataframe thead th {\n",
       "        text-align: right;\n",
       "    }\n",
       "</style>\n",
       "<table border=\"1\" class=\"dataframe\">\n",
       "  <thead>\n",
       "    <tr style=\"text-align: right;\">\n",
       "      <th></th>\n",
       "      <th>duration_mean</th>\n",
       "      <th>gb_used_mean</th>\n",
       "      <th>messages_mean</th>\n",
       "      <th>duration_std</th>\n",
       "      <th>gb_used_std</th>\n",
       "      <th>messages_std</th>\n",
       "      <th>duration_var</th>\n",
       "      <th>gb_used_var</th>\n",
       "      <th>messages_var</th>\n",
       "    </tr>\n",
       "    <tr>\n",
       "      <th>tariff</th>\n",
       "      <th></th>\n",
       "      <th></th>\n",
       "      <th></th>\n",
       "      <th></th>\n",
       "      <th></th>\n",
       "      <th></th>\n",
       "      <th></th>\n",
       "      <th></th>\n",
       "      <th></th>\n",
       "    </tr>\n",
       "  </thead>\n",
       "  <tbody>\n",
       "    <tr>\n",
       "      <td>smart</td>\n",
       "      <td>417.934948</td>\n",
       "      <td>16.328847</td>\n",
       "      <td>33.384029</td>\n",
       "      <td>190.313730</td>\n",
       "      <td>5.747061</td>\n",
       "      <td>28.227876</td>\n",
       "      <td>36219.315784</td>\n",
       "      <td>33.028705</td>\n",
       "      <td>796.812958</td>\n",
       "    </tr>\n",
       "    <tr>\n",
       "      <td>ultra</td>\n",
       "      <td>526.623350</td>\n",
       "      <td>19.494416</td>\n",
       "      <td>49.363452</td>\n",
       "      <td>317.606098</td>\n",
       "      <td>9.853511</td>\n",
       "      <td>47.804457</td>\n",
       "      <td>100873.633397</td>\n",
       "      <td>97.091686</td>\n",
       "      <td>2285.266143</td>\n",
       "    </tr>\n",
       "  </tbody>\n",
       "</table>\n",
       "</div>"
      ],
      "text/plain": [
       "        duration_mean  gb_used_mean  messages_mean  duration_std  gb_used_std  \\\n",
       "tariff                                                                          \n",
       "smart      417.934948     16.328847      33.384029    190.313730     5.747061   \n",
       "ultra      526.623350     19.494416      49.363452    317.606098     9.853511   \n",
       "\n",
       "        messages_std   duration_var  gb_used_var  messages_var  \n",
       "tariff                                                          \n",
       "smart      28.227876   36219.315784    33.028705    796.812958  \n",
       "ultra      47.804457  100873.633397    97.091686   2285.266143  "
      ]
     },
     "execution_count": 19,
     "metadata": {},
     "output_type": "execute_result"
    }
   ],
   "source": [
    "#вывожу таблицу со средним, стандартным отклонением и дисперсией для двух тарифов \n",
    "df_stat = df_tariffs.pivot_table(index = 'tariff', values = ['duration_sum', 'messages_count', 'gb_used_sum'], aggfunc = ['mean', 'std', 'var'])\n",
    "df_stat.columns = ['duration_mean', 'gb_used_mean', 'messages_mean', 'duration_std', 'gb_used_std', 'messages_std', 'duration_var', 'gb_used_var', 'messages_var']\n",
    "df_stat"
   ]
  },
  {
   "cell_type": "code",
   "execution_count": 20,
   "metadata": {},
   "outputs": [
    {
     "data": {
      "text/html": [
       "<div>\n",
       "<style scoped>\n",
       "    .dataframe tbody tr th:only-of-type {\n",
       "        vertical-align: middle;\n",
       "    }\n",
       "\n",
       "    .dataframe tbody tr th {\n",
       "        vertical-align: top;\n",
       "    }\n",
       "\n",
       "    .dataframe thead th {\n",
       "        text-align: right;\n",
       "    }\n",
       "</style>\n",
       "<table border=\"1\" class=\"dataframe\">\n",
       "  <thead>\n",
       "    <tr style=\"text-align: right;\">\n",
       "      <th></th>\n",
       "      <th></th>\n",
       "      <th></th>\n",
       "      <th>duration_sum</th>\n",
       "      <th>gb_used_sum</th>\n",
       "      <th>messages_count</th>\n",
       "    </tr>\n",
       "    <tr>\n",
       "      <th>tariff</th>\n",
       "      <th>month</th>\n",
       "      <th>user_id</th>\n",
       "      <th></th>\n",
       "      <th></th>\n",
       "      <th></th>\n",
       "    </tr>\n",
       "  </thead>\n",
       "  <tbody>\n",
       "    <tr>\n",
       "      <td rowspan=\"5\" valign=\"top\">smart</td>\n",
       "      <td rowspan=\"5\" valign=\"top\">1</td>\n",
       "      <td>1005</td>\n",
       "      <td>95.0</td>\n",
       "      <td>3.0</td>\n",
       "      <td>7.0</td>\n",
       "    </tr>\n",
       "    <tr>\n",
       "      <td>1032</td>\n",
       "      <td>380.0</td>\n",
       "      <td>24.0</td>\n",
       "      <td>38.0</td>\n",
       "    </tr>\n",
       "    <tr>\n",
       "      <td>1045</td>\n",
       "      <td>9.0</td>\n",
       "      <td>3.0</td>\n",
       "      <td>5.0</td>\n",
       "    </tr>\n",
       "    <tr>\n",
       "      <td>1055</td>\n",
       "      <td>551.0</td>\n",
       "      <td>17.0</td>\n",
       "      <td>30.0</td>\n",
       "    </tr>\n",
       "    <tr>\n",
       "      <td>1071</td>\n",
       "      <td>194.0</td>\n",
       "      <td>16.0</td>\n",
       "      <td>16.0</td>\n",
       "    </tr>\n",
       "    <tr>\n",
       "      <td>...</td>\n",
       "      <td>...</td>\n",
       "      <td>...</td>\n",
       "      <td>...</td>\n",
       "      <td>...</td>\n",
       "      <td>...</td>\n",
       "    </tr>\n",
       "    <tr>\n",
       "      <td rowspan=\"5\" valign=\"top\">ultra</td>\n",
       "      <td rowspan=\"5\" valign=\"top\">12</td>\n",
       "      <td>1476</td>\n",
       "      <td>588.0</td>\n",
       "      <td>14.0</td>\n",
       "      <td>11.0</td>\n",
       "    </tr>\n",
       "    <tr>\n",
       "      <td>1485</td>\n",
       "      <td>584.0</td>\n",
       "      <td>23.0</td>\n",
       "      <td>155.0</td>\n",
       "    </tr>\n",
       "    <tr>\n",
       "      <td>1491</td>\n",
       "      <td>674.0</td>\n",
       "      <td>22.0</td>\n",
       "      <td>51.0</td>\n",
       "    </tr>\n",
       "    <tr>\n",
       "      <td>1493</td>\n",
       "      <td>571.0</td>\n",
       "      <td>42.0</td>\n",
       "      <td>78.0</td>\n",
       "    </tr>\n",
       "    <tr>\n",
       "      <td>1495</td>\n",
       "      <td>1031.0</td>\n",
       "      <td>23.0</td>\n",
       "      <td>84.0</td>\n",
       "    </tr>\n",
       "  </tbody>\n",
       "</table>\n",
       "<p>3214 rows × 3 columns</p>\n",
       "</div>"
      ],
      "text/plain": [
       "                      duration_sum  gb_used_sum  messages_count\n",
       "tariff month user_id                                           \n",
       "smart  1     1005             95.0          3.0             7.0\n",
       "             1032            380.0         24.0            38.0\n",
       "             1045              9.0          3.0             5.0\n",
       "             1055            551.0         17.0            30.0\n",
       "             1071            194.0         16.0            16.0\n",
       "...                            ...          ...             ...\n",
       "ultra  12    1476            588.0         14.0            11.0\n",
       "             1485            584.0         23.0           155.0\n",
       "             1491            674.0         22.0            51.0\n",
       "             1493            571.0         42.0            78.0\n",
       "             1495           1031.0         23.0            84.0\n",
       "\n",
       "[3214 rows x 3 columns]"
      ]
     },
     "execution_count": 20,
     "metadata": {},
     "output_type": "execute_result"
    }
   ],
   "source": [
    "#Сколько минут разговора, сколько сообщений и какой объём интернет-трафика требуется пользователям каждого тарифа в месяц? \n",
    "df_tariffs_grpd = df_tariffs.pivot_table(index = ['tariff', 'month', 'user_id'], values = ['duration_sum', 'messages_count', 'gb_used_sum'], aggfunc = 'sum')\n",
    "df_tariffs_grpd"
   ]
  },
  {
   "cell_type": "code",
   "execution_count": 21,
   "metadata": {},
   "outputs": [
    {
     "data": {
      "text/html": [
       "<div>\n",
       "<style scoped>\n",
       "    .dataframe tbody tr th:only-of-type {\n",
       "        vertical-align: middle;\n",
       "    }\n",
       "\n",
       "    .dataframe tbody tr th {\n",
       "        vertical-align: top;\n",
       "    }\n",
       "\n",
       "    .dataframe thead th {\n",
       "        text-align: right;\n",
       "    }\n",
       "</style>\n",
       "<table border=\"1\" class=\"dataframe\">\n",
       "  <thead>\n",
       "    <tr style=\"text-align: right;\">\n",
       "      <th></th>\n",
       "      <th></th>\n",
       "      <th></th>\n",
       "      <th>duration_sum</th>\n",
       "      <th>gb_used_sum</th>\n",
       "      <th>messages_count</th>\n",
       "    </tr>\n",
       "    <tr>\n",
       "      <th>tariff</th>\n",
       "      <th>month</th>\n",
       "      <th>user_id</th>\n",
       "      <th></th>\n",
       "      <th></th>\n",
       "      <th></th>\n",
       "    </tr>\n",
       "  </thead>\n",
       "  <tbody>\n",
       "    <tr>\n",
       "      <td rowspan=\"11\" valign=\"top\">ultra</td>\n",
       "      <td rowspan=\"5\" valign=\"top\">1</td>\n",
       "      <td>1120</td>\n",
       "      <td>55.0</td>\n",
       "      <td>1.0</td>\n",
       "      <td>0.0</td>\n",
       "    </tr>\n",
       "    <tr>\n",
       "      <td>1126</td>\n",
       "      <td>272.0</td>\n",
       "      <td>16.0</td>\n",
       "      <td>4.0</td>\n",
       "    </tr>\n",
       "    <tr>\n",
       "      <td>1168</td>\n",
       "      <td>277.0</td>\n",
       "      <td>8.0</td>\n",
       "      <td>14.0</td>\n",
       "    </tr>\n",
       "    <tr>\n",
       "      <td>1254</td>\n",
       "      <td>466.0</td>\n",
       "      <td>20.0</td>\n",
       "      <td>0.0</td>\n",
       "    </tr>\n",
       "    <tr>\n",
       "      <td>1375</td>\n",
       "      <td>852.0</td>\n",
       "      <td>15.0</td>\n",
       "      <td>75.0</td>\n",
       "    </tr>\n",
       "    <tr>\n",
       "      <td>...</td>\n",
       "      <td>...</td>\n",
       "      <td>...</td>\n",
       "      <td>...</td>\n",
       "      <td>...</td>\n",
       "    </tr>\n",
       "    <tr>\n",
       "      <td rowspan=\"5\" valign=\"top\">12</td>\n",
       "      <td>1476</td>\n",
       "      <td>588.0</td>\n",
       "      <td>14.0</td>\n",
       "      <td>11.0</td>\n",
       "    </tr>\n",
       "    <tr>\n",
       "      <td>1485</td>\n",
       "      <td>584.0</td>\n",
       "      <td>23.0</td>\n",
       "      <td>155.0</td>\n",
       "    </tr>\n",
       "    <tr>\n",
       "      <td>1491</td>\n",
       "      <td>674.0</td>\n",
       "      <td>22.0</td>\n",
       "      <td>51.0</td>\n",
       "    </tr>\n",
       "    <tr>\n",
       "      <td>1493</td>\n",
       "      <td>571.0</td>\n",
       "      <td>42.0</td>\n",
       "      <td>78.0</td>\n",
       "    </tr>\n",
       "    <tr>\n",
       "      <td>1495</td>\n",
       "      <td>1031.0</td>\n",
       "      <td>23.0</td>\n",
       "      <td>84.0</td>\n",
       "    </tr>\n",
       "  </tbody>\n",
       "</table>\n",
       "<p>985 rows × 3 columns</p>\n",
       "</div>"
      ],
      "text/plain": [
       "                      duration_sum  gb_used_sum  messages_count\n",
       "tariff month user_id                                           \n",
       "ultra  1     1120             55.0          1.0             0.0\n",
       "             1126            272.0         16.0             4.0\n",
       "             1168            277.0          8.0            14.0\n",
       "             1254            466.0         20.0             0.0\n",
       "             1375            852.0         15.0            75.0\n",
       "...                            ...          ...             ...\n",
       "       12    1476            588.0         14.0            11.0\n",
       "             1485            584.0         23.0           155.0\n",
       "             1491            674.0         22.0            51.0\n",
       "             1493            571.0         42.0            78.0\n",
       "             1495           1031.0         23.0            84.0\n",
       "\n",
       "[985 rows x 3 columns]"
      ]
     },
     "execution_count": 21,
     "metadata": {},
     "output_type": "execute_result"
    }
   ],
   "source": [
    "#для построения гистограм делаю отдельные таблицы по тарифам \n",
    "df_ultra = df_tariffs_grpd.query('tariff == \"ultra\"')\n",
    "df_smart = df_tariffs_grpd.query('tariff == \"smart\"')\n",
    "df_smart\n",
    "df_ultra"
   ]
  },
  {
   "cell_type": "code",
   "execution_count": 22,
   "metadata": {},
   "outputs": [
    {
     "data": {
      "image/png": "[encoded data removed]",
      "text/plain": [
       "<Figure size 432x288 with 1 Axes>"
      ]
     },
     "metadata": {
      "needs_background": "light"
     },
     "output_type": "display_data"
    }
   ],
   "source": [
    "#строю гистограмму распределения длительности звонков в тарифах\n",
    "df_ultra['duration_sum'].hist(alpha = 0.5)\n",
    "df_smart['duration_sum'].hist(alpha = 0.5).legend(['ultra', 'smart'])\n",
    "plt.suptitle('Длительность звонков')\n",
    "plt.show()"
   ]
  },
  {
   "cell_type": "code",
   "execution_count": 23,
   "metadata": {},
   "outputs": [
    {
     "data": {
      "image/png": "[encoded data removed]",
      "text/plain": [
       "<Figure size 432x288 with 1 Axes>"
      ]
     },
     "metadata": {
      "needs_background": "light"
     },
     "output_type": "display_data"
    }
   ],
   "source": [
    "#строю гистограмму распределения объема интернет-трафика в тарифах\n",
    "df_ultra['gb_used_sum'].hist(alpha = 0.5)\n",
    "df_smart['gb_used_sum'].hist(alpha = 0.5).legend(['ultra', 'smart'])\n",
    "plt.suptitle('Объем интернет-трафика')\n",
    "plt.show()"
   ]
  },
  {
   "cell_type": "code",
   "execution_count": 24,
   "metadata": {},
   "outputs": [
    {
     "data": {
      "image/png": "[encoded data removed]",
      "text/plain": [
       "<Figure size 432x288 with 1 Axes>"
      ]
     },
     "metadata": {
      "needs_background": "light"
     },
     "output_type": "display_data"
    }
   ],
   "source": [
    "#строю гистограмму распределения количества отправленных сообщений в тарифах\n",
    "df_ultra['messages_count'].hist(alpha = 0.5)\n",
    "df_smart['messages_count'].hist(alpha = 0.5).legend(['ultra', 'smart'])\n",
    "plt.suptitle('Количество сообщений')\n",
    "plt.show()"
   ]
  },
  {
   "cell_type": "markdown",
   "metadata": {},
   "source": [
    "<br> В представленной выборке пользователей тарифа Смарт примерно в 2.5 раза больше, чем пользователей тарифа Ультра, это может объясняться их ценой.<br>\n",
    "У тарифа Ультра средние значения по ключевым показателям: количество минут, сообщений и Гб интернет-трафика больше, это можно объяснить тем, что в пакет услуг входит большее количество этих опций. Вообще получается логичным, что тем, кому нужно больше минут/сообдщений/гигабайт, те должны выбирать тариф, в пакет которого включено больше этих услуг. <br>\n",
    "Можно сравниить средние показатели пользователей с предоставляемыми пакетами услуг: <br>\n",
    "Ультра: минуты в среднем 526 (в тарифе - 3000); смс в среднем 49 (в тарифе - 1000); Гб в среднем 20 (в тарифе - 30)<br>\n",
    "Смарт: минуты в среднем 417 (в тарифе - 500); смс в среднем 33 (в тарифе - 50); Гб в среднем 16 (в тарифе - 15)<br>\n",
    "На основе этих расчетов можно увидеть, что более разумно используются пакеты услуг в тарифе Смарт, а в тарифе Ультра заложены показатели сверхнормы.<br>\n",
    "При расчете дисперсии и среднего отклонения видно, что больший разброс этих показателей у пользователей тарифа Ультра. <br>\n",
    "При построении гистограмм распределения для описанных тарифов выявляется, что длительность звонков до 700 минут характерна для пользователей тарифа Смарт, тогда как большее количество минут уже является отличительной чертой для пользователей тарифа Ультра; по объему интернет-трафика наблюдается схожая картина: все, что свыше 25 Гб характерно для тарифа Ультра; по количеству сообщений можно отметить, что основная масса пользователей обоих тарифов либо не отправляют сообщения вообще, либо очень редко пользуются этой услугой, но на тарифе Ультра тоже отмечается наличие пользователей, которые отправляют много сообщений: больше 100. "
   ]
  },
  {
   "cell_type": "markdown",
   "metadata": {},
   "source": [
    "## Проверка гипотез "
   ]
  },
  {
   "cell_type": "code",
   "execution_count": 25,
   "metadata": {},
   "outputs": [
    {
     "data": {
      "text/html": [
       "<div>\n",
       "<style scoped>\n",
       "    .dataframe tbody tr th:only-of-type {\n",
       "        vertical-align: middle;\n",
       "    }\n",
       "\n",
       "    .dataframe tbody tr th {\n",
       "        vertical-align: top;\n",
       "    }\n",
       "\n",
       "    .dataframe thead th {\n",
       "        text-align: right;\n",
       "    }\n",
       "</style>\n",
       "<table border=\"1\" class=\"dataframe\">\n",
       "  <thead>\n",
       "    <tr style=\"text-align: right;\">\n",
       "      <th></th>\n",
       "      <th></th>\n",
       "      <th></th>\n",
       "      <th>user_sum</th>\n",
       "    </tr>\n",
       "    <tr>\n",
       "      <th>user_id</th>\n",
       "      <th>tariff</th>\n",
       "      <th>month</th>\n",
       "      <th></th>\n",
       "    </tr>\n",
       "  </thead>\n",
       "  <tbody>\n",
       "    <tr>\n",
       "      <td rowspan=\"5\" valign=\"top\">1000</td>\n",
       "      <td rowspan=\"5\" valign=\"top\">ultra</td>\n",
       "      <td>5</td>\n",
       "      <td>1950.0</td>\n",
       "    </tr>\n",
       "    <tr>\n",
       "      <td>6</td>\n",
       "      <td>1950.0</td>\n",
       "    </tr>\n",
       "    <tr>\n",
       "      <td>7</td>\n",
       "      <td>1950.0</td>\n",
       "    </tr>\n",
       "    <tr>\n",
       "      <td>8</td>\n",
       "      <td>1950.0</td>\n",
       "    </tr>\n",
       "    <tr>\n",
       "      <td>9</td>\n",
       "      <td>1950.0</td>\n",
       "    </tr>\n",
       "    <tr>\n",
       "      <td>...</td>\n",
       "      <td>...</td>\n",
       "      <td>...</td>\n",
       "      <td>...</td>\n",
       "    </tr>\n",
       "    <tr>\n",
       "      <td>1498</td>\n",
       "      <td>smart</td>\n",
       "      <td>10</td>\n",
       "      <td>1750.0</td>\n",
       "    </tr>\n",
       "    <tr>\n",
       "      <td rowspan=\"4\" valign=\"top\">1499</td>\n",
       "      <td rowspan=\"4\" valign=\"top\">smart</td>\n",
       "      <td>9</td>\n",
       "      <td>550.0</td>\n",
       "    </tr>\n",
       "    <tr>\n",
       "      <td>10</td>\n",
       "      <td>1150.0</td>\n",
       "    </tr>\n",
       "    <tr>\n",
       "      <td>11</td>\n",
       "      <td>1513.0</td>\n",
       "    </tr>\n",
       "    <tr>\n",
       "      <td>12</td>\n",
       "      <td>598.0</td>\n",
       "    </tr>\n",
       "  </tbody>\n",
       "</table>\n",
       "<p>3214 rows × 1 columns</p>\n",
       "</div>"
      ],
      "text/plain": [
       "                      user_sum\n",
       "user_id tariff month          \n",
       "1000    ultra  5        1950.0\n",
       "               6        1950.0\n",
       "               7        1950.0\n",
       "               8        1950.0\n",
       "               9        1950.0\n",
       "...                        ...\n",
       "1498    smart  10       1750.0\n",
       "1499    smart  9         550.0\n",
       "               10       1150.0\n",
       "               11       1513.0\n",
       "               12        598.0\n",
       "\n",
       "[3214 rows x 1 columns]"
      ]
     },
     "execution_count": 25,
     "metadata": {},
     "output_type": "execute_result"
    }
   ],
   "source": [
    "#Проверьте гипотезы: средняя выручка пользователей тарифов «Ультра» и «Смарт» различаются;\n",
    "df_avg_revenue = df_tariffs.pivot_table(index = ['user_id', 'tariff', 'month'], values = 'user_sum', aggfunc = 'first')\n",
    "df_avg_revenue"
   ]
  },
  {
   "cell_type": "code",
   "execution_count": 26,
   "metadata": {},
   "outputs": [
    {
     "data": {
      "text/html": [
       "<div>\n",
       "<style scoped>\n",
       "    .dataframe tbody tr th:only-of-type {\n",
       "        vertical-align: middle;\n",
       "    }\n",
       "\n",
       "    .dataframe tbody tr th {\n",
       "        vertical-align: top;\n",
       "    }\n",
       "\n",
       "    .dataframe thead th {\n",
       "        text-align: right;\n",
       "    }\n",
       "</style>\n",
       "<table border=\"1\" class=\"dataframe\">\n",
       "  <thead>\n",
       "    <tr style=\"text-align: right;\">\n",
       "      <th></th>\n",
       "      <th></th>\n",
       "      <th></th>\n",
       "      <th>user_sum</th>\n",
       "    </tr>\n",
       "    <tr>\n",
       "      <th>user_id</th>\n",
       "      <th>tariff</th>\n",
       "      <th>month</th>\n",
       "      <th></th>\n",
       "    </tr>\n",
       "  </thead>\n",
       "  <tbody>\n",
       "    <tr>\n",
       "      <td rowspan=\"5\" valign=\"top\">1000</td>\n",
       "      <td rowspan=\"5\" valign=\"top\">ultra</td>\n",
       "      <td>5</td>\n",
       "      <td>1950.0</td>\n",
       "    </tr>\n",
       "    <tr>\n",
       "      <td>6</td>\n",
       "      <td>1950.0</td>\n",
       "    </tr>\n",
       "    <tr>\n",
       "      <td>7</td>\n",
       "      <td>1950.0</td>\n",
       "    </tr>\n",
       "    <tr>\n",
       "      <td>8</td>\n",
       "      <td>1950.0</td>\n",
       "    </tr>\n",
       "    <tr>\n",
       "      <td>9</td>\n",
       "      <td>1950.0</td>\n",
       "    </tr>\n",
       "    <tr>\n",
       "      <td>...</td>\n",
       "      <td>...</td>\n",
       "      <td>...</td>\n",
       "      <td>...</td>\n",
       "    </tr>\n",
       "    <tr>\n",
       "      <td rowspan=\"5\" valign=\"top\">1495</td>\n",
       "      <td rowspan=\"5\" valign=\"top\">ultra</td>\n",
       "      <td>8</td>\n",
       "      <td>1950.0</td>\n",
       "    </tr>\n",
       "    <tr>\n",
       "      <td>9</td>\n",
       "      <td>2400.0</td>\n",
       "    </tr>\n",
       "    <tr>\n",
       "      <td>10</td>\n",
       "      <td>1950.0</td>\n",
       "    </tr>\n",
       "    <tr>\n",
       "      <td>11</td>\n",
       "      <td>3300.0</td>\n",
       "    </tr>\n",
       "    <tr>\n",
       "      <td>12</td>\n",
       "      <td>1950.0</td>\n",
       "    </tr>\n",
       "  </tbody>\n",
       "</table>\n",
       "<p>985 rows × 1 columns</p>\n",
       "</div>"
      ],
      "text/plain": [
       "                      user_sum\n",
       "user_id tariff month          \n",
       "1000    ultra  5        1950.0\n",
       "               6        1950.0\n",
       "               7        1950.0\n",
       "               8        1950.0\n",
       "               9        1950.0\n",
       "...                        ...\n",
       "1495    ultra  8        1950.0\n",
       "               9        2400.0\n",
       "               10       1950.0\n",
       "               11       3300.0\n",
       "               12       1950.0\n",
       "\n",
       "[985 rows x 1 columns]"
      ]
     },
     "execution_count": 26,
     "metadata": {},
     "output_type": "execute_result"
    }
   ],
   "source": [
    "df_avg_revenue_smart = df_avg_revenue.query('tariff == \"smart\"')\n",
    "df_avg_revenue_ultra = df_avg_revenue.query('tariff == \"ultra\"')\n",
    "df_avg_revenue_smart\n",
    "df_avg_revenue_ultra"
   ]
  },
  {
   "cell_type": "code",
   "execution_count": 27,
   "metadata": {},
   "outputs": [
    {
     "name": "stdout",
     "output_type": "stream",
     "text": [
      "Дисперсия Смарт: 669785.7080064242\n",
      "Дисперсия Ультра: 141516.7450786183\n"
     ]
    }
   ],
   "source": [
    "print('Дисперсия Смарт:', df_avg_revenue_smart['user_sum'].var())\n",
    "print('Дисперсия Ультра:', df_avg_revenue_ultra['user_sum'].var()) "
   ]
  },
  {
   "cell_type": "markdown",
   "metadata": {},
   "source": [
    "Буду использовать Гипотезу о равенстве средних двух генеральных совокупностей, используя метод scipy.stats.ttest_ind (array1, array2, equal_var). Так как выборки не парные, а независимые друг от друга.  \n",
    "\n",
    "В equal_var передам False, так как нет основания полагать, что выборки взяты из схожих по параметрам совокупностей.  \n",
    "\n",
    "Гипотезы:  \n",
    "\n",
    "H0 - средняя выручка выручка пользователей тарифов «Ультра» и «Смарт» равна\n",
    "\n",
    "H1 - средняя выручка пользователей тарифов «Ультра» и «Смарт» различаются\n",
    "\n",
    "Критический уровень статистической значимости 0.05, исходя из общепринятых пороговых значений\n"
   ]
  },
  {
   "cell_type": "code",
   "execution_count": 28,
   "metadata": {},
   "outputs": [
    {
     "name": "stdout",
     "output_type": "stream",
     "text": [
      "p-значение: 4.2606313931076085e-250\n",
      "Отвергаем нулевую гипотезу\n"
     ]
    }
   ],
   "source": [
    "alpha = 0.05 \n",
    "results = st.ttest_ind(df_avg_revenue_smart['user_sum'], df_avg_revenue_ultra['user_sum'], equal_var = False)\n",
    "print('p-значение:', results.pvalue)\n",
    "\n",
    "if (results.pvalue < alpha):\n",
    "    print(\"Отвергаем нулевую гипотезу\")\n",
    "else:\n",
    "    print(\"Не получилось отвергнуть нулевую гипотезу\")"
   ]
  },
  {
   "cell_type": "markdown",
   "metadata": {},
   "source": [
    "Нулевая гипотеза о равенстве средней выручки пользователей тарифов «Ультра» и «Смарт» отвергнута стат.тестом "
   ]
  },
  {
   "cell_type": "code",
   "execution_count": 29,
   "metadata": {},
   "outputs": [],
   "source": [
    "#Проверьте гипотезы: средняя выручка пользователи из Москвы отличается от выручки пользователей из других регионов."
   ]
  },
  {
   "cell_type": "code",
   "execution_count": 30,
   "metadata": {},
   "outputs": [
    {
     "data": {
      "text/html": [
       "<div>\n",
       "<style scoped>\n",
       "    .dataframe tbody tr th:only-of-type {\n",
       "        vertical-align: middle;\n",
       "    }\n",
       "\n",
       "    .dataframe tbody tr th {\n",
       "        vertical-align: top;\n",
       "    }\n",
       "\n",
       "    .dataframe thead th {\n",
       "        text-align: right;\n",
       "    }\n",
       "</style>\n",
       "<table border=\"1\" class=\"dataframe\">\n",
       "  <thead>\n",
       "    <tr style=\"text-align: right;\">\n",
       "      <th></th>\n",
       "      <th></th>\n",
       "      <th></th>\n",
       "      <th>user_sum</th>\n",
       "    </tr>\n",
       "    <tr>\n",
       "      <th>user_id</th>\n",
       "      <th>city</th>\n",
       "      <th>month</th>\n",
       "      <th></th>\n",
       "    </tr>\n",
       "  </thead>\n",
       "  <tbody>\n",
       "    <tr>\n",
       "      <td rowspan=\"5\" valign=\"top\">1000</td>\n",
       "      <td rowspan=\"5\" valign=\"top\">Краснодар</td>\n",
       "      <td>5</td>\n",
       "      <td>1950.0</td>\n",
       "    </tr>\n",
       "    <tr>\n",
       "      <td>6</td>\n",
       "      <td>1950.0</td>\n",
       "    </tr>\n",
       "    <tr>\n",
       "      <td>7</td>\n",
       "      <td>1950.0</td>\n",
       "    </tr>\n",
       "    <tr>\n",
       "      <td>8</td>\n",
       "      <td>1950.0</td>\n",
       "    </tr>\n",
       "    <tr>\n",
       "      <td>9</td>\n",
       "      <td>1950.0</td>\n",
       "    </tr>\n",
       "    <tr>\n",
       "      <td>...</td>\n",
       "      <td>...</td>\n",
       "      <td>...</td>\n",
       "      <td>...</td>\n",
       "    </tr>\n",
       "    <tr>\n",
       "      <td>1498</td>\n",
       "      <td>Владикавказ</td>\n",
       "      <td>10</td>\n",
       "      <td>1750.0</td>\n",
       "    </tr>\n",
       "    <tr>\n",
       "      <td rowspan=\"4\" valign=\"top\">1499</td>\n",
       "      <td rowspan=\"4\" valign=\"top\">Пермь</td>\n",
       "      <td>9</td>\n",
       "      <td>550.0</td>\n",
       "    </tr>\n",
       "    <tr>\n",
       "      <td>10</td>\n",
       "      <td>1150.0</td>\n",
       "    </tr>\n",
       "    <tr>\n",
       "      <td>11</td>\n",
       "      <td>1513.0</td>\n",
       "    </tr>\n",
       "    <tr>\n",
       "      <td>12</td>\n",
       "      <td>598.0</td>\n",
       "    </tr>\n",
       "  </tbody>\n",
       "</table>\n",
       "<p>3214 rows × 1 columns</p>\n",
       "</div>"
      ],
      "text/plain": [
       "                           user_sum\n",
       "user_id city        month          \n",
       "1000    Краснодар   5        1950.0\n",
       "                    6        1950.0\n",
       "                    7        1950.0\n",
       "                    8        1950.0\n",
       "                    9        1950.0\n",
       "...                             ...\n",
       "1498    Владикавказ 10       1750.0\n",
       "1499    Пермь       9         550.0\n",
       "                    10       1150.0\n",
       "                    11       1513.0\n",
       "                    12        598.0\n",
       "\n",
       "[3214 rows x 1 columns]"
      ]
     },
     "execution_count": 30,
     "metadata": {},
     "output_type": "execute_result"
    }
   ],
   "source": [
    "df_revenue_city = df_tariffs.pivot_table(index = ['user_id', 'city', 'month'], values = 'user_sum', aggfunc = 'first')\n",
    "df_revenue_city\n"
   ]
  },
  {
   "cell_type": "code",
   "execution_count": 31,
   "metadata": {},
   "outputs": [
    {
     "data": {
      "text/html": [
       "<div>\n",
       "<style scoped>\n",
       "    .dataframe tbody tr th:only-of-type {\n",
       "        vertical-align: middle;\n",
       "    }\n",
       "\n",
       "    .dataframe tbody tr th {\n",
       "        vertical-align: top;\n",
       "    }\n",
       "\n",
       "    .dataframe thead th {\n",
       "        text-align: right;\n",
       "    }\n",
       "</style>\n",
       "<table border=\"1\" class=\"dataframe\">\n",
       "  <thead>\n",
       "    <tr style=\"text-align: right;\">\n",
       "      <th></th>\n",
       "      <th></th>\n",
       "      <th></th>\n",
       "      <th>user_sum</th>\n",
       "    </tr>\n",
       "    <tr>\n",
       "      <th>user_id</th>\n",
       "      <th>city</th>\n",
       "      <th>month</th>\n",
       "      <th></th>\n",
       "    </tr>\n",
       "  </thead>\n",
       "  <tbody>\n",
       "    <tr>\n",
       "      <td rowspan=\"2\" valign=\"top\">1001</td>\n",
       "      <td rowspan=\"2\" valign=\"top\">Москва</td>\n",
       "      <td>11</td>\n",
       "      <td>1150.0</td>\n",
       "    </tr>\n",
       "    <tr>\n",
       "      <td>12</td>\n",
       "      <td>550.0</td>\n",
       "    </tr>\n",
       "    <tr>\n",
       "      <td rowspan=\"3\" valign=\"top\">1003</td>\n",
       "      <td rowspan=\"3\" valign=\"top\">Москва</td>\n",
       "      <td>8</td>\n",
       "      <td>1950.0</td>\n",
       "    </tr>\n",
       "    <tr>\n",
       "      <td>9</td>\n",
       "      <td>1950.0</td>\n",
       "    </tr>\n",
       "    <tr>\n",
       "      <td>10</td>\n",
       "      <td>1950.0</td>\n",
       "    </tr>\n",
       "    <tr>\n",
       "      <td>...</td>\n",
       "      <td>...</td>\n",
       "      <td>...</td>\n",
       "      <td>...</td>\n",
       "    </tr>\n",
       "    <tr>\n",
       "      <td rowspan=\"5\" valign=\"top\">1490</td>\n",
       "      <td rowspan=\"5\" valign=\"top\">Москва</td>\n",
       "      <td>8</td>\n",
       "      <td>950.0</td>\n",
       "    </tr>\n",
       "    <tr>\n",
       "      <td>9</td>\n",
       "      <td>550.0</td>\n",
       "    </tr>\n",
       "    <tr>\n",
       "      <td>10</td>\n",
       "      <td>1750.0</td>\n",
       "    </tr>\n",
       "    <tr>\n",
       "      <td>11</td>\n",
       "      <td>1350.0</td>\n",
       "    </tr>\n",
       "    <tr>\n",
       "      <td>12</td>\n",
       "      <td>750.0</td>\n",
       "    </tr>\n",
       "  </tbody>\n",
       "</table>\n",
       "<p>611 rows × 1 columns</p>\n",
       "</div>"
      ],
      "text/plain": [
       "                      user_sum\n",
       "user_id city   month          \n",
       "1001    Москва 11       1150.0\n",
       "               12        550.0\n",
       "1003    Москва 8        1950.0\n",
       "               9        1950.0\n",
       "               10       1950.0\n",
       "...                        ...\n",
       "1490    Москва 8         950.0\n",
       "               9         550.0\n",
       "               10       1750.0\n",
       "               11       1350.0\n",
       "               12        750.0\n",
       "\n",
       "[611 rows x 1 columns]"
      ]
     },
     "execution_count": 31,
     "metadata": {},
     "output_type": "execute_result"
    }
   ],
   "source": [
    "df_revenue_moscow = df_revenue_city.query('city == \"Москва\"')\n",
    "df_revenue_moscow"
   ]
  },
  {
   "cell_type": "code",
   "execution_count": 32,
   "metadata": {},
   "outputs": [
    {
     "data": {
      "text/html": [
       "<div>\n",
       "<style scoped>\n",
       "    .dataframe tbody tr th:only-of-type {\n",
       "        vertical-align: middle;\n",
       "    }\n",
       "\n",
       "    .dataframe tbody tr th {\n",
       "        vertical-align: top;\n",
       "    }\n",
       "\n",
       "    .dataframe thead th {\n",
       "        text-align: right;\n",
       "    }\n",
       "</style>\n",
       "<table border=\"1\" class=\"dataframe\">\n",
       "  <thead>\n",
       "    <tr style=\"text-align: right;\">\n",
       "      <th></th>\n",
       "      <th></th>\n",
       "      <th></th>\n",
       "      <th>user_sum</th>\n",
       "    </tr>\n",
       "    <tr>\n",
       "      <th>user_id</th>\n",
       "      <th>city</th>\n",
       "      <th>month</th>\n",
       "      <th></th>\n",
       "    </tr>\n",
       "  </thead>\n",
       "  <tbody>\n",
       "    <tr>\n",
       "      <td rowspan=\"5\" valign=\"top\">1000</td>\n",
       "      <td rowspan=\"5\" valign=\"top\">Краснодар</td>\n",
       "      <td>5</td>\n",
       "      <td>1950.0</td>\n",
       "    </tr>\n",
       "    <tr>\n",
       "      <td>6</td>\n",
       "      <td>1950.0</td>\n",
       "    </tr>\n",
       "    <tr>\n",
       "      <td>7</td>\n",
       "      <td>1950.0</td>\n",
       "    </tr>\n",
       "    <tr>\n",
       "      <td>8</td>\n",
       "      <td>1950.0</td>\n",
       "    </tr>\n",
       "    <tr>\n",
       "      <td>9</td>\n",
       "      <td>1950.0</td>\n",
       "    </tr>\n",
       "    <tr>\n",
       "      <td>...</td>\n",
       "      <td>...</td>\n",
       "      <td>...</td>\n",
       "      <td>...</td>\n",
       "    </tr>\n",
       "    <tr>\n",
       "      <td>1498</td>\n",
       "      <td>Владикавказ</td>\n",
       "      <td>10</td>\n",
       "      <td>1750.0</td>\n",
       "    </tr>\n",
       "    <tr>\n",
       "      <td rowspan=\"4\" valign=\"top\">1499</td>\n",
       "      <td rowspan=\"4\" valign=\"top\">Пермь</td>\n",
       "      <td>9</td>\n",
       "      <td>550.0</td>\n",
       "    </tr>\n",
       "    <tr>\n",
       "      <td>10</td>\n",
       "      <td>1150.0</td>\n",
       "    </tr>\n",
       "    <tr>\n",
       "      <td>11</td>\n",
       "      <td>1513.0</td>\n",
       "    </tr>\n",
       "    <tr>\n",
       "      <td>12</td>\n",
       "      <td>598.0</td>\n",
       "    </tr>\n",
       "  </tbody>\n",
       "</table>\n",
       "<p>2603 rows × 1 columns</p>\n",
       "</div>"
      ],
      "text/plain": [
       "                           user_sum\n",
       "user_id city        month          \n",
       "1000    Краснодар   5        1950.0\n",
       "                    6        1950.0\n",
       "                    7        1950.0\n",
       "                    8        1950.0\n",
       "                    9        1950.0\n",
       "...                             ...\n",
       "1498    Владикавказ 10       1750.0\n",
       "1499    Пермь       9         550.0\n",
       "                    10       1150.0\n",
       "                    11       1513.0\n",
       "                    12        598.0\n",
       "\n",
       "[2603 rows x 1 columns]"
      ]
     },
     "execution_count": 32,
     "metadata": {},
     "output_type": "execute_result"
    }
   ],
   "source": [
    "df_revenue_region = df_revenue_city.query('city != \"Москва\"')\n",
    "df_revenue_region"
   ]
  },
  {
   "cell_type": "markdown",
   "metadata": {},
   "source": [
    "Буду использовать Гипотезу о равенстве средних двух генеральных совокупностей, используя метод scipy.stats.ttest_ind (array1, array2, equal_var). \n",
    "\n",
    "Так как выборки не парные, а независимые друг от друга. В equal_var передам False, так как нет основания полагать, что выборки взяты из схожих по параметрам совокупностей.\n",
    "\n",
    "\n",
    "Гипотезы: \n",
    "\n",
    "\n",
    "H0 - средняя выручка выручка пользователей из Москвы и регионов равна\n",
    "\n",
    "\n",
    "H1 - средняя выручка выручка пользователей из Москвы и регионов различается\n",
    "\n",
    "\n",
    "Критический уровень статистической значимости alpha 0.05, исходя из общепринятых пороговых значений"
   ]
  },
  {
   "cell_type": "code",
   "execution_count": 33,
   "metadata": {},
   "outputs": [
    {
     "name": "stdout",
     "output_type": "stream",
     "text": [
      "p-значение: 0.5257376663729298\n",
      "Не получилось отвергнуть нулевую гипотезу\n"
     ]
    }
   ],
   "source": [
    "alpha = 0.05 \n",
    "results = st.ttest_ind(df_revenue_moscow['user_sum'], df_revenue_region['user_sum'], equal_var = False)\n",
    "print('p-значение:', results.pvalue)\n",
    "\n",
    "if (results.pvalue < alpha):\n",
    "    print(\"Отвергаем нулевую гипотезу\")\n",
    "else:\n",
    "    print(\"Не получилось отвергнуть нулевую гипотезу\")"
   ]
  },
  {
   "cell_type": "markdown",
   "metadata": {},
   "source": [
    "Нулевую гипотезу о том, что средняя выручка выручка пользователей из Москвы и регионов равна не получилось отвергнуть"
   ]
  },
  {
   "cell_type": "code",
   "execution_count": 34,
   "metadata": {},
   "outputs": [
    {
     "name": "stdout",
     "output_type": "stream",
     "text": [
      "1289.9735307312696\n",
      "2070.1522842639592\n"
     ]
    }
   ],
   "source": [
    "print(df_avg_revenue_smart['user_sum'].mean())\n",
    "print(df_avg_revenue_ultra['user_sum'].mean())"
   ]
  },
  {
   "cell_type": "markdown",
   "metadata": {},
   "source": [
    "## Общий вывод"
   ]
  },
  {
   "cell_type": "markdown",
   "metadata": {},
   "source": [
    "<b> Повторяю промежуточный вывод из раздела про описание поведения клиентов оператора, он достаточно многое в себя вместил:</b> <br>\n",
    "В представленной выборке пользователей тарифа Смарт примерно в 2.5 раза больше, чем пользователей тарифа Ультра, это может объясняться их ценой.<br>\n",
    "У тарифа Ультра средние значения по ключевым показателям: количество минут, сообщений и Гб интернет-трафика больше, это можно объяснить тем, что в пакет услуг входит большее количество этих опций. Вообще получается логичным, что тем, кому нужно больше минут/сообщений/гигабайт, те должны выбирать тариф, в пакет которого включено больше этих услуг.<br>\n",
    "Можно сравниить средние показатели пользователей с предоставляемыми пакетами услуг:<br>\n",
    "Ультра: минуты в среднем 526 (в тарифе - 3000); смс в среднем 49 (в тарифе - 1000); Гб в среднем 20 (в тарифе - 30)<br>\n",
    "Смарт: минуты в среднем 417 (в тарифе - 500); смс в среднем 33 (в тарифе - 50); Гб в среднем 16 (в тарифе - 15)<br>\n",
    "На основе этих расчетов можно увидеть, что более разумно используются пакеты услуг в тарифе Смарт, а в тарифе Ультра заложены показатели сверхнормы.<br>\n",
    "При расчете дисперсии и среднего отклонения видно, что больший разброс этих показателей у пользователей тарифа Ультра.<br>\n",
    "При построении гистограмм распределения для описанных тарифов выявляется, что длительность звонков до 700 минут характерна для пользователей тарифа Смарт, тогда как большее количество минут уже является отличительной чертой для пользователей тарифа Ультра; по объему интернет-трафика наблюдается схожая картина: все, что свыше 25 Гб характерно для тарифа Ультра; по количеству сообщений можно отметить, что основная масса пользователей обоих тарифов либо не отправляют сообщения вообще, либо очень редко пользуются этой услугой, но на тарифе Ультра тоже отмечается наличие пользователей, которые отправляют много сообщений: больше 100.<br>\n",
    "<b> Дополнение:</b> <br>\n",
    "Гипотеза о равенстве средней выручки пользователей тарифов «Ультра» и «Смарт» отвергнута стат.тестом, а гипотезу о равенстве средней выручки пользователей из Москвы и регионов отвергнуть не получилось. <br>\n",
    "Если гипотезу отвергнуть не получилось, это не значит, что мы ее будем принимать.\n",
    "Но я думаю, что исходя из предоставленных данных, можно сделать выводы о тарифах, поэтому я расчитала среднее для выручки оператора по тарифам, больше тратят пользователи тарифа Ультра: 2070 руб, помня, что абонентская плата по тарифу составляет 1950руб, получается, что некоторые пользователи не вписываются в лимиты и в среднем доплачивают около 120 рублей<br>\n",
    "В тарифе Смарт средняя выручка - 1290руб, на этом тарифе абонентская плата составляет 550 руб, а доплачивают пользователи гораздо больше - в среднем 740 руб.<br>\n",
    "Трудно сказать однозначно, но я бы приняла решение продвигать именно тариф Смарт: его и так предпочитают больше пользователей, в нем соблюден баланс лимитов по минутам/смс/Гб, а пользователи охотно доплачивают за использование дополнительных мощностей. Если провести рекламную кампанию, можно привлечь еще больше пользователей. Они охотней принимают тариф с относительно небольшой абонентской платой, активно докупают дополнительные минуты/смс/Гб, в среднем стоимость этих допов достигает 1.4 стоимости тарифа. <br>\n",
    "Также, если исследовать нашу выборку и умножить количество пользователей на среднюю выручку, выходит что тариф Смарт приносит больше денег.<br>\n",
    "по выборке:<br>\n",
    "(Количество пользователей Смарт - 350, средняя выручка 1290. сумма 451тыс<br>\n",
    "Количество пользователей Ультра - 148, средняя выручка 2070. сумма 306тыс)"
   ]
  },
  {
   "cell_type": "markdown",
   "metadata": {},
   "source": [
    "# Чек-лист готовности проекта\n",
    "- [x]  Откройте файл с данными \n",
    "- [x]  изучите общую информацию\n",
    "- [x]  Приведите данные к нужным типам;\n",
    "- [x]  Найдите и исправьте ошибки в данных, если они есть.\n",
    "- [x]  Поясните, какие ошибки вы нашли и как их исправили. В данных вы найдёте звонки с нулевой продолжительностью. Это не ошибка: нулями обозначены пропущенные звонки, поэтому их не нужно удалять.\n",
    "- [x]  Посчитайте для каждого пользователя: количество сделанных звонков и израсходованных минут разговора по месяцам;\n",
    "- [x]  Посчитайте для каждого пользователя: количество отправленных сообщений по месяцам;\n",
    "- [x]  Посчитайте для каждого пользователя: объем израсходованного интернет-трафика по месяцам;\n",
    "- [x]  Посчитайте для каждого пользователя: помесячную выручку с каждого пользователя (вычтите бесплатный лимит из суммарного количества звонков, сообщений и интернет-трафика; остаток умножьте на значение из тарифного плана; прибавьте абонентскую плату, соответствующую тарифному плану).\n",
    "- [x]  Проанализируйте данные: Опишите поведение клиентов оператора, исходя из выборки. Сколько минут разговора, сколько сообщений и какой объём интернет-трафика требуется пользователям каждого тарифа в месяц? Посчитайте среднее количество, дисперсию и стандартное отклонение. Постройте гистограммы. Опишите распределения.\n",
    "- [x]  Проверьте гипотезы: средняя выручка пользователей тарифов «Ультра» и «Смарт» различаются;\n",
    "- [x]  Проверьте гипотезы: средняя выручка пользователи из Москвы отличается от выручки пользователей из других регионов.\n",
    "- [x]  Поясните:как вы формулировали нулевую и альтернативную гипотезы; какой критерий использовали для проверки гипотез и почему.\n",
    "- [x]  сделайте общий вывод\n",
    "- [x]  в каждом этапе есть выводы\n"
   ]
  }
 ],
 "metadata": {
  "ExecuteTimeLog": [
   {
    "duration": 3,
    "start_time": "2021-08-17T12:53:28.918Z"
   },
   {
    "duration": 1105,
    "start_time": "2021-08-17T13:05:59.984Z"
   },
   {
    "duration": 2,
    "start_time": "2021-08-17T13:27:44.775Z"
   },
   {
    "duration": 376,
    "start_time": "2021-08-17T13:29:39.986Z"
   },
   {
    "duration": 382,
    "start_time": "2021-08-17T13:29:48.805Z"
   },
   {
    "duration": 13,
    "start_time": "2021-08-17T13:29:52.511Z"
   },
   {
    "duration": 21,
    "start_time": "2021-08-17T13:30:10.270Z"
   },
   {
    "duration": 26,
    "start_time": "2021-08-17T13:30:17.322Z"
   },
   {
    "duration": 26,
    "start_time": "2021-08-17T13:30:20.862Z"
   },
   {
    "duration": 17,
    "start_time": "2021-08-17T13:30:33.526Z"
   },
   {
    "duration": 25,
    "start_time": "2021-08-17T13:30:39.374Z"
   },
   {
    "duration": 24,
    "start_time": "2021-08-17T13:30:50.615Z"
   },
   {
    "duration": 13,
    "start_time": "2021-08-17T13:31:00.997Z"
   },
   {
    "duration": 20,
    "start_time": "2021-08-17T13:31:06.150Z"
   },
   {
    "duration": 21,
    "start_time": "2021-08-17T13:31:13.489Z"
   },
   {
    "duration": 6,
    "start_time": "2021-08-17T13:31:23.634Z"
   },
   {
    "duration": 10,
    "start_time": "2021-08-17T13:31:31.373Z"
   },
   {
    "duration": 13,
    "start_time": "2021-08-17T13:31:45.382Z"
   },
   {
    "duration": 16,
    "start_time": "2021-08-17T13:31:53.983Z"
   },
   {
    "duration": 25,
    "start_time": "2021-08-17T14:02:49.153Z"
   },
   {
    "duration": 27,
    "start_time": "2021-08-17T14:04:19.122Z"
   },
   {
    "duration": 14,
    "start_time": "2021-08-17T14:04:24.628Z"
   },
   {
    "duration": 18,
    "start_time": "2021-08-17T14:04:30.132Z"
   },
   {
    "duration": 17,
    "start_time": "2021-08-17T14:04:53.963Z"
   },
   {
    "duration": 20,
    "start_time": "2021-08-17T14:07:04.341Z"
   },
   {
    "duration": 13,
    "start_time": "2021-08-17T14:07:31.024Z"
   },
   {
    "duration": 17,
    "start_time": "2021-08-17T14:07:40.716Z"
   },
   {
    "duration": 421,
    "start_time": "2021-08-17T14:09:11.195Z"
   },
   {
    "duration": 17,
    "start_time": "2021-08-17T14:09:19.372Z"
   },
   {
    "duration": 21,
    "start_time": "2021-08-17T14:11:24.872Z"
   },
   {
    "duration": 31,
    "start_time": "2021-08-17T14:11:30.397Z"
   },
   {
    "duration": 29,
    "start_time": "2021-08-17T14:11:50.095Z"
   },
   {
    "duration": 3,
    "start_time": "2021-08-17T14:12:10.492Z"
   },
   {
    "duration": 366,
    "start_time": "2021-08-17T14:12:11.009Z"
   },
   {
    "duration": 24,
    "start_time": "2021-08-17T14:12:11.377Z"
   },
   {
    "duration": 36,
    "start_time": "2021-08-17T14:12:13.741Z"
   },
   {
    "duration": 28,
    "start_time": "2021-08-17T14:12:20.532Z"
   },
   {
    "duration": 270,
    "start_time": "2021-08-17T14:12:51.283Z"
   },
   {
    "duration": 351,
    "start_time": "2021-08-17T14:13:13.102Z"
   },
   {
    "duration": 15,
    "start_time": "2021-08-17T14:13:17.941Z"
   },
   {
    "duration": 16,
    "start_time": "2021-08-17T14:13:29.318Z"
   },
   {
    "duration": 25,
    "start_time": "2021-08-17T14:17:19.498Z"
   },
   {
    "duration": 16,
    "start_time": "2021-08-17T14:18:49.674Z"
   },
   {
    "duration": 265,
    "start_time": "2021-08-17T14:19:48.604Z"
   },
   {
    "duration": 324,
    "start_time": "2021-08-17T14:20:23.510Z"
   },
   {
    "duration": 4,
    "start_time": "2021-08-17T14:20:54.530Z"
   },
   {
    "duration": 29,
    "start_time": "2021-08-17T14:21:17.330Z"
   },
   {
    "duration": 37,
    "start_time": "2021-08-17T14:21:46.502Z"
   },
   {
    "duration": 43,
    "start_time": "2021-08-17T14:22:32.442Z"
   },
   {
    "duration": 30,
    "start_time": "2021-08-17T14:22:37.505Z"
   },
   {
    "duration": 19,
    "start_time": "2021-08-17T14:23:17.860Z"
   },
   {
    "duration": 41,
    "start_time": "2021-08-17T14:24:40.945Z"
   },
   {
    "duration": 249,
    "start_time": "2021-08-17T14:27:11.594Z"
   },
   {
    "duration": 24,
    "start_time": "2021-08-17T14:27:16.190Z"
   },
   {
    "duration": 44,
    "start_time": "2021-08-17T14:27:35.587Z"
   },
   {
    "duration": 42,
    "start_time": "2021-08-17T14:27:48.071Z"
   },
   {
    "duration": 38,
    "start_time": "2021-08-17T14:28:34.861Z"
   },
   {
    "duration": 34,
    "start_time": "2021-08-17T14:29:13.620Z"
   },
   {
    "duration": 32,
    "start_time": "2021-08-17T14:29:44.733Z"
   },
   {
    "duration": 25,
    "start_time": "2021-08-17T14:30:22.291Z"
   },
   {
    "duration": 25,
    "start_time": "2021-08-17T14:31:00.280Z"
   },
   {
    "duration": 277,
    "start_time": "2021-08-17T14:34:17.080Z"
   },
   {
    "duration": 6783,
    "start_time": "2021-08-17T14:37:42.185Z"
   },
   {
    "duration": 283,
    "start_time": "2021-08-17T14:38:02.178Z"
   },
   {
    "duration": 275,
    "start_time": "2021-08-17T14:38:15.873Z"
   },
   {
    "duration": 68,
    "start_time": "2021-08-17T14:38:32.324Z"
   },
   {
    "duration": -108,
    "start_time": "2021-08-17T14:43:30.231Z"
   },
   {
    "duration": 3,
    "start_time": "2021-08-17T14:43:40.635Z"
   },
   {
    "duration": 367,
    "start_time": "2021-08-17T14:43:41.534Z"
   },
   {
    "duration": 26,
    "start_time": "2021-08-17T14:43:43.119Z"
   },
   {
    "duration": 39,
    "start_time": "2021-08-17T14:43:44.842Z"
   },
   {
    "duration": 21,
    "start_time": "2021-08-17T14:43:46.552Z"
   },
   {
    "duration": 29,
    "start_time": "2021-08-17T14:43:47.951Z"
   },
   {
    "duration": 26,
    "start_time": "2021-08-17T14:43:50.578Z"
   },
   {
    "duration": 56,
    "start_time": "2021-08-17T14:43:51.500Z"
   },
   {
    "duration": 20,
    "start_time": "2021-08-17T14:43:52.445Z"
   },
   {
    "duration": 45,
    "start_time": "2021-08-17T14:43:53.784Z"
   },
   {
    "duration": 26,
    "start_time": "2021-08-17T14:43:55.154Z"
   },
   {
    "duration": 310,
    "start_time": "2021-08-17T14:44:52.658Z"
   },
   {
    "duration": 32,
    "start_time": "2021-08-17T14:45:13.739Z"
   },
   {
    "duration": 30,
    "start_time": "2021-08-17T14:45:21.134Z"
   },
   {
    "duration": 31,
    "start_time": "2021-08-17T14:45:50.866Z"
   },
   {
    "duration": 3,
    "start_time": "2021-08-17T14:48:14.377Z"
   },
   {
    "duration": 373,
    "start_time": "2021-08-17T14:48:17.150Z"
   },
   {
    "duration": 367,
    "start_time": "2021-08-17T14:48:20.084Z"
   },
   {
    "duration": 26,
    "start_time": "2021-08-17T14:48:22.717Z"
   },
   {
    "duration": 36,
    "start_time": "2021-08-17T14:48:25.100Z"
   },
   {
    "duration": 29,
    "start_time": "2021-08-17T14:48:26.475Z"
   },
   {
    "duration": 27,
    "start_time": "2021-08-17T14:48:32.718Z"
   },
   {
    "duration": 26,
    "start_time": "2021-08-17T14:48:40.797Z"
   },
   {
    "duration": 55,
    "start_time": "2021-08-17T14:48:42.201Z"
   },
   {
    "duration": 20,
    "start_time": "2021-08-17T14:48:43.911Z"
   },
   {
    "duration": 51,
    "start_time": "2021-08-17T14:48:44.835Z"
   },
   {
    "duration": 11,
    "start_time": "2021-08-17T14:48:46.105Z"
   },
   {
    "duration": 15,
    "start_time": "2021-08-17T14:48:47.123Z"
   },
   {
    "duration": 46,
    "start_time": "2021-08-17T14:58:53.516Z"
   },
   {
    "duration": 39,
    "start_time": "2021-08-17T14:59:54.536Z"
   },
   {
    "duration": 7528,
    "start_time": "2021-08-17T15:00:10.870Z"
   },
   {
    "duration": 39,
    "start_time": "2021-08-17T15:00:22.018Z"
   },
   {
    "duration": 40,
    "start_time": "2021-08-17T15:00:35.705Z"
   },
   {
    "duration": 3,
    "start_time": "2021-08-17T15:01:17.242Z"
   },
   {
    "duration": 358,
    "start_time": "2021-08-17T15:01:18.018Z"
   },
   {
    "duration": 27,
    "start_time": "2021-08-17T15:01:18.767Z"
   },
   {
    "duration": 42,
    "start_time": "2021-08-17T15:01:19.453Z"
   },
   {
    "duration": 30,
    "start_time": "2021-08-17T15:01:20.016Z"
   },
   {
    "duration": 30,
    "start_time": "2021-08-17T15:01:20.516Z"
   },
   {
    "duration": 26,
    "start_time": "2021-08-17T15:01:21.456Z"
   },
   {
    "duration": 57,
    "start_time": "2021-08-17T15:01:21.974Z"
   },
   {
    "duration": 21,
    "start_time": "2021-08-17T15:01:22.468Z"
   },
   {
    "duration": 45,
    "start_time": "2021-08-17T15:01:23.433Z"
   },
   {
    "duration": 10,
    "start_time": "2021-08-17T15:01:24.148Z"
   },
   {
    "duration": 16,
    "start_time": "2021-08-17T15:01:24.723Z"
   },
   {
    "duration": 1104,
    "start_time": "2021-08-18T07:26:06.837Z"
   },
   {
    "duration": 427,
    "start_time": "2021-08-18T07:26:09.038Z"
   },
   {
    "duration": 34,
    "start_time": "2021-08-18T07:26:10.008Z"
   },
   {
    "duration": 45,
    "start_time": "2021-08-18T07:26:11.115Z"
   },
   {
    "duration": 33,
    "start_time": "2021-08-18T07:26:11.953Z"
   },
   {
    "duration": 34,
    "start_time": "2021-08-18T07:26:12.459Z"
   },
   {
    "duration": 28,
    "start_time": "2021-08-18T07:26:12.864Z"
   },
   {
    "duration": 62,
    "start_time": "2021-08-18T07:26:13.050Z"
   },
   {
    "duration": 22,
    "start_time": "2021-08-18T07:26:13.239Z"
   },
   {
    "duration": 49,
    "start_time": "2021-08-18T07:26:13.421Z"
   },
   {
    "duration": 11,
    "start_time": "2021-08-18T07:26:13.601Z"
   },
   {
    "duration": 16,
    "start_time": "2021-08-18T07:26:14.422Z"
   },
   {
    "duration": 16,
    "start_time": "2021-08-18T07:33:13.030Z"
   },
   {
    "duration": 7,
    "start_time": "2021-08-18T07:34:33.757Z"
   },
   {
    "duration": 10,
    "start_time": "2021-08-18T07:34:38.422Z"
   },
   {
    "duration": 7,
    "start_time": "2021-08-18T07:34:44.504Z"
   },
   {
    "duration": 2318,
    "start_time": "2021-08-18T07:35:56.103Z"
   },
   {
    "duration": 1789,
    "start_time": "2021-08-18T07:36:10.167Z"
   },
   {
    "duration": 1996,
    "start_time": "2021-08-18T07:36:36.433Z"
   },
   {
    "duration": 3,
    "start_time": "2021-08-18T07:37:01.282Z"
   },
   {
    "duration": 423,
    "start_time": "2021-08-18T07:37:01.435Z"
   },
   {
    "duration": 29,
    "start_time": "2021-08-18T07:37:01.860Z"
   },
   {
    "duration": 41,
    "start_time": "2021-08-18T07:37:01.891Z"
   },
   {
    "duration": 52,
    "start_time": "2021-08-18T07:37:01.934Z"
   },
   {
    "duration": 32,
    "start_time": "2021-08-18T07:37:02.049Z"
   },
   {
    "duration": 28,
    "start_time": "2021-08-18T07:37:02.362Z"
   },
   {
    "duration": 62,
    "start_time": "2021-08-18T07:37:02.526Z"
   },
   {
    "duration": 22,
    "start_time": "2021-08-18T07:37:02.670Z"
   },
   {
    "duration": 47,
    "start_time": "2021-08-18T07:37:04.094Z"
   },
   {
    "duration": 11,
    "start_time": "2021-08-18T07:37:06.863Z"
   },
   {
    "duration": 16,
    "start_time": "2021-08-18T07:37:11.319Z"
   },
   {
    "duration": 6,
    "start_time": "2021-08-18T07:37:24.800Z"
   },
   {
    "duration": 9,
    "start_time": "2021-08-18T07:37:33.099Z"
   },
   {
    "duration": 6,
    "start_time": "2021-08-18T07:37:50.396Z"
   },
   {
    "duration": 15,
    "start_time": "2021-08-18T07:37:56.473Z"
   },
   {
    "duration": 16,
    "start_time": "2021-08-18T07:38:40.277Z"
   },
   {
    "duration": 207,
    "start_time": "2021-08-18T07:40:44.866Z"
   },
   {
    "duration": 9,
    "start_time": "2021-08-18T07:41:28.387Z"
   },
   {
    "duration": 519,
    "start_time": "2021-08-18T07:46:36.945Z"
   },
   {
    "duration": 221,
    "start_time": "2021-08-18T07:48:34.960Z"
   },
   {
    "duration": 66,
    "start_time": "2021-08-18T07:48:58.621Z"
   },
   {
    "duration": 58,
    "start_time": "2021-08-18T07:50:47.189Z"
   },
   {
    "duration": 46,
    "start_time": "2021-08-18T07:51:03.589Z"
   },
   {
    "duration": 67,
    "start_time": "2021-08-18T07:51:06.309Z"
   },
   {
    "duration": 148,
    "start_time": "2021-08-18T07:51:18.554Z"
   },
   {
    "duration": 66,
    "start_time": "2021-08-18T07:51:27.859Z"
   },
   {
    "duration": 3,
    "start_time": "2021-08-18T07:52:03.155Z"
   },
   {
    "duration": 395,
    "start_time": "2021-08-18T07:52:04.240Z"
   },
   {
    "duration": 30,
    "start_time": "2021-08-18T07:52:04.837Z"
   },
   {
    "duration": 40,
    "start_time": "2021-08-18T07:52:05.370Z"
   },
   {
    "duration": 33,
    "start_time": "2021-08-18T07:52:05.810Z"
   },
   {
    "duration": 28,
    "start_time": "2021-08-18T07:52:06.186Z"
   },
   {
    "duration": 28,
    "start_time": "2021-08-18T07:52:06.590Z"
   },
   {
    "duration": 64,
    "start_time": "2021-08-18T07:52:07.429Z"
   },
   {
    "duration": 22,
    "start_time": "2021-08-18T07:52:09.487Z"
   },
   {
    "duration": 47,
    "start_time": "2021-08-18T07:52:10.748Z"
   },
   {
    "duration": 11,
    "start_time": "2021-08-18T07:52:13.807Z"
   },
   {
    "duration": 16,
    "start_time": "2021-08-18T07:52:14.669Z"
   },
   {
    "duration": 10,
    "start_time": "2021-08-18T07:52:18.864Z"
   },
   {
    "duration": 206,
    "start_time": "2021-08-18T07:54:53.716Z"
   },
   {
    "duration": 32,
    "start_time": "2021-08-18T07:55:08.110Z"
   },
   {
    "duration": 17,
    "start_time": "2021-08-18T07:55:52.791Z"
   },
   {
    "duration": 34,
    "start_time": "2021-08-18T07:55:56.695Z"
   },
   {
    "duration": 22,
    "start_time": "2021-08-18T07:57:14.036Z"
   },
   {
    "duration": 207,
    "start_time": "2021-08-18T07:59:05.813Z"
   },
   {
    "duration": 28,
    "start_time": "2021-08-18T07:59:14.021Z"
   },
   {
    "duration": 31,
    "start_time": "2021-08-18T07:59:20.998Z"
   },
   {
    "duration": 34,
    "start_time": "2021-08-18T08:00:09.270Z"
   },
   {
    "duration": 45,
    "start_time": "2021-08-18T08:00:15.801Z"
   },
   {
    "duration": 3,
    "start_time": "2021-08-18T08:03:27.397Z"
   },
   {
    "duration": 419,
    "start_time": "2021-08-18T08:03:27.865Z"
   },
   {
    "duration": 28,
    "start_time": "2021-08-18T08:03:28.292Z"
   },
   {
    "duration": 41,
    "start_time": "2021-08-18T08:03:28.570Z"
   },
   {
    "duration": 34,
    "start_time": "2021-08-18T08:03:28.725Z"
   },
   {
    "duration": 31,
    "start_time": "2021-08-18T08:03:28.894Z"
   },
   {
    "duration": 30,
    "start_time": "2021-08-18T08:03:29.485Z"
   },
   {
    "duration": 62,
    "start_time": "2021-08-18T08:03:29.913Z"
   },
   {
    "duration": 22,
    "start_time": "2021-08-18T08:03:30.351Z"
   },
   {
    "duration": 52,
    "start_time": "2021-08-18T08:03:30.756Z"
   },
   {
    "duration": 12,
    "start_time": "2021-08-18T08:03:31.239Z"
   },
   {
    "duration": 16,
    "start_time": "2021-08-18T08:03:32.029Z"
   },
   {
    "duration": 10,
    "start_time": "2021-08-18T08:03:32.487Z"
   },
   {
    "duration": 37,
    "start_time": "2021-08-18T08:03:35.270Z"
   },
   {
    "duration": 30,
    "start_time": "2021-08-18T08:03:44.945Z"
   },
   {
    "duration": 36,
    "start_time": "2021-08-18T08:03:48.951Z"
   },
   {
    "duration": 32,
    "start_time": "2021-08-18T08:04:32.147Z"
   },
   {
    "duration": 27,
    "start_time": "2021-08-18T08:04:44.718Z"
   },
   {
    "duration": 37,
    "start_time": "2021-08-18T08:06:02.341Z"
   },
   {
    "duration": 36,
    "start_time": "2021-08-18T08:08:18.102Z"
   },
   {
    "duration": 8,
    "start_time": "2021-08-18T08:08:29.188Z"
   },
   {
    "duration": 10,
    "start_time": "2021-08-18T08:11:52.178Z"
   },
   {
    "duration": 11,
    "start_time": "2021-08-18T08:12:23.814Z"
   },
   {
    "duration": 195,
    "start_time": "2021-08-18T08:14:02.174Z"
   },
   {
    "duration": 5,
    "start_time": "2021-08-18T08:14:10.183Z"
   },
   {
    "duration": 3,
    "start_time": "2021-08-18T08:14:36.006Z"
   },
   {
    "duration": 405,
    "start_time": "2021-08-18T08:14:36.433Z"
   },
   {
    "duration": 29,
    "start_time": "2021-08-18T08:14:36.840Z"
   },
   {
    "duration": 39,
    "start_time": "2021-08-18T08:14:36.953Z"
   },
   {
    "duration": 32,
    "start_time": "2021-08-18T08:14:37.170Z"
   },
   {
    "duration": 29,
    "start_time": "2021-08-18T08:14:37.395Z"
   },
   {
    "duration": 27,
    "start_time": "2021-08-18T08:14:37.761Z"
   },
   {
    "duration": 63,
    "start_time": "2021-08-18T08:14:37.925Z"
   },
   {
    "duration": 21,
    "start_time": "2021-08-18T08:14:38.090Z"
   },
   {
    "duration": 48,
    "start_time": "2021-08-18T08:14:38.250Z"
   },
   {
    "duration": 11,
    "start_time": "2021-08-18T08:14:38.418Z"
   },
   {
    "duration": 16,
    "start_time": "2021-08-18T08:14:38.601Z"
   },
   {
    "duration": 11,
    "start_time": "2021-08-18T08:14:39.061Z"
   },
   {
    "duration": 37,
    "start_time": "2021-08-18T08:14:39.853Z"
   },
   {
    "duration": 4,
    "start_time": "2021-08-18T08:14:40.729Z"
   },
   {
    "duration": 4370,
    "start_time": "2021-08-18T08:14:46.055Z"
   },
   {
    "duration": 9,
    "start_time": "2021-08-18T08:15:16.771Z"
   },
   {
    "duration": 3,
    "start_time": "2021-08-18T08:15:34.786Z"
   },
   {
    "duration": 403,
    "start_time": "2021-08-18T08:15:35.450Z"
   },
   {
    "duration": 30,
    "start_time": "2021-08-18T08:15:35.855Z"
   },
   {
    "duration": 40,
    "start_time": "2021-08-18T08:15:35.914Z"
   },
   {
    "duration": 31,
    "start_time": "2021-08-18T08:15:36.419Z"
   },
   {
    "duration": 28,
    "start_time": "2021-08-18T08:15:36.823Z"
   },
   {
    "duration": 27,
    "start_time": "2021-08-18T08:15:38.387Z"
   },
   {
    "duration": 60,
    "start_time": "2021-08-18T08:15:38.597Z"
   },
   {
    "duration": 21,
    "start_time": "2021-08-18T08:15:38.752Z"
   },
   {
    "duration": 47,
    "start_time": "2021-08-18T08:15:38.933Z"
   },
   {
    "duration": 12,
    "start_time": "2021-08-18T08:15:43.500Z"
   },
   {
    "duration": 16,
    "start_time": "2021-08-18T08:15:47.837Z"
   },
   {
    "duration": 10,
    "start_time": "2021-08-18T08:15:51.673Z"
   },
   {
    "duration": 38,
    "start_time": "2021-08-18T08:15:56.489Z"
   },
   {
    "duration": 11,
    "start_time": "2021-08-18T08:16:11.967Z"
   },
   {
    "duration": 5184,
    "start_time": "2021-08-18T08:20:45.094Z"
   },
   {
    "duration": 3,
    "start_time": "2021-08-18T08:21:19.003Z"
   },
   {
    "duration": 418,
    "start_time": "2021-08-18T08:21:19.477Z"
   },
   {
    "duration": 28,
    "start_time": "2021-08-18T08:21:19.897Z"
   },
   {
    "duration": 40,
    "start_time": "2021-08-18T08:21:20.134Z"
   },
   {
    "duration": 33,
    "start_time": "2021-08-18T08:21:20.315Z"
   },
   {
    "duration": 31,
    "start_time": "2021-08-18T08:21:20.562Z"
   },
   {
    "duration": 27,
    "start_time": "2021-08-18T08:21:21.029Z"
   },
   {
    "duration": 60,
    "start_time": "2021-08-18T08:21:21.307Z"
   },
   {
    "duration": 20,
    "start_time": "2021-08-18T08:21:21.681Z"
   },
   {
    "duration": 52,
    "start_time": "2021-08-18T08:21:22.492Z"
   },
   {
    "duration": 13,
    "start_time": "2021-08-18T08:21:23.099Z"
   },
   {
    "duration": 18,
    "start_time": "2021-08-18T08:21:23.649Z"
   },
   {
    "duration": 10,
    "start_time": "2021-08-18T08:21:26.800Z"
   },
   {
    "duration": 38,
    "start_time": "2021-08-18T08:21:28.513Z"
   },
   {
    "duration": 11,
    "start_time": "2021-08-18T08:21:35.587Z"
   },
   {
    "duration": 36,
    "start_time": "2021-08-18T08:22:08.629Z"
   },
   {
    "duration": 25,
    "start_time": "2021-08-18T08:22:38.359Z"
   },
   {
    "duration": 13,
    "start_time": "2021-08-18T08:22:44.363Z"
   },
   {
    "duration": 26,
    "start_time": "2021-08-18T08:22:50.907Z"
   },
   {
    "duration": 27,
    "start_time": "2021-08-18T08:24:00.171Z"
   },
   {
    "duration": 144,
    "start_time": "2021-08-18T08:42:08.550Z"
   },
   {
    "duration": 168,
    "start_time": "2021-08-18T08:42:18.785Z"
   },
   {
    "duration": 166,
    "start_time": "2021-08-18T08:44:38.598Z"
   },
   {
    "duration": 159,
    "start_time": "2021-08-18T08:46:38.101Z"
   },
   {
    "duration": 164,
    "start_time": "2021-08-18T08:47:08.940Z"
   },
   {
    "duration": 161,
    "start_time": "2021-08-18T08:47:33.657Z"
   },
   {
    "duration": 176,
    "start_time": "2021-08-18T08:48:22.999Z"
   },
   {
    "duration": 161,
    "start_time": "2021-08-18T08:48:45.314Z"
   },
   {
    "duration": 162,
    "start_time": "2021-08-18T08:48:58.378Z"
   },
   {
    "duration": 167,
    "start_time": "2021-08-18T08:50:57.009Z"
   },
   {
    "duration": 173,
    "start_time": "2021-08-18T08:51:23.156Z"
   },
   {
    "duration": 64,
    "start_time": "2021-08-18T08:54:20.798Z"
   },
   {
    "duration": 66,
    "start_time": "2021-08-18T08:54:46.732Z"
   },
   {
    "duration": 815,
    "start_time": "2021-08-18T08:55:32.334Z"
   },
   {
    "duration": 325,
    "start_time": "2021-08-18T08:56:26.818Z"
   },
   {
    "duration": 329,
    "start_time": "2021-08-18T09:04:41.250Z"
   },
   {
    "duration": 2885,
    "start_time": "2021-08-18T09:04:55.309Z"
   },
   {
    "duration": 4285,
    "start_time": "2021-08-18T09:09:31.619Z"
   },
   {
    "duration": 308,
    "start_time": "2021-08-18T09:09:45.893Z"
   },
   {
    "duration": 194,
    "start_time": "2021-08-18T09:13:37.331Z"
   },
   {
    "duration": 206,
    "start_time": "2021-08-18T09:13:41.620Z"
   },
   {
    "duration": 395,
    "start_time": "2021-08-18T09:14:14.328Z"
   },
   {
    "duration": 215,
    "start_time": "2021-08-18T09:14:22.682Z"
   },
   {
    "duration": 205,
    "start_time": "2021-08-18T09:16:05.075Z"
   },
   {
    "duration": 210,
    "start_time": "2021-08-18T09:16:09.017Z"
   },
   {
    "duration": 196,
    "start_time": "2021-08-18T09:19:27.861Z"
   },
   {
    "duration": 9,
    "start_time": "2021-08-18T09:20:16.039Z"
   },
   {
    "duration": 23,
    "start_time": "2021-08-18T09:20:24.713Z"
   },
   {
    "duration": 26,
    "start_time": "2021-08-18T09:21:20.844Z"
   },
   {
    "duration": 26,
    "start_time": "2021-08-18T09:24:08.722Z"
   },
   {
    "duration": 25,
    "start_time": "2021-08-18T09:28:20.139Z"
   },
   {
    "duration": 29,
    "start_time": "2021-08-18T09:30:08.983Z"
   },
   {
    "duration": 186,
    "start_time": "2021-08-18T09:36:16.031Z"
   },
   {
    "duration": 28,
    "start_time": "2021-08-18T09:37:49.621Z"
   },
   {
    "duration": 32,
    "start_time": "2021-08-18T09:38:08.087Z"
   },
   {
    "duration": 31,
    "start_time": "2021-08-18T09:38:57.533Z"
   },
   {
    "duration": 3,
    "start_time": "2021-08-18T09:41:06.460Z"
   },
   {
    "duration": 463,
    "start_time": "2021-08-18T09:41:12.592Z"
   },
   {
    "duration": 29,
    "start_time": "2021-08-18T09:41:13.058Z"
   },
   {
    "duration": 42,
    "start_time": "2021-08-18T09:41:13.216Z"
   },
   {
    "duration": 32,
    "start_time": "2021-08-18T09:41:13.409Z"
   },
   {
    "duration": 28,
    "start_time": "2021-08-18T09:41:13.575Z"
   },
   {
    "duration": 27,
    "start_time": "2021-08-18T09:41:13.738Z"
   },
   {
    "duration": 60,
    "start_time": "2021-08-18T09:41:13.921Z"
   },
   {
    "duration": 21,
    "start_time": "2021-08-18T09:41:14.099Z"
   },
   {
    "duration": 50,
    "start_time": "2021-08-18T09:41:14.241Z"
   },
   {
    "duration": 12,
    "start_time": "2021-08-18T09:41:14.408Z"
   },
   {
    "duration": 18,
    "start_time": "2021-08-18T09:41:14.586Z"
   },
   {
    "duration": 11,
    "start_time": "2021-08-18T09:41:14.758Z"
   },
   {
    "duration": 38,
    "start_time": "2021-08-18T09:41:14.936Z"
   },
   {
    "duration": 10,
    "start_time": "2021-08-18T09:41:15.129Z"
   },
   {
    "duration": 26,
    "start_time": "2021-08-18T09:41:15.328Z"
   },
   {
    "duration": 193,
    "start_time": "2021-08-18T09:41:15.522Z"
   },
   {
    "duration": 26,
    "start_time": "2021-08-18T09:41:18.547Z"
   },
   {
    "duration": 28,
    "start_time": "2021-08-18T09:41:26.621Z"
   },
   {
    "duration": 3,
    "start_time": "2021-08-18T09:45:26.013Z"
   },
   {
    "duration": 461,
    "start_time": "2021-08-18T09:45:26.196Z"
   },
   {
    "duration": 29,
    "start_time": "2021-08-18T09:45:26.659Z"
   },
   {
    "duration": 40,
    "start_time": "2021-08-18T09:45:26.690Z"
   },
   {
    "duration": 34,
    "start_time": "2021-08-18T09:45:26.772Z"
   },
   {
    "duration": 31,
    "start_time": "2021-08-18T09:45:26.954Z"
   },
   {
    "duration": 30,
    "start_time": "2021-08-18T09:45:27.114Z"
   },
   {
    "duration": 64,
    "start_time": "2021-08-18T09:45:27.291Z"
   },
   {
    "duration": 22,
    "start_time": "2021-08-18T09:45:27.465Z"
   },
   {
    "duration": 50,
    "start_time": "2021-08-18T09:45:27.639Z"
   },
   {
    "duration": 12,
    "start_time": "2021-08-18T09:45:27.802Z"
   },
   {
    "duration": 16,
    "start_time": "2021-08-18T09:45:27.984Z"
   },
   {
    "duration": 11,
    "start_time": "2021-08-18T09:45:28.150Z"
   },
   {
    "duration": 43,
    "start_time": "2021-08-18T09:45:28.298Z"
   },
   {
    "duration": 11,
    "start_time": "2021-08-18T09:45:28.469Z"
   },
   {
    "duration": 25,
    "start_time": "2021-08-18T09:45:29.667Z"
   },
   {
    "duration": 190,
    "start_time": "2021-08-18T09:45:30.331Z"
   },
   {
    "duration": 25,
    "start_time": "2021-08-18T09:45:31.433Z"
   },
   {
    "duration": 23,
    "start_time": "2021-08-18T09:45:34.075Z"
   },
   {
    "duration": 3,
    "start_time": "2021-08-18T09:46:20.325Z"
   },
   {
    "duration": 446,
    "start_time": "2021-08-18T09:46:20.521Z"
   },
   {
    "duration": 29,
    "start_time": "2021-08-18T09:46:20.969Z"
   },
   {
    "duration": 42,
    "start_time": "2021-08-18T09:46:21.000Z"
   },
   {
    "duration": 33,
    "start_time": "2021-08-18T09:46:21.127Z"
   },
   {
    "duration": 31,
    "start_time": "2021-08-18T09:46:21.469Z"
   },
   {
    "duration": 30,
    "start_time": "2021-08-18T09:46:22.316Z"
   },
   {
    "duration": 64,
    "start_time": "2021-08-18T09:46:24.432Z"
   },
   {
    "duration": 23,
    "start_time": "2021-08-18T09:46:24.719Z"
   },
   {
    "duration": 50,
    "start_time": "2021-08-18T09:46:25.086Z"
   },
   {
    "duration": 12,
    "start_time": "2021-08-18T09:46:25.303Z"
   },
   {
    "duration": 26,
    "start_time": "2021-08-18T09:46:25.540Z"
   },
   {
    "duration": 17,
    "start_time": "2021-08-18T09:46:25.848Z"
   },
   {
    "duration": 40,
    "start_time": "2021-08-18T09:46:26.132Z"
   },
   {
    "duration": 11,
    "start_time": "2021-08-18T09:46:26.303Z"
   },
   {
    "duration": 26,
    "start_time": "2021-08-18T09:46:26.509Z"
   },
   {
    "duration": 199,
    "start_time": "2021-08-18T09:46:26.698Z"
   },
   {
    "duration": 26,
    "start_time": "2021-08-18T09:46:27.060Z"
   },
   {
    "duration": 26,
    "start_time": "2021-08-18T09:46:31.327Z"
   },
   {
    "duration": 3,
    "start_time": "2021-08-18T09:52:07.286Z"
   },
   {
    "duration": 397,
    "start_time": "2021-08-18T09:52:07.472Z"
   },
   {
    "duration": 27,
    "start_time": "2021-08-18T09:52:07.871Z"
   },
   {
    "duration": 39,
    "start_time": "2021-08-18T09:52:07.900Z"
   },
   {
    "duration": 32,
    "start_time": "2021-08-18T09:52:08.024Z"
   },
   {
    "duration": 31,
    "start_time": "2021-08-18T09:52:08.193Z"
   },
   {
    "duration": 28,
    "start_time": "2021-08-18T09:52:08.363Z"
   },
   {
    "duration": 63,
    "start_time": "2021-08-18T09:52:08.524Z"
   },
   {
    "duration": 22,
    "start_time": "2021-08-18T09:52:08.699Z"
   },
   {
    "duration": 48,
    "start_time": "2021-08-18T09:52:08.887Z"
   },
   {
    "duration": 12,
    "start_time": "2021-08-18T09:52:09.068Z"
   },
   {
    "duration": 17,
    "start_time": "2021-08-18T09:52:09.236Z"
   },
   {
    "duration": 10,
    "start_time": "2021-08-18T09:52:09.443Z"
   },
   {
    "duration": 40,
    "start_time": "2021-08-18T09:52:09.988Z"
   },
   {
    "duration": 11,
    "start_time": "2021-08-18T09:52:10.251Z"
   },
   {
    "duration": 24,
    "start_time": "2021-08-18T09:52:10.674Z"
   },
   {
    "duration": 193,
    "start_time": "2021-08-18T09:52:11.506Z"
   },
   {
    "duration": 23,
    "start_time": "2021-08-18T09:52:12.429Z"
   },
   {
    "duration": 32,
    "start_time": "2021-08-18T09:52:25.039Z"
   },
   {
    "duration": 32,
    "start_time": "2021-08-18T09:54:07.362Z"
   },
   {
    "duration": 24,
    "start_time": "2021-08-18T09:55:07.107Z"
   },
   {
    "duration": 33,
    "start_time": "2021-08-18T09:55:40.531Z"
   },
   {
    "duration": 19,
    "start_time": "2021-08-18T09:56:47.627Z"
   },
   {
    "duration": 1106,
    "start_time": "2021-08-18T09:58:19.347Z"
   },
   {
    "duration": 694,
    "start_time": "2021-08-18T09:59:52.156Z"
   },
   {
    "duration": 30,
    "start_time": "2021-08-18T10:00:18.079Z"
   },
   {
    "duration": 1282,
    "start_time": "2021-08-18T10:00:31.234Z"
   },
   {
    "duration": 175,
    "start_time": "2021-08-18T10:01:06.663Z"
   },
   {
    "duration": 184,
    "start_time": "2021-08-18T10:01:15.819Z"
   },
   {
    "duration": 248,
    "start_time": "2021-08-18T10:01:25.464Z"
   },
   {
    "duration": 259,
    "start_time": "2021-08-18T10:02:17.078Z"
   },
   {
    "duration": 18,
    "start_time": "2021-08-18T10:05:44.204Z"
   },
   {
    "duration": 195,
    "start_time": "2021-08-18T10:06:11.853Z"
   },
   {
    "duration": 289,
    "start_time": "2021-08-18T10:06:22.645Z"
   },
   {
    "duration": 651,
    "start_time": "2021-08-18T10:24:01.174Z"
   },
   {
    "duration": 21,
    "start_time": "2021-08-18T10:25:26.764Z"
   },
   {
    "duration": 188,
    "start_time": "2021-08-18T10:26:31.775Z"
   },
   {
    "duration": 195,
    "start_time": "2021-08-18T10:26:40.113Z"
   },
   {
    "duration": 4697,
    "start_time": "2021-08-18T10:27:17.811Z"
   },
   {
    "duration": 205,
    "start_time": "2021-08-18T10:29:20.984Z"
   },
   {
    "duration": 204,
    "start_time": "2021-08-18T10:29:31.605Z"
   },
   {
    "duration": 353,
    "start_time": "2021-08-18T10:30:19.771Z"
   },
   {
    "duration": 333,
    "start_time": "2021-08-18T10:30:31.778Z"
   },
   {
    "duration": 370,
    "start_time": "2021-08-18T10:30:48.037Z"
   },
   {
    "duration": 340,
    "start_time": "2021-08-18T10:30:59.201Z"
   },
   {
    "duration": 208,
    "start_time": "2021-08-18T10:34:27.744Z"
   },
   {
    "duration": 3388,
    "start_time": "2021-08-18T10:34:38.596Z"
   },
   {
    "duration": 439,
    "start_time": "2021-08-18T10:36:47.485Z"
   },
   {
    "duration": 606,
    "start_time": "2021-08-18T10:37:07.101Z"
   },
   {
    "duration": 181,
    "start_time": "2021-08-18T10:37:26.585Z"
   },
   {
    "duration": 438,
    "start_time": "2021-08-18T10:37:33.773Z"
   },
   {
    "duration": 23,
    "start_time": "2021-08-18T10:41:31.447Z"
   },
   {
    "duration": 13,
    "start_time": "2021-08-18T10:42:16.188Z"
   },
   {
    "duration": 17,
    "start_time": "2021-08-18T10:42:34.817Z"
   },
   {
    "duration": 208,
    "start_time": "2021-08-18T10:43:02.278Z"
   },
   {
    "duration": 258,
    "start_time": "2021-08-18T10:43:55.758Z"
   },
   {
    "duration": 237,
    "start_time": "2021-08-18T10:44:10.640Z"
   },
   {
    "duration": 495,
    "start_time": "2021-08-18T10:46:50.319Z"
   },
   {
    "duration": 759,
    "start_time": "2021-08-18T10:49:27.238Z"
   },
   {
    "duration": 463,
    "start_time": "2021-08-18T10:49:38.028Z"
   },
   {
    "duration": 194,
    "start_time": "2021-08-18T10:50:34.105Z"
   },
   {
    "duration": 187,
    "start_time": "2021-08-18T10:50:43.257Z"
   },
   {
    "duration": 28,
    "start_time": "2021-08-18T10:50:53.587Z"
   },
   {
    "duration": 21,
    "start_time": "2021-08-18T10:51:09.638Z"
   },
   {
    "duration": 21,
    "start_time": "2021-08-18T10:51:13.248Z"
   },
   {
    "duration": 209,
    "start_time": "2021-08-18T10:51:27.903Z"
   },
   {
    "duration": 222,
    "start_time": "2021-08-18T10:51:49.259Z"
   },
   {
    "duration": 212,
    "start_time": "2021-08-18T10:52:02.366Z"
   },
   {
    "duration": 442,
    "start_time": "2021-08-18T10:52:25.457Z"
   },
   {
    "duration": 224,
    "start_time": "2021-08-18T10:52:49.163Z"
   },
   {
    "duration": 287,
    "start_time": "2021-08-18T10:53:05.357Z"
   },
   {
    "duration": 362,
    "start_time": "2021-08-18T10:53:11.346Z"
   },
   {
    "duration": 350,
    "start_time": "2021-08-18T10:53:39.261Z"
   },
   {
    "duration": 425,
    "start_time": "2021-08-18T10:56:46.108Z"
   },
   {
    "duration": 641,
    "start_time": "2021-08-18T10:56:59.613Z"
   },
   {
    "duration": 242,
    "start_time": "2021-08-18T10:57:13.525Z"
   },
   {
    "duration": 409,
    "start_time": "2021-08-18T10:58:40.771Z"
   },
   {
    "duration": 246,
    "start_time": "2021-08-18T10:58:54.417Z"
   },
   {
    "duration": 243,
    "start_time": "2021-08-18T10:58:59.099Z"
   },
   {
    "duration": 239,
    "start_time": "2021-08-18T10:59:02.919Z"
   },
   {
    "duration": 251,
    "start_time": "2021-08-18T10:59:24.423Z"
   },
   {
    "duration": 9,
    "start_time": "2021-08-18T11:00:00.164Z"
   },
   {
    "duration": 469,
    "start_time": "2021-08-18T11:00:24.301Z"
   },
   {
    "duration": 617,
    "start_time": "2021-08-18T11:00:28.982Z"
   },
   {
    "duration": 262,
    "start_time": "2021-08-18T11:00:32.505Z"
   },
   {
    "duration": 361,
    "start_time": "2021-08-18T11:00:36.268Z"
   },
   {
    "duration": 271,
    "start_time": "2021-08-18T11:00:40.422Z"
   },
   {
    "duration": 5,
    "start_time": "2021-08-18T11:01:23.487Z"
   },
   {
    "duration": 486,
    "start_time": "2021-08-18T11:01:23.790Z"
   },
   {
    "duration": 32,
    "start_time": "2021-08-18T11:01:24.278Z"
   },
   {
    "duration": 49,
    "start_time": "2021-08-18T11:01:24.318Z"
   },
   {
    "duration": 35,
    "start_time": "2021-08-18T11:01:24.520Z"
   },
   {
    "duration": 34,
    "start_time": "2021-08-18T11:01:24.724Z"
   },
   {
    "duration": 48,
    "start_time": "2021-08-18T11:01:24.974Z"
   },
   {
    "duration": 93,
    "start_time": "2021-08-18T11:01:25.266Z"
   },
   {
    "duration": 30,
    "start_time": "2021-08-18T11:01:25.567Z"
   },
   {
    "duration": 50,
    "start_time": "2021-08-18T11:01:25.895Z"
   },
   {
    "duration": 12,
    "start_time": "2021-08-18T11:01:26.507Z"
   },
   {
    "duration": 20,
    "start_time": "2021-08-18T11:01:27.025Z"
   },
   {
    "duration": 13,
    "start_time": "2021-08-18T11:01:27.530Z"
   },
   {
    "duration": 40,
    "start_time": "2021-08-18T11:01:28.081Z"
   },
   {
    "duration": 12,
    "start_time": "2021-08-18T11:01:28.794Z"
   },
   {
    "duration": 25,
    "start_time": "2021-08-18T11:01:29.668Z"
   },
   {
    "duration": 209,
    "start_time": "2021-08-18T11:01:30.185Z"
   },
   {
    "duration": 25,
    "start_time": "2021-08-18T11:01:30.396Z"
   },
   {
    "duration": 31,
    "start_time": "2021-08-18T11:01:30.826Z"
   },
   {
    "duration": 26,
    "start_time": "2021-08-18T11:01:31.613Z"
   },
   {
    "duration": 10,
    "start_time": "2021-08-18T11:01:32.193Z"
   },
   {
    "duration": 287,
    "start_time": "2021-08-18T11:01:33.082Z"
   },
   {
    "duration": 243,
    "start_time": "2021-08-18T11:01:33.853Z"
   },
   {
    "duration": 251,
    "start_time": "2021-08-18T11:01:35.378Z"
   },
   {
    "duration": 243,
    "start_time": "2021-08-18T11:03:12.057Z"
   },
   {
    "duration": 21,
    "start_time": "2021-08-18T11:11:02.513Z"
   },
   {
    "duration": 23,
    "start_time": "2021-08-18T11:11:21.476Z"
   },
   {
    "duration": 252,
    "start_time": "2021-08-18T11:40:25.765Z"
   },
   {
    "duration": 244,
    "start_time": "2021-08-18T11:40:29.390Z"
   },
   {
    "duration": 180,
    "start_time": "2021-08-18T11:42:30.594Z"
   },
   {
    "duration": 23,
    "start_time": "2021-08-18T11:43:37.307Z"
   },
   {
    "duration": 7,
    "start_time": "2021-08-18T11:44:18.867Z"
   },
   {
    "duration": 10,
    "start_time": "2021-08-18T11:44:33.180Z"
   },
   {
    "duration": 11,
    "start_time": "2021-08-18T11:44:54.408Z"
   },
   {
    "duration": 21,
    "start_time": "2021-08-18T11:46:00.092Z"
   },
   {
    "duration": 18,
    "start_time": "2021-08-18T11:46:28.429Z"
   },
   {
    "duration": 23,
    "start_time": "2021-08-18T11:47:04.952Z"
   },
   {
    "duration": 3,
    "start_time": "2021-08-18T11:52:45.149Z"
   },
   {
    "duration": 437,
    "start_time": "2021-08-18T11:52:45.660Z"
   },
   {
    "duration": 31,
    "start_time": "2021-08-18T11:52:46.116Z"
   },
   {
    "duration": 43,
    "start_time": "2021-08-18T11:52:46.609Z"
   },
   {
    "duration": 32,
    "start_time": "2021-08-18T11:52:47.103Z"
   },
   {
    "duration": 31,
    "start_time": "2021-08-18T11:52:47.577Z"
   },
   {
    "duration": 29,
    "start_time": "2021-08-18T11:52:48.058Z"
   },
   {
    "duration": 66,
    "start_time": "2021-08-18T11:52:48.570Z"
   },
   {
    "duration": 21,
    "start_time": "2021-08-18T11:52:48.959Z"
   },
   {
    "duration": 49,
    "start_time": "2021-08-18T11:52:49.461Z"
   },
   {
    "duration": 12,
    "start_time": "2021-08-18T11:52:49.943Z"
   },
   {
    "duration": 17,
    "start_time": "2021-08-18T11:52:50.414Z"
   },
   {
    "duration": 10,
    "start_time": "2021-08-18T11:52:50.976Z"
   },
   {
    "duration": 39,
    "start_time": "2021-08-18T11:52:51.461Z"
   },
   {
    "duration": 10,
    "start_time": "2021-08-18T11:52:52.181Z"
   },
   {
    "duration": 25,
    "start_time": "2021-08-18T11:52:52.856Z"
   },
   {
    "duration": 197,
    "start_time": "2021-08-18T11:52:53.667Z"
   },
   {
    "duration": 25,
    "start_time": "2021-08-18T11:52:55.007Z"
   },
   {
    "duration": 32,
    "start_time": "2021-08-18T11:52:56.490Z"
   },
   {
    "duration": 26,
    "start_time": "2021-08-18T11:52:57.300Z"
   },
   {
    "duration": 21,
    "start_time": "2021-08-18T11:52:58.257Z"
   },
   {
    "duration": 249,
    "start_time": "2021-08-18T11:52:59.301Z"
   },
   {
    "duration": 239,
    "start_time": "2021-08-18T11:53:00.291Z"
   },
   {
    "duration": 237,
    "start_time": "2021-08-18T11:53:01.135Z"
   },
   {
    "duration": 20,
    "start_time": "2021-08-18T11:53:04.600Z"
   },
   {
    "duration": 23,
    "start_time": "2021-08-18T11:53:55.654Z"
   },
   {
    "duration": 23,
    "start_time": "2021-08-18T11:56:50.987Z"
   },
   {
    "duration": 20,
    "start_time": "2021-08-18T11:56:53.716Z"
   },
   {
    "duration": 9,
    "start_time": "2021-08-18T11:57:31.362Z"
   },
   {
    "duration": 19,
    "start_time": "2021-08-18T11:57:35.725Z"
   },
   {
    "duration": 18,
    "start_time": "2021-08-18T11:57:43.958Z"
   },
   {
    "duration": 6,
    "start_time": "2021-08-18T12:00:42.625Z"
   },
   {
    "duration": 5,
    "start_time": "2021-08-18T12:02:20.735Z"
   },
   {
    "duration": 5,
    "start_time": "2021-08-18T12:09:39.489Z"
   },
   {
    "duration": 198,
    "start_time": "2021-08-18T12:16:09.092Z"
   },
   {
    "duration": 174,
    "start_time": "2021-08-18T12:18:20.508Z"
   },
   {
    "duration": 40,
    "start_time": "2021-08-18T12:19:04.862Z"
   },
   {
    "duration": 3,
    "start_time": "2021-08-18T12:19:17.278Z"
   },
   {
    "duration": 435,
    "start_time": "2021-08-18T12:19:17.778Z"
   },
   {
    "duration": 29,
    "start_time": "2021-08-18T12:19:18.664Z"
   },
   {
    "duration": 39,
    "start_time": "2021-08-18T12:19:18.694Z"
   },
   {
    "duration": 32,
    "start_time": "2021-08-18T12:19:18.736Z"
   },
   {
    "duration": 29,
    "start_time": "2021-08-18T12:19:18.785Z"
   },
   {
    "duration": 26,
    "start_time": "2021-08-18T12:19:18.815Z"
   },
   {
    "duration": 63,
    "start_time": "2021-08-18T12:19:18.926Z"
   },
   {
    "duration": 21,
    "start_time": "2021-08-18T12:19:19.103Z"
   },
   {
    "duration": 47,
    "start_time": "2021-08-18T12:19:19.262Z"
   },
   {
    "duration": 11,
    "start_time": "2021-08-18T12:19:19.438Z"
   },
   {
    "duration": 16,
    "start_time": "2021-08-18T12:19:19.602Z"
   },
   {
    "duration": 11,
    "start_time": "2021-08-18T12:19:19.768Z"
   },
   {
    "duration": 40,
    "start_time": "2021-08-18T12:19:19.941Z"
   },
   {
    "duration": 11,
    "start_time": "2021-08-18T12:19:20.121Z"
   },
   {
    "duration": 27,
    "start_time": "2021-08-18T12:19:20.300Z"
   },
   {
    "duration": 197,
    "start_time": "2021-08-18T12:19:20.496Z"
   },
   {
    "duration": 24,
    "start_time": "2021-08-18T12:19:20.695Z"
   },
   {
    "duration": 31,
    "start_time": "2021-08-18T12:19:21.468Z"
   },
   {
    "duration": 26,
    "start_time": "2021-08-18T12:19:21.648Z"
   },
   {
    "duration": 22,
    "start_time": "2021-08-18T12:19:21.816Z"
   },
   {
    "duration": 240,
    "start_time": "2021-08-18T12:19:21.988Z"
   },
   {
    "duration": 237,
    "start_time": "2021-08-18T12:19:23.050Z"
   },
   {
    "duration": 244,
    "start_time": "2021-08-18T12:19:23.440Z"
   },
   {
    "duration": 20,
    "start_time": "2021-08-18T12:19:26.324Z"
   },
   {
    "duration": 18,
    "start_time": "2021-08-18T12:19:38.417Z"
   },
   {
    "duration": 5,
    "start_time": "2021-08-18T12:19:45.652Z"
   },
   {
    "duration": 2,
    "start_time": "2021-08-18T12:19:53.448Z"
   },
   {
    "duration": 20,
    "start_time": "2021-08-18T12:20:45.132Z"
   },
   {
    "duration": 20,
    "start_time": "2021-08-18T12:21:04.111Z"
   },
   {
    "duration": 16,
    "start_time": "2021-08-18T12:21:37.358Z"
   },
   {
    "duration": 17,
    "start_time": "2021-08-18T12:21:57.015Z"
   },
   {
    "duration": 5,
    "start_time": "2021-08-18T12:24:12.846Z"
   },
   {
    "duration": 5,
    "start_time": "2021-08-18T12:24:28.782Z"
   },
   {
    "duration": 4,
    "start_time": "2021-08-18T12:24:38.051Z"
   },
   {
    "duration": 5,
    "start_time": "2021-08-18T12:24:39.681Z"
   },
   {
    "duration": 4,
    "start_time": "2021-08-18T12:24:49.128Z"
   },
   {
    "duration": 5,
    "start_time": "2021-08-18T12:24:51.768Z"
   },
   {
    "duration": 4,
    "start_time": "2021-08-18T12:26:22.401Z"
   },
   {
    "duration": 5,
    "start_time": "2021-08-18T12:26:27.479Z"
   },
   {
    "duration": 5,
    "start_time": "2021-08-18T12:26:34.489Z"
   },
   {
    "duration": 4,
    "start_time": "2021-08-18T12:31:00.733Z"
   },
   {
    "duration": 4,
    "start_time": "2021-08-18T12:31:17.610Z"
   },
   {
    "duration": 5,
    "start_time": "2021-08-18T12:34:02.161Z"
   },
   {
    "duration": 4,
    "start_time": "2021-08-18T12:50:44.717Z"
   },
   {
    "duration": 22,
    "start_time": "2021-08-18T13:01:17.583Z"
   },
   {
    "duration": 25,
    "start_time": "2021-08-18T13:01:24.349Z"
   },
   {
    "duration": 3,
    "start_time": "2021-08-18T13:04:06.197Z"
   },
   {
    "duration": 422,
    "start_time": "2021-08-18T13:04:06.636Z"
   },
   {
    "duration": 33,
    "start_time": "2021-08-18T13:04:07.386Z"
   },
   {
    "duration": 40,
    "start_time": "2021-08-18T13:04:07.915Z"
   },
   {
    "duration": 42,
    "start_time": "2021-08-18T13:04:08.163Z"
   },
   {
    "duration": 33,
    "start_time": "2021-08-18T13:04:08.365Z"
   },
   {
    "duration": 36,
    "start_time": "2021-08-18T13:04:08.576Z"
   },
   {
    "duration": 61,
    "start_time": "2021-08-18T13:04:08.797Z"
   },
   {
    "duration": 23,
    "start_time": "2021-08-18T13:04:08.968Z"
   },
   {
    "duration": 55,
    "start_time": "2021-08-18T13:04:09.145Z"
   },
   {
    "duration": 12,
    "start_time": "2021-08-18T13:04:09.328Z"
   },
   {
    "duration": 16,
    "start_time": "2021-08-18T13:04:09.540Z"
   },
   {
    "duration": 11,
    "start_time": "2021-08-18T13:04:10.000Z"
   },
   {
    "duration": 39,
    "start_time": "2021-08-18T13:04:10.311Z"
   },
   {
    "duration": 13,
    "start_time": "2021-08-18T13:04:10.490Z"
   },
   {
    "duration": 25,
    "start_time": "2021-08-18T13:04:10.712Z"
   },
   {
    "duration": 211,
    "start_time": "2021-08-18T13:04:10.888Z"
   },
   {
    "duration": 26,
    "start_time": "2021-08-18T13:04:11.101Z"
   },
   {
    "duration": 39,
    "start_time": "2021-08-18T13:04:11.574Z"
   },
   {
    "duration": 28,
    "start_time": "2021-08-18T13:04:11.738Z"
   },
   {
    "duration": 26,
    "start_time": "2021-08-18T13:04:11.906Z"
   },
   {
    "duration": 250,
    "start_time": "2021-08-18T13:04:12.095Z"
   },
   {
    "duration": 255,
    "start_time": "2021-08-18T13:04:12.347Z"
   },
   {
    "duration": 244,
    "start_time": "2021-08-18T13:04:12.604Z"
   },
   {
    "duration": 20,
    "start_time": "2021-08-18T13:04:13.010Z"
   },
   {
    "duration": 18,
    "start_time": "2021-08-18T13:04:13.202Z"
   },
   {
    "duration": 7,
    "start_time": "2021-08-18T13:04:13.591Z"
   },
   {
    "duration": 2,
    "start_time": "2021-08-18T13:04:14.230Z"
   },
   {
    "duration": 21,
    "start_time": "2021-08-18T13:04:14.550Z"
   },
   {
    "duration": 16,
    "start_time": "2021-08-18T13:04:15.120Z"
   },
   {
    "duration": 21,
    "start_time": "2021-08-18T13:04:15.581Z"
   },
   {
    "duration": 6,
    "start_time": "2021-08-18T13:04:16.727Z"
   },
   {
    "duration": 5,
    "start_time": "2021-08-18T13:04:17.695Z"
   },
   {
    "duration": 1495,
    "start_time": "2021-08-18T13:45:01.068Z"
   },
   {
    "duration": 572,
    "start_time": "2021-08-18T13:45:02.566Z"
   },
   {
    "duration": 46,
    "start_time": "2021-08-18T13:45:03.140Z"
   },
   {
    "duration": 65,
    "start_time": "2021-08-18T13:45:03.188Z"
   },
   {
    "duration": 63,
    "start_time": "2021-08-18T13:45:03.256Z"
   },
   {
    "duration": 46,
    "start_time": "2021-08-18T13:45:03.321Z"
   },
   {
    "duration": 51,
    "start_time": "2021-08-18T13:45:03.369Z"
   },
   {
    "duration": 116,
    "start_time": "2021-08-18T13:45:03.424Z"
   },
   {
    "duration": 28,
    "start_time": "2021-08-18T13:45:03.542Z"
   },
   {
    "duration": 69,
    "start_time": "2021-08-18T13:45:03.585Z"
   },
   {
    "duration": 32,
    "start_time": "2021-08-18T13:45:03.656Z"
   },
   {
    "duration": 106,
    "start_time": "2021-08-18T13:45:03.690Z"
   },
   {
    "duration": 234,
    "start_time": "2021-08-18T13:45:03.798Z"
   },
   {
    "duration": 72,
    "start_time": "2021-08-18T13:45:04.035Z"
   },
   {
    "duration": 14,
    "start_time": "2021-08-18T13:45:04.110Z"
   },
   {
    "duration": 61,
    "start_time": "2021-08-18T13:45:04.126Z"
   },
   {
    "duration": 352,
    "start_time": "2021-08-18T13:45:04.190Z"
   },
   {
    "duration": 53,
    "start_time": "2021-08-18T13:45:04.545Z"
   },
   {
    "duration": 53,
    "start_time": "2021-08-18T13:45:04.600Z"
   },
   {
    "duration": 52,
    "start_time": "2021-08-18T13:45:04.656Z"
   },
   {
    "duration": 29,
    "start_time": "2021-08-18T13:45:04.711Z"
   },
   {
    "duration": 396,
    "start_time": "2021-08-18T13:45:04.743Z"
   },
   {
    "duration": 363,
    "start_time": "2021-08-18T13:45:05.144Z"
   },
   {
    "duration": 376,
    "start_time": "2021-08-18T13:45:05.509Z"
   },
   {
    "duration": 29,
    "start_time": "2021-08-18T13:45:05.887Z"
   },
   {
    "duration": 24,
    "start_time": "2021-08-18T13:45:05.918Z"
   },
   {
    "duration": 16,
    "start_time": "2021-08-18T13:45:05.944Z"
   },
   {
    "duration": 3,
    "start_time": "2021-08-18T13:45:05.986Z"
   },
   {
    "duration": 34,
    "start_time": "2021-08-18T13:45:05.992Z"
   },
   {
    "duration": 22,
    "start_time": "2021-08-18T13:45:06.029Z"
   },
   {
    "duration": 23,
    "start_time": "2021-08-18T13:45:06.087Z"
   },
   {
    "duration": 9,
    "start_time": "2021-08-18T13:45:06.113Z"
   },
   {
    "duration": 9,
    "start_time": "2021-08-18T13:45:06.125Z"
   },
   {
    "duration": 9,
    "start_time": "2021-08-18T13:54:15.139Z"
   },
   {
    "duration": 47,
    "start_time": "2021-08-18T13:55:03.515Z"
   },
   {
    "duration": 46,
    "start_time": "2021-08-18T14:16:38.245Z"
   },
   {
    "duration": 4481,
    "start_time": "2021-08-18T14:18:43.721Z"
   },
   {
    "duration": 4,
    "start_time": "2021-08-18T14:19:22.589Z"
   },
   {
    "duration": 426,
    "start_time": "2021-08-18T14:19:23.458Z"
   },
   {
    "duration": 32,
    "start_time": "2021-08-18T14:19:24.388Z"
   },
   {
    "duration": 40,
    "start_time": "2021-08-18T14:19:26.250Z"
   },
   {
    "duration": 31,
    "start_time": "2021-08-18T14:19:26.940Z"
   },
   {
    "duration": 29,
    "start_time": "2021-08-18T14:19:28.832Z"
   },
   {
    "duration": 30,
    "start_time": "2021-08-18T14:19:30.003Z"
   },
   {
    "duration": 84,
    "start_time": "2021-08-18T14:19:31.378Z"
   },
   {
    "duration": 21,
    "start_time": "2021-08-18T14:19:35.639Z"
   },
   {
    "duration": 49,
    "start_time": "2021-08-18T14:19:38.795Z"
   },
   {
    "duration": 11,
    "start_time": "2021-08-18T14:19:41.635Z"
   },
   {
    "duration": 16,
    "start_time": "2021-08-18T14:19:47.419Z"
   },
   {
    "duration": 11,
    "start_time": "2021-08-18T14:19:54.516Z"
   },
   {
    "duration": 38,
    "start_time": "2021-08-18T14:20:13.774Z"
   },
   {
    "duration": 10,
    "start_time": "2021-08-18T14:21:34.607Z"
   },
   {
    "duration": 188,
    "start_time": "2021-08-18T14:21:56.574Z"
   },
   {
    "duration": 26,
    "start_time": "2021-08-18T14:23:37.012Z"
   },
   {
    "duration": 26,
    "start_time": "2021-08-18T14:24:11.457Z"
   },
   {
    "duration": 28,
    "start_time": "2021-08-18T14:24:27.015Z"
   },
   {
    "duration": 12,
    "start_time": "2021-08-18T14:25:22.692Z"
   },
   {
    "duration": 27,
    "start_time": "2021-08-18T14:25:31.838Z"
   },
   {
    "duration": 3,
    "start_time": "2021-08-18T14:25:48.588Z"
   },
   {
    "duration": 442,
    "start_time": "2021-08-18T14:25:49.151Z"
   },
   {
    "duration": 27,
    "start_time": "2021-08-18T14:25:49.789Z"
   },
   {
    "duration": 40,
    "start_time": "2021-08-18T14:25:50.344Z"
   },
   {
    "duration": 34,
    "start_time": "2021-08-18T14:25:50.975Z"
   },
   {
    "duration": 33,
    "start_time": "2021-08-18T14:25:52.245Z"
   },
   {
    "duration": 29,
    "start_time": "2021-08-18T14:25:53.252Z"
   },
   {
    "duration": 71,
    "start_time": "2021-08-18T14:25:54.329Z"
   },
   {
    "duration": 32,
    "start_time": "2021-08-18T14:25:56.882Z"
   },
   {
    "duration": 56,
    "start_time": "2021-08-18T14:25:58.860Z"
   },
   {
    "duration": 17,
    "start_time": "2021-08-18T14:25:59.783Z"
   },
   {
    "duration": 17,
    "start_time": "2021-08-18T14:26:00.801Z"
   },
   {
    "duration": 11,
    "start_time": "2021-08-18T14:26:02.035Z"
   },
   {
    "duration": 38,
    "start_time": "2021-08-18T14:26:07.692Z"
   },
   {
    "duration": 10,
    "start_time": "2021-08-18T14:26:18.942Z"
   },
   {
    "duration": 25,
    "start_time": "2021-08-18T14:26:25.715Z"
   },
   {
    "duration": 205,
    "start_time": "2021-08-18T14:28:00.739Z"
   },
   {
    "duration": 25,
    "start_time": "2021-08-18T14:28:15.810Z"
   },
   {
    "duration": 28,
    "start_time": "2021-08-18T14:37:11.408Z"
   },
   {
    "duration": 27,
    "start_time": "2021-08-18T14:37:12.750Z"
   },
   {
    "duration": 20,
    "start_time": "2021-08-18T14:37:17.029Z"
   },
   {
    "duration": 236,
    "start_time": "2021-08-18T14:37:19.118Z"
   },
   {
    "duration": 223,
    "start_time": "2021-08-18T14:37:20.299Z"
   },
   {
    "duration": 228,
    "start_time": "2021-08-18T14:37:21.167Z"
   },
   {
    "duration": 19,
    "start_time": "2021-08-18T14:39:56.032Z"
   },
   {
    "duration": 21,
    "start_time": "2021-08-18T14:40:52.019Z"
   },
   {
    "duration": 20,
    "start_time": "2021-08-18T14:41:05.402Z"
   },
   {
    "duration": 20,
    "start_time": "2021-08-18T14:41:12.168Z"
   },
   {
    "duration": 10,
    "start_time": "2021-08-18T14:41:24.198Z"
   },
   {
    "duration": 21,
    "start_time": "2021-08-18T14:42:04.227Z"
   },
   {
    "duration": 6,
    "start_time": "2021-08-18T14:43:07.839Z"
   },
   {
    "duration": 6,
    "start_time": "2021-08-18T14:44:05.333Z"
   },
   {
    "duration": 21,
    "start_time": "2021-08-18T14:46:06.248Z"
   },
   {
    "duration": 19,
    "start_time": "2021-08-18T14:46:13.294Z"
   },
   {
    "duration": 17,
    "start_time": "2021-08-18T14:46:16.119Z"
   },
   {
    "duration": 6,
    "start_time": "2021-08-18T14:46:26.716Z"
   },
   {
    "duration": 4,
    "start_time": "2021-08-18T14:46:32.877Z"
   },
   {
    "duration": 4,
    "start_time": "2021-08-18T14:50:51.191Z"
   },
   {
    "duration": 487,
    "start_time": "2021-08-18T14:50:51.758Z"
   },
   {
    "duration": 31,
    "start_time": "2021-08-18T14:50:52.247Z"
   },
   {
    "duration": 46,
    "start_time": "2021-08-18T14:50:52.489Z"
   },
   {
    "duration": 34,
    "start_time": "2021-08-18T14:50:52.679Z"
   },
   {
    "duration": 29,
    "start_time": "2021-08-18T14:50:53.061Z"
   },
   {
    "duration": 28,
    "start_time": "2021-08-18T14:50:53.231Z"
   },
   {
    "duration": 67,
    "start_time": "2021-08-18T14:50:53.433Z"
   },
   {
    "duration": 21,
    "start_time": "2021-08-18T14:50:53.800Z"
   },
   {
    "duration": 57,
    "start_time": "2021-08-18T14:50:53.979Z"
   },
   {
    "duration": 11,
    "start_time": "2021-08-18T14:50:54.153Z"
   },
   {
    "duration": 17,
    "start_time": "2021-08-18T14:50:54.344Z"
   },
   {
    "duration": 11,
    "start_time": "2021-08-18T14:50:54.536Z"
   },
   {
    "duration": 37,
    "start_time": "2021-08-18T14:50:54.709Z"
   },
   {
    "duration": 10,
    "start_time": "2021-08-18T14:50:55.252Z"
   },
   {
    "duration": 26,
    "start_time": "2021-08-18T14:50:55.621Z"
   },
   {
    "duration": 208,
    "start_time": "2021-08-18T14:50:55.807Z"
   },
   {
    "duration": 23,
    "start_time": "2021-08-18T14:50:56.017Z"
   },
   {
    "duration": 30,
    "start_time": "2021-08-18T14:50:56.722Z"
   },
   {
    "duration": 24,
    "start_time": "2021-08-18T14:50:56.901Z"
   },
   {
    "duration": 22,
    "start_time": "2021-08-18T14:50:57.851Z"
   },
   {
    "duration": 259,
    "start_time": "2021-08-18T14:50:58.435Z"
   },
   {
    "duration": 244,
    "start_time": "2021-08-18T14:51:01.558Z"
   },
   {
    "duration": 572,
    "start_time": "2021-08-18T14:51:02.396Z"
   },
   {
    "duration": 23,
    "start_time": "2021-08-18T14:51:06.753Z"
   },
   {
    "duration": 24,
    "start_time": "2021-08-18T14:51:07.948Z"
   },
   {
    "duration": 5,
    "start_time": "2021-08-18T14:51:11.069Z"
   },
   {
    "duration": 6,
    "start_time": "2021-08-18T14:51:16.561Z"
   },
   {
    "duration": 3,
    "start_time": "2021-08-18T14:51:30.395Z"
   },
   {
    "duration": 30,
    "start_time": "2021-08-18T14:51:32.076Z"
   },
   {
    "duration": 16,
    "start_time": "2021-08-18T14:51:35.933Z"
   },
   {
    "duration": 17,
    "start_time": "2021-08-18T14:51:39.332Z"
   },
   {
    "duration": 5,
    "start_time": "2021-08-18T14:52:05.042Z"
   },
   {
    "duration": 6,
    "start_time": "2021-08-18T14:52:24.450Z"
   },
   {
    "duration": 6,
    "start_time": "2021-08-18T14:52:30.276Z"
   },
   {
    "duration": 4,
    "start_time": "2021-08-18T14:52:38.167Z"
   },
   {
    "duration": 1563,
    "start_time": "2021-08-19T10:43:58.287Z"
   },
   {
    "duration": 537,
    "start_time": "2021-08-19T10:43:59.852Z"
   },
   {
    "duration": 51,
    "start_time": "2021-08-19T10:44:00.393Z"
   },
   {
    "duration": 84,
    "start_time": "2021-08-19T10:44:00.447Z"
   },
   {
    "duration": 60,
    "start_time": "2021-08-19T10:44:00.534Z"
   },
   {
    "duration": 48,
    "start_time": "2021-08-19T10:44:00.597Z"
   },
   {
    "duration": 58,
    "start_time": "2021-08-19T10:44:00.647Z"
   },
   {
    "duration": 110,
    "start_time": "2021-08-19T10:44:00.708Z"
   },
   {
    "duration": 28,
    "start_time": "2021-08-19T10:44:00.821Z"
   },
   {
    "duration": 92,
    "start_time": "2021-08-19T10:44:00.851Z"
   },
   {
    "duration": 16,
    "start_time": "2021-08-19T10:44:00.946Z"
   },
   {
    "duration": 30,
    "start_time": "2021-08-19T10:44:00.982Z"
   },
   {
    "duration": 19,
    "start_time": "2021-08-19T10:44:01.015Z"
   },
   {
    "duration": 89,
    "start_time": "2021-08-19T10:44:01.036Z"
   },
   {
    "duration": 20,
    "start_time": "2021-08-19T10:44:01.128Z"
   },
   {
    "duration": 71,
    "start_time": "2021-08-19T10:44:01.150Z"
   },
   {
    "duration": 348,
    "start_time": "2021-08-19T10:44:01.225Z"
   },
   {
    "duration": 47,
    "start_time": "2021-08-19T10:44:01.576Z"
   },
   {
    "duration": 75,
    "start_time": "2021-08-19T10:44:01.626Z"
   },
   {
    "duration": 40,
    "start_time": "2021-08-19T10:44:01.704Z"
   },
   {
    "duration": 63,
    "start_time": "2021-08-19T10:44:01.747Z"
   },
   {
    "duration": 394,
    "start_time": "2021-08-19T10:44:01.812Z"
   },
   {
    "duration": 382,
    "start_time": "2021-08-19T10:44:02.210Z"
   },
   {
    "duration": 386,
    "start_time": "2021-08-19T10:44:02.596Z"
   },
   {
    "duration": 37,
    "start_time": "2021-08-19T10:44:02.988Z"
   },
   {
    "duration": 26,
    "start_time": "2021-08-19T10:44:03.027Z"
   },
   {
    "duration": 29,
    "start_time": "2021-08-19T10:44:03.056Z"
   },
   {
    "duration": 10,
    "start_time": "2021-08-19T10:44:03.088Z"
   },
   {
    "duration": 6,
    "start_time": "2021-08-19T10:44:03.101Z"
   },
   {
    "duration": 35,
    "start_time": "2021-08-19T10:44:03.110Z"
   },
   {
    "duration": 28,
    "start_time": "2021-08-19T10:44:03.184Z"
   },
   {
    "duration": 26,
    "start_time": "2021-08-19T10:44:03.215Z"
   },
   {
    "duration": 42,
    "start_time": "2021-08-19T10:44:03.244Z"
   },
   {
    "duration": 11,
    "start_time": "2021-08-19T10:44:03.288Z"
   },
   {
    "duration": 14,
    "start_time": "2021-08-19T10:52:35.564Z"
   },
   {
    "duration": 34,
    "start_time": "2021-08-19T10:53:05.708Z"
   },
   {
    "duration": 15,
    "start_time": "2021-08-19T10:53:12.325Z"
   }
  ],
  "kernelspec": {
   "display_name": "Python 3 (ipykernel)",
   "language": "python",
   "name": "python3"
  },
  "language_info": {
   "codemirror_mode": {
    "name": "ipython",
    "version": 3
   },
   "file_extension": ".py",
   "mimetype": "text/x-python",
   "name": "python",
   "nbconvert_exporter": "python",
   "pygments_lexer": "ipython3",
   "version": "3.9.5"
  },
  "toc": {
   "base_numbering": 1,
   "nav_menu": {},
   "number_sections": true,
   "sideBar": true,
   "skip_h1_title": true,
   "title_cell": "Table of Contents",
   "title_sidebar": "Contents",
   "toc_cell": false,
   "toc_position": {
    "height": "calc(100% - 180px)",
    "left": "10px",
    "top": "150px",
    "width": "220px"
   },
   "toc_section_display": true,
   "toc_window_display": true
  }
 },
 "nbformat": 4,
 "nbformat_minor": 2
}
