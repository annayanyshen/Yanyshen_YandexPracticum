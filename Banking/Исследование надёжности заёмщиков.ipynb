{
 "cells": [
  {
   "cell_type": "markdown",
   "metadata": {},
   "source": [
    "# Исследование надёжности заёмщиков\n",
    "\n",
    "Первый проект в рамках обучения на курсе аналитика данных. \n",
    "\n",
    "В данном проекте для кредитного отдела банка было необходимо выяснить, есть ли зависимость между семейным положением и количеством у заемщика детей на факт погашения кредита в срок. От банка была предоставлена статистика о платежеспособности клиентов. \n",
    "\n",
    "Полученные результаты предполагается использовать для построении модели кредитного скоринга - системы, позволяющей оценить способность потенциального клиента возвращать займы банку в срок. "
   ]
  },
  {
   "cell_type": "markdown",
   "metadata": {},
   "source": [
    "## Загрузка данных и изучение общей информации"
   ]
  },
  {
   "cell_type": "code",
   "execution_count": 1,
   "metadata": {},
   "outputs": [
    {
     "name": "stdout",
     "output_type": "stream",
     "text": [
      "<class 'pandas.core.frame.DataFrame'>\n",
      "RangeIndex: 21525 entries, 0 to 21524\n",
      "Data columns (total 12 columns):\n",
      "children            21525 non-null int64\n",
      "days_employed       19351 non-null float64\n",
      "dob_years           21525 non-null int64\n",
      "education           21525 non-null object\n",
      "education_id        21525 non-null int64\n",
      "family_status       21525 non-null object\n",
      "family_status_id    21525 non-null int64\n",
      "gender              21525 non-null object\n",
      "income_type         21525 non-null object\n",
      "debt                21525 non-null int64\n",
      "total_income        19351 non-null float64\n",
      "purpose             21525 non-null object\n",
      "dtypes: float64(2), int64(5), object(5)\n",
      "memory usage: 2.0+ MB\n"
     ]
    }
   ],
   "source": [
    "import pandas as pd\n",
    "data = pd.read_csv('/datasets/data.csv')\n",
    "data.info()"
   ]
  },
  {
   "cell_type": "code",
   "execution_count": 2,
   "metadata": {},
   "outputs": [
    {
     "data": {
      "text/html": [
       "<div>\n",
       "<style scoped>\n",
       "    .dataframe tbody tr th:only-of-type {\n",
       "        vertical-align: middle;\n",
       "    }\n",
       "\n",
       "    .dataframe tbody tr th {\n",
       "        vertical-align: top;\n",
       "    }\n",
       "\n",
       "    .dataframe thead th {\n",
       "        text-align: right;\n",
       "    }\n",
       "</style>\n",
       "<table border=\"1\" class=\"dataframe\">\n",
       "  <thead>\n",
       "    <tr style=\"text-align: right;\">\n",
       "      <th></th>\n",
       "      <th>children</th>\n",
       "      <th>days_employed</th>\n",
       "      <th>dob_years</th>\n",
       "      <th>education</th>\n",
       "      <th>education_id</th>\n",
       "      <th>family_status</th>\n",
       "      <th>family_status_id</th>\n",
       "      <th>gender</th>\n",
       "      <th>income_type</th>\n",
       "      <th>debt</th>\n",
       "      <th>total_income</th>\n",
       "      <th>purpose</th>\n",
       "    </tr>\n",
       "  </thead>\n",
       "  <tbody>\n",
       "    <tr>\n",
       "      <td>0</td>\n",
       "      <td>1</td>\n",
       "      <td>-8437.673028</td>\n",
       "      <td>42</td>\n",
       "      <td>высшее</td>\n",
       "      <td>0</td>\n",
       "      <td>женат / замужем</td>\n",
       "      <td>0</td>\n",
       "      <td>F</td>\n",
       "      <td>сотрудник</td>\n",
       "      <td>0</td>\n",
       "      <td>253875.639453</td>\n",
       "      <td>покупка жилья</td>\n",
       "    </tr>\n",
       "    <tr>\n",
       "      <td>1</td>\n",
       "      <td>1</td>\n",
       "      <td>-4024.803754</td>\n",
       "      <td>36</td>\n",
       "      <td>среднее</td>\n",
       "      <td>1</td>\n",
       "      <td>женат / замужем</td>\n",
       "      <td>0</td>\n",
       "      <td>F</td>\n",
       "      <td>сотрудник</td>\n",
       "      <td>0</td>\n",
       "      <td>112080.014102</td>\n",
       "      <td>приобретение автомобиля</td>\n",
       "    </tr>\n",
       "    <tr>\n",
       "      <td>2</td>\n",
       "      <td>0</td>\n",
       "      <td>-5623.422610</td>\n",
       "      <td>33</td>\n",
       "      <td>Среднее</td>\n",
       "      <td>1</td>\n",
       "      <td>женат / замужем</td>\n",
       "      <td>0</td>\n",
       "      <td>M</td>\n",
       "      <td>сотрудник</td>\n",
       "      <td>0</td>\n",
       "      <td>145885.952297</td>\n",
       "      <td>покупка жилья</td>\n",
       "    </tr>\n",
       "    <tr>\n",
       "      <td>3</td>\n",
       "      <td>3</td>\n",
       "      <td>-4124.747207</td>\n",
       "      <td>32</td>\n",
       "      <td>среднее</td>\n",
       "      <td>1</td>\n",
       "      <td>женат / замужем</td>\n",
       "      <td>0</td>\n",
       "      <td>M</td>\n",
       "      <td>сотрудник</td>\n",
       "      <td>0</td>\n",
       "      <td>267628.550329</td>\n",
       "      <td>дополнительное образование</td>\n",
       "    </tr>\n",
       "    <tr>\n",
       "      <td>4</td>\n",
       "      <td>0</td>\n",
       "      <td>340266.072047</td>\n",
       "      <td>53</td>\n",
       "      <td>среднее</td>\n",
       "      <td>1</td>\n",
       "      <td>гражданский брак</td>\n",
       "      <td>1</td>\n",
       "      <td>F</td>\n",
       "      <td>пенсионер</td>\n",
       "      <td>0</td>\n",
       "      <td>158616.077870</td>\n",
       "      <td>сыграть свадьбу</td>\n",
       "    </tr>\n",
       "  </tbody>\n",
       "</table>\n",
       "</div>"
      ],
      "text/plain": [
       "   children  days_employed  dob_years education  education_id  \\\n",
       "0         1   -8437.673028         42    высшее             0   \n",
       "1         1   -4024.803754         36   среднее             1   \n",
       "2         0   -5623.422610         33   Среднее             1   \n",
       "3         3   -4124.747207         32   среднее             1   \n",
       "4         0  340266.072047         53   среднее             1   \n",
       "\n",
       "      family_status  family_status_id gender income_type  debt   total_income  \\\n",
       "0   женат / замужем                 0      F   сотрудник     0  253875.639453   \n",
       "1   женат / замужем                 0      F   сотрудник     0  112080.014102   \n",
       "2   женат / замужем                 0      M   сотрудник     0  145885.952297   \n",
       "3   женат / замужем                 0      M   сотрудник     0  267628.550329   \n",
       "4  гражданский брак                 1      F   пенсионер     0  158616.077870   \n",
       "\n",
       "                      purpose  \n",
       "0               покупка жилья  \n",
       "1     приобретение автомобиля  \n",
       "2               покупка жилья  \n",
       "3  дополнительное образование  \n",
       "4             сыграть свадьбу  "
      ]
     },
     "execution_count": 2,
     "metadata": {},
     "output_type": "execute_result"
    }
   ],
   "source": [
    "data.head()"
   ]
  },
  {
   "cell_type": "markdown",
   "metadata": {},
   "source": [
    "**Вывод**"
   ]
  },
  {
   "cell_type": "markdown",
   "metadata": {},
   "source": [
    "1) передо мной таблица с вводными от банка, в которой 12 столбцов <br>\n",
    "2) в десяти столбцах все значения заполнены, в двух оставшихся (days_employed и total_income) есть пропуски (заполнено 19351 строк из 21525)<br>\n",
    "3) названия столбцов не содержат никаких отклонений, с ними будет удобно работать <br>\n",
    "4) на первый взгляд тип данных в столбцах совпадает с содержанием <br>\n",
    "5) в столбце days_employed есть отрицательные значения, а также достаточно большие значения для трудового стажа в днях, например, в 5 строке - 340266.072047. возможно, эти значения указаны в часах "
   ]
  },
  {
   "cell_type": "markdown",
   "metadata": {},
   "source": [
    "## Предобработка данных"
   ]
  },
  {
   "cell_type": "markdown",
   "metadata": {},
   "source": [
    "### Обработка пропусков"
   ]
  },
  {
   "cell_type": "code",
   "execution_count": 3,
   "metadata": {
    "scrolled": true
   },
   "outputs": [
    {
     "name": "stdout",
     "output_type": "stream",
     "text": [
      "Уникальные значения в столбце children [ 1  0  3  2 -1  4 20  5]\n",
      "Уникальные значения в столбце days_employed [-8437.67302776 -4024.80375385 -5623.42261023 ... -2113.3468877\n",
      " -3112.4817052  -1984.50758853]\n",
      "Уникальные значения в столбце dob_years [42 36 33 32 53 27 43 50 35 41 40 65 54 56 26 48 24 21 57 67 28 63 62 47\n",
      " 34 68 25 31 30 20 49 37 45 61 64 44 52 46 23 38 39 51  0 59 29 60 55 58\n",
      " 71 22 73 66 69 19 72 70 74 75]\n",
      "Уникальные значения в столбце education ['высшее' 'среднее' 'Среднее' 'СРЕДНЕЕ' 'ВЫСШЕЕ' 'неоконченное высшее'\n",
      " 'начальное' 'Высшее' 'НЕОКОНЧЕННОЕ ВЫСШЕЕ' 'Неоконченное высшее'\n",
      " 'НАЧАЛЬНОЕ' 'Начальное' 'Ученая степень' 'УЧЕНАЯ СТЕПЕНЬ'\n",
      " 'ученая степень']\n",
      "Уникальные значения в столбце education_id [0 1 2 3 4]\n",
      "Уникальные значения в столбце family_status ['женат / замужем' 'гражданский брак' 'вдовец / вдова' 'в разводе'\n",
      " 'Не женат / не замужем']\n",
      "Уникальные значения в столбце family_status_id [0 1 2 3 4]\n",
      "Уникальные значения в столбце gender ['F' 'M' 'XNA']\n",
      "Уникальные значения в столбце income_type ['сотрудник' 'пенсионер' 'компаньон' 'госслужащий' 'безработный'\n",
      " 'предприниматель' 'студент' 'в декрете']\n",
      "Уникальные значения в столбце debt [0 1]\n",
      "Уникальные значения в столбце total_income [253875.6394526  112080.01410244 145885.95229686 ...  89672.56115303\n",
      " 244093.05050043  82047.41889948]\n",
      "Уникальные значения в столбце purpose ['покупка жилья' 'приобретение автомобиля' 'дополнительное образование'\n",
      " 'сыграть свадьбу' 'операции с жильем' 'образование'\n",
      " 'на проведение свадьбы' 'покупка жилья для семьи' 'покупка недвижимости'\n",
      " 'покупка коммерческой недвижимости' 'покупка жилой недвижимости'\n",
      " 'строительство собственной недвижимости' 'недвижимость'\n",
      " 'строительство недвижимости' 'на покупку подержанного автомобиля'\n",
      " 'на покупку своего автомобиля' 'операции с коммерческой недвижимостью'\n",
      " 'строительство жилой недвижимости' 'жилье'\n",
      " 'операции со своей недвижимостью' 'автомобили' 'заняться образованием'\n",
      " 'сделка с подержанным автомобилем' 'получение образования' 'автомобиль'\n",
      " 'свадьба' 'получение дополнительного образования' 'покупка своего жилья'\n",
      " 'операции с недвижимостью' 'получение высшего образования'\n",
      " 'свой автомобиль' 'сделка с автомобилем' 'профильное образование'\n",
      " 'высшее образование' 'покупка жилья для сдачи' 'на покупку автомобиля'\n",
      " 'ремонт жилью' 'заняться высшим образованием']\n"
     ]
    }
   ],
   "source": [
    "#смотрю уникальные значения в столбцах \n",
    "print('Уникальные значения в столбце children', data['children'].unique())\n",
    "print('Уникальные значения в столбце days_employed', data['days_employed'].unique())\n",
    "print('Уникальные значения в столбце dob_years', data['dob_years'].unique())\n",
    "print('Уникальные значения в столбце education', data['education'].unique())\n",
    "print('Уникальные значения в столбце education_id', data['education_id'].unique())\n",
    "print('Уникальные значения в столбце family_status', data['family_status'].unique())\n",
    "print('Уникальные значения в столбце family_status_id', data['family_status_id'].unique())\n",
    "print('Уникальные значения в столбце gender', data['gender'].unique())\n",
    "print('Уникальные значения в столбце income_type', data['income_type'].unique())\n",
    "print('Уникальные значения в столбце debt', data['debt'].unique())\n",
    "print('Уникальные значения в столбце total_income', data['total_income'].unique())\n",
    "print('Уникальные значения в столбце purpose', data['purpose'].unique()) \n"
   ]
  },
  {
   "cell_type": "code",
   "execution_count": 4,
   "metadata": {},
   "outputs": [
    {
     "data": {
      "text/plain": [
       "0     14149\n",
       "1      4865\n",
       "2      2055\n",
       "3       330\n",
       "20       76\n",
       "4        41\n",
       "5         9\n",
       "Name: children, dtype: int64"
      ]
     },
     "execution_count": 4,
     "metadata": {},
     "output_type": "execute_result"
    }
   ],
   "source": [
    "#меняю отрицательное значение в графе дети на положительное\n",
    "data['children'] = data['children'].abs()\n",
    "#проверяю результат\n",
    "data['children'].value_counts()\n"
   ]
  },
  {
   "cell_type": "code",
   "execution_count": 5,
   "metadata": {},
   "outputs": [
    {
     "data": {
      "text/plain": [
       "986.927316     1\n",
       "7026.359174    1\n",
       "4236.274243    1\n",
       "6620.396473    1\n",
       "1238.560080    1\n",
       "              ..\n",
       "2849.351119    1\n",
       "5619.328204    1\n",
       "448.829898     1\n",
       "1687.038672    1\n",
       "582.538413     1\n",
       "Name: days_employed, Length: 19351, dtype: int64"
      ]
     },
     "execution_count": 5,
     "metadata": {},
     "output_type": "execute_result"
    }
   ],
   "source": [
    "#меняю отрицательные значения в графе трудового стажа на положительные\n",
    "data['days_employed'] = data['days_employed'].abs()\n",
    "#проверяю результат\n",
    "data['days_employed'].value_counts()"
   ]
  },
  {
   "cell_type": "code",
   "execution_count": 6,
   "metadata": {},
   "outputs": [
    {
     "data": {
      "text/html": [
       "<div>\n",
       "<style scoped>\n",
       "    .dataframe tbody tr th:only-of-type {\n",
       "        vertical-align: middle;\n",
       "    }\n",
       "\n",
       "    .dataframe tbody tr th {\n",
       "        vertical-align: top;\n",
       "    }\n",
       "\n",
       "    .dataframe thead th {\n",
       "        text-align: right;\n",
       "    }\n",
       "</style>\n",
       "<table border=\"1\" class=\"dataframe\">\n",
       "  <thead>\n",
       "    <tr style=\"text-align: right;\">\n",
       "      <th></th>\n",
       "      <th>children</th>\n",
       "      <th>days_employed</th>\n",
       "      <th>dob_years</th>\n",
       "      <th>education</th>\n",
       "      <th>education_id</th>\n",
       "      <th>family_status</th>\n",
       "      <th>family_status_id</th>\n",
       "      <th>gender</th>\n",
       "      <th>income_type</th>\n",
       "      <th>debt</th>\n",
       "      <th>total_income</th>\n",
       "      <th>purpose</th>\n",
       "    </tr>\n",
       "  </thead>\n",
       "  <tbody>\n",
       "    <tr>\n",
       "      <td>12</td>\n",
       "      <td>0</td>\n",
       "      <td>NaN</td>\n",
       "      <td>65</td>\n",
       "      <td>среднее</td>\n",
       "      <td>1</td>\n",
       "      <td>гражданский брак</td>\n",
       "      <td>1</td>\n",
       "      <td>M</td>\n",
       "      <td>пенсионер</td>\n",
       "      <td>0</td>\n",
       "      <td>NaN</td>\n",
       "      <td>сыграть свадьбу</td>\n",
       "    </tr>\n",
       "    <tr>\n",
       "      <td>26</td>\n",
       "      <td>0</td>\n",
       "      <td>NaN</td>\n",
       "      <td>41</td>\n",
       "      <td>среднее</td>\n",
       "      <td>1</td>\n",
       "      <td>женат / замужем</td>\n",
       "      <td>0</td>\n",
       "      <td>M</td>\n",
       "      <td>госслужащий</td>\n",
       "      <td>0</td>\n",
       "      <td>NaN</td>\n",
       "      <td>образование</td>\n",
       "    </tr>\n",
       "    <tr>\n",
       "      <td>29</td>\n",
       "      <td>0</td>\n",
       "      <td>NaN</td>\n",
       "      <td>63</td>\n",
       "      <td>среднее</td>\n",
       "      <td>1</td>\n",
       "      <td>Не женат / не замужем</td>\n",
       "      <td>4</td>\n",
       "      <td>F</td>\n",
       "      <td>пенсионер</td>\n",
       "      <td>0</td>\n",
       "      <td>NaN</td>\n",
       "      <td>строительство жилой недвижимости</td>\n",
       "    </tr>\n",
       "    <tr>\n",
       "      <td>41</td>\n",
       "      <td>0</td>\n",
       "      <td>NaN</td>\n",
       "      <td>50</td>\n",
       "      <td>среднее</td>\n",
       "      <td>1</td>\n",
       "      <td>женат / замужем</td>\n",
       "      <td>0</td>\n",
       "      <td>F</td>\n",
       "      <td>госслужащий</td>\n",
       "      <td>0</td>\n",
       "      <td>NaN</td>\n",
       "      <td>сделка с подержанным автомобилем</td>\n",
       "    </tr>\n",
       "    <tr>\n",
       "      <td>55</td>\n",
       "      <td>0</td>\n",
       "      <td>NaN</td>\n",
       "      <td>54</td>\n",
       "      <td>среднее</td>\n",
       "      <td>1</td>\n",
       "      <td>гражданский брак</td>\n",
       "      <td>1</td>\n",
       "      <td>F</td>\n",
       "      <td>пенсионер</td>\n",
       "      <td>1</td>\n",
       "      <td>NaN</td>\n",
       "      <td>сыграть свадьбу</td>\n",
       "    </tr>\n",
       "    <tr>\n",
       "      <td>65</td>\n",
       "      <td>0</td>\n",
       "      <td>NaN</td>\n",
       "      <td>21</td>\n",
       "      <td>среднее</td>\n",
       "      <td>1</td>\n",
       "      <td>Не женат / не замужем</td>\n",
       "      <td>4</td>\n",
       "      <td>M</td>\n",
       "      <td>компаньон</td>\n",
       "      <td>0</td>\n",
       "      <td>NaN</td>\n",
       "      <td>операции с коммерческой недвижимостью</td>\n",
       "    </tr>\n",
       "    <tr>\n",
       "      <td>67</td>\n",
       "      <td>0</td>\n",
       "      <td>NaN</td>\n",
       "      <td>52</td>\n",
       "      <td>высшее</td>\n",
       "      <td>0</td>\n",
       "      <td>женат / замужем</td>\n",
       "      <td>0</td>\n",
       "      <td>F</td>\n",
       "      <td>пенсионер</td>\n",
       "      <td>0</td>\n",
       "      <td>NaN</td>\n",
       "      <td>покупка жилья для семьи</td>\n",
       "    </tr>\n",
       "    <tr>\n",
       "      <td>72</td>\n",
       "      <td>1</td>\n",
       "      <td>NaN</td>\n",
       "      <td>32</td>\n",
       "      <td>высшее</td>\n",
       "      <td>0</td>\n",
       "      <td>женат / замужем</td>\n",
       "      <td>0</td>\n",
       "      <td>M</td>\n",
       "      <td>госслужащий</td>\n",
       "      <td>0</td>\n",
       "      <td>NaN</td>\n",
       "      <td>операции с коммерческой недвижимостью</td>\n",
       "    </tr>\n",
       "    <tr>\n",
       "      <td>82</td>\n",
       "      <td>2</td>\n",
       "      <td>NaN</td>\n",
       "      <td>50</td>\n",
       "      <td>высшее</td>\n",
       "      <td>0</td>\n",
       "      <td>женат / замужем</td>\n",
       "      <td>0</td>\n",
       "      <td>F</td>\n",
       "      <td>сотрудник</td>\n",
       "      <td>0</td>\n",
       "      <td>NaN</td>\n",
       "      <td>жилье</td>\n",
       "    </tr>\n",
       "    <tr>\n",
       "      <td>83</td>\n",
       "      <td>0</td>\n",
       "      <td>NaN</td>\n",
       "      <td>52</td>\n",
       "      <td>среднее</td>\n",
       "      <td>1</td>\n",
       "      <td>женат / замужем</td>\n",
       "      <td>0</td>\n",
       "      <td>M</td>\n",
       "      <td>сотрудник</td>\n",
       "      <td>0</td>\n",
       "      <td>NaN</td>\n",
       "      <td>жилье</td>\n",
       "    </tr>\n",
       "  </tbody>\n",
       "</table>\n",
       "</div>"
      ],
      "text/plain": [
       "    children  days_employed  dob_years education  education_id  \\\n",
       "12         0            NaN         65   среднее             1   \n",
       "26         0            NaN         41   среднее             1   \n",
       "29         0            NaN         63   среднее             1   \n",
       "41         0            NaN         50   среднее             1   \n",
       "55         0            NaN         54   среднее             1   \n",
       "65         0            NaN         21   среднее             1   \n",
       "67         0            NaN         52    высшее             0   \n",
       "72         1            NaN         32    высшее             0   \n",
       "82         2            NaN         50    высшее             0   \n",
       "83         0            NaN         52   среднее             1   \n",
       "\n",
       "            family_status  family_status_id gender  income_type  debt  \\\n",
       "12       гражданский брак                 1      M    пенсионер     0   \n",
       "26        женат / замужем                 0      M  госслужащий     0   \n",
       "29  Не женат / не замужем                 4      F    пенсионер     0   \n",
       "41        женат / замужем                 0      F  госслужащий     0   \n",
       "55       гражданский брак                 1      F    пенсионер     1   \n",
       "65  Не женат / не замужем                 4      M    компаньон     0   \n",
       "67        женат / замужем                 0      F    пенсионер     0   \n",
       "72        женат / замужем                 0      M  госслужащий     0   \n",
       "82        женат / замужем                 0      F    сотрудник     0   \n",
       "83        женат / замужем                 0      M    сотрудник     0   \n",
       "\n",
       "    total_income                                purpose  \n",
       "12           NaN                        сыграть свадьбу  \n",
       "26           NaN                            образование  \n",
       "29           NaN       строительство жилой недвижимости  \n",
       "41           NaN       сделка с подержанным автомобилем  \n",
       "55           NaN                        сыграть свадьбу  \n",
       "65           NaN  операции с коммерческой недвижимостью  \n",
       "67           NaN                покупка жилья для семьи  \n",
       "72           NaN  операции с коммерческой недвижимостью  \n",
       "82           NaN                                  жилье  \n",
       "83           NaN                                  жилье  "
      ]
     },
     "execution_count": 6,
     "metadata": {},
     "output_type": "execute_result"
    }
   ],
   "source": [
    "#смотрю количество пропущенных значений по столбцам \n",
    "data.isna().sum()\n",
    "data[data['days_employed'].isna()].head(10)"
   ]
  },
  {
   "cell_type": "code",
   "execution_count": 7,
   "metadata": {},
   "outputs": [
    {
     "name": "stdout",
     "output_type": "stream",
     "text": [
      "Пропуски в стаже до: 2174\n",
      "Пропуски после: 0\n"
     ]
    }
   ],
   "source": [
    "#заполняю пропуски в столбце трудового стажа медианой, группируя по столбцу возраста\n",
    "print('Пропуски в стаже до:', data['days_employed'].isna().sum())\n",
    "\n",
    "for dob_year in data['dob_years'].unique():\n",
    "    median = data.loc[data['dob_years'] == dob_year, 'days_employed'].median()\n",
    "    #print(dob_year, median)\n",
    "    data.loc[(data['days_employed'].isna()) & (data['dob_years'] == dob_year), 'days_employed'] = median\n",
    "\n",
    "print('Пропуски после:', data['days_employed'].isna().sum())"
   ]
  },
  {
   "cell_type": "code",
   "execution_count": 8,
   "metadata": {},
   "outputs": [
    {
     "name": "stdout",
     "output_type": "stream",
     "text": [
      "Пропуски в доходе до: 2174\n",
      "Пропуски после: 0\n"
     ]
    }
   ],
   "source": [
    "#заполняю пропуски в столбце дохода медианой, выполняя в цикле группировку по типу дохода \n",
    "print('Пропуски в доходе до:', data['total_income'].isna().sum())\n",
    "for income_type in data['income_type'].unique():\n",
    "    median = data.loc[data['income_type'] == income_type, 'total_income'].median()\n",
    "    #print(income_type, median)\n",
    "    data.loc[(data['total_income'].isna()) & (data['income_type'] == income_type), 'total_income'] = median\n",
    "#смотрю результат\n",
    "print('Пропуски после:', data['total_income'].isna().sum())"
   ]
  },
  {
   "cell_type": "code",
   "execution_count": 9,
   "metadata": {},
   "outputs": [
    {
     "name": "stdout",
     "output_type": "stream",
     "text": [
      "<class 'pandas.core.frame.DataFrame'>\n",
      "RangeIndex: 21525 entries, 0 to 21524\n",
      "Data columns (total 12 columns):\n",
      "children            21525 non-null int64\n",
      "days_employed       21525 non-null float64\n",
      "dob_years           21525 non-null int64\n",
      "education           21525 non-null object\n",
      "education_id        21525 non-null int64\n",
      "family_status       21525 non-null object\n",
      "family_status_id    21525 non-null int64\n",
      "gender              21525 non-null object\n",
      "income_type         21525 non-null object\n",
      "debt                21525 non-null int64\n",
      "total_income        21525 non-null float64\n",
      "purpose             21525 non-null object\n",
      "dtypes: float64(2), int64(5), object(5)\n",
      "memory usage: 2.0+ MB\n"
     ]
    },
    {
     "data": {
      "text/html": [
       "<div>\n",
       "<style scoped>\n",
       "    .dataframe tbody tr th:only-of-type {\n",
       "        vertical-align: middle;\n",
       "    }\n",
       "\n",
       "    .dataframe tbody tr th {\n",
       "        vertical-align: top;\n",
       "    }\n",
       "\n",
       "    .dataframe thead th {\n",
       "        text-align: right;\n",
       "    }\n",
       "</style>\n",
       "<table border=\"1\" class=\"dataframe\">\n",
       "  <thead>\n",
       "    <tr style=\"text-align: right;\">\n",
       "      <th></th>\n",
       "      <th>children</th>\n",
       "      <th>days_employed</th>\n",
       "      <th>dob_years</th>\n",
       "      <th>education</th>\n",
       "      <th>education_id</th>\n",
       "      <th>family_status</th>\n",
       "      <th>family_status_id</th>\n",
       "      <th>gender</th>\n",
       "      <th>income_type</th>\n",
       "      <th>debt</th>\n",
       "      <th>total_income</th>\n",
       "      <th>purpose</th>\n",
       "    </tr>\n",
       "  </thead>\n",
       "  <tbody>\n",
       "    <tr>\n",
       "      <td>0</td>\n",
       "      <td>1</td>\n",
       "      <td>8437.673028</td>\n",
       "      <td>42</td>\n",
       "      <td>высшее</td>\n",
       "      <td>0</td>\n",
       "      <td>женат / замужем</td>\n",
       "      <td>0</td>\n",
       "      <td>F</td>\n",
       "      <td>сотрудник</td>\n",
       "      <td>0</td>\n",
       "      <td>253875.639453</td>\n",
       "      <td>покупка жилья</td>\n",
       "    </tr>\n",
       "    <tr>\n",
       "      <td>1</td>\n",
       "      <td>1</td>\n",
       "      <td>4024.803754</td>\n",
       "      <td>36</td>\n",
       "      <td>среднее</td>\n",
       "      <td>1</td>\n",
       "      <td>женат / замужем</td>\n",
       "      <td>0</td>\n",
       "      <td>F</td>\n",
       "      <td>сотрудник</td>\n",
       "      <td>0</td>\n",
       "      <td>112080.014102</td>\n",
       "      <td>приобретение автомобиля</td>\n",
       "    </tr>\n",
       "    <tr>\n",
       "      <td>2</td>\n",
       "      <td>0</td>\n",
       "      <td>5623.422610</td>\n",
       "      <td>33</td>\n",
       "      <td>Среднее</td>\n",
       "      <td>1</td>\n",
       "      <td>женат / замужем</td>\n",
       "      <td>0</td>\n",
       "      <td>M</td>\n",
       "      <td>сотрудник</td>\n",
       "      <td>0</td>\n",
       "      <td>145885.952297</td>\n",
       "      <td>покупка жилья</td>\n",
       "    </tr>\n",
       "    <tr>\n",
       "      <td>3</td>\n",
       "      <td>3</td>\n",
       "      <td>4124.747207</td>\n",
       "      <td>32</td>\n",
       "      <td>среднее</td>\n",
       "      <td>1</td>\n",
       "      <td>женат / замужем</td>\n",
       "      <td>0</td>\n",
       "      <td>M</td>\n",
       "      <td>сотрудник</td>\n",
       "      <td>0</td>\n",
       "      <td>267628.550329</td>\n",
       "      <td>дополнительное образование</td>\n",
       "    </tr>\n",
       "    <tr>\n",
       "      <td>4</td>\n",
       "      <td>0</td>\n",
       "      <td>340266.072047</td>\n",
       "      <td>53</td>\n",
       "      <td>среднее</td>\n",
       "      <td>1</td>\n",
       "      <td>гражданский брак</td>\n",
       "      <td>1</td>\n",
       "      <td>F</td>\n",
       "      <td>пенсионер</td>\n",
       "      <td>0</td>\n",
       "      <td>158616.077870</td>\n",
       "      <td>сыграть свадьбу</td>\n",
       "    </tr>\n",
       "  </tbody>\n",
       "</table>\n",
       "</div>"
      ],
      "text/plain": [
       "   children  days_employed  dob_years education  education_id  \\\n",
       "0         1    8437.673028         42    высшее             0   \n",
       "1         1    4024.803754         36   среднее             1   \n",
       "2         0    5623.422610         33   Среднее             1   \n",
       "3         3    4124.747207         32   среднее             1   \n",
       "4         0  340266.072047         53   среднее             1   \n",
       "\n",
       "      family_status  family_status_id gender income_type  debt   total_income  \\\n",
       "0   женат / замужем                 0      F   сотрудник     0  253875.639453   \n",
       "1   женат / замужем                 0      F   сотрудник     0  112080.014102   \n",
       "2   женат / замужем                 0      M   сотрудник     0  145885.952297   \n",
       "3   женат / замужем                 0      M   сотрудник     0  267628.550329   \n",
       "4  гражданский брак                 1      F   пенсионер     0  158616.077870   \n",
       "\n",
       "                      purpose  \n",
       "0               покупка жилья  \n",
       "1     приобретение автомобиля  \n",
       "2               покупка жилья  \n",
       "3  дополнительное образование  \n",
       "4             сыграть свадьбу  "
      ]
     },
     "execution_count": 9,
     "metadata": {},
     "output_type": "execute_result"
    }
   ],
   "source": [
    "data.info()\n",
    "data.head()"
   ]
  },
  {
   "cell_type": "code",
   "execution_count": 10,
   "metadata": {},
   "outputs": [
    {
     "data": {
      "text/html": [
       "<div>\n",
       "<style scoped>\n",
       "    .dataframe tbody tr th:only-of-type {\n",
       "        vertical-align: middle;\n",
       "    }\n",
       "\n",
       "    .dataframe tbody tr th {\n",
       "        vertical-align: top;\n",
       "    }\n",
       "\n",
       "    .dataframe thead th {\n",
       "        text-align: right;\n",
       "    }\n",
       "</style>\n",
       "<table border=\"1\" class=\"dataframe\">\n",
       "  <thead>\n",
       "    <tr style=\"text-align: right;\">\n",
       "      <th></th>\n",
       "      <th>income_type</th>\n",
       "      <th>days_employed</th>\n",
       "    </tr>\n",
       "  </thead>\n",
       "  <tbody>\n",
       "    <tr>\n",
       "      <td>0</td>\n",
       "      <td>безработный</td>\n",
       "      <td>366413.652744</td>\n",
       "    </tr>\n",
       "    <tr>\n",
       "      <td>1</td>\n",
       "      <td>в декрете</td>\n",
       "      <td>3296.759962</td>\n",
       "    </tr>\n",
       "    <tr>\n",
       "      <td>2</td>\n",
       "      <td>госслужащий</td>\n",
       "      <td>6328.451772</td>\n",
       "    </tr>\n",
       "    <tr>\n",
       "      <td>3</td>\n",
       "      <td>компаньон</td>\n",
       "      <td>3861.355338</td>\n",
       "    </tr>\n",
       "    <tr>\n",
       "      <td>4</td>\n",
       "      <td>пенсионер</td>\n",
       "      <td>352288.489626</td>\n",
       "    </tr>\n",
       "    <tr>\n",
       "      <td>5</td>\n",
       "      <td>предприниматель</td>\n",
       "      <td>165883.412375</td>\n",
       "    </tr>\n",
       "    <tr>\n",
       "      <td>6</td>\n",
       "      <td>сотрудник</td>\n",
       "      <td>4708.358626</td>\n",
       "    </tr>\n",
       "    <tr>\n",
       "      <td>7</td>\n",
       "      <td>студент</td>\n",
       "      <td>578.751554</td>\n",
       "    </tr>\n",
       "  </tbody>\n",
       "</table>\n",
       "</div>"
      ],
      "text/plain": [
       "       income_type  days_employed\n",
       "0      безработный  366413.652744\n",
       "1        в декрете    3296.759962\n",
       "2      госслужащий    6328.451772\n",
       "3        компаньон    3861.355338\n",
       "4        пенсионер  352288.489626\n",
       "5  предприниматель  165883.412375\n",
       "6        сотрудник    4708.358626\n",
       "7          студент     578.751554"
      ]
     },
     "execution_count": 10,
     "metadata": {},
     "output_type": "execute_result"
    }
   ],
   "source": [
    "#зсмотрю данные стажа для разных категорий дохода\n",
    "data.pivot_table(index = 'income_type', values = 'days_employed').reset_index()"
   ]
  },
  {
   "cell_type": "code",
   "execution_count": 11,
   "metadata": {},
   "outputs": [
    {
     "data": {
      "text/html": [
       "<div>\n",
       "<style scoped>\n",
       "    .dataframe tbody tr th:only-of-type {\n",
       "        vertical-align: middle;\n",
       "    }\n",
       "\n",
       "    .dataframe tbody tr th {\n",
       "        vertical-align: top;\n",
       "    }\n",
       "\n",
       "    .dataframe thead th {\n",
       "        text-align: right;\n",
       "    }\n",
       "</style>\n",
       "<table border=\"1\" class=\"dataframe\">\n",
       "  <thead>\n",
       "    <tr style=\"text-align: right;\">\n",
       "      <th></th>\n",
       "      <th>income_type</th>\n",
       "      <th>days_employed</th>\n",
       "    </tr>\n",
       "  </thead>\n",
       "  <tbody>\n",
       "    <tr>\n",
       "      <td>0</td>\n",
       "      <td>безработный</td>\n",
       "      <td>15267.235531</td>\n",
       "    </tr>\n",
       "    <tr>\n",
       "      <td>1</td>\n",
       "      <td>в декрете</td>\n",
       "      <td>3296.759962</td>\n",
       "    </tr>\n",
       "    <tr>\n",
       "      <td>2</td>\n",
       "      <td>госслужащий</td>\n",
       "      <td>6328.451772</td>\n",
       "    </tr>\n",
       "    <tr>\n",
       "      <td>3</td>\n",
       "      <td>компаньон</td>\n",
       "      <td>3861.355338</td>\n",
       "    </tr>\n",
       "    <tr>\n",
       "      <td>4</td>\n",
       "      <td>пенсионер</td>\n",
       "      <td>14678.687068</td>\n",
       "    </tr>\n",
       "    <tr>\n",
       "      <td>5</td>\n",
       "      <td>предприниматель</td>\n",
       "      <td>165883.412375</td>\n",
       "    </tr>\n",
       "    <tr>\n",
       "      <td>6</td>\n",
       "      <td>сотрудник</td>\n",
       "      <td>4708.358626</td>\n",
       "    </tr>\n",
       "    <tr>\n",
       "      <td>7</td>\n",
       "      <td>студент</td>\n",
       "      <td>578.751554</td>\n",
       "    </tr>\n",
       "  </tbody>\n",
       "</table>\n",
       "</div>"
      ],
      "text/plain": [
       "       income_type  days_employed\n",
       "0      безработный   15267.235531\n",
       "1        в декрете    3296.759962\n",
       "2      госслужащий    6328.451772\n",
       "3        компаньон    3861.355338\n",
       "4        пенсионер   14678.687068\n",
       "5  предприниматель  165883.412375\n",
       "6        сотрудник    4708.358626\n",
       "7          студент     578.751554"
      ]
     },
     "execution_count": 11,
     "metadata": {},
     "output_type": "execute_result"
    }
   ],
   "source": [
    "#функция для приведения стажа у безработных и пенсионеров в единый формат с остальными типами стажа\n",
    "def hours_to_days(income_type):\n",
    "    if (income_type == 'безработный') or (income_type == 'пенсионер'):\n",
    "        return 24\n",
    "    else: \n",
    "        return 1\n",
    "data['if_hours'] = data['income_type'].apply(hours_to_days)\n",
    "data['days_employed'] = data['days_employed'] / data['if_hours']\n",
    "data.pivot_table(index = 'income_type', values = 'days_employed').reset_index()"
   ]
  },
  {
   "cell_type": "markdown",
   "metadata": {},
   "source": [
    "**Вывод**"
   ]
  },
  {
   "cell_type": "markdown",
   "metadata": {},
   "source": [
    "1) методом unique() выявлено, что в столбце дети есть значения -1 и 20, скорее всего, это ошибка в данных. Так как нам для результата исследования важно, есть ли у клиента дети, поменяла отрицательное значение на положительное (-1 на 1), 20 не трогала. в столбце dob, возраст клиента в годах, есть значение равное нулю, ни на что менять его не буду, оно не влияет на результат исследования. в столбце образование обнаружен разный регистр для одних и тех же значений, который считывается как разные, надо привести их к единому виду. в столбце пол встречается непонятное значение XNA, трогать его не буду. в столбце трудового стажа были обнаружегны отрицательные значения, которые методом abs() я заменила на положительные\n",
    "\n",
    "2) методом isna() обнаружены пропуски (NaN) в столбцах days_employed и total_income. причем, их число в обоих столбцах совпадает, т.е. можно допустить, что либо по этим клиентам утеряны данные, либо у них нет трудового стажа и, соответственно, дохода. данные в этих столбцах являются количественными, относятся к вещественному типу. \n",
    "\n",
    "3) при выводе первых 10 строк таблицы с пропущенными значениями видно, что остальные значения в столбцах заполнены и несут в себе вполне определенную информацию. таким образом, скорее всего эти данные просто утеряны, хотя можно делать допуск на то, что люди работают неофициально и не могут подтвердить ни свой стаж, ни доход. пропуски буду заполнять медианными значениями\n",
    "\n",
    "4) пропуски в трудовом стаже заполнила медианным значением с группировкой по столбца возраста, предположив, что трудовой стаж у людей одного возраста может быть примерно одинаковым \n",
    "\n",
    "5) аналогично, группируя по столбцу тип дохода, считаю медианные значения дохода и подставляю их вместо пропущенных значений. остановилась на столбце тип дохода, предположив, что для данной ситуации он может дать более-менее подходящие значения. "
   ]
  },
  {
   "cell_type": "markdown",
   "metadata": {},
   "source": [
    "### Замена типа данных"
   ]
  },
  {
   "cell_type": "code",
   "execution_count": 12,
   "metadata": {},
   "outputs": [
    {
     "name": "stdout",
     "output_type": "stream",
     "text": [
      "<class 'pandas.core.frame.DataFrame'>\n",
      "RangeIndex: 21525 entries, 0 to 21524\n",
      "Data columns (total 13 columns):\n",
      "children            21525 non-null int64\n",
      "days_employed       21525 non-null int64\n",
      "dob_years           21525 non-null int64\n",
      "education           21525 non-null object\n",
      "education_id        21525 non-null int64\n",
      "family_status       21525 non-null object\n",
      "family_status_id    21525 non-null int64\n",
      "gender              21525 non-null object\n",
      "income_type         21525 non-null object\n",
      "debt                21525 non-null int64\n",
      "total_income        21525 non-null int64\n",
      "purpose             21525 non-null object\n",
      "if_hours            21525 non-null int64\n",
      "dtypes: int64(8), object(5)\n",
      "memory usage: 2.1+ MB\n"
     ]
    }
   ],
   "source": [
    "#меняю типы данных с вещественного на целочисленный\n",
    "data['days_employed'] = data['days_employed'].astype('int')\n",
    "data['total_income'] = data['total_income'].astype('int')\n",
    "data.info()"
   ]
  },
  {
   "cell_type": "markdown",
   "metadata": {},
   "source": [
    "**Вывод**"
   ]
  },
  {
   "cell_type": "markdown",
   "metadata": {},
   "source": [
    "метод .to_numeric() переводит строковые в числовой формат float\n",
    "\n",
    "метод .astype() переводит данные в необходимый мне тип, в качестве аргумента в методе использую int - целые числа. \n",
    "т.к. необходимо перевести вещественный float тип данных в целочисленный int, поэтому буду использовать второй метод.\n",
    "результат проверяб методом info(): float64 не осталось"
   ]
  },
  {
   "cell_type": "markdown",
   "metadata": {},
   "source": [
    "### Обработка дубликатов"
   ]
  },
  {
   "cell_type": "code",
   "execution_count": 13,
   "metadata": {},
   "outputs": [
    {
     "name": "stdout",
     "output_type": "stream",
     "text": [
      "уникальные значения образования ДО: ['высшее' 'среднее' 'Среднее' 'СРЕДНЕЕ' 'ВЫСШЕЕ' 'неоконченное высшее'\n",
      " 'начальное' 'Высшее' 'НЕОКОНЧЕННОЕ ВЫСШЕЕ' 'Неоконченное высшее'\n",
      " 'НАЧАЛЬНОЕ' 'Начальное' 'Ученая степень' 'УЧЕНАЯ СТЕПЕНЬ'\n",
      " 'ученая степень']\n",
      "уникальные значения образования ПОСЛЕ: ['высшее' 'среднее' 'неоконченное высшее' 'начальное' 'ученая степень']\n"
     ]
    }
   ],
   "source": [
    "#заменяю регистр в столбце образование на нижний, проверяю уникальные значения\n",
    "print('уникальные значения образования ДО:', data['education'].unique())\n",
    "data['education'] = data['education'].str.lower()\n",
    "print('уникальные значения образования ПОСЛЕ:', data['education'].unique())\n"
   ]
  },
  {
   "cell_type": "code",
   "execution_count": 14,
   "metadata": {},
   "outputs": [
    {
     "name": "stdout",
     "output_type": "stream",
     "text": [
      "полных дубликатов ДО: 71\n",
      "полных дубликатов ПОСЛЕ: 0\n"
     ]
    }
   ],
   "source": [
    "#ищу полные дубликаты в данных и удаляю их\n",
    "print('полных дубликатов ДО:', data.duplicated().sum())\n",
    "data = data.drop_duplicates()\n",
    "print('полных дубликатов ПОСЛЕ:', data.duplicated().sum())\n",
    "#удаляю дубликаты в данных, делая гипотезу о том, что заемщики с совпадающим возрастом, доходом, трудовым стажем и целью кредита - это дублирование данных\n",
    "data = data.drop_duplicates(subset = ['dob_years', 'days_employed', 'total_income', 'purpose'])"
   ]
  },
  {
   "cell_type": "code",
   "execution_count": 15,
   "metadata": {},
   "outputs": [
    {
     "data": {
      "text/html": [
       "<div>\n",
       "<style scoped>\n",
       "    .dataframe tbody tr th:only-of-type {\n",
       "        vertical-align: middle;\n",
       "    }\n",
       "\n",
       "    .dataframe tbody tr th {\n",
       "        vertical-align: top;\n",
       "    }\n",
       "\n",
       "    .dataframe thead th {\n",
       "        text-align: right;\n",
       "    }\n",
       "</style>\n",
       "<table border=\"1\" class=\"dataframe\">\n",
       "  <thead>\n",
       "    <tr style=\"text-align: right;\">\n",
       "      <th></th>\n",
       "      <th>children</th>\n",
       "      <th>days_employed</th>\n",
       "      <th>dob_years</th>\n",
       "      <th>education</th>\n",
       "      <th>education_id</th>\n",
       "      <th>family_status</th>\n",
       "      <th>family_status_id</th>\n",
       "      <th>gender</th>\n",
       "      <th>income_type</th>\n",
       "      <th>debt</th>\n",
       "      <th>total_income</th>\n",
       "      <th>purpose</th>\n",
       "      <th>if_hours</th>\n",
       "    </tr>\n",
       "  </thead>\n",
       "  <tbody>\n",
       "  </tbody>\n",
       "</table>\n",
       "</div>"
      ],
      "text/plain": [
       "Empty DataFrame\n",
       "Columns: [children, days_employed, dob_years, education, education_id, family_status, family_status_id, gender, income_type, debt, total_income, purpose, if_hours]\n",
       "Index: []"
      ]
     },
     "execution_count": 15,
     "metadata": {},
     "output_type": "execute_result"
    }
   ],
   "source": [
    "#проверяю остались ли дубликаты по указанному условию\n",
    "data[data.duplicated(subset = ['dob_years', 'days_employed', 'total_income', 'purpose'], keep = False)]\n"
   ]
  },
  {
   "cell_type": "code",
   "execution_count": 16,
   "metadata": {},
   "outputs": [],
   "source": [
    "#удалила появившиеся на месте дубликатов пропущенные значения и скинула их индексацию\n",
    "data = data.dropna().reset_index(drop = True)\n"
   ]
  },
  {
   "cell_type": "code",
   "execution_count": 17,
   "metadata": {},
   "outputs": [
    {
     "name": "stdout",
     "output_type": "stream",
     "text": [
      "<class 'pandas.core.frame.DataFrame'>\n",
      "RangeIndex: 20994 entries, 0 to 20993\n",
      "Data columns (total 13 columns):\n",
      "children            20994 non-null int64\n",
      "days_employed       20994 non-null int64\n",
      "dob_years           20994 non-null int64\n",
      "education           20994 non-null object\n",
      "education_id        20994 non-null int64\n",
      "family_status       20994 non-null object\n",
      "family_status_id    20994 non-null int64\n",
      "gender              20994 non-null object\n",
      "income_type         20994 non-null object\n",
      "debt                20994 non-null int64\n",
      "total_income        20994 non-null int64\n",
      "purpose             20994 non-null object\n",
      "if_hours            20994 non-null int64\n",
      "dtypes: int64(8), object(5)\n",
      "memory usage: 2.1+ MB\n"
     ]
    }
   ],
   "source": [
    "#проверяю, сколько дублированных строк удалилось \n",
    "data.info()"
   ]
  },
  {
   "cell_type": "markdown",
   "metadata": {},
   "source": [
    "**Вывод**"
   ]
  },
  {
   "cell_type": "markdown",
   "metadata": {},
   "source": [
    "методы .duplicated() и .drop_duplicates() избавляют лишь от полных дубликатов. \n",
    "\n",
    "после приведения столбца образование к нижнему регистру методом .str.lower(), количество полных дубликатов в данных было 71 (до - 54), методом .drop_duplicates() удалила их.\n",
    "\n",
    "в представленных данных у заемщиков нет идентификаторов, поэтому нельзя быть уверенными в том, что совпадение данных в столбцах говорит о дублировании этих данных. но предположим, что помимо полных дубликатов есть еще дублированные значения: если в данных заемщиков идет полное совпадение по возрасту, доходу, трудовому стажу и цели кредита, то это будем считать за дублирование. \n",
    "\n",
    "не забываю, что на месте удаленных дубликатов остаются пустые значения и занятые индексы: удаляю методом dropna() пустые значения и методом reset_index() обновляю индексацию в данных.\n",
    "\n",
    "методом info() проверяю, сколько в данных стало строк: от изначальных 21525 осталось 20994, т.о. удалилось 531 дублированное значение.\n",
    "\n",
    "причиной возникновения дубликатов может быть некорректное заполнение данных от заемщиков, либо сбор данных из разных источников, при соединении которых возникло дублирование."
   ]
  },
  {
   "cell_type": "markdown",
   "metadata": {},
   "source": [
    "### Лемматизация"
   ]
  },
  {
   "cell_type": "code",
   "execution_count": 18,
   "metadata": {
    "scrolled": true
   },
   "outputs": [],
   "source": [
    "#импортирую pymystem3 для лемматизации\n",
    "from pymystem3 import Mystem\n",
    "m = Mystem() \n",
    "from collections import Counter"
   ]
  },
  {
   "cell_type": "code",
   "execution_count": 19,
   "metadata": {},
   "outputs": [
    {
     "data": {
      "text/html": [
       "<div>\n",
       "<style scoped>\n",
       "    .dataframe tbody tr th:only-of-type {\n",
       "        vertical-align: middle;\n",
       "    }\n",
       "\n",
       "    .dataframe tbody tr th {\n",
       "        vertical-align: top;\n",
       "    }\n",
       "\n",
       "    .dataframe thead th {\n",
       "        text-align: right;\n",
       "    }\n",
       "</style>\n",
       "<table border=\"1\" class=\"dataframe\">\n",
       "  <thead>\n",
       "    <tr style=\"text-align: right;\">\n",
       "      <th></th>\n",
       "      <th>children</th>\n",
       "      <th>days_employed</th>\n",
       "      <th>dob_years</th>\n",
       "      <th>education</th>\n",
       "      <th>education_id</th>\n",
       "      <th>family_status</th>\n",
       "      <th>family_status_id</th>\n",
       "      <th>gender</th>\n",
       "      <th>income_type</th>\n",
       "      <th>debt</th>\n",
       "      <th>total_income</th>\n",
       "      <th>purpose</th>\n",
       "      <th>if_hours</th>\n",
       "      <th>category_purpose</th>\n",
       "    </tr>\n",
       "  </thead>\n",
       "  <tbody>\n",
       "    <tr>\n",
       "      <td>0</td>\n",
       "      <td>1</td>\n",
       "      <td>8437</td>\n",
       "      <td>42</td>\n",
       "      <td>высшее</td>\n",
       "      <td>0</td>\n",
       "      <td>женат / замужем</td>\n",
       "      <td>0</td>\n",
       "      <td>F</td>\n",
       "      <td>сотрудник</td>\n",
       "      <td>0</td>\n",
       "      <td>253875</td>\n",
       "      <td>покупка жилья</td>\n",
       "      <td>1</td>\n",
       "      <td>недвижимость</td>\n",
       "    </tr>\n",
       "    <tr>\n",
       "      <td>1</td>\n",
       "      <td>1</td>\n",
       "      <td>4024</td>\n",
       "      <td>36</td>\n",
       "      <td>среднее</td>\n",
       "      <td>1</td>\n",
       "      <td>женат / замужем</td>\n",
       "      <td>0</td>\n",
       "      <td>F</td>\n",
       "      <td>сотрудник</td>\n",
       "      <td>0</td>\n",
       "      <td>112080</td>\n",
       "      <td>приобретение автомобиля</td>\n",
       "      <td>1</td>\n",
       "      <td>автомобиль</td>\n",
       "    </tr>\n",
       "    <tr>\n",
       "      <td>2</td>\n",
       "      <td>0</td>\n",
       "      <td>5623</td>\n",
       "      <td>33</td>\n",
       "      <td>среднее</td>\n",
       "      <td>1</td>\n",
       "      <td>женат / замужем</td>\n",
       "      <td>0</td>\n",
       "      <td>M</td>\n",
       "      <td>сотрудник</td>\n",
       "      <td>0</td>\n",
       "      <td>145885</td>\n",
       "      <td>покупка жилья</td>\n",
       "      <td>1</td>\n",
       "      <td>недвижимость</td>\n",
       "    </tr>\n",
       "    <tr>\n",
       "      <td>3</td>\n",
       "      <td>3</td>\n",
       "      <td>4124</td>\n",
       "      <td>32</td>\n",
       "      <td>среднее</td>\n",
       "      <td>1</td>\n",
       "      <td>женат / замужем</td>\n",
       "      <td>0</td>\n",
       "      <td>M</td>\n",
       "      <td>сотрудник</td>\n",
       "      <td>0</td>\n",
       "      <td>267628</td>\n",
       "      <td>дополнительное образование</td>\n",
       "      <td>1</td>\n",
       "      <td>образование</td>\n",
       "    </tr>\n",
       "    <tr>\n",
       "      <td>4</td>\n",
       "      <td>0</td>\n",
       "      <td>14177</td>\n",
       "      <td>53</td>\n",
       "      <td>среднее</td>\n",
       "      <td>1</td>\n",
       "      <td>гражданский брак</td>\n",
       "      <td>1</td>\n",
       "      <td>F</td>\n",
       "      <td>пенсионер</td>\n",
       "      <td>0</td>\n",
       "      <td>158616</td>\n",
       "      <td>сыграть свадьбу</td>\n",
       "      <td>24</td>\n",
       "      <td>свадьба</td>\n",
       "    </tr>\n",
       "    <tr>\n",
       "      <td>5</td>\n",
       "      <td>0</td>\n",
       "      <td>926</td>\n",
       "      <td>27</td>\n",
       "      <td>высшее</td>\n",
       "      <td>0</td>\n",
       "      <td>гражданский брак</td>\n",
       "      <td>1</td>\n",
       "      <td>M</td>\n",
       "      <td>компаньон</td>\n",
       "      <td>0</td>\n",
       "      <td>255763</td>\n",
       "      <td>покупка жилья</td>\n",
       "      <td>1</td>\n",
       "      <td>недвижимость</td>\n",
       "    </tr>\n",
       "    <tr>\n",
       "      <td>6</td>\n",
       "      <td>0</td>\n",
       "      <td>2879</td>\n",
       "      <td>43</td>\n",
       "      <td>высшее</td>\n",
       "      <td>0</td>\n",
       "      <td>женат / замужем</td>\n",
       "      <td>0</td>\n",
       "      <td>F</td>\n",
       "      <td>компаньон</td>\n",
       "      <td>0</td>\n",
       "      <td>240525</td>\n",
       "      <td>операции с жильем</td>\n",
       "      <td>1</td>\n",
       "      <td>недвижимость</td>\n",
       "    </tr>\n",
       "    <tr>\n",
       "      <td>7</td>\n",
       "      <td>0</td>\n",
       "      <td>152</td>\n",
       "      <td>50</td>\n",
       "      <td>среднее</td>\n",
       "      <td>1</td>\n",
       "      <td>женат / замужем</td>\n",
       "      <td>0</td>\n",
       "      <td>M</td>\n",
       "      <td>сотрудник</td>\n",
       "      <td>0</td>\n",
       "      <td>135823</td>\n",
       "      <td>образование</td>\n",
       "      <td>1</td>\n",
       "      <td>образование</td>\n",
       "    </tr>\n",
       "    <tr>\n",
       "      <td>8</td>\n",
       "      <td>2</td>\n",
       "      <td>6929</td>\n",
       "      <td>35</td>\n",
       "      <td>высшее</td>\n",
       "      <td>0</td>\n",
       "      <td>гражданский брак</td>\n",
       "      <td>1</td>\n",
       "      <td>F</td>\n",
       "      <td>сотрудник</td>\n",
       "      <td>0</td>\n",
       "      <td>95856</td>\n",
       "      <td>на проведение свадьбы</td>\n",
       "      <td>1</td>\n",
       "      <td>свадьба</td>\n",
       "    </tr>\n",
       "    <tr>\n",
       "      <td>9</td>\n",
       "      <td>0</td>\n",
       "      <td>2188</td>\n",
       "      <td>41</td>\n",
       "      <td>среднее</td>\n",
       "      <td>1</td>\n",
       "      <td>женат / замужем</td>\n",
       "      <td>0</td>\n",
       "      <td>M</td>\n",
       "      <td>сотрудник</td>\n",
       "      <td>0</td>\n",
       "      <td>144425</td>\n",
       "      <td>покупка жилья для семьи</td>\n",
       "      <td>1</td>\n",
       "      <td>недвижимость</td>\n",
       "    </tr>\n",
       "    <tr>\n",
       "      <td>10</td>\n",
       "      <td>2</td>\n",
       "      <td>4171</td>\n",
       "      <td>36</td>\n",
       "      <td>высшее</td>\n",
       "      <td>0</td>\n",
       "      <td>женат / замужем</td>\n",
       "      <td>0</td>\n",
       "      <td>M</td>\n",
       "      <td>компаньон</td>\n",
       "      <td>0</td>\n",
       "      <td>113943</td>\n",
       "      <td>покупка недвижимости</td>\n",
       "      <td>1</td>\n",
       "      <td>недвижимость</td>\n",
       "    </tr>\n",
       "    <tr>\n",
       "      <td>11</td>\n",
       "      <td>0</td>\n",
       "      <td>792</td>\n",
       "      <td>40</td>\n",
       "      <td>среднее</td>\n",
       "      <td>1</td>\n",
       "      <td>женат / замужем</td>\n",
       "      <td>0</td>\n",
       "      <td>F</td>\n",
       "      <td>сотрудник</td>\n",
       "      <td>0</td>\n",
       "      <td>77069</td>\n",
       "      <td>покупка коммерческой недвижимости</td>\n",
       "      <td>1</td>\n",
       "      <td>недвижимость</td>\n",
       "    </tr>\n",
       "    <tr>\n",
       "      <td>12</td>\n",
       "      <td>0</td>\n",
       "      <td>14879</td>\n",
       "      <td>65</td>\n",
       "      <td>среднее</td>\n",
       "      <td>1</td>\n",
       "      <td>гражданский брак</td>\n",
       "      <td>1</td>\n",
       "      <td>M</td>\n",
       "      <td>пенсионер</td>\n",
       "      <td>0</td>\n",
       "      <td>118514</td>\n",
       "      <td>сыграть свадьбу</td>\n",
       "      <td>24</td>\n",
       "      <td>свадьба</td>\n",
       "    </tr>\n",
       "    <tr>\n",
       "      <td>13</td>\n",
       "      <td>0</td>\n",
       "      <td>1846</td>\n",
       "      <td>54</td>\n",
       "      <td>неоконченное высшее</td>\n",
       "      <td>2</td>\n",
       "      <td>женат / замужем</td>\n",
       "      <td>0</td>\n",
       "      <td>F</td>\n",
       "      <td>сотрудник</td>\n",
       "      <td>0</td>\n",
       "      <td>130458</td>\n",
       "      <td>приобретение автомобиля</td>\n",
       "      <td>1</td>\n",
       "      <td>автомобиль</td>\n",
       "    </tr>\n",
       "    <tr>\n",
       "      <td>14</td>\n",
       "      <td>0</td>\n",
       "      <td>1844</td>\n",
       "      <td>56</td>\n",
       "      <td>высшее</td>\n",
       "      <td>0</td>\n",
       "      <td>гражданский брак</td>\n",
       "      <td>1</td>\n",
       "      <td>F</td>\n",
       "      <td>компаньон</td>\n",
       "      <td>1</td>\n",
       "      <td>165127</td>\n",
       "      <td>покупка жилой недвижимости</td>\n",
       "      <td>1</td>\n",
       "      <td>недвижимость</td>\n",
       "    </tr>\n",
       "    <tr>\n",
       "      <td>15</td>\n",
       "      <td>1</td>\n",
       "      <td>972</td>\n",
       "      <td>26</td>\n",
       "      <td>среднее</td>\n",
       "      <td>1</td>\n",
       "      <td>женат / замужем</td>\n",
       "      <td>0</td>\n",
       "      <td>F</td>\n",
       "      <td>сотрудник</td>\n",
       "      <td>0</td>\n",
       "      <td>116820</td>\n",
       "      <td>строительство собственной недвижимости</td>\n",
       "      <td>1</td>\n",
       "      <td>недвижимость</td>\n",
       "    </tr>\n",
       "    <tr>\n",
       "      <td>16</td>\n",
       "      <td>0</td>\n",
       "      <td>1719</td>\n",
       "      <td>35</td>\n",
       "      <td>среднее</td>\n",
       "      <td>1</td>\n",
       "      <td>женат / замужем</td>\n",
       "      <td>0</td>\n",
       "      <td>F</td>\n",
       "      <td>сотрудник</td>\n",
       "      <td>0</td>\n",
       "      <td>289202</td>\n",
       "      <td>недвижимость</td>\n",
       "      <td>1</td>\n",
       "      <td>недвижимость</td>\n",
       "    </tr>\n",
       "    <tr>\n",
       "      <td>17</td>\n",
       "      <td>0</td>\n",
       "      <td>2369</td>\n",
       "      <td>33</td>\n",
       "      <td>высшее</td>\n",
       "      <td>0</td>\n",
       "      <td>гражданский брак</td>\n",
       "      <td>1</td>\n",
       "      <td>M</td>\n",
       "      <td>сотрудник</td>\n",
       "      <td>0</td>\n",
       "      <td>90410</td>\n",
       "      <td>строительство недвижимости</td>\n",
       "      <td>1</td>\n",
       "      <td>недвижимость</td>\n",
       "    </tr>\n",
       "    <tr>\n",
       "      <td>18</td>\n",
       "      <td>0</td>\n",
       "      <td>16678</td>\n",
       "      <td>53</td>\n",
       "      <td>среднее</td>\n",
       "      <td>1</td>\n",
       "      <td>вдовец / вдова</td>\n",
       "      <td>2</td>\n",
       "      <td>F</td>\n",
       "      <td>пенсионер</td>\n",
       "      <td>0</td>\n",
       "      <td>56823</td>\n",
       "      <td>на покупку подержанного автомобиля</td>\n",
       "      <td>24</td>\n",
       "      <td>автомобиль</td>\n",
       "    </tr>\n",
       "    <tr>\n",
       "      <td>19</td>\n",
       "      <td>0</td>\n",
       "      <td>10038</td>\n",
       "      <td>48</td>\n",
       "      <td>среднее</td>\n",
       "      <td>1</td>\n",
       "      <td>в разводе</td>\n",
       "      <td>3</td>\n",
       "      <td>F</td>\n",
       "      <td>сотрудник</td>\n",
       "      <td>0</td>\n",
       "      <td>242831</td>\n",
       "      <td>на покупку своего автомобиля</td>\n",
       "      <td>1</td>\n",
       "      <td>автомобиль</td>\n",
       "    </tr>\n",
       "  </tbody>\n",
       "</table>\n",
       "</div>"
      ],
      "text/plain": [
       "    children  days_employed  dob_years            education  education_id  \\\n",
       "0          1           8437         42               высшее             0   \n",
       "1          1           4024         36              среднее             1   \n",
       "2          0           5623         33              среднее             1   \n",
       "3          3           4124         32              среднее             1   \n",
       "4          0          14177         53              среднее             1   \n",
       "5          0            926         27               высшее             0   \n",
       "6          0           2879         43               высшее             0   \n",
       "7          0            152         50              среднее             1   \n",
       "8          2           6929         35               высшее             0   \n",
       "9          0           2188         41              среднее             1   \n",
       "10         2           4171         36               высшее             0   \n",
       "11         0            792         40              среднее             1   \n",
       "12         0          14879         65              среднее             1   \n",
       "13         0           1846         54  неоконченное высшее             2   \n",
       "14         0           1844         56               высшее             0   \n",
       "15         1            972         26              среднее             1   \n",
       "16         0           1719         35              среднее             1   \n",
       "17         0           2369         33               высшее             0   \n",
       "18         0          16678         53              среднее             1   \n",
       "19         0          10038         48              среднее             1   \n",
       "\n",
       "       family_status  family_status_id gender income_type  debt  total_income  \\\n",
       "0    женат / замужем                 0      F   сотрудник     0        253875   \n",
       "1    женат / замужем                 0      F   сотрудник     0        112080   \n",
       "2    женат / замужем                 0      M   сотрудник     0        145885   \n",
       "3    женат / замужем                 0      M   сотрудник     0        267628   \n",
       "4   гражданский брак                 1      F   пенсионер     0        158616   \n",
       "5   гражданский брак                 1      M   компаньон     0        255763   \n",
       "6    женат / замужем                 0      F   компаньон     0        240525   \n",
       "7    женат / замужем                 0      M   сотрудник     0        135823   \n",
       "8   гражданский брак                 1      F   сотрудник     0         95856   \n",
       "9    женат / замужем                 0      M   сотрудник     0        144425   \n",
       "10   женат / замужем                 0      M   компаньон     0        113943   \n",
       "11   женат / замужем                 0      F   сотрудник     0         77069   \n",
       "12  гражданский брак                 1      M   пенсионер     0        118514   \n",
       "13   женат / замужем                 0      F   сотрудник     0        130458   \n",
       "14  гражданский брак                 1      F   компаньон     1        165127   \n",
       "15   женат / замужем                 0      F   сотрудник     0        116820   \n",
       "16   женат / замужем                 0      F   сотрудник     0        289202   \n",
       "17  гражданский брак                 1      M   сотрудник     0         90410   \n",
       "18    вдовец / вдова                 2      F   пенсионер     0         56823   \n",
       "19         в разводе                 3      F   сотрудник     0        242831   \n",
       "\n",
       "                                   purpose  if_hours category_purpose  \n",
       "0                            покупка жилья         1     недвижимость  \n",
       "1                  приобретение автомобиля         1       автомобиль  \n",
       "2                            покупка жилья         1     недвижимость  \n",
       "3               дополнительное образование         1      образование  \n",
       "4                          сыграть свадьбу        24          свадьба  \n",
       "5                            покупка жилья         1     недвижимость  \n",
       "6                        операции с жильем         1     недвижимость  \n",
       "7                              образование         1      образование  \n",
       "8                    на проведение свадьбы         1          свадьба  \n",
       "9                  покупка жилья для семьи         1     недвижимость  \n",
       "10                    покупка недвижимости         1     недвижимость  \n",
       "11       покупка коммерческой недвижимости         1     недвижимость  \n",
       "12                         сыграть свадьбу        24          свадьба  \n",
       "13                 приобретение автомобиля         1       автомобиль  \n",
       "14              покупка жилой недвижимости         1     недвижимость  \n",
       "15  строительство собственной недвижимости         1     недвижимость  \n",
       "16                            недвижимость         1     недвижимость  \n",
       "17              строительство недвижимости         1     недвижимость  \n",
       "18      на покупку подержанного автомобиля        24       автомобиль  \n",
       "19            на покупку своего автомобиля         1       автомобиль  "
      ]
     },
     "execution_count": 19,
     "metadata": {},
     "output_type": "execute_result"
    }
   ],
   "source": [
    "#создаю функцию, в которой лемматизирую входящий аргумент\n",
    "def purpose_category(row):\n",
    "    lemmas = m.lemmatize(row)\n",
    "#удаляю лишние символы в списке лемм\n",
    "    for element in lemmas:\n",
    "        if element == ' ':\n",
    "            lemmas.remove(' ')   \n",
    "    lemmas.remove('\\n')\n",
    "#смотрю результат лемматизации\n",
    "    #print(lemmas)\n",
    "    #print(Counter(lemmas))\n",
    "#прописываю условие для разделения целей кредита на категории в зависимости от леммы    \n",
    "    if 'свадьба' in lemmas:\n",
    "        return 'свадьба'\n",
    "    if 'образование' in lemmas:\n",
    "        return 'образование'\n",
    "    if 'автомобиль' in lemmas:\n",
    "        return 'автомобиль'\n",
    "    else:\n",
    "        return 'недвижимость'\n",
    "    \n",
    "#к исходным данным добавляю столбец с категоризацией целей кредита, применяя ранее описанную функцию\n",
    "data['category_purpose'] = data['purpose'].apply(purpose_category)       \n",
    "        \n",
    "#смотрю результат\n",
    "data.head(20)\n"
   ]
  },
  {
   "cell_type": "markdown",
   "metadata": {},
   "source": [
    "**Вывод**"
   ]
  },
  {
   "cell_type": "markdown",
   "metadata": {},
   "source": [
    "задание: выделить леммы в значениях столбца purpose и описать процесс лемматизации \n",
    "\n",
    "первым делом изучаю все уникальные значения в столбце цели, их можно разделить на 4 группы: \n",
    "\n",
    "1) жилье-недвижимость: покупка жилья, операции с жильем, покупка жилья для семьи, покупка недвижимости, покупка коммерческой недвижимости, покупка жилой недвижимости, строительство собственной недвижимости, недвижимость, строительство недвижимости, операции с коммерческой недвижимостью, строительство жилой недвижимости, жилье, операции со своей недвижимостью, покупка своего жилья, операции с недвижимостью, покупка жилья для сдачи, ремонт жилью \n",
    "2) автомобиль: приобретение автомобиля, на покупку подержанного автомобиля, на покупку своего автомобиля, автомобили, сделка с подержанным автомобилем, автомобиль, свой автомобиль, сделка с автомобилем, на покупку автомобиля\n",
    "3) образование: дополнительное образование, образование, заняться образованием, получение образования, получение дополнительного образования, получение высшего образования, профильное образование, высшее образование, заняться высшим образованием\n",
    "4) свадьба: сыграть свадьбу, на проведение свадьбы, свадьба.\n",
    "\n",
    "для лемматизации описала функцию, которая в качестве аргумента принимает строки из столбца purpose, далее, в зависимости от леммы, функция будет возвращать одно из четырех интересующих нас значений. дополнительно избавилась в леммах от пробелов и незначимых символов\n",
    "\n",
    "применив методом apply() описанную функцию к столбцу цель кредита, добавила в исходные данные новый стоблец с категорией цели, результат проверила методом info()"
   ]
  },
  {
   "cell_type": "markdown",
   "metadata": {},
   "source": [
    "### Категоризация данных"
   ]
  },
  {
   "cell_type": "code",
   "execution_count": 20,
   "metadata": {},
   "outputs": [
    {
     "data": {
      "text/html": [
       "<div>\n",
       "<style scoped>\n",
       "    .dataframe tbody tr th:only-of-type {\n",
       "        vertical-align: middle;\n",
       "    }\n",
       "\n",
       "    .dataframe tbody tr th {\n",
       "        vertical-align: top;\n",
       "    }\n",
       "\n",
       "    .dataframe thead th {\n",
       "        text-align: right;\n",
       "    }\n",
       "</style>\n",
       "<table border=\"1\" class=\"dataframe\">\n",
       "  <thead>\n",
       "    <tr style=\"text-align: right;\">\n",
       "      <th></th>\n",
       "      <th>index</th>\n",
       "      <th>family_status</th>\n",
       "      <th>family_status_id</th>\n",
       "    </tr>\n",
       "  </thead>\n",
       "  <tbody>\n",
       "    <tr>\n",
       "      <td>0</td>\n",
       "      <td>0</td>\n",
       "      <td>женат / замужем</td>\n",
       "      <td>0</td>\n",
       "    </tr>\n",
       "    <tr>\n",
       "      <td>1</td>\n",
       "      <td>4</td>\n",
       "      <td>гражданский брак</td>\n",
       "      <td>1</td>\n",
       "    </tr>\n",
       "    <tr>\n",
       "      <td>2</td>\n",
       "      <td>18</td>\n",
       "      <td>вдовец / вдова</td>\n",
       "      <td>2</td>\n",
       "    </tr>\n",
       "    <tr>\n",
       "      <td>3</td>\n",
       "      <td>19</td>\n",
       "      <td>в разводе</td>\n",
       "      <td>3</td>\n",
       "    </tr>\n",
       "    <tr>\n",
       "      <td>4</td>\n",
       "      <td>24</td>\n",
       "      <td>Не женат / не замужем</td>\n",
       "      <td>4</td>\n",
       "    </tr>\n",
       "  </tbody>\n",
       "</table>\n",
       "</div>"
      ],
      "text/plain": [
       "   index          family_status  family_status_id\n",
       "0      0        женат / замужем                 0\n",
       "1      4       гражданский брак                 1\n",
       "2     18         вдовец / вдова                 2\n",
       "3     19              в разводе                 3\n",
       "4     24  Не женат / не замужем                 4"
      ]
     },
     "execution_count": 20,
     "metadata": {},
     "output_type": "execute_result"
    }
   ],
   "source": [
    "#смотрю соответстиве семейного положения его айдишнику\n",
    "family = data[['family_status', 'family_status_id']]\n",
    "family = family.drop_duplicates().reset_index()\n",
    "family.head()"
   ]
  },
  {
   "cell_type": "code",
   "execution_count": 21,
   "metadata": {},
   "outputs": [
    {
     "name": "stdout",
     "output_type": "stream",
     "text": [
      "0    19300\n",
      "1     1694\n",
      "Name: debt, dtype: int64\n"
     ]
    }
   ],
   "source": [
    "print(data['debt'].value_counts())"
   ]
  },
  {
   "cell_type": "code",
   "execution_count": 22,
   "metadata": {},
   "outputs": [
    {
     "data": {
      "text/html": [
       "<div>\n",
       "<style scoped>\n",
       "    .dataframe tbody tr th:only-of-type {\n",
       "        vertical-align: middle;\n",
       "    }\n",
       "\n",
       "    .dataframe tbody tr th {\n",
       "        vertical-align: top;\n",
       "    }\n",
       "\n",
       "    .dataframe thead th {\n",
       "        text-align: right;\n",
       "    }\n",
       "</style>\n",
       "<table border=\"1\" class=\"dataframe\">\n",
       "  <thead>\n",
       "    <tr style=\"text-align: right;\">\n",
       "      <th></th>\n",
       "      <th>children</th>\n",
       "      <th>days_employed</th>\n",
       "      <th>dob_years</th>\n",
       "      <th>education</th>\n",
       "      <th>education_id</th>\n",
       "      <th>family_status</th>\n",
       "      <th>family_status_id</th>\n",
       "      <th>gender</th>\n",
       "      <th>income_type</th>\n",
       "      <th>debt</th>\n",
       "      <th>total_income</th>\n",
       "      <th>purpose</th>\n",
       "      <th>if_hours</th>\n",
       "      <th>category_purpose</th>\n",
       "      <th>having_children</th>\n",
       "    </tr>\n",
       "  </thead>\n",
       "  <tbody>\n",
       "    <tr>\n",
       "      <td>0</td>\n",
       "      <td>1</td>\n",
       "      <td>8437</td>\n",
       "      <td>42</td>\n",
       "      <td>высшее</td>\n",
       "      <td>0</td>\n",
       "      <td>женат / замужем</td>\n",
       "      <td>0</td>\n",
       "      <td>F</td>\n",
       "      <td>сотрудник</td>\n",
       "      <td>0</td>\n",
       "      <td>253875</td>\n",
       "      <td>покупка жилья</td>\n",
       "      <td>1</td>\n",
       "      <td>недвижимость</td>\n",
       "      <td>yes</td>\n",
       "    </tr>\n",
       "    <tr>\n",
       "      <td>1</td>\n",
       "      <td>1</td>\n",
       "      <td>4024</td>\n",
       "      <td>36</td>\n",
       "      <td>среднее</td>\n",
       "      <td>1</td>\n",
       "      <td>женат / замужем</td>\n",
       "      <td>0</td>\n",
       "      <td>F</td>\n",
       "      <td>сотрудник</td>\n",
       "      <td>0</td>\n",
       "      <td>112080</td>\n",
       "      <td>приобретение автомобиля</td>\n",
       "      <td>1</td>\n",
       "      <td>автомобиль</td>\n",
       "      <td>yes</td>\n",
       "    </tr>\n",
       "    <tr>\n",
       "      <td>2</td>\n",
       "      <td>0</td>\n",
       "      <td>5623</td>\n",
       "      <td>33</td>\n",
       "      <td>среднее</td>\n",
       "      <td>1</td>\n",
       "      <td>женат / замужем</td>\n",
       "      <td>0</td>\n",
       "      <td>M</td>\n",
       "      <td>сотрудник</td>\n",
       "      <td>0</td>\n",
       "      <td>145885</td>\n",
       "      <td>покупка жилья</td>\n",
       "      <td>1</td>\n",
       "      <td>недвижимость</td>\n",
       "      <td>no</td>\n",
       "    </tr>\n",
       "    <tr>\n",
       "      <td>3</td>\n",
       "      <td>3</td>\n",
       "      <td>4124</td>\n",
       "      <td>32</td>\n",
       "      <td>среднее</td>\n",
       "      <td>1</td>\n",
       "      <td>женат / замужем</td>\n",
       "      <td>0</td>\n",
       "      <td>M</td>\n",
       "      <td>сотрудник</td>\n",
       "      <td>0</td>\n",
       "      <td>267628</td>\n",
       "      <td>дополнительное образование</td>\n",
       "      <td>1</td>\n",
       "      <td>образование</td>\n",
       "      <td>yes</td>\n",
       "    </tr>\n",
       "    <tr>\n",
       "      <td>4</td>\n",
       "      <td>0</td>\n",
       "      <td>14177</td>\n",
       "      <td>53</td>\n",
       "      <td>среднее</td>\n",
       "      <td>1</td>\n",
       "      <td>гражданский брак</td>\n",
       "      <td>1</td>\n",
       "      <td>F</td>\n",
       "      <td>пенсионер</td>\n",
       "      <td>0</td>\n",
       "      <td>158616</td>\n",
       "      <td>сыграть свадьбу</td>\n",
       "      <td>24</td>\n",
       "      <td>свадьба</td>\n",
       "      <td>no</td>\n",
       "    </tr>\n",
       "  </tbody>\n",
       "</table>\n",
       "</div>"
      ],
      "text/plain": [
       "   children  days_employed  dob_years education  education_id  \\\n",
       "0         1           8437         42    высшее             0   \n",
       "1         1           4024         36   среднее             1   \n",
       "2         0           5623         33   среднее             1   \n",
       "3         3           4124         32   среднее             1   \n",
       "4         0          14177         53   среднее             1   \n",
       "\n",
       "      family_status  family_status_id gender income_type  debt  total_income  \\\n",
       "0   женат / замужем                 0      F   сотрудник     0        253875   \n",
       "1   женат / замужем                 0      F   сотрудник     0        112080   \n",
       "2   женат / замужем                 0      M   сотрудник     0        145885   \n",
       "3   женат / замужем                 0      M   сотрудник     0        267628   \n",
       "4  гражданский брак                 1      F   пенсионер     0        158616   \n",
       "\n",
       "                      purpose  if_hours category_purpose having_children  \n",
       "0               покупка жилья         1     недвижимость             yes  \n",
       "1     приобретение автомобиля         1       автомобиль             yes  \n",
       "2               покупка жилья         1     недвижимость              no  \n",
       "3  дополнительное образование         1      образование             yes  \n",
       "4             сыграть свадьбу        24          свадьба              no  "
      ]
     },
     "execution_count": 22,
     "metadata": {},
     "output_type": "execute_result"
    }
   ],
   "source": [
    "#категоризирую наличие детей\n",
    "def have_children(children):\n",
    "    if children < 1:\n",
    "        return 'no'\n",
    "    else:\n",
    "        return 'yes'\n",
    "\n",
    "data['having_children'] = data['children'].apply(have_children)\n",
    "data.head()"
   ]
  },
  {
   "cell_type": "code",
   "execution_count": 23,
   "metadata": {},
   "outputs": [],
   "source": [
    "#категоризирую уровень дохода\n",
    "\n",
    "#ввожу переменные, возвращающие значения персентилей для столбца дохода, используя метод describe()\n",
    "a = data['total_income'].describe()['25%']\n",
    "b = data['total_income'].describe()['50%']\n",
    "c = data['total_income'].describe()['75%']\n",
    "  "
   ]
  },
  {
   "cell_type": "code",
   "execution_count": 24,
   "metadata": {},
   "outputs": [
    {
     "data": {
      "text/html": [
       "<div>\n",
       "<style scoped>\n",
       "    .dataframe tbody tr th:only-of-type {\n",
       "        vertical-align: middle;\n",
       "    }\n",
       "\n",
       "    .dataframe tbody tr th {\n",
       "        vertical-align: top;\n",
       "    }\n",
       "\n",
       "    .dataframe thead th {\n",
       "        text-align: right;\n",
       "    }\n",
       "</style>\n",
       "<table border=\"1\" class=\"dataframe\">\n",
       "  <thead>\n",
       "    <tr style=\"text-align: right;\">\n",
       "      <th></th>\n",
       "      <th>children</th>\n",
       "      <th>days_employed</th>\n",
       "      <th>dob_years</th>\n",
       "      <th>education</th>\n",
       "      <th>education_id</th>\n",
       "      <th>family_status</th>\n",
       "      <th>family_status_id</th>\n",
       "      <th>gender</th>\n",
       "      <th>income_type</th>\n",
       "      <th>debt</th>\n",
       "      <th>total_income</th>\n",
       "      <th>purpose</th>\n",
       "      <th>if_hours</th>\n",
       "      <th>category_purpose</th>\n",
       "      <th>having_children</th>\n",
       "      <th>category_income</th>\n",
       "    </tr>\n",
       "  </thead>\n",
       "  <tbody>\n",
       "    <tr>\n",
       "      <td>0</td>\n",
       "      <td>1</td>\n",
       "      <td>8437</td>\n",
       "      <td>42</td>\n",
       "      <td>высшее</td>\n",
       "      <td>0</td>\n",
       "      <td>женат / замужем</td>\n",
       "      <td>0</td>\n",
       "      <td>F</td>\n",
       "      <td>сотрудник</td>\n",
       "      <td>0</td>\n",
       "      <td>253875</td>\n",
       "      <td>покупка жилья</td>\n",
       "      <td>1</td>\n",
       "      <td>недвижимость</td>\n",
       "      <td>yes</td>\n",
       "      <td>свыше 75%</td>\n",
       "    </tr>\n",
       "    <tr>\n",
       "      <td>1</td>\n",
       "      <td>1</td>\n",
       "      <td>4024</td>\n",
       "      <td>36</td>\n",
       "      <td>среднее</td>\n",
       "      <td>1</td>\n",
       "      <td>женат / замужем</td>\n",
       "      <td>0</td>\n",
       "      <td>F</td>\n",
       "      <td>сотрудник</td>\n",
       "      <td>0</td>\n",
       "      <td>112080</td>\n",
       "      <td>приобретение автомобиля</td>\n",
       "      <td>1</td>\n",
       "      <td>автомобиль</td>\n",
       "      <td>yes</td>\n",
       "      <td>от 25 до 50%</td>\n",
       "    </tr>\n",
       "    <tr>\n",
       "      <td>2</td>\n",
       "      <td>0</td>\n",
       "      <td>5623</td>\n",
       "      <td>33</td>\n",
       "      <td>среднее</td>\n",
       "      <td>1</td>\n",
       "      <td>женат / замужем</td>\n",
       "      <td>0</td>\n",
       "      <td>M</td>\n",
       "      <td>сотрудник</td>\n",
       "      <td>0</td>\n",
       "      <td>145885</td>\n",
       "      <td>покупка жилья</td>\n",
       "      <td>1</td>\n",
       "      <td>недвижимость</td>\n",
       "      <td>no</td>\n",
       "      <td>от 50 до 75%</td>\n",
       "    </tr>\n",
       "    <tr>\n",
       "      <td>3</td>\n",
       "      <td>3</td>\n",
       "      <td>4124</td>\n",
       "      <td>32</td>\n",
       "      <td>среднее</td>\n",
       "      <td>1</td>\n",
       "      <td>женат / замужем</td>\n",
       "      <td>0</td>\n",
       "      <td>M</td>\n",
       "      <td>сотрудник</td>\n",
       "      <td>0</td>\n",
       "      <td>267628</td>\n",
       "      <td>дополнительное образование</td>\n",
       "      <td>1</td>\n",
       "      <td>образование</td>\n",
       "      <td>yes</td>\n",
       "      <td>свыше 75%</td>\n",
       "    </tr>\n",
       "    <tr>\n",
       "      <td>4</td>\n",
       "      <td>0</td>\n",
       "      <td>14177</td>\n",
       "      <td>53</td>\n",
       "      <td>среднее</td>\n",
       "      <td>1</td>\n",
       "      <td>гражданский брак</td>\n",
       "      <td>1</td>\n",
       "      <td>F</td>\n",
       "      <td>пенсионер</td>\n",
       "      <td>0</td>\n",
       "      <td>158616</td>\n",
       "      <td>сыграть свадьбу</td>\n",
       "      <td>24</td>\n",
       "      <td>свадьба</td>\n",
       "      <td>no</td>\n",
       "      <td>от 50 до 75%</td>\n",
       "    </tr>\n",
       "  </tbody>\n",
       "</table>\n",
       "</div>"
      ],
      "text/plain": [
       "   children  days_employed  dob_years education  education_id  \\\n",
       "0         1           8437         42    высшее             0   \n",
       "1         1           4024         36   среднее             1   \n",
       "2         0           5623         33   среднее             1   \n",
       "3         3           4124         32   среднее             1   \n",
       "4         0          14177         53   среднее             1   \n",
       "\n",
       "      family_status  family_status_id gender income_type  debt  total_income  \\\n",
       "0   женат / замужем                 0      F   сотрудник     0        253875   \n",
       "1   женат / замужем                 0      F   сотрудник     0        112080   \n",
       "2   женат / замужем                 0      M   сотрудник     0        145885   \n",
       "3   женат / замужем                 0      M   сотрудник     0        267628   \n",
       "4  гражданский брак                 1      F   пенсионер     0        158616   \n",
       "\n",
       "                      purpose  if_hours category_purpose having_children  \\\n",
       "0               покупка жилья         1     недвижимость             yes   \n",
       "1     приобретение автомобиля         1       автомобиль             yes   \n",
       "2               покупка жилья         1     недвижимость              no   \n",
       "3  дополнительное образование         1      образование             yes   \n",
       "4             сыграть свадьбу        24          свадьба              no   \n",
       "\n",
       "  category_income  \n",
       "0       свыше 75%  \n",
       "1    от 25 до 50%  \n",
       "2    от 50 до 75%  \n",
       "3       свыше 75%  \n",
       "4    от 50 до 75%  "
      ]
     },
     "execution_count": 24,
     "metadata": {},
     "output_type": "execute_result"
    }
   ],
   "source": [
    "#описываю функцию, с помощью которой можно провести категоризацию дохода\n",
    "def income_id(total_income):\n",
    "    if total_income <= a:\n",
    "        return 'менее 25%'\n",
    "    if a < total_income <= b:\n",
    "        return 'от 25 до 50%'\n",
    "    if b < total_income <= c:\n",
    "        return 'от 50 до 75%'\n",
    "    else:\n",
    "        return 'свыше 75%'\n",
    "\n",
    "#применяю функцию к столбцу доход и смотрю результат\n",
    "data['category_income'] = data['total_income'].apply(income_id)\n",
    "data.head()"
   ]
  },
  {
   "cell_type": "markdown",
   "metadata": {},
   "source": [
    "**Вывод**"
   ]
  },
  {
   "cell_type": "markdown",
   "metadata": {},
   "source": [
    "для ответа на последующие вопросы данные надо категоризировать. \n",
    "\n",
    "1) наличие детей. необходимо добавить столбец having_children, yes - если есть дети, no - если нет\n",
    "\n",
    "2) семейное положение. семейное положение уже категоризировано, для понимания сопоставления семейного положения идентификатору создала новую таблицу family, которую сгруппировала, чтоб были видны индексы для family_status. upd: мне этот столбец не пригодился, сводную таблицу выводила по столбцу family_status\n",
    "\n",
    "3) уровень дохода: можно разделить на категории персентилями: меньше 25%, от 25 до 50, от 50 до 75 и от 75 до 100%\n",
    "\n",
    "4) цели кредитования уже разделены на категории \n",
    "\n",
    "все категории будем сравнивать со столбцом debt, в котором два значения: 0 - не было задолженности, 1 - была. "
   ]
  },
  {
   "cell_type": "markdown",
   "metadata": {},
   "source": [
    "## Ответы на поставленные вопросы"
   ]
  },
  {
   "cell_type": "markdown",
   "metadata": {},
   "source": [
    "### Есть ли зависимость между наличием детей и возвратом кредита в срок?"
   ]
  },
  {
   "cell_type": "code",
   "execution_count": 25,
   "metadata": {},
   "outputs": [
    {
     "data": {
      "text/html": [
       "<div>\n",
       "<style scoped>\n",
       "    .dataframe tbody tr th:only-of-type {\n",
       "        vertical-align: middle;\n",
       "    }\n",
       "\n",
       "    .dataframe tbody tr th {\n",
       "        vertical-align: top;\n",
       "    }\n",
       "\n",
       "    .dataframe thead th {\n",
       "        text-align: right;\n",
       "    }\n",
       "</style>\n",
       "<table border=\"1\" class=\"dataframe\">\n",
       "  <thead>\n",
       "    <tr style=\"text-align: right;\">\n",
       "      <th>debt</th>\n",
       "      <th>0</th>\n",
       "      <th>1</th>\n",
       "      <th>%_debt</th>\n",
       "    </tr>\n",
       "    <tr>\n",
       "      <th>having_children</th>\n",
       "      <th></th>\n",
       "      <th></th>\n",
       "      <th></th>\n",
       "    </tr>\n",
       "  </thead>\n",
       "  <tbody>\n",
       "    <tr>\n",
       "      <td>no</td>\n",
       "      <td>12785</td>\n",
       "      <td>1038</td>\n",
       "      <td>8.118889</td>\n",
       "    </tr>\n",
       "    <tr>\n",
       "      <td>yes</td>\n",
       "      <td>6515</td>\n",
       "      <td>656</td>\n",
       "      <td>10.069071</td>\n",
       "    </tr>\n",
       "  </tbody>\n",
       "</table>\n",
       "</div>"
      ],
      "text/plain": [
       "debt                 0     1     %_debt\n",
       "having_children                        \n",
       "no               12785  1038   8.118889\n",
       "yes               6515   656  10.069071"
      ]
     },
     "execution_count": 25,
     "metadata": {},
     "output_type": "execute_result"
    }
   ],
   "source": [
    "#создаю сводную таблицу по наличию детей и долга\n",
    "children_pivot = data.pivot_table(index = 'having_children', columns = 'debt', values = 'dob_years', aggfunc = 'count')\n",
    "children_pivot.columns\n",
    "#добавляю колонку с процентом долга для дальнейшего анализа\n",
    "children_pivot['%_debt'] = children_pivot[1] / children_pivot[0] * 100\n",
    "children_pivot.head()"
   ]
  },
  {
   "cell_type": "markdown",
   "metadata": {},
   "source": [
    "**Вывод**"
   ]
  },
  {
   "cell_type": "markdown",
   "metadata": {},
   "source": [
    "сделала сводную таблицу, которая отображает наличие детей и подсчитывает, были ли задолженности. \n",
    "из этой таблицы видно, что примерно у 2/3 заемщиков детей нет, из тех, у кого детей нет задолженность по кредиту возникала у примерно 8%, а у тех, у кого дети есть - около 10%. можно сказать, что бездетные платят кредит вовремя в большем числе случаев, нежели те, у кого есть дети"
   ]
  },
  {
   "cell_type": "markdown",
   "metadata": {},
   "source": [
    "### Есть ли зависимость между семейным положением и возвратом кредита в срок?"
   ]
  },
  {
   "cell_type": "code",
   "execution_count": 26,
   "metadata": {},
   "outputs": [
    {
     "data": {
      "text/html": [
       "<div>\n",
       "<style scoped>\n",
       "    .dataframe tbody tr th:only-of-type {\n",
       "        vertical-align: middle;\n",
       "    }\n",
       "\n",
       "    .dataframe tbody tr th {\n",
       "        vertical-align: top;\n",
       "    }\n",
       "\n",
       "    .dataframe thead th {\n",
       "        text-align: right;\n",
       "    }\n",
       "</style>\n",
       "<table border=\"1\" class=\"dataframe\">\n",
       "  <thead>\n",
       "    <tr style=\"text-align: right;\">\n",
       "      <th>debt</th>\n",
       "      <th>0</th>\n",
       "      <th>1</th>\n",
       "      <th>%_debt</th>\n",
       "    </tr>\n",
       "    <tr>\n",
       "      <th>family_status</th>\n",
       "      <th></th>\n",
       "      <th></th>\n",
       "      <th></th>\n",
       "    </tr>\n",
       "  </thead>\n",
       "  <tbody>\n",
       "    <tr>\n",
       "      <td>Не женат / не замужем</td>\n",
       "      <td>2478</td>\n",
       "      <td>271</td>\n",
       "      <td>10.936239</td>\n",
       "    </tr>\n",
       "    <tr>\n",
       "      <td>в разводе</td>\n",
       "      <td>1087</td>\n",
       "      <td>85</td>\n",
       "      <td>7.819687</td>\n",
       "    </tr>\n",
       "    <tr>\n",
       "      <td>вдовец / вдова</td>\n",
       "      <td>881</td>\n",
       "      <td>62</td>\n",
       "      <td>7.037457</td>\n",
       "    </tr>\n",
       "    <tr>\n",
       "      <td>гражданский брак</td>\n",
       "      <td>3673</td>\n",
       "      <td>371</td>\n",
       "      <td>10.100735</td>\n",
       "    </tr>\n",
       "    <tr>\n",
       "      <td>женат / замужем</td>\n",
       "      <td>11181</td>\n",
       "      <td>905</td>\n",
       "      <td>8.094088</td>\n",
       "    </tr>\n",
       "  </tbody>\n",
       "</table>\n",
       "</div>"
      ],
      "text/plain": [
       "debt                       0    1     %_debt\n",
       "family_status                               \n",
       "Не женат / не замужем   2478  271  10.936239\n",
       "в разводе               1087   85   7.819687\n",
       "вдовец / вдова           881   62   7.037457\n",
       "гражданский брак        3673  371  10.100735\n",
       "женат / замужем        11181  905   8.094088"
      ]
     },
     "execution_count": 26,
     "metadata": {},
     "output_type": "execute_result"
    }
   ],
   "source": [
    "#создаю сводную таблицу по семейному положению и долгу\n",
    "fam_status_pivot = data.pivot_table(index = 'family_status', columns = 'debt', values = 'dob_years', aggfunc = 'count')\n",
    "#добавляю колонку с процентом долга для дальнейшего анализа\n",
    "fam_status_pivot['%_debt'] = fam_status_pivot[1] / fam_status_pivot[0] * 100\n",
    "fam_status_pivot.head()"
   ]
  },
  {
   "cell_type": "markdown",
   "metadata": {},
   "source": [
    "**Вывод**"
   ]
  },
  {
   "cell_type": "markdown",
   "metadata": {},
   "source": [
    "в данном случае вывожу сводную таблицу, отображающую наличие или отсутствие задолженности у категорий граждан с разным семейным положением. \n",
    "чаще всего не выплачивают кредит люди из категории не женат/не замужем и находящиеся в гражданском браке, лучше всего платят вдовцы"
   ]
  },
  {
   "cell_type": "markdown",
   "metadata": {},
   "source": [
    "### Есть ли зависимость между уровнем дохода и возвратом кредита в срок?"
   ]
  },
  {
   "cell_type": "code",
   "execution_count": 27,
   "metadata": {},
   "outputs": [
    {
     "data": {
      "text/html": [
       "<div>\n",
       "<style scoped>\n",
       "    .dataframe tbody tr th:only-of-type {\n",
       "        vertical-align: middle;\n",
       "    }\n",
       "\n",
       "    .dataframe tbody tr th {\n",
       "        vertical-align: top;\n",
       "    }\n",
       "\n",
       "    .dataframe thead th {\n",
       "        text-align: right;\n",
       "    }\n",
       "</style>\n",
       "<table border=\"1\" class=\"dataframe\">\n",
       "  <thead>\n",
       "    <tr style=\"text-align: right;\">\n",
       "      <th>debt</th>\n",
       "      <th>0</th>\n",
       "      <th>1</th>\n",
       "      <th>%_debt</th>\n",
       "    </tr>\n",
       "    <tr>\n",
       "      <th>category_income</th>\n",
       "      <th></th>\n",
       "      <th></th>\n",
       "      <th></th>\n",
       "    </tr>\n",
       "  </thead>\n",
       "  <tbody>\n",
       "    <tr>\n",
       "      <td>менее 25%</td>\n",
       "      <td>4838</td>\n",
       "      <td>411</td>\n",
       "      <td>8.495246</td>\n",
       "    </tr>\n",
       "    <tr>\n",
       "      <td>от 25 до 50%</td>\n",
       "      <td>4788</td>\n",
       "      <td>460</td>\n",
       "      <td>9.607352</td>\n",
       "    </tr>\n",
       "    <tr>\n",
       "      <td>от 50 до 75%</td>\n",
       "      <td>4800</td>\n",
       "      <td>448</td>\n",
       "      <td>9.333333</td>\n",
       "    </tr>\n",
       "    <tr>\n",
       "      <td>свыше 75%</td>\n",
       "      <td>4874</td>\n",
       "      <td>375</td>\n",
       "      <td>7.693886</td>\n",
       "    </tr>\n",
       "  </tbody>\n",
       "</table>\n",
       "</div>"
      ],
      "text/plain": [
       "debt                0    1    %_debt\n",
       "category_income                     \n",
       "менее 25%        4838  411  8.495246\n",
       "от 25 до 50%     4788  460  9.607352\n",
       "от 50 до 75%     4800  448  9.333333\n",
       "свыше 75%        4874  375  7.693886"
      ]
     },
     "execution_count": 27,
     "metadata": {},
     "output_type": "execute_result"
    }
   ],
   "source": [
    "#создаю сводную таблицу по уровню дохода и долгу\n",
    "income_pivot = data.pivot_table(index = 'category_income', columns = 'debt', values = 'dob_years', aggfunc = 'count')\n",
    "#добавляю колонку с процентом долга для дальнейшего анализа\n",
    "income_pivot['%_debt'] = income_pivot[1] / income_pivot[0] *100\n",
    "income_pivot.head()"
   ]
  },
  {
   "cell_type": "markdown",
   "metadata": {},
   "source": [
    "**Вывод**"
   ]
  },
  {
   "cell_type": "markdown",
   "metadata": {},
   "source": [
    "сводная таблица по категориям уровня дохода и наличию долга показывает, что чаще всего платят вопремя люди с высоким доходом (выше 75% от среднего), в данной группе показатели хуже всего у тех, чей доход распределен в категорию 25-50%"
   ]
  },
  {
   "cell_type": "markdown",
   "metadata": {},
   "source": [
    "### Как разные цели кредита влияют на его возврат в срок?"
   ]
  },
  {
   "cell_type": "code",
   "execution_count": 28,
   "metadata": {},
   "outputs": [
    {
     "data": {
      "text/html": [
       "<div>\n",
       "<style scoped>\n",
       "    .dataframe tbody tr th:only-of-type {\n",
       "        vertical-align: middle;\n",
       "    }\n",
       "\n",
       "    .dataframe tbody tr th {\n",
       "        vertical-align: top;\n",
       "    }\n",
       "\n",
       "    .dataframe thead th {\n",
       "        text-align: right;\n",
       "    }\n",
       "</style>\n",
       "<table border=\"1\" class=\"dataframe\">\n",
       "  <thead>\n",
       "    <tr style=\"text-align: right;\">\n",
       "      <th>debt</th>\n",
       "      <th>0</th>\n",
       "      <th>1</th>\n",
       "      <th>%_debt</th>\n",
       "    </tr>\n",
       "    <tr>\n",
       "      <th>category_purpose</th>\n",
       "      <th></th>\n",
       "      <th></th>\n",
       "      <th></th>\n",
       "    </tr>\n",
       "  </thead>\n",
       "  <tbody>\n",
       "    <tr>\n",
       "      <td>автомобиль</td>\n",
       "      <td>3837</td>\n",
       "      <td>390</td>\n",
       "      <td>10.164191</td>\n",
       "    </tr>\n",
       "    <tr>\n",
       "      <td>недвижимость</td>\n",
       "      <td>9808</td>\n",
       "      <td>765</td>\n",
       "      <td>7.799755</td>\n",
       "    </tr>\n",
       "    <tr>\n",
       "      <td>образование</td>\n",
       "      <td>3566</td>\n",
       "      <td>361</td>\n",
       "      <td>10.123388</td>\n",
       "    </tr>\n",
       "    <tr>\n",
       "      <td>свадьба</td>\n",
       "      <td>2089</td>\n",
       "      <td>178</td>\n",
       "      <td>8.520823</td>\n",
       "    </tr>\n",
       "  </tbody>\n",
       "</table>\n",
       "</div>"
      ],
      "text/plain": [
       "debt                 0    1     %_debt\n",
       "category_purpose                      \n",
       "автомобиль        3837  390  10.164191\n",
       "недвижимость      9808  765   7.799755\n",
       "образование       3566  361  10.123388\n",
       "свадьба           2089  178   8.520823"
      ]
     },
     "execution_count": 28,
     "metadata": {},
     "output_type": "execute_result"
    }
   ],
   "source": [
    "purp_pivot = data.pivot_table(index = 'category_purpose', columns = 'debt', values = 'dob_years', aggfunc = 'count')\n",
    "purp_pivot['%_debt'] = purp_pivot[1] / purp_pivot[0] * 100\n",
    "purp_pivot.head()"
   ]
  },
  {
   "cell_type": "markdown",
   "metadata": {},
   "source": [
    "**Вывод**"
   ]
  },
  {
   "cell_type": "markdown",
   "metadata": {},
   "source": [
    "меньше всего просрочек по выплатам у людей, чьей целью были операции с недвижимостью, а хуже отдают за авто и образование."
   ]
  },
  {
   "cell_type": "markdown",
   "metadata": {},
   "source": [
    "## Общий вывод"
   ]
  },
  {
   "cell_type": "markdown",
   "metadata": {},
   "source": [
    "Если для банка являются значительными процентные значения в погашении кредита вплоть до 2-3 единиц, то сводные таблицы помогут сделать вывод о том, что лучше всего отдают кредиты: <br>\n",
    "1) заемщики без детей (8% долгов против 10% у имеющих детей)<br>\n",
    "2) разведенные и вдовы/вдовцы (7-7,8% долгов против 10,9% у неженатых/незамужних)<br>\n",
    "3) люди с высоким доходом (7,6% против 9.3-9.6% обладжателей среднего уровня дохода)<br>\n",
    "4) заемщики, берущие кредит на операции с недвижимостью (7,8% против 10.1% у заемщиков с целью кредитования автомодиль и образование)<br>\n",
    "Могу отметить, что при анализе данных не обнаружено слишком больших выбросов для категорий заемщиков, возврат кредита в срок характерен для 90-93% случаев."
   ]
  },
  {
   "cell_type": "markdown",
   "metadata": {},
   "source": [
    "## Чек-лист готовности проекта"
   ]
  },
  {
   "cell_type": "markdown",
   "metadata": {},
   "source": [
    "- [x]  открыт файл;\n",
    "- [x]  файл изучен;\n",
    "- [x]  определены пропущенные значения;\n",
    "- [x]  заполнены пропущенные значения;\n",
    "- [x]  есть пояснение, какие пропущенные значения обнаружены;\n",
    "- [x]  описаны возможные причины появления пропусков в данных;\n",
    "- [x]  объяснено, по какому принципу заполнены пропуски;\n",
    "- [x]  заменен вещественный тип данных на целочисленный;\n",
    "- [x]  есть пояснение, какой метод используется для изменения типа данных и почему;\n",
    "- [x]  удалены дубликаты;\n",
    "- [x]  есть пояснение, какой метод используется для поиска и удаления дубликатов;\n",
    "- [x]  описаны возможные причины появления дубликатов в данных;\n",
    "- [x]  выделены леммы в значениях столбца с целями получения кредита;\n",
    "- [x]  описан процесс лемматизации;\n",
    "- [x]  данные категоризированы;\n",
    "- [x]  есть объяснение принципа категоризации данных;\n",
    "- [x]  есть ответ на вопрос: \"Есть ли зависимость между наличием детей и возвратом кредита в срок?\";\n",
    "- [x]  есть ответ на вопрос: \"Есть ли зависимость между семейным положением и возвратом кредита в срок?\";\n",
    "- [x]  есть ответ на вопрос: \"Есть ли зависимость между уровнем дохода и возвратом кредита в срок?\";\n",
    "- [x]  есть ответ на вопрос: \"Как разные цели кредита влияют на его возврат в срок?\";\n",
    "- [x]  в каждом этапе есть выводы;\n",
    "- [x]  есть общий вывод."
   ]
  }
 ],
 "metadata": {
  "ExecuteTimeLog": [
   {
    "duration": 815,
    "start_time": "2021-06-22T19:13:22.126Z"
   },
   {
    "duration": 71,
    "start_time": "2021-06-22T19:14:29.840Z"
   },
   {
    "duration": 77,
    "start_time": "2021-06-22T19:22:00.179Z"
   },
   {
    "duration": 84,
    "start_time": "2021-06-22T19:22:11.068Z"
   },
   {
    "duration": 6,
    "start_time": "2021-06-22T19:34:04.357Z"
   },
   {
    "duration": 8,
    "start_time": "2021-06-22T19:35:40.534Z"
   },
   {
    "duration": 10,
    "start_time": "2021-06-22T19:36:16.863Z"
   },
   {
    "duration": 12,
    "start_time": "2021-06-22T19:36:45.091Z"
   },
   {
    "duration": 13,
    "start_time": "2021-06-22T19:37:21.505Z"
   },
   {
    "duration": 17,
    "start_time": "2021-06-22T19:37:58.009Z"
   },
   {
    "duration": 17,
    "start_time": "2021-06-22T19:38:42.255Z"
   },
   {
    "duration": 18,
    "start_time": "2021-06-22T19:39:14.644Z"
   },
   {
    "duration": 21,
    "start_time": "2021-06-22T19:40:23.551Z"
   },
   {
    "duration": 21,
    "start_time": "2021-06-22T19:40:56.649Z"
   },
   {
    "duration": 23,
    "start_time": "2021-06-22T19:41:27.087Z"
   },
   {
    "duration": 26,
    "start_time": "2021-06-22T19:41:52.194Z"
   },
   {
    "duration": 34,
    "start_time": "2021-06-22T20:49:02.830Z"
   },
   {
    "duration": 21,
    "start_time": "2021-06-22T20:51:07.455Z"
   },
   {
    "duration": 15,
    "start_time": "2021-06-22T20:51:50.299Z"
   },
   {
    "duration": 8,
    "start_time": "2021-06-22T20:54:46.254Z"
   },
   {
    "duration": 10,
    "start_time": "2021-06-22T21:08:16.943Z"
   },
   {
    "duration": 824,
    "start_time": "2021-06-27T10:48:00.768Z"
   },
   {
    "duration": 85,
    "start_time": "2021-06-27T10:58:00.507Z"
   },
   {
    "duration": 27,
    "start_time": "2021-06-27T11:09:13.347Z"
   },
   {
    "duration": 12,
    "start_time": "2021-06-27T11:10:04.644Z"
   },
   {
    "duration": 375,
    "start_time": "2021-06-27T11:20:02.728Z"
   },
   {
    "duration": 295,
    "start_time": "2021-06-27T11:20:33.885Z"
   },
   {
    "duration": 278,
    "start_time": "2021-06-27T11:20:57.286Z"
   },
   {
    "duration": 279,
    "start_time": "2021-06-27T11:21:02.821Z"
   },
   {
    "duration": 13,
    "start_time": "2021-06-27T11:21:10.118Z"
   },
   {
    "duration": 38,
    "start_time": "2021-06-27T11:29:31.166Z"
   },
   {
    "duration": 37,
    "start_time": "2021-06-27T11:38:37.158Z"
   },
   {
    "duration": 19,
    "start_time": "2021-06-27T11:39:33.628Z"
   },
   {
    "duration": 14,
    "start_time": "2021-06-27T11:39:46.947Z"
   },
   {
    "duration": 289,
    "start_time": "2021-06-27T11:43:49.528Z"
   },
   {
    "duration": 5,
    "start_time": "2021-06-27T11:44:05.440Z"
   },
   {
    "duration": 281,
    "start_time": "2021-06-27T11:44:21.515Z"
   },
   {
    "duration": 16,
    "start_time": "2021-06-27T11:45:25.848Z"
   },
   {
    "duration": 18,
    "start_time": "2021-06-27T11:47:06.384Z"
   },
   {
    "duration": 15,
    "start_time": "2021-06-27T11:47:14.008Z"
   },
   {
    "duration": 946,
    "start_time": "2021-06-28T06:46:25.356Z"
   },
   {
    "duration": 10,
    "start_time": "2021-06-28T07:00:22.738Z"
   },
   {
    "duration": 104,
    "start_time": "2021-06-28T07:00:44.140Z"
   },
   {
    "duration": 28,
    "start_time": "2021-06-28T07:00:59.855Z"
   },
   {
    "duration": 16,
    "start_time": "2021-06-28T07:01:11.631Z"
   },
   {
    "duration": 15,
    "start_time": "2021-06-28T07:14:22.829Z"
   },
   {
    "duration": 617,
    "start_time": "2021-06-29T20:11:34.500Z"
   },
   {
    "duration": 63,
    "start_time": "2021-06-29T20:12:36.100Z"
   },
   {
    "duration": 26,
    "start_time": "2021-06-29T20:13:18.007Z"
   },
   {
    "duration": 642,
    "start_time": "2021-07-18T16:40:44.271Z"
   },
   {
    "duration": 25,
    "start_time": "2021-07-18T16:40:58.063Z"
   },
   {
    "duration": 80,
    "start_time": "2021-07-18T16:53:21.903Z"
   },
   {
    "duration": 13,
    "start_time": "2021-07-18T16:53:38.052Z"
   },
   {
    "duration": 13,
    "start_time": "2021-07-18T16:53:50.665Z"
   },
   {
    "duration": 675,
    "start_time": "2021-07-21T18:57:34.707Z"
   },
   {
    "duration": 14,
    "start_time": "2021-07-21T18:57:44.226Z"
   },
   {
    "duration": 20,
    "start_time": "2021-07-21T18:58:04.729Z"
   },
   {
    "duration": 14,
    "start_time": "2021-07-21T18:58:21.311Z"
   },
   {
    "duration": 23,
    "start_time": "2021-07-21T19:00:47.279Z"
   },
   {
    "duration": 17,
    "start_time": "2021-07-21T19:02:38.622Z"
   },
   {
    "duration": 18,
    "start_time": "2021-07-21T19:03:23.806Z"
   },
   {
    "duration": 18,
    "start_time": "2021-07-21T19:03:43.429Z"
   },
   {
    "duration": 17,
    "start_time": "2021-07-21T19:04:08.122Z"
   },
   {
    "duration": 21,
    "start_time": "2021-07-21T19:04:31.279Z"
   },
   {
    "duration": 17,
    "start_time": "2021-07-21T19:05:12.368Z"
   },
   {
    "duration": 17,
    "start_time": "2021-07-21T19:05:51.815Z"
   },
   {
    "duration": 17,
    "start_time": "2021-07-21T19:06:04.223Z"
   },
   {
    "duration": 17,
    "start_time": "2021-07-21T19:06:10.291Z"
   },
   {
    "duration": 24,
    "start_time": "2021-07-21T19:07:27.096Z"
   },
   {
    "duration": 22,
    "start_time": "2021-07-21T19:08:30.722Z"
   },
   {
    "duration": 12,
    "start_time": "2021-07-21T19:14:42.408Z"
   },
   {
    "duration": 12,
    "start_time": "2021-07-21T19:18:35.338Z"
   },
   {
    "duration": 887,
    "start_time": "2021-07-31T11:23:17.503Z"
   },
   {
    "duration": 80,
    "start_time": "2021-07-31T11:23:35.190Z"
   },
   {
    "duration": 74,
    "start_time": "2021-07-31T11:23:45.298Z"
   },
   {
    "duration": 39,
    "start_time": "2021-07-31T11:24:28.949Z"
   },
   {
    "duration": 26,
    "start_time": "2021-07-31T11:24:50.771Z"
   },
   {
    "duration": 31,
    "start_time": "2021-07-31T11:25:01.554Z"
   },
   {
    "duration": 25,
    "start_time": "2021-07-31T11:25:20.268Z"
   },
   {
    "duration": 13,
    "start_time": "2021-07-31T11:25:51.369Z"
   },
   {
    "duration": 289,
    "start_time": "2021-07-31T11:28:05.343Z"
   },
   {
    "duration": 129,
    "start_time": "2021-07-31T11:28:21.580Z"
   },
   {
    "duration": 324,
    "start_time": "2021-07-31T11:29:47.017Z"
   },
   {
    "duration": 269,
    "start_time": "2021-07-31T11:30:02.342Z"
   },
   {
    "duration": 100,
    "start_time": "2021-07-31T11:30:09.973Z"
   },
   {
    "duration": 9,
    "start_time": "2021-07-31T11:30:15.543Z"
   },
   {
    "duration": 79,
    "start_time": "2021-07-31T11:30:29.024Z"
   },
   {
    "duration": 11,
    "start_time": "2021-07-31T11:30:31.842Z"
   },
   {
    "duration": 325,
    "start_time": "2021-07-31T11:30:42.977Z"
   },
   {
    "duration": 254,
    "start_time": "2021-07-31T11:30:47.459Z"
   },
   {
    "duration": 108,
    "start_time": "2021-07-31T11:30:55.644Z"
   },
   {
    "duration": 77,
    "start_time": "2021-07-31T11:31:06.298Z"
   },
   {
    "duration": 10,
    "start_time": "2021-07-31T11:31:08.291Z"
   },
   {
    "duration": 255,
    "start_time": "2021-07-31T11:31:16.770Z"
   },
   {
    "duration": 324,
    "start_time": "2021-07-31T11:40:29.814Z"
   },
   {
    "duration": 379,
    "start_time": "2021-07-31T11:45:15.194Z"
   },
   {
    "duration": 689,
    "start_time": "2021-07-31T11:45:57.054Z"
   },
   {
    "duration": 297,
    "start_time": "2021-07-31T11:46:01.558Z"
   },
   {
    "duration": 595,
    "start_time": "2021-07-31T11:46:54.532Z"
   },
   {
    "duration": 585,
    "start_time": "2021-07-31T11:47:02.075Z"
   },
   {
    "duration": 1015,
    "start_time": "2021-07-31T11:47:13.759Z"
   },
   {
    "duration": 662,
    "start_time": "2021-07-31T11:47:18.641Z"
   },
   {
    "duration": 861,
    "start_time": "2021-07-31T11:48:30.396Z"
   },
   {
    "duration": 572,
    "start_time": "2021-07-31T11:48:42.542Z"
   },
   {
    "duration": 862,
    "start_time": "2021-07-31T11:53:42.060Z"
   },
   {
    "duration": 836,
    "start_time": "2021-07-31T11:53:57.084Z"
   },
   {
    "duration": 78,
    "start_time": "2021-07-31T11:55:29.781Z"
   },
   {
    "duration": 256,
    "start_time": "2021-07-31T11:55:37.492Z"
   },
   {
    "duration": 268,
    "start_time": "2021-07-31T11:55:59.667Z"
   },
   {
    "duration": 573,
    "start_time": "2021-07-31T11:56:06.255Z"
   },
   {
    "duration": 290,
    "start_time": "2021-07-31T11:56:21.843Z"
   },
   {
    "duration": 577,
    "start_time": "2021-07-31T11:56:27.792Z"
   },
   {
    "duration": 574,
    "start_time": "2021-07-31T11:57:17.323Z"
   },
   {
    "duration": 844,
    "start_time": "2021-07-31T11:57:25.963Z"
   },
   {
    "duration": 594,
    "start_time": "2021-07-31T11:57:27.945Z"
   },
   {
    "duration": 1053,
    "start_time": "2021-07-31T11:57:34.451Z"
   },
   {
    "duration": 570,
    "start_time": "2021-07-31T11:57:36.718Z"
   },
   {
    "duration": 866,
    "start_time": "2021-07-31T11:57:44.421Z"
   },
   {
    "duration": 713,
    "start_time": "2021-07-31T11:57:46.045Z"
   },
   {
    "duration": 863,
    "start_time": "2021-07-31T11:58:11.429Z"
   },
   {
    "duration": 567,
    "start_time": "2021-07-31T11:58:13.775Z"
   },
   {
    "duration": 873,
    "start_time": "2021-07-31T11:58:18.837Z"
   },
   {
    "duration": 574,
    "start_time": "2021-07-31T11:58:21.355Z"
   },
   {
    "duration": 951,
    "start_time": "2021-07-31T11:58:32.586Z"
   },
   {
    "duration": 583,
    "start_time": "2021-07-31T11:58:34.786Z"
   },
   {
    "duration": 864,
    "start_time": "2021-07-31T11:58:44.089Z"
   },
   {
    "duration": 593,
    "start_time": "2021-07-31T11:58:45.995Z"
   },
   {
    "duration": 884,
    "start_time": "2021-07-31T11:58:59.723Z"
   },
   {
    "duration": 595,
    "start_time": "2021-07-31T11:59:06.039Z"
   },
   {
    "duration": 874,
    "start_time": "2021-07-31T12:03:01.305Z"
   },
   {
    "duration": 569,
    "start_time": "2021-07-31T12:03:18.162Z"
   },
   {
    "duration": 1066,
    "start_time": "2021-07-31T12:03:23.417Z"
   },
   {
    "duration": 146,
    "start_time": "2021-07-31T12:13:48.916Z"
   },
   {
    "duration": 266,
    "start_time": "2021-07-31T12:13:55.389Z"
   },
   {
    "duration": 252,
    "start_time": "2021-07-31T12:14:19.302Z"
   },
   {
    "duration": 569,
    "start_time": "2021-07-31T12:16:03.620Z"
   },
   {
    "duration": 259,
    "start_time": "2021-07-31T12:20:04.679Z"
   },
   {
    "duration": 257,
    "start_time": "2021-07-31T12:20:22.048Z"
   },
   {
    "duration": 268,
    "start_time": "2021-07-31T12:20:24.239Z"
   },
   {
    "duration": 259,
    "start_time": "2021-07-31T12:20:25.118Z"
   },
   {
    "duration": 272,
    "start_time": "2021-07-31T12:20:42.152Z"
   },
   {
    "duration": 269,
    "start_time": "2021-07-31T12:20:55.642Z"
   },
   {
    "duration": 383,
    "start_time": "2021-07-31T12:21:43.396Z"
   },
   {
    "duration": 726,
    "start_time": "2021-07-31T12:21:48.820Z"
   },
   {
    "duration": 262,
    "start_time": "2021-07-31T12:22:21.260Z"
   },
   {
    "duration": 260,
    "start_time": "2021-07-31T12:23:02.265Z"
   },
   {
    "duration": 77,
    "start_time": "2021-07-31T12:23:05.713Z"
   },
   {
    "duration": 250,
    "start_time": "2021-07-31T12:23:08.708Z"
   },
   {
    "duration": 274,
    "start_time": "2021-07-31T12:24:16.911Z"
   },
   {
    "duration": 571,
    "start_time": "2021-07-31T12:24:19.663Z"
   },
   {
    "duration": 289,
    "start_time": "2021-07-31T12:25:13.037Z"
   },
   {
    "duration": 681,
    "start_time": "2021-07-31T12:25:17.638Z"
   },
   {
    "duration": 564,
    "start_time": "2021-07-31T12:25:20.444Z"
   },
   {
    "duration": 968,
    "start_time": "2021-07-31T12:25:25.079Z"
   },
   {
    "duration": 618,
    "start_time": "2021-07-31T12:25:39.587Z"
   },
   {
    "duration": 83,
    "start_time": "2021-07-31T12:52:43.654Z"
   },
   {
    "duration": 296,
    "start_time": "2021-07-31T12:53:00.097Z"
   },
   {
    "duration": 243,
    "start_time": "2021-07-31T12:53:37.843Z"
   },
   {
    "duration": 78,
    "start_time": "2021-07-31T12:53:42.451Z"
   },
   {
    "duration": 242,
    "start_time": "2021-07-31T12:53:45.304Z"
   },
   {
    "duration": 548,
    "start_time": "2021-07-31T12:55:39.188Z"
   },
   {
    "duration": 313,
    "start_time": "2021-07-31T12:56:01.980Z"
   },
   {
    "duration": 311,
    "start_time": "2021-07-31T12:56:13.339Z"
   },
   {
    "duration": 317,
    "start_time": "2021-07-31T12:57:01.601Z"
   },
   {
    "duration": 76,
    "start_time": "2021-07-31T13:05:00.938Z"
   },
   {
    "duration": 335,
    "start_time": "2021-07-31T13:05:10.544Z"
   },
   {
    "duration": 317,
    "start_time": "2021-07-31T13:05:30.632Z"
   },
   {
    "duration": 929,
    "start_time": "2021-08-02T10:42:48.362Z"
   },
   {
    "duration": 308,
    "start_time": "2021-08-02T10:42:58.033Z"
   },
   {
    "duration": 599,
    "start_time": "2021-08-03T11:47:18.345Z"
   },
   {
    "duration": 197,
    "start_time": "2021-08-03T11:47:33.954Z"
   },
   {
    "duration": 241,
    "start_time": "2021-08-03T11:50:54.145Z"
   },
   {
    "duration": 175,
    "start_time": "2021-08-03T11:51:08.184Z"
   },
   {
    "duration": 4,
    "start_time": "2021-08-03T11:51:23.639Z"
   },
   {
    "duration": 4289,
    "start_time": "2021-08-03T11:58:07.867Z"
   },
   {
    "duration": 4,
    "start_time": "2021-08-03T11:58:17.747Z"
   },
   {
    "duration": 13,
    "start_time": "2021-08-03T11:58:25.294Z"
   },
   {
    "duration": 244,
    "start_time": "2021-08-03T12:25:04.938Z"
   },
   {
    "duration": 2,
    "start_time": "2021-08-03T12:26:37.719Z"
   },
   {
    "duration": 14,
    "start_time": "2021-08-03T12:27:23.358Z"
   },
   {
    "duration": 60,
    "start_time": "2021-08-03T12:32:19.600Z"
   },
   {
    "duration": 14,
    "start_time": "2021-08-03T12:32:23.048Z"
   },
   {
    "duration": 15,
    "start_time": "2021-08-03T12:32:27.457Z"
   },
   {
    "duration": 26,
    "start_time": "2021-08-03T12:32:38.002Z"
   },
   {
    "duration": 54,
    "start_time": "2021-08-03T12:33:36.531Z"
   },
   {
    "duration": 194,
    "start_time": "2021-08-03T12:33:42.777Z"
   },
   {
    "duration": 13,
    "start_time": "2021-08-03T12:33:46.048Z"
   },
   {
    "duration": 26,
    "start_time": "2021-08-03T12:33:59.681Z"
   },
   {
    "duration": 52,
    "start_time": "2021-08-03T12:38:02.348Z"
   },
   {
    "duration": 59,
    "start_time": "2021-08-03T12:38:55.394Z"
   },
   {
    "duration": 180,
    "start_time": "2021-08-03T12:38:58.898Z"
   },
   {
    "duration": 13,
    "start_time": "2021-08-03T12:39:06.503Z"
   },
   {
    "duration": 53,
    "start_time": "2021-08-03T12:39:10.802Z"
   },
   {
    "duration": 56,
    "start_time": "2021-08-03T12:39:59.632Z"
   },
   {
    "duration": 55,
    "start_time": "2021-08-03T12:41:07.627Z"
   },
   {
    "duration": 40,
    "start_time": "2021-08-03T12:43:29.363Z"
   },
   {
    "duration": 252,
    "start_time": "2021-08-03T12:44:49.693Z"
   },
   {
    "duration": 223,
    "start_time": "2021-08-03T12:45:03.118Z"
   },
   {
    "duration": 47,
    "start_time": "2021-08-03T12:45:34.075Z"
   },
   {
    "duration": 55,
    "start_time": "2021-08-03T12:45:55.449Z"
   },
   {
    "duration": 57,
    "start_time": "2021-08-03T12:45:57.911Z"
   },
   {
    "duration": 51,
    "start_time": "2021-08-03T12:46:41.032Z"
   },
   {
    "duration": 56,
    "start_time": "2021-08-03T12:48:49.359Z"
   },
   {
    "duration": 184,
    "start_time": "2021-08-03T12:48:51.791Z"
   },
   {
    "duration": 13,
    "start_time": "2021-08-03T12:48:57.971Z"
   },
   {
    "duration": 48,
    "start_time": "2021-08-03T12:49:06.680Z"
   },
   {
    "duration": 49,
    "start_time": "2021-08-03T12:49:27.888Z"
   },
   {
    "duration": 56,
    "start_time": "2021-08-03T12:50:21.683Z"
   },
   {
    "duration": 64,
    "start_time": "2021-08-03T12:51:00.373Z"
   },
   {
    "duration": 56,
    "start_time": "2021-08-03T12:51:28.304Z"
   },
   {
    "duration": 212,
    "start_time": "2021-08-03T12:51:30.882Z"
   },
   {
    "duration": 13,
    "start_time": "2021-08-03T12:51:34.324Z"
   },
   {
    "duration": 12,
    "start_time": "2021-08-03T12:51:56.529Z"
   },
   {
    "duration": 11,
    "start_time": "2021-08-03T12:51:58.082Z"
   },
   {
    "duration": 73,
    "start_time": "2021-08-03T12:51:59.428Z"
   },
   {
    "duration": 58,
    "start_time": "2021-08-03T12:52:15.363Z"
   },
   {
    "duration": 185,
    "start_time": "2021-08-03T12:52:18.557Z"
   },
   {
    "duration": 13,
    "start_time": "2021-08-03T12:52:22.846Z"
   },
   {
    "duration": 67,
    "start_time": "2021-08-03T12:52:26.596Z"
   },
   {
    "duration": 71,
    "start_time": "2021-08-03T12:52:40.621Z"
   },
   {
    "duration": 67,
    "start_time": "2021-08-03T12:53:54.463Z"
   },
   {
    "duration": 67,
    "start_time": "2021-08-03T12:54:21.922Z"
   },
   {
    "duration": 66,
    "start_time": "2021-08-03T12:55:30.966Z"
   },
   {
    "duration": 59,
    "start_time": "2021-08-03T12:55:45.048Z"
   },
   {
    "duration": 183,
    "start_time": "2021-08-03T12:55:51.625Z"
   },
   {
    "duration": 12,
    "start_time": "2021-08-03T12:55:57.598Z"
   },
   {
    "duration": 66,
    "start_time": "2021-08-03T12:56:02.275Z"
   },
   {
    "duration": 69,
    "start_time": "2021-08-03T12:56:13.700Z"
   },
   {
    "duration": 78,
    "start_time": "2021-08-03T13:08:40.047Z"
   },
   {
    "duration": 226,
    "start_time": "2021-08-03T13:08:42.060Z"
   },
   {
    "duration": 12,
    "start_time": "2021-08-03T13:09:02.959Z"
   },
   {
    "duration": 67,
    "start_time": "2021-08-03T13:09:06.352Z"
   },
   {
    "duration": 88,
    "start_time": "2021-08-03T13:10:16.555Z"
   },
   {
    "duration": 55,
    "start_time": "2021-08-03T13:14:29.115Z"
   },
   {
    "duration": 234,
    "start_time": "2021-08-03T13:14:35.263Z"
   },
   {
    "duration": 12,
    "start_time": "2021-08-03T13:14:45.936Z"
   },
   {
    "duration": 89,
    "start_time": "2021-08-03T13:14:49.335Z"
   },
   {
    "duration": 459,
    "start_time": "2021-08-03T13:35:11.196Z"
   },
   {
    "duration": 211,
    "start_time": "2021-08-03T13:35:27.957Z"
   },
   {
    "duration": 17,
    "start_time": "2021-08-03T13:35:39.304Z"
   },
   {
    "duration": 66,
    "start_time": "2021-08-03T13:35:42.059Z"
   },
   {
    "duration": 227,
    "start_time": "2021-08-03T13:35:46.596Z"
   },
   {
    "duration": 14,
    "start_time": "2021-08-03T13:35:50.244Z"
   },
   {
    "duration": 83,
    "start_time": "2021-08-03T13:35:55.491Z"
   },
   {
    "duration": 7,
    "start_time": "2021-08-03T14:23:23.322Z"
   },
   {
    "duration": 819,
    "start_time": "2021-08-03T14:52:25.429Z"
   },
   {
    "duration": 180,
    "start_time": "2021-08-03T14:52:36.701Z"
   },
   {
    "duration": 3864,
    "start_time": "2021-08-03T14:52:44.642Z"
   },
   {
    "duration": 5,
    "start_time": "2021-08-03T14:53:16.044Z"
   },
   {
    "duration": 178,
    "start_time": "2021-08-03T14:54:34.937Z"
   },
   {
    "duration": 2167,
    "start_time": "2021-08-03T14:54:55.410Z"
   },
   {
    "duration": 2250,
    "start_time": "2021-08-03T14:55:43.305Z"
   },
   {
    "duration": 5,
    "start_time": "2021-08-03T14:56:04.931Z"
   },
   {
    "duration": 5,
    "start_time": "2021-08-03T14:56:05.042Z"
   },
   {
    "duration": 403,
    "start_time": "2021-08-04T07:53:08.716Z"
   },
   {
    "duration": 816,
    "start_time": "2021-08-04T07:53:33.440Z"
   },
   {
    "duration": 69,
    "start_time": "2021-08-04T07:54:15.061Z"
   },
   {
    "duration": 309,
    "start_time": "2021-08-04T07:54:17.697Z"
   },
   {
    "duration": 16,
    "start_time": "2021-08-04T07:54:20.984Z"
   },
   {
    "duration": 110,
    "start_time": "2021-08-04T07:54:23.262Z"
   },
   {
    "duration": 711,
    "start_time": "2021-08-04T07:54:33.576Z"
   },
   {
    "duration": 18,
    "start_time": "2021-08-04T07:55:00.902Z"
   },
   {
    "duration": 19,
    "start_time": "2021-08-04T07:55:10.756Z"
   },
   {
    "duration": 18,
    "start_time": "2021-08-04T07:55:13.950Z"
   },
   {
    "duration": 19,
    "start_time": "2021-08-04T07:55:16.553Z"
   },
   {
    "duration": 17,
    "start_time": "2021-08-04T07:55:32.973Z"
   },
   {
    "duration": 15,
    "start_time": "2021-08-04T07:55:41.908Z"
   },
   {
    "duration": 13,
    "start_time": "2021-08-04T07:55:50.738Z"
   },
   {
    "duration": 16,
    "start_time": "2021-08-04T07:55:54.113Z"
   },
   {
    "duration": 475,
    "start_time": "2021-08-04T08:00:45.612Z"
   },
   {
    "duration": 341,
    "start_time": "2021-08-04T08:01:30.512Z"
   },
   {
    "duration": 329,
    "start_time": "2021-08-04T08:01:40.449Z"
   },
   {
    "duration": 66,
    "start_time": "2021-08-04T08:03:58.480Z"
   },
   {
    "duration": 328,
    "start_time": "2021-08-04T08:04:01.499Z"
   },
   {
    "duration": 18,
    "start_time": "2021-08-04T08:04:05.703Z"
   },
   {
    "duration": 104,
    "start_time": "2021-08-04T08:04:07.870Z"
   },
   {
    "duration": 394,
    "start_time": "2021-08-04T08:04:16.556Z"
   },
   {
    "duration": 415,
    "start_time": "2021-08-04T08:07:03.770Z"
   },
   {
    "duration": 395,
    "start_time": "2021-08-04T08:09:58.049Z"
   },
   {
    "duration": 370,
    "start_time": "2021-08-04T08:10:34.809Z"
   },
   {
    "duration": 365,
    "start_time": "2021-08-04T08:11:51.981Z"
   },
   {
    "duration": 1010,
    "start_time": "2021-08-05T10:46:57.493Z"
   },
   {
    "duration": 411,
    "start_time": "2021-08-05T10:47:02.162Z"
   },
   {
    "duration": 18,
    "start_time": "2021-08-05T10:47:34.352Z"
   },
   {
    "duration": 106,
    "start_time": "2021-08-05T10:47:49.601Z"
   },
   {
    "duration": 481,
    "start_time": "2021-08-05T10:49:28.151Z"
   },
   {
    "duration": 8,
    "start_time": "2021-08-05T11:16:11.069Z"
   },
   {
    "duration": 8,
    "start_time": "2021-08-05T11:16:23.301Z"
   },
   {
    "duration": 8,
    "start_time": "2021-08-05T11:16:33.677Z"
   },
   {
    "duration": 9,
    "start_time": "2021-08-05T11:16:53.125Z"
   },
   {
    "duration": 902,
    "start_time": "2021-08-05T12:16:58.494Z"
   },
   {
    "duration": 876,
    "start_time": "2021-08-05T12:17:37.789Z"
   },
   {
    "duration": 92,
    "start_time": "2021-08-05T12:24:08.877Z"
   },
   {
    "duration": 427,
    "start_time": "2021-08-05T12:24:12.208Z"
   },
   {
    "duration": 23,
    "start_time": "2021-08-05T12:24:21.965Z"
   },
   {
    "duration": 154,
    "start_time": "2021-08-05T12:24:24.622Z"
   },
   {
    "duration": 3068,
    "start_time": "2021-08-05T12:24:33.918Z"
   },
   {
    "duration": 1330,
    "start_time": "2021-08-05T12:24:54.646Z"
   },
   {
    "duration": 903,
    "start_time": "2021-08-05T12:27:52.814Z"
   },
   {
    "duration": 1679,
    "start_time": "2021-08-05T12:29:39.879Z"
   },
   {
    "duration": 951,
    "start_time": "2021-08-05T12:30:12.007Z"
   },
   {
    "duration": 1323,
    "start_time": "2021-08-05T12:30:22.061Z"
   },
   {
    "duration": 5,
    "start_time": "2021-08-05T12:35:43.040Z"
   },
   {
    "duration": 11,
    "start_time": "2021-08-05T12:35:47.294Z"
   },
   {
    "duration": 7,
    "start_time": "2021-08-05T12:36:03.326Z"
   },
   {
    "duration": 364,
    "start_time": "2021-08-05T12:36:26.470Z"
   },
   {
    "duration": 371,
    "start_time": "2021-08-05T12:36:50.231Z"
   },
   {
    "duration": 10,
    "start_time": "2021-08-05T12:36:56.951Z"
   },
   {
    "duration": 18,
    "start_time": "2021-08-05T12:38:14.395Z"
   },
   {
    "duration": 127,
    "start_time": "2021-08-05T12:40:21.279Z"
   },
   {
    "duration": 623,
    "start_time": "2021-08-05T12:40:50.494Z"
   },
   {
    "duration": 568,
    "start_time": "2021-08-05T12:41:00.129Z"
   },
   {
    "duration": 594,
    "start_time": "2021-08-05T12:41:10.991Z"
   },
   {
    "duration": 121,
    "start_time": "2021-08-05T12:41:44.583Z"
   },
   {
    "duration": 624,
    "start_time": "2021-08-05T12:41:58.663Z"
   },
   {
    "duration": 69,
    "start_time": "2021-08-05T13:06:49.634Z"
   },
   {
    "duration": 78,
    "start_time": "2021-08-05T13:06:52.773Z"
   },
   {
    "duration": 73,
    "start_time": "2021-08-05T13:07:01.010Z"
   },
   {
    "duration": 298,
    "start_time": "2021-08-05T13:07:04.822Z"
   },
   {
    "duration": 17,
    "start_time": "2021-08-05T13:07:14.618Z"
   },
   {
    "duration": 104,
    "start_time": "2021-08-05T13:07:16.840Z"
   },
   {
    "duration": 917,
    "start_time": "2021-08-05T13:07:20.993Z"
   },
   {
    "duration": 617,
    "start_time": "2021-08-05T13:07:30.019Z"
   },
   {
    "duration": 88,
    "start_time": "2021-08-05T13:09:46.326Z"
   },
   {
    "duration": 318,
    "start_time": "2021-08-05T13:10:05.594Z"
   },
   {
    "duration": 125,
    "start_time": "2021-08-05T14:21:40.569Z"
   },
   {
    "duration": 435,
    "start_time": "2021-08-05T14:21:44.434Z"
   },
   {
    "duration": 29,
    "start_time": "2021-08-05T14:21:51.963Z"
   },
   {
    "duration": 124,
    "start_time": "2021-08-05T14:21:55.674Z"
   },
   {
    "duration": 4281,
    "start_time": "2021-08-05T14:26:51.504Z"
   },
   {
    "duration": 4558,
    "start_time": "2021-08-05T14:27:43.365Z"
   },
   {
    "duration": 4657,
    "start_time": "2021-08-05T14:28:10.183Z"
   },
   {
    "duration": 4503,
    "start_time": "2021-08-05T14:28:48.709Z"
   },
   {
    "duration": 4224,
    "start_time": "2021-08-05T14:29:13.361Z"
   },
   {
    "duration": 4439,
    "start_time": "2021-08-05T14:29:38.491Z"
   },
   {
    "duration": 4701,
    "start_time": "2021-08-05T14:32:43.942Z"
   },
   {
    "duration": 13967,
    "start_time": "2021-08-05T14:33:05.696Z"
   },
   {
    "duration": 13465,
    "start_time": "2021-08-05T14:34:46.547Z"
   },
   {
    "duration": 2526,
    "start_time": "2021-08-05T14:35:08.382Z"
   },
   {
    "duration": 4813,
    "start_time": "2021-08-05T14:36:52.113Z"
   },
   {
    "duration": 4609,
    "start_time": "2021-08-05T14:37:42.716Z"
   },
   {
    "duration": 14028,
    "start_time": "2021-08-05T14:43:34.560Z"
   },
   {
    "duration": 4235,
    "start_time": "2021-08-05T14:44:16.528Z"
   },
   {
    "duration": 14,
    "start_time": "2021-08-05T15:01:27.106Z"
   },
   {
    "duration": 11,
    "start_time": "2021-08-05T15:02:28.176Z"
   },
   {
    "duration": 13,
    "start_time": "2021-08-05T15:02:40.299Z"
   },
   {
    "duration": 15,
    "start_time": "2021-08-05T15:03:11.342Z"
   },
   {
    "duration": 17,
    "start_time": "2021-08-05T15:03:52.277Z"
   },
   {
    "duration": 16,
    "start_time": "2021-08-05T15:04:06.592Z"
   },
   {
    "duration": 14,
    "start_time": "2021-08-05T15:04:53.939Z"
   },
   {
    "duration": 409,
    "start_time": "2021-08-05T15:06:08.611Z"
   },
   {
    "duration": 307,
    "start_time": "2021-08-05T15:07:48.711Z"
   },
   {
    "duration": 132,
    "start_time": "2021-08-05T15:07:55.315Z"
   },
   {
    "duration": 14,
    "start_time": "2021-08-05T15:08:14.109Z"
   },
   {
    "duration": 508,
    "start_time": "2021-08-05T15:08:25.585Z"
   },
   {
    "duration": 12,
    "start_time": "2021-08-05T15:08:33.239Z"
   },
   {
    "duration": 17,
    "start_time": "2021-08-05T15:11:30.768Z"
   },
   {
    "duration": 17,
    "start_time": "2021-08-05T15:11:48.011Z"
   },
   {
    "duration": 14,
    "start_time": "2021-08-05T15:14:21.133Z"
   },
   {
    "duration": 15,
    "start_time": "2021-08-05T15:22:01.287Z"
   },
   {
    "duration": 14,
    "start_time": "2021-08-05T15:22:06.211Z"
   },
   {
    "duration": 15,
    "start_time": "2021-08-05T15:22:21.173Z"
   },
   {
    "duration": 30,
    "start_time": "2021-08-05T15:25:56.198Z"
   },
   {
    "duration": 31,
    "start_time": "2021-08-05T15:27:06.329Z"
   },
   {
    "duration": 1143,
    "start_time": "2021-08-06T07:23:01.426Z"
   },
   {
    "duration": 340,
    "start_time": "2021-08-06T07:23:28.392Z"
   },
   {
    "duration": 19,
    "start_time": "2021-08-06T07:23:37.335Z"
   },
   {
    "duration": 125,
    "start_time": "2021-08-06T07:23:42.554Z"
   },
   {
    "duration": 4943,
    "start_time": "2021-08-06T07:24:00.014Z"
   },
   {
    "duration": 20,
    "start_time": "2021-08-06T07:24:23.839Z"
   },
   {
    "duration": 15,
    "start_time": "2021-08-06T07:24:30.648Z"
   },
   {
    "duration": 17,
    "start_time": "2021-08-06T07:24:38.693Z"
   },
   {
    "duration": 23,
    "start_time": "2021-08-06T07:24:45.570Z"
   },
   {
    "duration": 26,
    "start_time": "2021-08-06T07:24:48.778Z"
   },
   {
    "duration": 7,
    "start_time": "2021-08-06T07:24:51.822Z"
   },
   {
    "duration": 41,
    "start_time": "2021-08-06T07:25:23.064Z"
   },
   {
    "duration": 47,
    "start_time": "2021-08-06T07:25:37.660Z"
   },
   {
    "duration": 36,
    "start_time": "2021-08-06T07:25:51.383Z"
   },
   {
    "duration": 78,
    "start_time": "2021-08-06T07:27:38.670Z"
   },
   {
    "duration": 18,
    "start_time": "2021-08-06T07:29:00.378Z"
   },
   {
    "duration": 11,
    "start_time": "2021-08-06T07:36:52.066Z"
   },
   {
    "duration": 6,
    "start_time": "2021-08-06T07:36:56.588Z"
   },
   {
    "duration": 266,
    "start_time": "2021-08-06T07:37:16.159Z"
   },
   {
    "duration": 521,
    "start_time": "2021-08-06T07:37:19.906Z"
   },
   {
    "duration": 15,
    "start_time": "2021-08-06T07:37:24.701Z"
   },
   {
    "duration": 13,
    "start_time": "2021-08-06T07:37:37.639Z"
   },
   {
    "duration": 11,
    "start_time": "2021-08-06T08:22:13.001Z"
   },
   {
    "duration": 16,
    "start_time": "2021-08-06T08:22:42.739Z"
   },
   {
    "duration": 12,
    "start_time": "2021-08-06T08:22:53.497Z"
   },
   {
    "duration": 255931,
    "start_time": "2021-08-06T08:31:20.211Z"
   },
   {
    "duration": 204,
    "start_time": "2021-08-06T09:21:51.014Z"
   },
   {
    "duration": 70,
    "start_time": "2021-08-06T09:22:03.929Z"
   },
   {
    "duration": 21910,
    "start_time": "2021-08-06T09:22:33.607Z"
   },
   {
    "duration": 69,
    "start_time": "2021-08-06T09:23:06.182Z"
   },
   {
    "duration": 448,
    "start_time": "2021-08-06T09:47:34.165Z"
   },
   {
    "duration": 377,
    "start_time": "2021-08-06T09:48:14.548Z"
   },
   {
    "duration": 800,
    "start_time": "2021-08-06T09:48:34.309Z"
   },
   {
    "duration": 45,
    "start_time": "2021-08-06T09:51:47.859Z"
   },
   {
    "duration": 39,
    "start_time": "2021-08-06T09:52:17.566Z"
   },
   {
    "duration": 67,
    "start_time": "2021-08-06T09:52:23.407Z"
   },
   {
    "duration": 32,
    "start_time": "2021-08-06T09:52:28.605Z"
   },
   {
    "duration": 37,
    "start_time": "2021-08-06T09:52:38.370Z"
   },
   {
    "duration": 34,
    "start_time": "2021-08-06T09:52:50.567Z"
   },
   {
    "duration": 13,
    "start_time": "2021-08-06T10:05:12.321Z"
   },
   {
    "duration": 18,
    "start_time": "2021-08-06T10:05:57.323Z"
   },
   {
    "duration": 13,
    "start_time": "2021-08-06T10:07:19.162Z"
   },
   {
    "duration": 16,
    "start_time": "2021-08-06T10:07:30.123Z"
   },
   {
    "duration": 10,
    "start_time": "2021-08-06T10:07:41.045Z"
   },
   {
    "duration": 10,
    "start_time": "2021-08-06T10:08:48.815Z"
   },
   {
    "duration": 10,
    "start_time": "2021-08-06T10:09:02.495Z"
   },
   {
    "duration": 25,
    "start_time": "2021-08-06T10:09:47.485Z"
   },
   {
    "duration": 36,
    "start_time": "2021-08-06T10:10:00.760Z"
   },
   {
    "duration": 84,
    "start_time": "2021-08-06T10:10:13.551Z"
   },
   {
    "duration": 26,
    "start_time": "2021-08-06T10:11:17.305Z"
   },
   {
    "duration": 27,
    "start_time": "2021-08-06T10:11:30.299Z"
   },
   {
    "duration": 31,
    "start_time": "2021-08-06T10:11:39.089Z"
   },
   {
    "duration": 28,
    "start_time": "2021-08-06T10:11:58.690Z"
   },
   {
    "duration": 32,
    "start_time": "2021-08-06T10:12:32.456Z"
   },
   {
    "duration": 30,
    "start_time": "2021-08-06T10:12:37.874Z"
   },
   {
    "duration": 27,
    "start_time": "2021-08-06T10:13:20.698Z"
   },
   {
    "duration": 39,
    "start_time": "2021-08-06T10:14:31.497Z"
   },
   {
    "duration": 25,
    "start_time": "2021-08-06T10:16:05.318Z"
   },
   {
    "duration": 25,
    "start_time": "2021-08-06T10:17:08.942Z"
   },
   {
    "duration": 7051,
    "start_time": "2021-08-06T10:29:17.771Z"
   },
   {
    "duration": 30,
    "start_time": "2021-08-06T10:31:05.582Z"
   },
   {
    "duration": 26,
    "start_time": "2021-08-06T10:31:18.735Z"
   },
   {
    "duration": 33,
    "start_time": "2021-08-06T10:32:09.065Z"
   },
   {
    "duration": 16336,
    "start_time": "2021-08-06T10:32:33.182Z"
   },
   {
    "duration": 17278,
    "start_time": "2021-08-06T10:32:54.393Z"
   },
   {
    "duration": 28,
    "start_time": "2021-08-06T10:34:01.235Z"
   },
   {
    "duration": 6025,
    "start_time": "2021-08-06T10:35:01.456Z"
   },
   {
    "duration": 9361,
    "start_time": "2021-08-06T10:35:20.897Z"
   },
   {
    "duration": 563,
    "start_time": "2021-08-06T10:35:42.787Z"
   },
   {
    "duration": 372,
    "start_time": "2021-08-06T10:35:47.016Z"
   },
   {
    "duration": 6026,
    "start_time": "2021-08-06T10:35:56.589Z"
   },
   {
    "duration": 439,
    "start_time": "2021-08-06T10:36:13.509Z"
   },
   {
    "duration": 7931,
    "start_time": "2021-08-06T10:38:17.849Z"
   },
   {
    "duration": 7686,
    "start_time": "2021-08-06T10:38:51.270Z"
   },
   {
    "duration": 35,
    "start_time": "2021-08-06T10:39:36.166Z"
   },
   {
    "duration": 27,
    "start_time": "2021-08-06T10:41:04.630Z"
   },
   {
    "duration": 28,
    "start_time": "2021-08-06T10:41:32.114Z"
   },
   {
    "duration": 7255,
    "start_time": "2021-08-06T10:41:36.607Z"
   },
   {
    "duration": 26,
    "start_time": "2021-08-06T10:42:42.314Z"
   },
   {
    "duration": 34,
    "start_time": "2021-08-06T10:44:37.368Z"
   },
   {
    "duration": 43,
    "start_time": "2021-08-06T10:44:49.458Z"
   },
   {
    "duration": 473,
    "start_time": "2021-08-06T10:48:20.140Z"
   },
   {
    "duration": 34,
    "start_time": "2021-08-06T10:48:30.347Z"
   },
   {
    "duration": 36,
    "start_time": "2021-08-06T10:48:53.579Z"
   },
   {
    "duration": 34,
    "start_time": "2021-08-06T10:49:26.912Z"
   },
   {
    "duration": 34,
    "start_time": "2021-08-06T10:49:37.129Z"
   },
   {
    "duration": 34,
    "start_time": "2021-08-06T10:49:43.703Z"
   },
   {
    "duration": 7391,
    "start_time": "2021-08-06T10:50:16.308Z"
   },
   {
    "duration": 442,
    "start_time": "2021-08-06T10:51:42.520Z"
   },
   {
    "duration": 26,
    "start_time": "2021-08-06T10:52:18.050Z"
   },
   {
    "duration": 22,
    "start_time": "2021-08-06T10:52:47.248Z"
   },
   {
    "duration": 29,
    "start_time": "2021-08-06T10:53:34.647Z"
   },
   {
    "duration": 30,
    "start_time": "2021-08-06T10:53:57.718Z"
   },
   {
    "duration": 31,
    "start_time": "2021-08-06T10:54:09.838Z"
   },
   {
    "duration": 36,
    "start_time": "2021-08-06T10:54:22.478Z"
   },
   {
    "duration": 34,
    "start_time": "2021-08-06T10:54:27.552Z"
   },
   {
    "duration": 476,
    "start_time": "2021-08-06T10:55:33.381Z"
   },
   {
    "duration": 34,
    "start_time": "2021-08-06T10:55:38.476Z"
   },
   {
    "duration": 23,
    "start_time": "2021-08-06T10:56:24.836Z"
   },
   {
    "duration": 43,
    "start_time": "2021-08-06T10:56:32.335Z"
   },
   {
    "duration": 40,
    "start_time": "2021-08-06T10:57:32.164Z"
   },
   {
    "duration": 97,
    "start_time": "2021-08-06T11:15:53.806Z"
   },
   {
    "duration": 335,
    "start_time": "2021-08-06T11:15:59.467Z"
   },
   {
    "duration": 18,
    "start_time": "2021-08-06T11:16:09.410Z"
   },
   {
    "duration": 143,
    "start_time": "2021-08-06T11:16:14.884Z"
   },
   {
    "duration": 5084,
    "start_time": "2021-08-06T11:16:20.121Z"
   },
   {
    "duration": 22,
    "start_time": "2021-08-06T11:16:47.156Z"
   },
   {
    "duration": 7,
    "start_time": "2021-08-06T11:16:51.351Z"
   },
   {
    "duration": 30,
    "start_time": "2021-08-06T11:16:57.167Z"
   },
   {
    "duration": 73,
    "start_time": "2021-08-06T11:17:05.987Z"
   },
   {
    "duration": 35,
    "start_time": "2021-08-06T11:17:11.515Z"
   },
   {
    "duration": 32,
    "start_time": "2021-08-06T11:17:16.200Z"
   },
   {
    "duration": 47,
    "start_time": "2021-08-06T11:17:22.168Z"
   },
   {
    "duration": 36,
    "start_time": "2021-08-06T11:17:24.364Z"
   },
   {
    "duration": 95,
    "start_time": "2021-08-06T13:20:32.962Z"
   },
   {
    "duration": 390,
    "start_time": "2021-08-08T10:18:13.491Z"
   },
   {
    "duration": 869,
    "start_time": "2021-08-08T10:18:18.393Z"
   },
   {
    "duration": 82,
    "start_time": "2021-08-08T10:18:27.245Z"
   },
   {
    "duration": 84,
    "start_time": "2021-08-08T10:19:36.870Z"
   },
   {
    "duration": 336,
    "start_time": "2021-08-08T10:19:40.003Z"
   },
   {
    "duration": 21,
    "start_time": "2021-08-08T10:22:13.562Z"
   },
   {
    "duration": 20,
    "start_time": "2021-08-08T10:22:39.825Z"
   },
   {
    "duration": 21,
    "start_time": "2021-08-08T10:23:30.328Z"
   },
   {
    "duration": 358,
    "start_time": "2021-08-08T10:28:58.614Z"
   },
   {
    "duration": 315,
    "start_time": "2021-08-08T10:29:16.274Z"
   },
   {
    "duration": 37,
    "start_time": "2021-08-08T10:29:38.420Z"
   },
   {
    "duration": 397,
    "start_time": "2021-08-08T10:30:19.337Z"
   },
   {
    "duration": 335,
    "start_time": "2021-08-08T10:35:51.528Z"
   },
   {
    "duration": 123,
    "start_time": "2021-08-08T10:36:30.758Z"
   },
   {
    "duration": 164,
    "start_time": "2021-08-09T08:39:12.947Z"
   },
   {
    "duration": 801,
    "start_time": "2021-08-09T08:39:35.936Z"
   },
   {
    "duration": 326,
    "start_time": "2021-08-09T08:39:38.885Z"
   },
   {
    "duration": 147,
    "start_time": "2021-08-09T08:39:42.158Z"
   },
   {
    "duration": 128,
    "start_time": "2021-08-09T08:41:29.091Z"
   },
   {
    "duration": 1642,
    "start_time": "2021-08-09T08:41:47.170Z"
   },
   {
    "duration": 22,
    "start_time": "2021-08-09T08:55:26.327Z"
   },
   {
    "duration": 35,
    "start_time": "2021-08-09T08:55:45.796Z"
   },
   {
    "duration": 20,
    "start_time": "2021-08-09T08:56:05.858Z"
   },
   {
    "duration": 88,
    "start_time": "2021-08-09T08:56:14.826Z"
   },
   {
    "duration": 319,
    "start_time": "2021-08-09T08:56:18.798Z"
   },
   {
    "duration": 21,
    "start_time": "2021-08-09T08:56:22.112Z"
   },
   {
    "duration": 416,
    "start_time": "2021-08-09T09:02:11.054Z"
   },
   {
    "duration": 404,
    "start_time": "2021-08-09T09:05:03.608Z"
   },
   {
    "duration": 123,
    "start_time": "2021-08-09T09:05:35.234Z"
   },
   {
    "duration": 428,
    "start_time": "2021-08-09T09:06:12.428Z"
   },
   {
    "duration": 3,
    "start_time": "2021-08-09T09:08:17.687Z"
   },
   {
    "duration": 6,
    "start_time": "2021-08-09T09:08:55.504Z"
   },
   {
    "duration": 12,
    "start_time": "2021-08-09T09:09:03.948Z"
   },
   {
    "duration": 18,
    "start_time": "2021-08-09T09:09:34.795Z"
   },
   {
    "duration": 392,
    "start_time": "2021-08-09T09:10:09.720Z"
   },
   {
    "duration": 12,
    "start_time": "2021-08-09T09:10:19.905Z"
   },
   {
    "duration": 12,
    "start_time": "2021-08-09T09:10:49.308Z"
   },
   {
    "duration": 17,
    "start_time": "2021-08-09T09:10:55.880Z"
   },
   {
    "duration": 25,
    "start_time": "2021-08-09T09:11:08.598Z"
   },
   {
    "duration": 23,
    "start_time": "2021-08-09T09:32:09.004Z"
   },
   {
    "duration": 33,
    "start_time": "2021-08-09T09:32:15.463Z"
   },
   {
    "duration": 4,
    "start_time": "2021-08-09T09:32:55.331Z"
   },
   {
    "duration": 4,
    "start_time": "2021-08-09T09:33:01.066Z"
   },
   {
    "duration": 6,
    "start_time": "2021-08-09T09:33:17.962Z"
   },
   {
    "duration": 20,
    "start_time": "2021-08-09T09:33:46.471Z"
   },
   {
    "duration": 7,
    "start_time": "2021-08-09T09:33:55.594Z"
   },
   {
    "duration": 8,
    "start_time": "2021-08-09T09:34:02.993Z"
   },
   {
    "duration": 7,
    "start_time": "2021-08-09T09:34:12.440Z"
   },
   {
    "duration": 103,
    "start_time": "2021-08-09T09:34:18.324Z"
   },
   {
    "duration": 335,
    "start_time": "2021-08-09T09:34:21.619Z"
   },
   {
    "duration": 5577,
    "start_time": "2021-08-09T09:34:25.520Z"
   },
   {
    "duration": 5302,
    "start_time": "2021-08-09T09:35:11.027Z"
   },
   {
    "duration": 371,
    "start_time": "2021-08-09T09:35:25.964Z"
   },
   {
    "duration": 10,
    "start_time": "2021-08-09T09:35:41.028Z"
   },
   {
    "duration": 10,
    "start_time": "2021-08-09T09:36:06.716Z"
   },
   {
    "duration": 16,
    "start_time": "2021-08-09T09:37:03.979Z"
   },
   {
    "duration": 11,
    "start_time": "2021-08-09T09:37:07.011Z"
   },
   {
    "duration": 8,
    "start_time": "2021-08-09T09:37:14.277Z"
   },
   {
    "duration": 90,
    "start_time": "2021-08-09T09:37:19.935Z"
   },
   {
    "duration": 324,
    "start_time": "2021-08-09T09:37:21.964Z"
   },
   {
    "duration": 7,
    "start_time": "2021-08-09T09:37:25.368Z"
   },
   {
    "duration": 7,
    "start_time": "2021-08-09T09:37:47.895Z"
   },
   {
    "duration": 9,
    "start_time": "2021-08-09T09:37:47.985Z"
   },
   {
    "duration": 6,
    "start_time": "2021-08-09T09:37:58.540Z"
   },
   {
    "duration": 13,
    "start_time": "2021-08-09T09:38:05.690Z"
   },
   {
    "duration": 13,
    "start_time": "2021-08-09T09:38:36.844Z"
   },
   {
    "duration": 82,
    "start_time": "2021-08-09T09:38:45.496Z"
   },
   {
    "duration": 337,
    "start_time": "2021-08-09T09:38:49.638Z"
   },
   {
    "duration": 21,
    "start_time": "2021-08-09T09:39:09.149Z"
   },
   {
    "duration": 19,
    "start_time": "2021-08-09T09:39:17.672Z"
   },
   {
    "duration": 21,
    "start_time": "2021-08-09T09:39:26.899Z"
   },
   {
    "duration": 18,
    "start_time": "2021-08-09T09:41:01.303Z"
   },
   {
    "duration": 30,
    "start_time": "2021-08-09T09:41:11.275Z"
   },
   {
    "duration": 432,
    "start_time": "2021-08-09T09:42:21.490Z"
   },
   {
    "duration": 373,
    "start_time": "2021-08-09T09:51:20.077Z"
   },
   {
    "duration": 31,
    "start_time": "2021-08-09T09:51:33.803Z"
   },
   {
    "duration": 35,
    "start_time": "2021-08-09T09:52:25.351Z"
   },
   {
    "duration": 50,
    "start_time": "2021-08-09T09:52:55.347Z"
   },
   {
    "duration": 93,
    "start_time": "2021-08-09T09:53:24.065Z"
   },
   {
    "duration": 343,
    "start_time": "2021-08-09T09:53:27.619Z"
   },
   {
    "duration": 28,
    "start_time": "2021-08-09T09:53:33.520Z"
   },
   {
    "duration": 22,
    "start_time": "2021-08-09T09:53:48.258Z"
   },
   {
    "duration": 35,
    "start_time": "2021-08-09T09:53:54.937Z"
   },
   {
    "duration": 20,
    "start_time": "2021-08-09T09:57:43.326Z"
   },
   {
    "duration": 48,
    "start_time": "2021-08-09T09:58:28.265Z"
   },
   {
    "duration": 10,
    "start_time": "2021-08-09T09:58:52.828Z"
   },
   {
    "duration": 25,
    "start_time": "2021-08-09T10:01:11.148Z"
   },
   {
    "duration": 122,
    "start_time": "2021-08-09T10:03:27.020Z"
   },
   {
    "duration": 39,
    "start_time": "2021-08-09T10:03:34.771Z"
   },
   {
    "duration": 29,
    "start_time": "2021-08-09T10:03:46.408Z"
   },
   {
    "duration": 25,
    "start_time": "2021-08-09T10:05:08.401Z"
   },
   {
    "duration": 30,
    "start_time": "2021-08-09T10:05:16.279Z"
   },
   {
    "duration": 26,
    "start_time": "2021-08-09T10:05:26.000Z"
   },
   {
    "duration": 30,
    "start_time": "2021-08-09T10:06:41.011Z"
   },
   {
    "duration": 496,
    "start_time": "2021-08-09T10:07:18.067Z"
   },
   {
    "duration": 403,
    "start_time": "2021-08-09T10:07:37.275Z"
   },
   {
    "duration": 1463,
    "start_time": "2021-08-09T10:07:46.881Z"
   },
   {
    "duration": 38,
    "start_time": "2021-08-09T10:08:04.472Z"
   },
   {
    "duration": 27,
    "start_time": "2021-08-09T10:09:01.953Z"
   },
   {
    "duration": 414,
    "start_time": "2021-08-09T10:19:11.849Z"
   },
   {
    "duration": 389,
    "start_time": "2021-08-09T10:19:18.676Z"
   },
   {
    "duration": 3,
    "start_time": "2021-08-09T10:48:05.474Z"
   },
   {
    "duration": 28,
    "start_time": "2021-08-09T10:48:08.944Z"
   },
   {
    "duration": 43,
    "start_time": "2021-08-09T10:48:52.230Z"
   },
   {
    "duration": 88,
    "start_time": "2021-08-09T10:49:01.690Z"
   },
   {
    "duration": 311,
    "start_time": "2021-08-09T10:49:04.332Z"
   },
   {
    "duration": 20,
    "start_time": "2021-08-09T10:49:10.051Z"
   },
   {
    "duration": 45,
    "start_time": "2021-08-09T10:49:12.521Z"
   },
   {
    "duration": 8,
    "start_time": "2021-08-09T10:49:22.094Z"
   },
   {
    "duration": 15,
    "start_time": "2021-08-09T10:50:10.457Z"
   },
   {
    "duration": 18,
    "start_time": "2021-08-09T10:54:04.574Z"
   },
   {
    "duration": 11,
    "start_time": "2021-08-09T10:54:22.930Z"
   },
   {
    "duration": 18,
    "start_time": "2021-08-09T10:54:26.324Z"
   },
   {
    "duration": 18,
    "start_time": "2021-08-09T10:54:37.010Z"
   },
   {
    "duration": 10,
    "start_time": "2021-08-09T10:54:53.744Z"
   },
   {
    "duration": 13,
    "start_time": "2021-08-09T10:54:59.766Z"
   },
   {
    "duration": 17,
    "start_time": "2021-08-09T10:57:02.282Z"
   },
   {
    "duration": 527,
    "start_time": "2021-08-09T11:01:41.220Z"
   },
   {
    "duration": 379,
    "start_time": "2021-08-09T11:02:01.644Z"
   },
   {
    "duration": 75992,
    "start_time": "2021-08-09T11:02:10.172Z"
   },
   {
    "duration": 74440,
    "start_time": "2021-08-09T11:04:12.072Z"
   },
   {
    "duration": 74457,
    "start_time": "2021-08-09T11:05:50.806Z"
   },
   {
    "duration": 27,
    "start_time": "2021-08-09T11:07:05.265Z"
   },
   {
    "duration": 85,
    "start_time": "2021-08-09T11:08:20.991Z"
   },
   {
    "duration": 405,
    "start_time": "2021-08-09T11:08:25.771Z"
   },
   {
    "duration": 30,
    "start_time": "2021-08-09T11:08:28.638Z"
   },
   {
    "duration": 79,
    "start_time": "2021-08-09T11:08:30.475Z"
   },
   {
    "duration": 592,
    "start_time": "2022-02-19T11:11:16.783Z"
   },
   {
    "duration": 11,
    "start_time": "2022-02-19T11:11:23.360Z"
   },
   {
    "duration": 202,
    "start_time": "2022-02-19T11:13:39.253Z"
   },
   {
    "duration": 14,
    "start_time": "2022-02-19T11:20:01.460Z"
   },
   {
    "duration": 87,
    "start_time": "2022-02-19T11:20:43.395Z"
   },
   {
    "duration": 4,
    "start_time": "2022-02-19T11:22:49.859Z"
   },
   {
    "duration": 14,
    "start_time": "2022-02-19T11:24:19.453Z"
   },
   {
    "duration": 661,
    "start_time": "2022-02-19T11:26:45.109Z"
   },
   {
    "duration": 20,
    "start_time": "2022-02-19T11:26:45.772Z"
   },
   {
    "duration": 43,
    "start_time": "2022-02-19T11:26:45.796Z"
   },
   {
    "duration": 9,
    "start_time": "2022-02-19T11:26:45.841Z"
   },
   {
    "duration": 9,
    "start_time": "2022-02-19T11:26:45.853Z"
   },
   {
    "duration": 15,
    "start_time": "2022-02-19T11:26:45.864Z"
   },
   {
    "duration": 187,
    "start_time": "2022-02-19T11:26:45.881Z"
   },
   {
    "duration": 58,
    "start_time": "2022-02-19T11:26:46.071Z"
   },
   {
    "duration": 19,
    "start_time": "2022-02-19T11:26:46.131Z"
   },
   {
    "duration": 14,
    "start_time": "2022-02-19T11:26:46.151Z"
   },
   {
    "duration": 53,
    "start_time": "2022-02-19T11:26:46.167Z"
   },
   {
    "duration": 13,
    "start_time": "2022-02-19T11:26:46.222Z"
   },
   {
    "duration": 15,
    "start_time": "2022-02-19T11:26:46.237Z"
   },
   {
    "duration": 71,
    "start_time": "2022-02-19T11:26:46.254Z"
   },
   {
    "duration": 12,
    "start_time": "2022-02-19T11:26:46.327Z"
   },
   {
    "duration": 13,
    "start_time": "2022-02-19T11:26:46.340Z"
   },
   {
    "duration": 9,
    "start_time": "2022-02-19T11:26:46.354Z"
   },
   {
    "duration": 4,
    "start_time": "2022-02-19T11:26:46.365Z"
   },
   {
    "duration": 3675,
    "start_time": "2022-02-19T11:26:46.371Z"
   },
   {
    "duration": 15,
    "start_time": "2022-02-19T11:26:50.048Z"
   },
   {
    "duration": 5,
    "start_time": "2022-02-19T11:26:50.065Z"
   },
   {
    "duration": 47,
    "start_time": "2022-02-19T11:26:50.072Z"
   },
   {
    "duration": 14,
    "start_time": "2022-02-19T11:26:50.122Z"
   },
   {
    "duration": 37,
    "start_time": "2022-02-19T11:26:50.138Z"
   },
   {
    "duration": 60,
    "start_time": "2022-02-19T11:26:50.179Z"
   },
   {
    "duration": 19,
    "start_time": "2022-02-19T11:26:50.240Z"
   },
   {
    "duration": 21,
    "start_time": "2022-02-19T11:26:50.260Z"
   },
   {
    "duration": 45,
    "start_time": "2022-02-19T11:26:50.283Z"
   },
   {
    "duration": 26,
    "start_time": "2022-02-19T11:27:25.815Z"
   },
   {
    "duration": 13,
    "start_time": "2022-02-19T11:27:38.279Z"
   },
   {
    "duration": 8,
    "start_time": "2022-02-19T11:27:53.190Z"
   },
   {
    "duration": 670,
    "start_time": "2022-02-19T11:28:52.699Z"
   },
   {
    "duration": 19,
    "start_time": "2022-02-19T11:28:53.528Z"
   },
   {
    "duration": 18,
    "start_time": "2022-02-19T11:29:05.644Z"
   },
   {
    "duration": 6,
    "start_time": "2022-02-19T11:29:05.664Z"
   },
   {
    "duration": 7,
    "start_time": "2022-02-19T11:29:05.672Z"
   },
   {
    "duration": 13,
    "start_time": "2022-02-19T11:29:05.681Z"
   },
   {
    "duration": 179,
    "start_time": "2022-02-19T11:29:05.696Z"
   },
   {
    "duration": 61,
    "start_time": "2022-02-19T11:29:05.877Z"
   },
   {
    "duration": 21,
    "start_time": "2022-02-19T11:29:05.940Z"
   },
   {
    "duration": 14,
    "start_time": "2022-02-19T11:29:05.963Z"
   },
   {
    "duration": 55,
    "start_time": "2022-02-19T11:29:05.980Z"
   },
   {
    "duration": 14,
    "start_time": "2022-02-19T11:29:06.037Z"
   },
   {
    "duration": 17,
    "start_time": "2022-02-19T11:29:06.053Z"
   },
   {
    "duration": 73,
    "start_time": "2022-02-19T11:29:06.071Z"
   },
   {
    "duration": 12,
    "start_time": "2022-02-19T11:29:06.146Z"
   },
   {
    "duration": 14,
    "start_time": "2022-02-19T11:29:06.160Z"
   },
   {
    "duration": 11,
    "start_time": "2022-02-19T11:29:06.176Z"
   },
   {
    "duration": 31,
    "start_time": "2022-02-19T11:29:06.188Z"
   },
   {
    "duration": 3709,
    "start_time": "2022-02-19T11:29:06.222Z"
   },
   {
    "duration": 16,
    "start_time": "2022-02-19T11:29:09.933Z"
   },
   {
    "duration": 6,
    "start_time": "2022-02-19T11:29:09.951Z"
   },
   {
    "duration": 27,
    "start_time": "2022-02-19T11:29:09.959Z"
   },
   {
    "duration": 41,
    "start_time": "2022-02-19T11:29:09.988Z"
   },
   {
    "duration": 36,
    "start_time": "2022-02-19T11:29:10.031Z"
   },
   {
    "duration": 33,
    "start_time": "2022-02-19T11:29:10.070Z"
   },
   {
    "duration": 21,
    "start_time": "2022-02-19T11:29:10.118Z"
   },
   {
    "duration": 19,
    "start_time": "2022-02-19T11:29:10.141Z"
   },
   {
    "duration": 30,
    "start_time": "2022-02-19T11:29:10.162Z"
   },
   {
    "duration": 611,
    "start_time": "2022-02-19T11:29:38.062Z"
   },
   {
    "duration": 19,
    "start_time": "2022-02-19T11:29:38.676Z"
   },
   {
    "duration": 19,
    "start_time": "2022-02-19T11:29:38.823Z"
   },
   {
    "duration": 7,
    "start_time": "2022-02-19T11:29:38.844Z"
   },
   {
    "duration": 10,
    "start_time": "2022-02-19T11:29:39.578Z"
   },
   {
    "duration": 22,
    "start_time": "2022-02-19T11:29:39.591Z"
   },
   {
    "duration": 164,
    "start_time": "2022-02-19T11:29:39.616Z"
   },
   {
    "duration": 61,
    "start_time": "2022-02-19T11:29:39.782Z"
   },
   {
    "duration": 18,
    "start_time": "2022-02-19T11:29:39.845Z"
   },
   {
    "duration": 13,
    "start_time": "2022-02-19T11:29:39.865Z"
   },
   {
    "duration": 51,
    "start_time": "2022-02-19T11:29:39.880Z"
   },
   {
    "duration": 13,
    "start_time": "2022-02-19T11:29:39.934Z"
   },
   {
    "duration": 15,
    "start_time": "2022-02-19T11:29:39.949Z"
   },
   {
    "duration": 67,
    "start_time": "2022-02-19T11:29:39.966Z"
   },
   {
    "duration": 12,
    "start_time": "2022-02-19T11:29:40.034Z"
   },
   {
    "duration": 13,
    "start_time": "2022-02-19T11:29:40.047Z"
   },
   {
    "duration": 10,
    "start_time": "2022-02-19T11:29:40.061Z"
   },
   {
    "duration": 4,
    "start_time": "2022-02-19T11:29:40.073Z"
   },
   {
    "duration": 3680,
    "start_time": "2022-02-19T11:29:40.079Z"
   },
   {
    "duration": 17,
    "start_time": "2022-02-19T11:29:43.761Z"
   },
   {
    "duration": 5,
    "start_time": "2022-02-19T11:29:43.779Z"
   },
   {
    "duration": 42,
    "start_time": "2022-02-19T11:29:43.786Z"
   },
   {
    "duration": 13,
    "start_time": "2022-02-19T11:29:43.830Z"
   },
   {
    "duration": 36,
    "start_time": "2022-02-19T11:29:43.845Z"
   },
   {
    "duration": 45,
    "start_time": "2022-02-19T11:29:43.882Z"
   },
   {
    "duration": 22,
    "start_time": "2022-02-19T11:29:43.929Z"
   },
   {
    "duration": 23,
    "start_time": "2022-02-19T11:29:43.954Z"
   },
   {
    "duration": 47,
    "start_time": "2022-02-19T11:29:43.979Z"
   }
  ],
  "kernelspec": {
   "display_name": "Python 3",
   "language": "python",
   "name": "python3"
  },
  "language_info": {
   "codemirror_mode": {
    "name": "ipython",
    "version": 3
   },
   "file_extension": ".py",
   "mimetype": "text/x-python",
   "name": "python",
   "nbconvert_exporter": "python",
   "pygments_lexer": "ipython3",
   "version": "3.7.8"
  },
  "toc": {
   "base_numbering": 1,
   "nav_menu": {},
   "number_sections": true,
   "sideBar": true,
   "skip_h1_title": true,
   "title_cell": "Table of Contents",
   "title_sidebar": "Contents",
   "toc_cell": false,
   "toc_position": {},
   "toc_section_display": true,
   "toc_window_display": true
  }
 },
 "nbformat": 4,
 "nbformat_minor": 2
}
