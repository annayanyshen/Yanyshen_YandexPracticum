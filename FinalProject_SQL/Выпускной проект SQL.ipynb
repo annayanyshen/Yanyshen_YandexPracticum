{
 "cells": [
  {
   "cell_type": "markdown",
   "metadata": {},
   "source": [
    "# Финальный проект: SQL"
   ]
  },
  {
   "cell_type": "markdown",
   "metadata": {},
   "source": [
    "На фоне карантина, введенного во время пандемии коронавируса, жители городов стали меньше времени проводить на улице, в кафе и ТРК, что повлекло рост интереса к чтению. \n",
    "\n",
    "Компания решает купить крупный сервис для чтения книг по подписке. \n",
    "Задача аналитика - изучить базу данных, найти информацию о наиболее публикуемых аторах, книгах, издательствах, чтобы дать рекомендации по предложению пользователям нового продукта. \n"
   ]
  },
  {
   "cell_type": "markdown",
   "metadata": {},
   "source": [
    "## Данные"
   ]
  },
  {
   "cell_type": "markdown",
   "metadata": {},
   "source": [
    "* Таблица books содержит данные о книгах;\n",
    "* Таблица authors содержит данные об авторах;\n",
    "* Таблица publishers содержит данные об издательствах;\n",
    "* Таблица raitings содержит данные о пользовательских оценках книг;\n",
    "* Таблица reviews содержит данные о пользовательских обзорах на книги;"
   ]
  },
  {
   "cell_type": "markdown",
   "metadata": {},
   "source": [
    "## Задачи"
   ]
  },
  {
   "cell_type": "markdown",
   "metadata": {},
   "source": [
    "- Посчитать, сколько книг вышло после 1 января 2000 года;\n",
    "- Для каждой книги посчитать количество обзоров и среднюю оценку;\n",
    "- Определить издательство, которое выпустило наибольшее число книг толще 50 страниц — так я исключу из анализа брошюры;\n",
    "- Определить автора с самой высокой средней оценкой книг — учитывать только книги с 50 и более оценками;\n",
    "- Посчитать среднее количество обзоров от пользователей, которые поставили больше 50 оценок."
   ]
  },
  {
   "cell_type": "markdown",
   "metadata": {},
   "source": [
    "## Загрузка данных"
   ]
  },
  {
   "cell_type": "code",
   "execution_count": 1,
   "metadata": {},
   "outputs": [],
   "source": [
    "# импортируем библиотеки\n",
    "import pandas as pd\n",
    "from sqlalchemy import create_engine\n",
    "\n",
    "db_config = {'user': 'praktikum_student', # имя пользователя\n",
    "            'pwd': 'Sdf4$2;d-d30pp', # пароль\n",
    "            'host': 'rc1b-wcoijxj3yxfsf3fs.mdb.yandexcloud.net',\n",
    "            'port': 6432, # порт подключения\n",
    "            'db': 'data-analyst-final-project-db'} # название базы данных\n",
    "\n",
    "connection_string = 'postgresql://{}:{}@{}:{}/{}'.format(db_config['user'],\n",
    "                                                db_config['pwd'],\n",
    "                                                db_config['host'],\n",
    "                                                db_config['port'],\n",
    "                                                db_config['db'])\n",
    "\n",
    "engine = create_engine(connection_string) \n"
   ]
  },
  {
   "cell_type": "code",
   "execution_count": 2,
   "metadata": {},
   "outputs": [],
   "source": [
    "books = pd.io.sql.read_sql('SELECT * FROM books', con = engine) \n",
    "authors = pd.io.sql.read_sql('SELECT * FROM authors', con = engine) \n",
    "publishers = pd.io.sql.read_sql('SELECT * FROM publishers', con = engine) \n",
    "ratings = pd.io.sql.read_sql('SELECT * FROM ratings', con = engine) \n",
    "reviews = pd.io.sql.read_sql('SELECT * FROM reviews', con = engine) "
   ]
  },
  {
   "cell_type": "code",
   "execution_count": 3,
   "metadata": {},
   "outputs": [
    {
     "data": {
      "text/html": [
       "<div>\n",
       "<style scoped>\n",
       "    .dataframe tbody tr th:only-of-type {\n",
       "        vertical-align: middle;\n",
       "    }\n",
       "\n",
       "    .dataframe tbody tr th {\n",
       "        vertical-align: top;\n",
       "    }\n",
       "\n",
       "    .dataframe thead th {\n",
       "        text-align: right;\n",
       "    }\n",
       "</style>\n",
       "<table border=\"1\" class=\"dataframe\">\n",
       "  <thead>\n",
       "    <tr style=\"text-align: right;\">\n",
       "      <th></th>\n",
       "      <th>book_id</th>\n",
       "      <th>author_id</th>\n",
       "      <th>title</th>\n",
       "      <th>num_pages</th>\n",
       "      <th>publication_date</th>\n",
       "      <th>publisher_id</th>\n",
       "    </tr>\n",
       "  </thead>\n",
       "  <tbody>\n",
       "    <tr>\n",
       "      <td>0</td>\n",
       "      <td>1</td>\n",
       "      <td>546</td>\n",
       "      <td>'Salem's Lot</td>\n",
       "      <td>594</td>\n",
       "      <td>2005-11-01</td>\n",
       "      <td>93</td>\n",
       "    </tr>\n",
       "    <tr>\n",
       "      <td>1</td>\n",
       "      <td>2</td>\n",
       "      <td>465</td>\n",
       "      <td>1 000 Places to See Before You Die</td>\n",
       "      <td>992</td>\n",
       "      <td>2003-05-22</td>\n",
       "      <td>336</td>\n",
       "    </tr>\n",
       "    <tr>\n",
       "      <td>2</td>\n",
       "      <td>3</td>\n",
       "      <td>407</td>\n",
       "      <td>13 Little Blue Envelopes (Little Blue Envelope...</td>\n",
       "      <td>322</td>\n",
       "      <td>2010-12-21</td>\n",
       "      <td>135</td>\n",
       "    </tr>\n",
       "    <tr>\n",
       "      <td>3</td>\n",
       "      <td>4</td>\n",
       "      <td>82</td>\n",
       "      <td>1491: New Revelations of the Americas Before C...</td>\n",
       "      <td>541</td>\n",
       "      <td>2006-10-10</td>\n",
       "      <td>309</td>\n",
       "    </tr>\n",
       "    <tr>\n",
       "      <td>4</td>\n",
       "      <td>5</td>\n",
       "      <td>125</td>\n",
       "      <td>1776</td>\n",
       "      <td>386</td>\n",
       "      <td>2006-07-04</td>\n",
       "      <td>268</td>\n",
       "    </tr>\n",
       "  </tbody>\n",
       "</table>\n",
       "</div>"
      ],
      "text/plain": [
       "   book_id  author_id                                              title  \\\n",
       "0        1        546                                       'Salem's Lot   \n",
       "1        2        465                 1 000 Places to See Before You Die   \n",
       "2        3        407  13 Little Blue Envelopes (Little Blue Envelope...   \n",
       "3        4         82  1491: New Revelations of the Americas Before C...   \n",
       "4        5        125                                               1776   \n",
       "\n",
       "   num_pages publication_date  publisher_id  \n",
       "0        594       2005-11-01            93  \n",
       "1        992       2003-05-22           336  \n",
       "2        322       2010-12-21           135  \n",
       "3        541       2006-10-10           309  \n",
       "4        386       2006-07-04           268  "
      ]
     },
     "execution_count": 3,
     "metadata": {},
     "output_type": "execute_result"
    }
   ],
   "source": [
    "pd.io.sql.read_sql('SELECT * FROM books LIMIT 5;', con = engine) "
   ]
  },
  {
   "cell_type": "code",
   "execution_count": 4,
   "metadata": {},
   "outputs": [
    {
     "name": "stdout",
     "output_type": "stream",
     "text": [
      "<class 'pandas.core.frame.DataFrame'>\n",
      "RangeIndex: 1000 entries, 0 to 999\n",
      "Data columns (total 6 columns):\n",
      "book_id             1000 non-null int64\n",
      "author_id           1000 non-null int64\n",
      "title               1000 non-null object\n",
      "num_pages           1000 non-null int64\n",
      "publication_date    1000 non-null object\n",
      "publisher_id        1000 non-null int64\n",
      "dtypes: int64(4), object(2)\n",
      "memory usage: 47.0+ KB\n"
     ]
    }
   ],
   "source": [
    "books.info()"
   ]
  },
  {
   "cell_type": "code",
   "execution_count": 5,
   "metadata": {},
   "outputs": [
    {
     "data": {
      "text/html": [
       "<div>\n",
       "<style scoped>\n",
       "    .dataframe tbody tr th:only-of-type {\n",
       "        vertical-align: middle;\n",
       "    }\n",
       "\n",
       "    .dataframe tbody tr th {\n",
       "        vertical-align: top;\n",
       "    }\n",
       "\n",
       "    .dataframe thead th {\n",
       "        text-align: right;\n",
       "    }\n",
       "</style>\n",
       "<table border=\"1\" class=\"dataframe\">\n",
       "  <thead>\n",
       "    <tr style=\"text-align: right;\">\n",
       "      <th></th>\n",
       "      <th>author_id</th>\n",
       "      <th>author</th>\n",
       "    </tr>\n",
       "  </thead>\n",
       "  <tbody>\n",
       "    <tr>\n",
       "      <td>0</td>\n",
       "      <td>1</td>\n",
       "      <td>A.S. Byatt</td>\n",
       "    </tr>\n",
       "    <tr>\n",
       "      <td>1</td>\n",
       "      <td>2</td>\n",
       "      <td>Aesop/Laura Harris/Laura Gibbs</td>\n",
       "    </tr>\n",
       "    <tr>\n",
       "      <td>2</td>\n",
       "      <td>3</td>\n",
       "      <td>Agatha Christie</td>\n",
       "    </tr>\n",
       "    <tr>\n",
       "      <td>3</td>\n",
       "      <td>4</td>\n",
       "      <td>Alan Brennert</td>\n",
       "    </tr>\n",
       "    <tr>\n",
       "      <td>4</td>\n",
       "      <td>5</td>\n",
       "      <td>Alan Moore/David   Lloyd</td>\n",
       "    </tr>\n",
       "  </tbody>\n",
       "</table>\n",
       "</div>"
      ],
      "text/plain": [
       "   author_id                          author\n",
       "0          1                      A.S. Byatt\n",
       "1          2  Aesop/Laura Harris/Laura Gibbs\n",
       "2          3                 Agatha Christie\n",
       "3          4                   Alan Brennert\n",
       "4          5        Alan Moore/David   Lloyd"
      ]
     },
     "execution_count": 5,
     "metadata": {},
     "output_type": "execute_result"
    }
   ],
   "source": [
    "pd.io.sql.read_sql('SELECT * FROM authors LIMIT 5;', con = engine) "
   ]
  },
  {
   "cell_type": "code",
   "execution_count": 6,
   "metadata": {},
   "outputs": [
    {
     "name": "stdout",
     "output_type": "stream",
     "text": [
      "<class 'pandas.core.frame.DataFrame'>\n",
      "RangeIndex: 636 entries, 0 to 635\n",
      "Data columns (total 2 columns):\n",
      "author_id    636 non-null int64\n",
      "author       636 non-null object\n",
      "dtypes: int64(1), object(1)\n",
      "memory usage: 10.1+ KB\n"
     ]
    }
   ],
   "source": [
    "authors.info()"
   ]
  },
  {
   "cell_type": "code",
   "execution_count": 7,
   "metadata": {},
   "outputs": [
    {
     "data": {
      "text/html": [
       "<div>\n",
       "<style scoped>\n",
       "    .dataframe tbody tr th:only-of-type {\n",
       "        vertical-align: middle;\n",
       "    }\n",
       "\n",
       "    .dataframe tbody tr th {\n",
       "        vertical-align: top;\n",
       "    }\n",
       "\n",
       "    .dataframe thead th {\n",
       "        text-align: right;\n",
       "    }\n",
       "</style>\n",
       "<table border=\"1\" class=\"dataframe\">\n",
       "  <thead>\n",
       "    <tr style=\"text-align: right;\">\n",
       "      <th></th>\n",
       "      <th>publisher_id</th>\n",
       "      <th>publisher</th>\n",
       "    </tr>\n",
       "  </thead>\n",
       "  <tbody>\n",
       "    <tr>\n",
       "      <td>0</td>\n",
       "      <td>1</td>\n",
       "      <td>Ace</td>\n",
       "    </tr>\n",
       "    <tr>\n",
       "      <td>1</td>\n",
       "      <td>2</td>\n",
       "      <td>Ace Book</td>\n",
       "    </tr>\n",
       "    <tr>\n",
       "      <td>2</td>\n",
       "      <td>3</td>\n",
       "      <td>Ace Books</td>\n",
       "    </tr>\n",
       "    <tr>\n",
       "      <td>3</td>\n",
       "      <td>4</td>\n",
       "      <td>Ace Hardcover</td>\n",
       "    </tr>\n",
       "    <tr>\n",
       "      <td>4</td>\n",
       "      <td>5</td>\n",
       "      <td>Addison Wesley Publishing Company</td>\n",
       "    </tr>\n",
       "  </tbody>\n",
       "</table>\n",
       "</div>"
      ],
      "text/plain": [
       "   publisher_id                          publisher\n",
       "0             1                                Ace\n",
       "1             2                           Ace Book\n",
       "2             3                          Ace Books\n",
       "3             4                      Ace Hardcover\n",
       "4             5  Addison Wesley Publishing Company"
      ]
     },
     "execution_count": 7,
     "metadata": {},
     "output_type": "execute_result"
    }
   ],
   "source": [
    "pd.io.sql.read_sql('SELECT * FROM publishers LIMIT 5;', con = engine) "
   ]
  },
  {
   "cell_type": "code",
   "execution_count": 8,
   "metadata": {},
   "outputs": [
    {
     "name": "stdout",
     "output_type": "stream",
     "text": [
      "<class 'pandas.core.frame.DataFrame'>\n",
      "RangeIndex: 340 entries, 0 to 339\n",
      "Data columns (total 2 columns):\n",
      "publisher_id    340 non-null int64\n",
      "publisher       340 non-null object\n",
      "dtypes: int64(1), object(1)\n",
      "memory usage: 5.4+ KB\n"
     ]
    }
   ],
   "source": [
    "publishers.info()"
   ]
  },
  {
   "cell_type": "code",
   "execution_count": 9,
   "metadata": {},
   "outputs": [
    {
     "data": {
      "text/html": [
       "<div>\n",
       "<style scoped>\n",
       "    .dataframe tbody tr th:only-of-type {\n",
       "        vertical-align: middle;\n",
       "    }\n",
       "\n",
       "    .dataframe tbody tr th {\n",
       "        vertical-align: top;\n",
       "    }\n",
       "\n",
       "    .dataframe thead th {\n",
       "        text-align: right;\n",
       "    }\n",
       "</style>\n",
       "<table border=\"1\" class=\"dataframe\">\n",
       "  <thead>\n",
       "    <tr style=\"text-align: right;\">\n",
       "      <th></th>\n",
       "      <th>rating_id</th>\n",
       "      <th>book_id</th>\n",
       "      <th>username</th>\n",
       "      <th>rating</th>\n",
       "    </tr>\n",
       "  </thead>\n",
       "  <tbody>\n",
       "    <tr>\n",
       "      <td>0</td>\n",
       "      <td>1</td>\n",
       "      <td>1</td>\n",
       "      <td>ryanfranco</td>\n",
       "      <td>4</td>\n",
       "    </tr>\n",
       "    <tr>\n",
       "      <td>1</td>\n",
       "      <td>2</td>\n",
       "      <td>1</td>\n",
       "      <td>grantpatricia</td>\n",
       "      <td>2</td>\n",
       "    </tr>\n",
       "    <tr>\n",
       "      <td>2</td>\n",
       "      <td>3</td>\n",
       "      <td>1</td>\n",
       "      <td>brandtandrea</td>\n",
       "      <td>5</td>\n",
       "    </tr>\n",
       "    <tr>\n",
       "      <td>3</td>\n",
       "      <td>4</td>\n",
       "      <td>2</td>\n",
       "      <td>lorichen</td>\n",
       "      <td>3</td>\n",
       "    </tr>\n",
       "    <tr>\n",
       "      <td>4</td>\n",
       "      <td>5</td>\n",
       "      <td>2</td>\n",
       "      <td>mariokeller</td>\n",
       "      <td>2</td>\n",
       "    </tr>\n",
       "  </tbody>\n",
       "</table>\n",
       "</div>"
      ],
      "text/plain": [
       "   rating_id  book_id       username  rating\n",
       "0          1        1     ryanfranco       4\n",
       "1          2        1  grantpatricia       2\n",
       "2          3        1   brandtandrea       5\n",
       "3          4        2       lorichen       3\n",
       "4          5        2    mariokeller       2"
      ]
     },
     "execution_count": 9,
     "metadata": {},
     "output_type": "execute_result"
    }
   ],
   "source": [
    "pd.io.sql.read_sql('SELECT * FROM ratings LIMIT 5;', con = engine) "
   ]
  },
  {
   "cell_type": "code",
   "execution_count": 10,
   "metadata": {},
   "outputs": [
    {
     "name": "stdout",
     "output_type": "stream",
     "text": [
      "<class 'pandas.core.frame.DataFrame'>\n",
      "RangeIndex: 6456 entries, 0 to 6455\n",
      "Data columns (total 4 columns):\n",
      "rating_id    6456 non-null int64\n",
      "book_id      6456 non-null int64\n",
      "username     6456 non-null object\n",
      "rating       6456 non-null int64\n",
      "dtypes: int64(3), object(1)\n",
      "memory usage: 201.9+ KB\n"
     ]
    }
   ],
   "source": [
    "ratings.info()"
   ]
  },
  {
   "cell_type": "code",
   "execution_count": 11,
   "metadata": {},
   "outputs": [
    {
     "data": {
      "text/html": [
       "<div>\n",
       "<style scoped>\n",
       "    .dataframe tbody tr th:only-of-type {\n",
       "        vertical-align: middle;\n",
       "    }\n",
       "\n",
       "    .dataframe tbody tr th {\n",
       "        vertical-align: top;\n",
       "    }\n",
       "\n",
       "    .dataframe thead th {\n",
       "        text-align: right;\n",
       "    }\n",
       "</style>\n",
       "<table border=\"1\" class=\"dataframe\">\n",
       "  <thead>\n",
       "    <tr style=\"text-align: right;\">\n",
       "      <th></th>\n",
       "      <th>review_id</th>\n",
       "      <th>book_id</th>\n",
       "      <th>username</th>\n",
       "      <th>text</th>\n",
       "    </tr>\n",
       "  </thead>\n",
       "  <tbody>\n",
       "    <tr>\n",
       "      <td>0</td>\n",
       "      <td>1</td>\n",
       "      <td>1</td>\n",
       "      <td>brandtandrea</td>\n",
       "      <td>Mention society tell send professor analysis. ...</td>\n",
       "    </tr>\n",
       "    <tr>\n",
       "      <td>1</td>\n",
       "      <td>2</td>\n",
       "      <td>1</td>\n",
       "      <td>ryanfranco</td>\n",
       "      <td>Foot glass pretty audience hit themselves. Amo...</td>\n",
       "    </tr>\n",
       "    <tr>\n",
       "      <td>2</td>\n",
       "      <td>3</td>\n",
       "      <td>2</td>\n",
       "      <td>lorichen</td>\n",
       "      <td>Listen treat keep worry. Miss husband tax but ...</td>\n",
       "    </tr>\n",
       "    <tr>\n",
       "      <td>3</td>\n",
       "      <td>4</td>\n",
       "      <td>3</td>\n",
       "      <td>johnsonamanda</td>\n",
       "      <td>Finally month interesting blue could nature cu...</td>\n",
       "    </tr>\n",
       "    <tr>\n",
       "      <td>4</td>\n",
       "      <td>5</td>\n",
       "      <td>3</td>\n",
       "      <td>scotttamara</td>\n",
       "      <td>Nation purpose heavy give wait song will. List...</td>\n",
       "    </tr>\n",
       "  </tbody>\n",
       "</table>\n",
       "</div>"
      ],
      "text/plain": [
       "   review_id  book_id       username  \\\n",
       "0          1        1   brandtandrea   \n",
       "1          2        1     ryanfranco   \n",
       "2          3        2       lorichen   \n",
       "3          4        3  johnsonamanda   \n",
       "4          5        3    scotttamara   \n",
       "\n",
       "                                                text  \n",
       "0  Mention society tell send professor analysis. ...  \n",
       "1  Foot glass pretty audience hit themselves. Amo...  \n",
       "2  Listen treat keep worry. Miss husband tax but ...  \n",
       "3  Finally month interesting blue could nature cu...  \n",
       "4  Nation purpose heavy give wait song will. List...  "
      ]
     },
     "execution_count": 11,
     "metadata": {},
     "output_type": "execute_result"
    }
   ],
   "source": [
    "pd.io.sql.read_sql('SELECT * FROM reviews LIMIT 5;', con = engine) "
   ]
  },
  {
   "cell_type": "code",
   "execution_count": 12,
   "metadata": {},
   "outputs": [
    {
     "name": "stdout",
     "output_type": "stream",
     "text": [
      "<class 'pandas.core.frame.DataFrame'>\n",
      "RangeIndex: 2793 entries, 0 to 2792\n",
      "Data columns (total 4 columns):\n",
      "review_id    2793 non-null int64\n",
      "book_id      2793 non-null int64\n",
      "username     2793 non-null object\n",
      "text         2793 non-null object\n",
      "dtypes: int64(2), object(2)\n",
      "memory usage: 87.4+ KB\n"
     ]
    }
   ],
   "source": [
    "reviews.info()"
   ]
  },
  {
   "cell_type": "markdown",
   "metadata": {},
   "source": [
    "Данные загружены, можно приступать к запросам"
   ]
  },
  {
   "cell_type": "markdown",
   "metadata": {},
   "source": [
    "## Запрос №1: количество книг, вышедших после 1 января 2000 года"
   ]
  },
  {
   "cell_type": "code",
   "execution_count": 13,
   "metadata": {},
   "outputs": [
    {
     "data": {
      "text/html": [
       "<div>\n",
       "<style scoped>\n",
       "    .dataframe tbody tr th:only-of-type {\n",
       "        vertical-align: middle;\n",
       "    }\n",
       "\n",
       "    .dataframe tbody tr th {\n",
       "        vertical-align: top;\n",
       "    }\n",
       "\n",
       "    .dataframe thead th {\n",
       "        text-align: right;\n",
       "    }\n",
       "</style>\n",
       "<table border=\"1\" class=\"dataframe\">\n",
       "  <thead>\n",
       "    <tr style=\"text-align: right;\">\n",
       "      <th></th>\n",
       "      <th>book_cnt</th>\n",
       "    </tr>\n",
       "  </thead>\n",
       "  <tbody>\n",
       "    <tr>\n",
       "      <td>0</td>\n",
       "      <td>821</td>\n",
       "    </tr>\n",
       "  </tbody>\n",
       "</table>\n",
       "</div>"
      ],
      "text/plain": [
       "   book_cnt\n",
       "0       821"
      ]
     },
     "execution_count": 13,
     "metadata": {},
     "output_type": "execute_result"
    }
   ],
   "source": [
    "query1 = '''SELECT \n",
    "COUNT(book_id) AS book_cnt \n",
    "FROM books \n",
    "WHERE publication_date::date >= '2000-01-01' '''\n",
    "pd.io.sql.read_sql(query1, con = engine)"
   ]
  },
  {
   "cell_type": "markdown",
   "metadata": {},
   "source": [
    "Число книг из датасета, вышедших после 1 яневаря 2000 года, равно 821."
   ]
  },
  {
   "cell_type": "markdown",
   "metadata": {},
   "source": [
    "## Запрос №2: количество обзоров и средняя оценка для каждой книги"
   ]
  },
  {
   "cell_type": "code",
   "execution_count": 14,
   "metadata": {},
   "outputs": [
    {
     "data": {
      "text/html": [
       "<div>\n",
       "<style scoped>\n",
       "    .dataframe tbody tr th:only-of-type {\n",
       "        vertical-align: middle;\n",
       "    }\n",
       "\n",
       "    .dataframe tbody tr th {\n",
       "        vertical-align: top;\n",
       "    }\n",
       "\n",
       "    .dataframe thead th {\n",
       "        text-align: right;\n",
       "    }\n",
       "</style>\n",
       "<table border=\"1\" class=\"dataframe\">\n",
       "  <thead>\n",
       "    <tr style=\"text-align: right;\">\n",
       "      <th></th>\n",
       "      <th>book_id</th>\n",
       "      <th>book_title</th>\n",
       "      <th>avg_rating</th>\n",
       "      <th>review_cnt</th>\n",
       "    </tr>\n",
       "  </thead>\n",
       "  <tbody>\n",
       "    <tr>\n",
       "      <td>0</td>\n",
       "      <td>1</td>\n",
       "      <td>'Salem's Lot</td>\n",
       "      <td>3.666667</td>\n",
       "      <td>2</td>\n",
       "    </tr>\n",
       "    <tr>\n",
       "      <td>1</td>\n",
       "      <td>2</td>\n",
       "      <td>1 000 Places to See Before You Die</td>\n",
       "      <td>2.500000</td>\n",
       "      <td>1</td>\n",
       "    </tr>\n",
       "    <tr>\n",
       "      <td>2</td>\n",
       "      <td>3</td>\n",
       "      <td>13 Little Blue Envelopes (Little Blue Envelope...</td>\n",
       "      <td>4.666667</td>\n",
       "      <td>3</td>\n",
       "    </tr>\n",
       "    <tr>\n",
       "      <td>3</td>\n",
       "      <td>4</td>\n",
       "      <td>1491: New Revelations of the Americas Before C...</td>\n",
       "      <td>4.500000</td>\n",
       "      <td>2</td>\n",
       "    </tr>\n",
       "    <tr>\n",
       "      <td>4</td>\n",
       "      <td>5</td>\n",
       "      <td>1776</td>\n",
       "      <td>4.000000</td>\n",
       "      <td>4</td>\n",
       "    </tr>\n",
       "    <tr>\n",
       "      <td>...</td>\n",
       "      <td>...</td>\n",
       "      <td>...</td>\n",
       "      <td>...</td>\n",
       "      <td>...</td>\n",
       "    </tr>\n",
       "    <tr>\n",
       "      <td>995</td>\n",
       "      <td>996</td>\n",
       "      <td>Wyrd Sisters (Discworld  #6; Witches #2)</td>\n",
       "      <td>3.666667</td>\n",
       "      <td>3</td>\n",
       "    </tr>\n",
       "    <tr>\n",
       "      <td>996</td>\n",
       "      <td>997</td>\n",
       "      <td>Xenocide (Ender's Saga  #3)</td>\n",
       "      <td>3.400000</td>\n",
       "      <td>3</td>\n",
       "    </tr>\n",
       "    <tr>\n",
       "      <td>997</td>\n",
       "      <td>998</td>\n",
       "      <td>Year of Wonders</td>\n",
       "      <td>3.200000</td>\n",
       "      <td>4</td>\n",
       "    </tr>\n",
       "    <tr>\n",
       "      <td>998</td>\n",
       "      <td>999</td>\n",
       "      <td>You Suck (A Love Story  #2)</td>\n",
       "      <td>4.500000</td>\n",
       "      <td>2</td>\n",
       "    </tr>\n",
       "    <tr>\n",
       "      <td>999</td>\n",
       "      <td>1000</td>\n",
       "      <td>Zen and the Art of Motorcycle Maintenance: An ...</td>\n",
       "      <td>3.833333</td>\n",
       "      <td>4</td>\n",
       "    </tr>\n",
       "  </tbody>\n",
       "</table>\n",
       "<p>1000 rows × 4 columns</p>\n",
       "</div>"
      ],
      "text/plain": [
       "     book_id                                         book_title  avg_rating  \\\n",
       "0          1                                       'Salem's Lot    3.666667   \n",
       "1          2                 1 000 Places to See Before You Die    2.500000   \n",
       "2          3  13 Little Blue Envelopes (Little Blue Envelope...    4.666667   \n",
       "3          4  1491: New Revelations of the Americas Before C...    4.500000   \n",
       "4          5                                               1776    4.000000   \n",
       "..       ...                                                ...         ...   \n",
       "995      996           Wyrd Sisters (Discworld  #6; Witches #2)    3.666667   \n",
       "996      997                        Xenocide (Ender's Saga  #3)    3.400000   \n",
       "997      998                                    Year of Wonders    3.200000   \n",
       "998      999                        You Suck (A Love Story  #2)    4.500000   \n",
       "999     1000  Zen and the Art of Motorcycle Maintenance: An ...    3.833333   \n",
       "\n",
       "     review_cnt  \n",
       "0             2  \n",
       "1             1  \n",
       "2             3  \n",
       "3             2  \n",
       "4             4  \n",
       "..          ...  \n",
       "995           3  \n",
       "996           3  \n",
       "997           4  \n",
       "998           2  \n",
       "999           4  \n",
       "\n",
       "[1000 rows x 4 columns]"
      ]
     },
     "execution_count": 14,
     "metadata": {},
     "output_type": "execute_result"
    }
   ],
   "source": [
    "query2 = '''SELECT \n",
    "books.book_id AS book_id,\n",
    "books.title AS book_title, \n",
    "AVG(ratings.rating) AS avg_rating,\n",
    "COUNT(DISTINCT(reviews.review_id)) AS review_cnt\n",
    "\n",
    "FROM books \n",
    "LEFT JOIN ratings ON ratings.book_id = books.book_id \n",
    "LEFT JOIN reviews ON reviews.book_id = books.book_id\n",
    "\n",
    "GROUP BY \n",
    "books.book_id;\n",
    "'''\n",
    "pd.io.sql.read_sql(query2, con = engine)"
   ]
  },
  {
   "cell_type": "markdown",
   "metadata": {},
   "source": [
    "Для каждой книги посчитана средняя оценка и число обзоров. "
   ]
  },
  {
   "cell_type": "markdown",
   "metadata": {},
   "source": [
    "## Запрос №3: определение издательства, выпустившего наибольшее количество книг толще 50 страниц"
   ]
  },
  {
   "cell_type": "code",
   "execution_count": 15,
   "metadata": {},
   "outputs": [
    {
     "data": {
      "text/html": [
       "<div>\n",
       "<style scoped>\n",
       "    .dataframe tbody tr th:only-of-type {\n",
       "        vertical-align: middle;\n",
       "    }\n",
       "\n",
       "    .dataframe tbody tr th {\n",
       "        vertical-align: top;\n",
       "    }\n",
       "\n",
       "    .dataframe thead th {\n",
       "        text-align: right;\n",
       "    }\n",
       "</style>\n",
       "<table border=\"1\" class=\"dataframe\">\n",
       "  <thead>\n",
       "    <tr style=\"text-align: right;\">\n",
       "      <th></th>\n",
       "      <th>publisher</th>\n",
       "      <th>books_amount</th>\n",
       "    </tr>\n",
       "  </thead>\n",
       "  <tbody>\n",
       "    <tr>\n",
       "      <td>0</td>\n",
       "      <td>Penguin Books</td>\n",
       "      <td>42</td>\n",
       "    </tr>\n",
       "  </tbody>\n",
       "</table>\n",
       "</div>"
      ],
      "text/plain": [
       "       publisher  books_amount\n",
       "0  Penguin Books            42"
      ]
     },
     "execution_count": 15,
     "metadata": {},
     "output_type": "execute_result"
    }
   ],
   "source": [
    "query3 = '''SELECT \n",
    "publishers.publisher AS publisher, \n",
    "COUNT(books.book_id) AS books_amount\n",
    "\n",
    "FROM publishers \n",
    "INNER JOIN books ON books.publisher_id = publishers.publisher_id \n",
    "\n",
    "WHERE \n",
    "num_pages > 50\n",
    "\n",
    "GROUP BY \n",
    "publishers.publisher \n",
    "\n",
    "ORDER BY \n",
    "books_amount DESC \n",
    "\n",
    "LIMIT 1;\n",
    "'''\n",
    "pd.io.sql.read_sql(query3, con = engine)\n"
   ]
  },
  {
   "cell_type": "markdown",
   "metadata": {},
   "source": [
    "Издательство, которое выпустило наибольшее количество книг толще 50 страниц - это Penguin Books\t\t, и выпустило оно 42 книги"
   ]
  },
  {
   "cell_type": "markdown",
   "metadata": {},
   "source": [
    "## Запрос №4: определение автора с самой высокой средней оценкой книг среди книг с 50 и большим числом оценок"
   ]
  },
  {
   "cell_type": "code",
   "execution_count": 16,
   "metadata": {},
   "outputs": [
    {
     "data": {
      "text/html": [
       "<div>\n",
       "<style scoped>\n",
       "    .dataframe tbody tr th:only-of-type {\n",
       "        vertical-align: middle;\n",
       "    }\n",
       "\n",
       "    .dataframe tbody tr th {\n",
       "        vertical-align: top;\n",
       "    }\n",
       "\n",
       "    .dataframe thead th {\n",
       "        text-align: right;\n",
       "    }\n",
       "</style>\n",
       "<table border=\"1\" class=\"dataframe\">\n",
       "  <thead>\n",
       "    <tr style=\"text-align: right;\">\n",
       "      <th></th>\n",
       "      <th>author_id</th>\n",
       "      <th>author</th>\n",
       "      <th>avg_rating</th>\n",
       "    </tr>\n",
       "  </thead>\n",
       "  <tbody>\n",
       "    <tr>\n",
       "      <td>0</td>\n",
       "      <td>236</td>\n",
       "      <td>J.K. Rowling/Mary GrandPré</td>\n",
       "      <td>4.414634</td>\n",
       "    </tr>\n",
       "  </tbody>\n",
       "</table>\n",
       "</div>"
      ],
      "text/plain": [
       "   author_id                      author  avg_rating\n",
       "0        236  J.K. Rowling/Mary GrandPré    4.414634"
      ]
     },
     "execution_count": 16,
     "metadata": {},
     "output_type": "execute_result"
    }
   ],
   "source": [
    "query4 = '''\n",
    "SELECT\n",
    "SUBQ.author_id AS author_id,\n",
    "authors.author AS author,\n",
    "SUBQ.avg_rating AS avg_rating\n",
    "\n",
    "FROM\n",
    "    (\n",
    "    SELECT\n",
    "    books.book_id,\n",
    "    books.author_id,\n",
    "    AVG(ratings.rating) AS avg_rating\n",
    "        \n",
    "    FROM \n",
    "    books \n",
    "    INNER JOIN ratings ON ratings.book_id = books.book_id\n",
    "\n",
    "    GROUP BY \n",
    "    books.book_id\n",
    "\n",
    "    HAVING\n",
    "    COUNT(ratings.rating_id) >= 50\n",
    "    ) AS SUBQ\n",
    "INNER JOIN authors ON authors.author_id = SUBQ.author_id\n",
    "\n",
    "ORDER BY\n",
    "SUBQ.avg_rating DESC\n",
    "\n",
    "LIMIT 1;\n",
    "'''\n",
    "pd.io.sql.read_sql(query4, con = engine)"
   ]
  },
  {
   "cell_type": "markdown",
   "metadata": {},
   "source": [
    "Было определено, что J.K. Rowling/Mary GrandPré\tявляются авторами с самой высокой средней оценкой книг при рассмотрении книг датасета с числом оценок 50 и более.Средняя оценка книг авторов составила почти 4.4 "
   ]
  },
  {
   "cell_type": "markdown",
   "metadata": {},
   "source": [
    "## Запрос №5: расчет среднего количества обзоров от пользователей, которые поставили больше 50 оценок"
   ]
  },
  {
   "cell_type": "code",
   "execution_count": 17,
   "metadata": {},
   "outputs": [
    {
     "data": {
      "text/html": [
       "<div>\n",
       "<style scoped>\n",
       "    .dataframe tbody tr th:only-of-type {\n",
       "        vertical-align: middle;\n",
       "    }\n",
       "\n",
       "    .dataframe tbody tr th {\n",
       "        vertical-align: top;\n",
       "    }\n",
       "\n",
       "    .dataframe thead th {\n",
       "        text-align: right;\n",
       "    }\n",
       "</style>\n",
       "<table border=\"1\" class=\"dataframe\">\n",
       "  <thead>\n",
       "    <tr style=\"text-align: right;\">\n",
       "      <th></th>\n",
       "      <th>avg_reviews</th>\n",
       "    </tr>\n",
       "  </thead>\n",
       "  <tbody>\n",
       "    <tr>\n",
       "      <td>0</td>\n",
       "      <td>24.333333</td>\n",
       "    </tr>\n",
       "  </tbody>\n",
       "</table>\n",
       "</div>"
      ],
      "text/plain": [
       "   avg_reviews\n",
       "0    24.333333"
      ]
     },
     "execution_count": 17,
     "metadata": {},
     "output_type": "execute_result"
    }
   ],
   "source": [
    "query5 = '''\n",
    "SELECT\n",
    "AVG(SUBQ1.reviews_amount) AS avg_reviews\n",
    "\n",
    "FROM \n",
    "(\n",
    "SELECT \n",
    "SUBQ.username AS username,\n",
    "COUNT(reviews.review_id) AS reviews_amount \n",
    "        \n",
    "FROM \n",
    "    (\n",
    "    SELECT\n",
    "    ratings.username AS username\n",
    "    \n",
    "    FROM\n",
    "    ratings\n",
    "    \n",
    "    GROUP BY \n",
    "    ratings.username\n",
    "    \n",
    "    HAVING \n",
    "    COUNT(ratings.rating_id) > 50\n",
    "    ) AS SUBQ \n",
    "INNER JOIN reviews ON reviews.username = SUBQ.username\n",
    "\n",
    "GROUP BY\n",
    "SUBQ.username\n",
    ") AS SUBQ1;\n",
    "\n",
    "'''\n",
    "\n",
    "pd.io.sql.read_sql(query5, con = engine)"
   ]
  },
  {
   "cell_type": "markdown",
   "metadata": {},
   "source": [
    "Выбрала пользователей, которые поставили более 50 оценок книгам, рассчитала, что среднее количетиво обзоров на книги от этих пользователей равно 24,3. "
   ]
  },
  {
   "cell_type": "markdown",
   "metadata": {},
   "source": [
    "## Вывод"
   ]
  },
  {
   "cell_type": "markdown",
   "metadata": {},
   "source": [
    "В данном исследовании были проанализированы датасеты, с информацией о книгах, их авторах, издателшям, а также с оценками и рейтингами пользователей. \n",
    "\n",
    "Было выявлено, что из 1000 книг в датасете после 1 января 2000 года вышла 821 книга;\n",
    "\n",
    "Для каждой книги была посчитана средняя оценка и число обзоров;\n",
    "\n",
    "Было определено, что Penguin Books является издательством, выпустившим наибольшее количество книг (не считая брошюр), из 1000 книг в датасете 42 книги приходятся на издательство Penguin Books;\n",
    "\n",
    "Было определено, что J.K. Rowling/Mary GrandPré являются авторами с самой высокой средней оценкой книг при рассмотрении книг датасета с числом оценок 50 и более. Средняя оценка книг авторов составила почти 4.4 из 5;\n",
    "\n",
    "Также были выбраны пользователи, которые поставили более 50 оценок книгам, среди них было рассчитано среднее число обзоров, которые они делают, получилось 24,3 обзора на такого пользователя, их можно отнести к наиболее активным читателям в разрезе данного датасета. \n",
    "\n",
    "На основании проведенного анализа можно делать специальные подборки книг для активных пользоватиелей, можно составить портрет читателя, посмотреть, какие авторы удостаиваются наибольших оценок, добавлять на платформу книги этих авторов. \n",
    "\n",
    "Можно построить рейтинг издательств, чью книги также удостаиваются наилучших оценок и наибольшего количества обзоров, и пополнять коллекцию книг приложения книгами этих издательств. \n",
    "\n",
    "Уже отмечены такие авторы как J.K. Rowling/Mary GrandPré и продуктивное издательство Penguin Books, на них нужно обратить внимание в первую очередь. "
   ]
  }
 ],
 "metadata": {
  "ExecuteTimeLog": [
   {
    "duration": 42,
    "start_time": "2021-12-19T21:05:53.084Z"
   },
   {
    "duration": 42,
    "start_time": "2021-12-19T21:07:51.703Z"
   },
   {
    "duration": 45,
    "start_time": "2021-12-19T21:07:53.023Z"
   },
   {
    "duration": 598,
    "start_time": "2021-12-19T21:09:08.950Z"
   },
   {
    "duration": 6,
    "start_time": "2021-12-19T21:09:22.726Z"
   },
   {
    "duration": 4,
    "start_time": "2021-12-19T21:09:47.107Z"
   },
   {
    "duration": 193,
    "start_time": "2021-12-19T21:09:49.023Z"
   },
   {
    "duration": 395,
    "start_time": "2021-12-19T21:12:26.419Z"
   },
   {
    "duration": 209,
    "start_time": "2021-12-19T21:12:57.482Z"
   },
   {
    "duration": 704,
    "start_time": "2021-12-19T21:13:15.188Z"
   },
   {
    "duration": 209,
    "start_time": "2021-12-19T21:14:39.340Z"
   },
   {
    "duration": 196,
    "start_time": "2021-12-19T21:14:46.223Z"
   },
   {
    "duration": 5,
    "start_time": "2021-12-19T21:15:05.464Z"
   },
   {
    "duration": 5,
    "start_time": "2021-12-19T21:15:48.389Z"
   },
   {
    "duration": 299,
    "start_time": "2021-12-19T21:15:50.769Z"
   },
   {
    "duration": 434,
    "start_time": "2021-12-19T21:15:57.793Z"
   },
   {
    "duration": 477,
    "start_time": "2021-12-19T21:16:01.634Z"
   },
   {
    "duration": 18,
    "start_time": "2021-12-19T21:16:09.894Z"
   },
   {
    "duration": 867,
    "start_time": "2021-12-20T10:17:03.497Z"
   },
   {
    "duration": 135,
    "start_time": "2021-12-20T10:17:45.132Z"
   },
   {
    "duration": 855,
    "start_time": "2021-12-20T10:22:04.024Z"
   },
   {
    "duration": 566,
    "start_time": "2021-12-20T10:22:04.882Z"
   },
   {
    "duration": 218,
    "start_time": "2021-12-20T10:35:25.776Z"
   },
   {
    "duration": 877,
    "start_time": "2021-12-20T10:35:38.850Z"
   },
   {
    "duration": 553,
    "start_time": "2021-12-20T10:35:39.729Z"
   },
   {
    "duration": 80,
    "start_time": "2021-12-20T10:35:40.285Z"
   },
   {
    "duration": 149,
    "start_time": "2021-12-20T11:15:06.907Z"
   },
   {
    "duration": 88,
    "start_time": "2021-12-20T12:51:04.069Z"
   },
   {
    "duration": 449,
    "start_time": "2021-12-20T12:51:11.960Z"
   },
   {
    "duration": 282,
    "start_time": "2021-12-20T12:51:15.419Z"
   },
   {
    "duration": 244,
    "start_time": "2021-12-20T12:51:18.794Z"
   },
   {
    "duration": 75,
    "start_time": "2021-12-20T12:51:23.456Z"
   },
   {
    "duration": 72,
    "start_time": "2021-12-20T12:51:42.786Z"
   },
   {
    "duration": 71,
    "start_time": "2021-12-20T12:51:55.695Z"
   },
   {
    "duration": 358,
    "start_time": "2021-12-20T12:52:08.553Z"
   },
   {
    "duration": 77,
    "start_time": "2021-12-20T12:52:14.321Z"
   },
   {
    "duration": 75,
    "start_time": "2021-12-20T12:52:25.359Z"
   },
   {
    "duration": 80,
    "start_time": "2021-12-20T13:01:02.280Z"
   },
   {
    "duration": 340,
    "start_time": "2021-12-20T13:01:39.690Z"
   },
   {
    "duration": 375,
    "start_time": "2021-12-20T13:01:45.811Z"
   },
   {
    "duration": 967,
    "start_time": "2021-12-20T13:01:48.949Z"
   },
   {
    "duration": 81,
    "start_time": "2021-12-20T13:04:13.159Z"
   },
   {
    "duration": 139,
    "start_time": "2021-12-20T13:10:16.631Z"
   },
   {
    "duration": 260,
    "start_time": "2021-12-20T13:13:32.107Z"
   },
   {
    "duration": 94,
    "start_time": "2021-12-20T13:15:31.562Z"
   },
   {
    "duration": 102,
    "start_time": "2021-12-20T13:16:00.808Z"
   },
   {
    "duration": 138,
    "start_time": "2021-12-20T13:16:41.765Z"
   },
   {
    "duration": 85,
    "start_time": "2021-12-20T13:16:46.946Z"
   },
   {
    "duration": 107,
    "start_time": "2021-12-20T13:23:56.240Z"
   },
   {
    "duration": 84,
    "start_time": "2021-12-20T13:24:08.573Z"
   },
   {
    "duration": 166,
    "start_time": "2021-12-20T13:24:52.579Z"
   },
   {
    "duration": 86,
    "start_time": "2021-12-20T13:25:09.453Z"
   },
   {
    "duration": 74,
    "start_time": "2021-12-20T13:25:21.273Z"
   },
   {
    "duration": 10,
    "start_time": "2021-12-20T13:25:33.670Z"
   },
   {
    "duration": 75,
    "start_time": "2021-12-20T13:25:44.067Z"
   },
   {
    "duration": 70,
    "start_time": "2021-12-20T13:31:24.700Z"
   },
   {
    "duration": 87,
    "start_time": "2021-12-20T13:31:31.637Z"
   },
   {
    "duration": 81,
    "start_time": "2021-12-20T13:31:38.118Z"
   },
   {
    "duration": 93,
    "start_time": "2021-12-20T13:31:58.081Z"
   },
   {
    "duration": 344,
    "start_time": "2021-12-20T13:32:04.467Z"
   },
   {
    "duration": 354,
    "start_time": "2021-12-20T13:32:15.668Z"
   },
   {
    "duration": 370,
    "start_time": "2021-12-20T13:32:28.809Z"
   },
   {
    "duration": 329,
    "start_time": "2021-12-20T13:32:40.562Z"
   },
   {
    "duration": 81,
    "start_time": "2021-12-20T13:35:33.012Z"
   },
   {
    "duration": 74,
    "start_time": "2021-12-20T13:36:22.278Z"
   },
   {
    "duration": 365,
    "start_time": "2021-12-20T13:40:02.651Z"
   },
   {
    "duration": 581,
    "start_time": "2021-12-20T13:40:49.453Z"
   },
   {
    "duration": 948,
    "start_time": "2021-12-20T13:41:03.816Z"
   },
   {
    "duration": 5,
    "start_time": "2021-12-20T13:42:22.005Z"
   },
   {
    "duration": 913,
    "start_time": "2021-12-22T08:47:05.327Z"
   },
   {
    "duration": 115,
    "start_time": "2021-12-22T08:47:06.243Z"
   },
   {
    "duration": 28,
    "start_time": "2021-12-22T08:47:06.361Z"
   },
   {
    "duration": 16,
    "start_time": "2021-12-22T08:47:06.392Z"
   },
   {
    "duration": 18,
    "start_time": "2021-12-22T08:47:06.411Z"
   },
   {
    "duration": 40,
    "start_time": "2021-12-22T08:47:06.431Z"
   },
   {
    "duration": 17,
    "start_time": "2021-12-22T08:47:06.474Z"
   },
   {
    "duration": 435,
    "start_time": "2021-12-22T08:47:06.495Z"
   },
   {
    "duration": -95,
    "start_time": "2021-12-22T08:47:07.029Z"
   },
   {
    "duration": -95,
    "start_time": "2021-12-22T08:47:07.031Z"
   },
   {
    "duration": 371,
    "start_time": "2021-12-22T08:50:12.831Z"
   },
   {
    "duration": 123,
    "start_time": "2021-12-22T08:51:25.228Z"
   },
   {
    "duration": 132,
    "start_time": "2021-12-22T08:51:37.389Z"
   },
   {
    "duration": 113,
    "start_time": "2021-12-22T08:54:01.553Z"
   },
   {
    "duration": 133,
    "start_time": "2021-12-22T08:54:14.460Z"
   },
   {
    "duration": 347,
    "start_time": "2021-12-22T08:54:28.464Z"
   },
   {
    "duration": 372,
    "start_time": "2021-12-22T08:54:46.871Z"
   },
   {
    "duration": 365,
    "start_time": "2021-12-22T08:54:55.886Z"
   },
   {
    "duration": 104,
    "start_time": "2021-12-22T08:55:00.639Z"
   },
   {
    "duration": 13,
    "start_time": "2021-12-22T08:55:56.353Z"
   },
   {
    "duration": 121,
    "start_time": "2021-12-22T08:57:22.333Z"
   },
   {
    "duration": 121,
    "start_time": "2021-12-22T08:58:09.744Z"
   },
   {
    "duration": 116,
    "start_time": "2021-12-22T09:01:49.712Z"
   },
   {
    "duration": 357,
    "start_time": "2021-12-22T09:02:01.699Z"
   },
   {
    "duration": 351,
    "start_time": "2021-12-22T09:02:20.278Z"
   },
   {
    "duration": 341,
    "start_time": "2021-12-22T09:03:11.151Z"
   },
   {
    "duration": 435,
    "start_time": "2021-12-22T09:03:19.214Z"
   },
   {
    "duration": 14,
    "start_time": "2021-12-22T09:03:35.227Z"
   },
   {
    "duration": 106,
    "start_time": "2021-12-22T09:28:00.281Z"
   },
   {
    "duration": 13,
    "start_time": "2021-12-22T09:28:15.328Z"
   },
   {
    "duration": 17,
    "start_time": "2021-12-22T09:28:36.399Z"
   },
   {
    "duration": 3,
    "start_time": "2021-12-22T09:42:12.955Z"
   },
   {
    "duration": 631,
    "start_time": "2021-12-22T09:42:21.777Z"
   },
   {
    "duration": 3,
    "start_time": "2021-12-22T09:42:35.217Z"
   },
   {
    "duration": 427,
    "start_time": "2021-12-22T09:42:37.362Z"
   },
   {
    "duration": 3,
    "start_time": "2021-12-22T09:42:44.956Z"
   },
   {
    "duration": 407,
    "start_time": "2021-12-22T09:42:46.472Z"
   },
   {
    "duration": 4,
    "start_time": "2021-12-22T09:43:14.399Z"
   },
   {
    "duration": 364,
    "start_time": "2021-12-22T09:43:15.719Z"
   },
   {
    "duration": 3,
    "start_time": "2021-12-22T09:44:02.760Z"
   },
   {
    "duration": 477,
    "start_time": "2021-12-22T09:44:04.546Z"
   },
   {
    "duration": 4,
    "start_time": "2021-12-22T09:46:49.821Z"
   },
   {
    "duration": 361,
    "start_time": "2021-12-22T09:46:52.414Z"
   },
   {
    "duration": 3,
    "start_time": "2021-12-22T09:47:16.844Z"
   },
   {
    "duration": 359,
    "start_time": "2021-12-22T09:47:19.020Z"
   },
   {
    "duration": 4,
    "start_time": "2021-12-22T09:47:54.879Z"
   },
   {
    "duration": 371,
    "start_time": "2021-12-22T09:47:56.330Z"
   },
   {
    "duration": 4,
    "start_time": "2021-12-22T09:48:04.744Z"
   },
   {
    "duration": 42,
    "start_time": "2021-12-22T09:48:06.355Z"
   },
   {
    "duration": 3,
    "start_time": "2021-12-22T09:48:20.038Z"
   },
   {
    "duration": 34,
    "start_time": "2021-12-22T09:48:21.474Z"
   },
   {
    "duration": 4,
    "start_time": "2021-12-22T09:49:09.509Z"
   },
   {
    "duration": 583,
    "start_time": "2021-12-22T09:49:10.907Z"
   },
   {
    "duration": 4,
    "start_time": "2021-12-22T09:49:25.069Z"
   },
   {
    "duration": 34,
    "start_time": "2021-12-22T09:49:26.801Z"
   },
   {
    "duration": 18,
    "start_time": "2021-12-22T09:56:16.261Z"
   },
   {
    "duration": 906,
    "start_time": "2021-12-22T09:59:58.039Z"
   },
   {
    "duration": 89,
    "start_time": "2021-12-22T09:59:58.948Z"
   },
   {
    "duration": 28,
    "start_time": "2021-12-22T09:59:59.040Z"
   },
   {
    "duration": 14,
    "start_time": "2021-12-22T09:59:59.071Z"
   },
   {
    "duration": 13,
    "start_time": "2021-12-22T09:59:59.088Z"
   },
   {
    "duration": 16,
    "start_time": "2021-12-22T09:59:59.104Z"
   },
   {
    "duration": 42,
    "start_time": "2021-12-22T09:59:59.123Z"
   },
   {
    "duration": 13,
    "start_time": "2021-12-22T09:59:59.168Z"
   },
   {
    "duration": 3,
    "start_time": "2021-12-22T09:59:59.183Z"
   },
   {
    "duration": 35,
    "start_time": "2021-12-22T09:59:59.188Z"
   },
   {
    "duration": 552,
    "start_time": "2021-12-22T10:23:26.047Z"
   },
   {
    "duration": 1521,
    "start_time": "2021-12-22T10:24:25.165Z"
   },
   {
    "duration": 379,
    "start_time": "2021-12-22T10:25:59.930Z"
   },
   {
    "duration": 78,
    "start_time": "2021-12-22T10:26:41.153Z"
   },
   {
    "duration": 20,
    "start_time": "2021-12-22T10:28:41.904Z"
   },
   {
    "duration": 32,
    "start_time": "2021-12-22T10:29:06.087Z"
   },
   {
    "duration": 18,
    "start_time": "2021-12-22T10:29:15.951Z"
   },
   {
    "duration": 84,
    "start_time": "2021-12-22T10:30:00.040Z"
   },
   {
    "duration": 64,
    "start_time": "2021-12-22T10:30:59.277Z"
   },
   {
    "duration": 10,
    "start_time": "2021-12-22T10:31:18.890Z"
   },
   {
    "duration": 35,
    "start_time": "2021-12-22T10:31:22.416Z"
   },
   {
    "duration": 923,
    "start_time": "2021-12-22T10:32:28.738Z"
   },
   {
    "duration": 84,
    "start_time": "2021-12-22T10:32:29.663Z"
   },
   {
    "duration": 28,
    "start_time": "2021-12-22T10:32:29.750Z"
   },
   {
    "duration": 14,
    "start_time": "2021-12-22T10:32:29.781Z"
   },
   {
    "duration": 14,
    "start_time": "2021-12-22T10:32:29.798Z"
   },
   {
    "duration": 46,
    "start_time": "2021-12-22T10:32:29.815Z"
   },
   {
    "duration": 17,
    "start_time": "2021-12-22T10:32:29.864Z"
   },
   {
    "duration": 12,
    "start_time": "2021-12-22T10:32:29.885Z"
   },
   {
    "duration": 4,
    "start_time": "2021-12-22T10:32:29.900Z"
   },
   {
    "duration": 60,
    "start_time": "2021-12-22T10:32:29.906Z"
   },
   {
    "duration": 107,
    "start_time": "2021-12-22T10:32:29.968Z"
   },
   {
    "duration": 112,
    "start_time": "2021-12-22T10:32:30.077Z"
   },
   {
    "duration": 29,
    "start_time": "2021-12-22T10:32:30.192Z"
   },
   {
    "duration": 46,
    "start_time": "2021-12-22T10:32:30.224Z"
   },
   {
    "duration": 24,
    "start_time": "2021-12-22T10:34:34.725Z"
   },
   {
    "duration": 20,
    "start_time": "2021-12-22T10:34:50.204Z"
   },
   {
    "duration": 18,
    "start_time": "2021-12-22T10:35:10.471Z"
   },
   {
    "duration": 681,
    "start_time": "2021-12-22T10:36:17.696Z"
   },
   {
    "duration": 82,
    "start_time": "2021-12-22T10:36:45.443Z"
   },
   {
    "duration": 377,
    "start_time": "2021-12-22T10:49:50.436Z"
   },
   {
    "duration": 1045,
    "start_time": "2021-12-22T10:50:00.950Z"
   },
   {
    "duration": 348,
    "start_time": "2021-12-22T10:56:01.576Z"
   },
   {
    "duration": 806,
    "start_time": "2021-12-22T10:56:07.895Z"
   },
   {
    "duration": 1033,
    "start_time": "2021-12-22T10:56:14.555Z"
   },
   {
    "duration": 417,
    "start_time": "2021-12-22T10:56:36.283Z"
   },
   {
    "duration": 1060,
    "start_time": "2021-12-22T10:56:43.758Z"
   },
   {
    "duration": 21,
    "start_time": "2021-12-22T11:14:26.686Z"
   },
   {
    "duration": 603,
    "start_time": "2021-12-22T11:15:25.948Z"
   },
   {
    "duration": 407,
    "start_time": "2021-12-22T11:15:56.347Z"
   },
   {
    "duration": 356,
    "start_time": "2021-12-22T11:17:22.367Z"
   },
   {
    "duration": 22,
    "start_time": "2021-12-22T11:17:32.905Z"
   },
   {
    "duration": 21,
    "start_time": "2021-12-22T11:17:49.439Z"
   },
   {
    "duration": 34,
    "start_time": "2021-12-22T11:18:08.926Z"
   },
   {
    "duration": 35,
    "start_time": "2021-12-22T11:18:45.664Z"
   },
   {
    "duration": 378,
    "start_time": "2021-12-22T11:19:10.929Z"
   },
   {
    "duration": 424,
    "start_time": "2021-12-22T11:19:24.576Z"
   },
   {
    "duration": 339,
    "start_time": "2021-12-22T11:19:33.491Z"
   },
   {
    "duration": 36,
    "start_time": "2021-12-22T11:19:43.831Z"
   },
   {
    "duration": 21,
    "start_time": "2021-12-22T11:20:37.372Z"
   },
   {
    "duration": 22,
    "start_time": "2021-12-22T11:20:54.609Z"
   },
   {
    "duration": 4,
    "start_time": "2021-12-22T11:24:40.262Z"
   },
   {
    "duration": 23,
    "start_time": "2021-12-22T11:24:49.482Z"
   },
   {
    "duration": 21,
    "start_time": "2021-12-22T11:25:34.040Z"
   },
   {
    "duration": 19,
    "start_time": "2021-12-22T11:26:38.513Z"
   },
   {
    "duration": 20,
    "start_time": "2021-12-22T11:27:02.116Z"
   },
   {
    "duration": 16,
    "start_time": "2021-12-22T11:27:15.739Z"
   },
   {
    "duration": 385,
    "start_time": "2021-12-22T11:27:29.864Z"
   },
   {
    "duration": 359,
    "start_time": "2021-12-22T11:27:34.935Z"
   },
   {
    "duration": 599,
    "start_time": "2021-12-22T11:27:45.887Z"
   },
   {
    "duration": 17,
    "start_time": "2021-12-22T11:28:02.418Z"
   },
   {
    "duration": 31,
    "start_time": "2021-12-22T11:30:05.853Z"
   },
   {
    "duration": 12,
    "start_time": "2021-12-22T11:30:08.432Z"
   },
   {
    "duration": 330,
    "start_time": "2021-12-22T11:30:11.311Z"
   },
   {
    "duration": 37,
    "start_time": "2021-12-22T11:30:15.703Z"
   },
   {
    "duration": 987,
    "start_time": "2021-12-22T11:30:23.752Z"
   },
   {
    "duration": 93,
    "start_time": "2021-12-22T11:30:24.742Z"
   },
   {
    "duration": 29,
    "start_time": "2021-12-22T11:30:24.839Z"
   },
   {
    "duration": 16,
    "start_time": "2021-12-22T11:30:24.871Z"
   },
   {
    "duration": 17,
    "start_time": "2021-12-22T11:30:24.889Z"
   },
   {
    "duration": 16,
    "start_time": "2021-12-22T11:30:24.908Z"
   },
   {
    "duration": 46,
    "start_time": "2021-12-22T11:30:24.926Z"
   },
   {
    "duration": 13,
    "start_time": "2021-12-22T11:30:24.974Z"
   },
   {
    "duration": 2,
    "start_time": "2021-12-22T11:30:24.991Z"
   },
   {
    "duration": 38,
    "start_time": "2021-12-22T11:30:24.996Z"
   },
   {
    "duration": 32,
    "start_time": "2021-12-22T11:30:25.037Z"
   },
   {
    "duration": 112,
    "start_time": "2021-12-22T11:30:25.072Z"
   },
   {
    "duration": 30,
    "start_time": "2021-12-22T11:30:25.186Z"
   },
   {
    "duration": 50,
    "start_time": "2021-12-22T11:30:25.218Z"
   },
   {
    "duration": 36,
    "start_time": "2021-12-22T11:30:25.270Z"
   },
   {
    "duration": 611,
    "start_time": "2021-12-22T11:35:37.715Z"
   },
   {
    "duration": 35,
    "start_time": "2021-12-22T11:35:42.893Z"
   },
   {
    "duration": 67,
    "start_time": "2021-12-22T11:37:04.215Z"
   },
   {
    "duration": 4,
    "start_time": "2021-12-22T11:54:20.464Z"
   },
   {
    "duration": 360,
    "start_time": "2021-12-22T11:54:27.074Z"
   },
   {
    "duration": 3,
    "start_time": "2021-12-22T11:54:47.486Z"
   },
   {
    "duration": 4,
    "start_time": "2021-12-22T11:54:52.176Z"
   },
   {
    "duration": 4,
    "start_time": "2021-12-22T11:55:36.073Z"
   },
   {
    "duration": 456,
    "start_time": "2021-12-22T11:55:38.602Z"
   },
   {
    "duration": 3,
    "start_time": "2021-12-22T11:56:08.885Z"
   },
   {
    "duration": 478,
    "start_time": "2021-12-22T11:56:11.052Z"
   },
   {
    "duration": 4,
    "start_time": "2021-12-22T11:56:28.235Z"
   },
   {
    "duration": 371,
    "start_time": "2021-12-22T11:56:29.958Z"
   },
   {
    "duration": 4,
    "start_time": "2021-12-22T11:56:55.041Z"
   },
   {
    "duration": 608,
    "start_time": "2021-12-22T11:56:56.856Z"
   },
   {
    "duration": 3,
    "start_time": "2021-12-22T11:57:21.704Z"
   },
   {
    "duration": 359,
    "start_time": "2021-12-22T11:57:23.163Z"
   },
   {
    "duration": 4,
    "start_time": "2021-12-22T11:57:35.800Z"
   },
   {
    "duration": 31,
    "start_time": "2021-12-22T11:57:37.473Z"
   },
   {
    "duration": 3,
    "start_time": "2021-12-22T11:58:40.154Z"
   },
   {
    "duration": 24,
    "start_time": "2021-12-22T11:58:42.153Z"
   },
   {
    "duration": 3,
    "start_time": "2021-12-22T11:58:58.065Z"
   },
   {
    "duration": 360,
    "start_time": "2021-12-22T11:58:59.757Z"
   },
   {
    "duration": 357,
    "start_time": "2021-12-22T12:11:44.261Z"
   },
   {
    "duration": 21,
    "start_time": "2021-12-22T12:11:57.529Z"
   },
   {
    "duration": 355,
    "start_time": "2021-12-22T12:12:14.044Z"
   },
   {
    "duration": 21,
    "start_time": "2021-12-22T12:12:30.464Z"
   },
   {
    "duration": 22,
    "start_time": "2021-12-22T12:12:50.731Z"
   },
   {
    "duration": 19,
    "start_time": "2021-12-22T12:12:59.867Z"
   },
   {
    "duration": 525,
    "start_time": "2021-12-22T12:13:38.468Z"
   },
   {
    "duration": 373,
    "start_time": "2021-12-22T12:14:12.327Z"
   },
   {
    "duration": 30,
    "start_time": "2021-12-22T12:14:32.721Z"
   },
   {
    "duration": 41,
    "start_time": "2021-12-22T12:15:01.601Z"
   },
   {
    "duration": 17,
    "start_time": "2021-12-22T12:15:06.841Z"
   },
   {
    "duration": 408,
    "start_time": "2021-12-22T12:15:26.341Z"
   },
   {
    "duration": 510,
    "start_time": "2021-12-22T12:15:48.488Z"
   },
   {
    "duration": 27,
    "start_time": "2021-12-22T12:16:09.236Z"
   },
   {
    "duration": 679,
    "start_time": "2021-12-22T12:16:30.392Z"
   },
   {
    "duration": 349,
    "start_time": "2021-12-22T12:16:34.305Z"
   },
   {
    "duration": 28,
    "start_time": "2021-12-22T12:16:47.747Z"
   },
   {
    "duration": 20,
    "start_time": "2021-12-22T12:19:37.953Z"
   },
   {
    "duration": 20,
    "start_time": "2021-12-22T12:20:19.417Z"
   },
   {
    "duration": 19,
    "start_time": "2021-12-22T12:20:46.087Z"
   },
   {
    "duration": 468,
    "start_time": "2021-12-22T12:31:51.662Z"
   },
   {
    "duration": 600,
    "start_time": "2021-12-22T12:32:04.763Z"
   },
   {
    "duration": 20,
    "start_time": "2021-12-22T12:32:13.854Z"
   },
   {
    "duration": 23,
    "start_time": "2021-12-22T12:32:32.921Z"
   },
   {
    "duration": 24,
    "start_time": "2021-12-22T12:32:52.087Z"
   },
   {
    "duration": 24,
    "start_time": "2021-12-22T12:33:17.247Z"
   },
   {
    "duration": 23,
    "start_time": "2021-12-22T12:33:33.454Z"
   },
   {
    "duration": 421,
    "start_time": "2021-12-22T13:13:11.458Z"
   },
   {
    "duration": 430,
    "start_time": "2021-12-22T13:17:01.773Z"
   },
   {
    "duration": 447,
    "start_time": "2021-12-22T13:17:21.550Z"
   },
   {
    "duration": 369,
    "start_time": "2021-12-22T13:17:32.809Z"
   },
   {
    "duration": 144,
    "start_time": "2021-12-22T13:18:02.916Z"
   },
   {
    "duration": 44,
    "start_time": "2021-12-22T13:19:11.497Z"
   },
   {
    "duration": 1224,
    "start_time": "2021-12-22T13:19:26.859Z"
   },
   {
    "duration": 104,
    "start_time": "2021-12-22T13:19:28.087Z"
   },
   {
    "duration": 28,
    "start_time": "2021-12-22T13:19:28.194Z"
   },
   {
    "duration": 14,
    "start_time": "2021-12-22T13:19:28.225Z"
   },
   {
    "duration": 27,
    "start_time": "2021-12-22T13:19:28.241Z"
   },
   {
    "duration": 17,
    "start_time": "2021-12-22T13:19:28.271Z"
   },
   {
    "duration": 15,
    "start_time": "2021-12-22T13:19:28.291Z"
   },
   {
    "duration": 13,
    "start_time": "2021-12-22T13:19:28.310Z"
   },
   {
    "duration": 5,
    "start_time": "2021-12-22T13:19:28.365Z"
   },
   {
    "duration": 44,
    "start_time": "2021-12-22T13:19:28.372Z"
   },
   {
    "duration": 15,
    "start_time": "2021-12-22T13:19:28.418Z"
   },
   {
    "duration": 137,
    "start_time": "2021-12-22T13:19:28.435Z"
   },
   {
    "duration": 32,
    "start_time": "2021-12-22T13:19:28.575Z"
   },
   {
    "duration": 17,
    "start_time": "2021-12-22T13:19:28.609Z"
   },
   {
    "duration": 92,
    "start_time": "2021-12-22T13:19:28.629Z"
   },
   {
    "duration": 51,
    "start_time": "2021-12-22T13:19:28.723Z"
   },
   {
    "duration": 18,
    "start_time": "2021-12-22T13:22:35.738Z"
   },
   {
    "duration": 542,
    "start_time": "2021-12-22T13:45:08.912Z"
   },
   {
    "duration": 21,
    "start_time": "2021-12-22T13:45:40.680Z"
   },
   {
    "duration": 346,
    "start_time": "2021-12-22T13:47:54.404Z"
   },
   {
    "duration": 19,
    "start_time": "2021-12-22T13:48:04.002Z"
   },
   {
    "duration": 34,
    "start_time": "2021-12-22T13:48:41.906Z"
   },
   {
    "duration": 23,
    "start_time": "2021-12-22T13:49:15.209Z"
   },
   {
    "duration": 32,
    "start_time": "2021-12-22T13:49:39.436Z"
   },
   {
    "duration": 7,
    "start_time": "2021-12-22T13:50:02.572Z"
   },
   {
    "duration": 8,
    "start_time": "2021-12-22T13:51:00.242Z"
   },
   {
    "duration": 20,
    "start_time": "2021-12-22T13:51:04.583Z"
   },
   {
    "duration": 29,
    "start_time": "2021-12-22T13:52:08.604Z"
   },
   {
    "duration": 31,
    "start_time": "2021-12-22T13:52:34.612Z"
   },
   {
    "duration": 13,
    "start_time": "2021-12-22T13:52:53.205Z"
   },
   {
    "duration": 12,
    "start_time": "2021-12-22T13:52:57.037Z"
   },
   {
    "duration": 33,
    "start_time": "2021-12-22T13:53:24.218Z"
   },
   {
    "duration": 40,
    "start_time": "2021-12-22T13:55:32.280Z"
   },
   {
    "duration": 11,
    "start_time": "2021-12-22T13:55:43.964Z"
   },
   {
    "duration": 5,
    "start_time": "2021-12-22T13:56:01.695Z"
   },
   {
    "duration": 7,
    "start_time": "2021-12-22T13:56:07.803Z"
   },
   {
    "duration": 872,
    "start_time": "2021-12-22T14:11:52.206Z"
   },
   {
    "duration": 82,
    "start_time": "2021-12-22T14:11:53.081Z"
   },
   {
    "duration": 27,
    "start_time": "2021-12-22T14:11:53.166Z"
   },
   {
    "duration": 14,
    "start_time": "2021-12-22T14:11:53.195Z"
   },
   {
    "duration": 13,
    "start_time": "2021-12-22T14:11:53.212Z"
   },
   {
    "duration": 38,
    "start_time": "2021-12-22T14:11:53.228Z"
   },
   {
    "duration": 17,
    "start_time": "2021-12-22T14:11:53.268Z"
   },
   {
    "duration": 15,
    "start_time": "2021-12-22T14:11:53.288Z"
   },
   {
    "duration": 4,
    "start_time": "2021-12-22T14:11:53.307Z"
   },
   {
    "duration": 63,
    "start_time": "2021-12-22T14:11:53.314Z"
   },
   {
    "duration": 15,
    "start_time": "2021-12-22T14:11:53.380Z"
   },
   {
    "duration": 19,
    "start_time": "2021-12-22T14:11:53.397Z"
   },
   {
    "duration": 40,
    "start_time": "2021-12-22T14:11:53.419Z"
   },
   {
    "duration": 903,
    "start_time": "2021-12-22T18:12:23.400Z"
   },
   {
    "duration": 93,
    "start_time": "2021-12-22T18:12:24.305Z"
   },
   {
    "duration": 27,
    "start_time": "2021-12-22T18:12:24.401Z"
   },
   {
    "duration": 27,
    "start_time": "2021-12-22T18:12:24.432Z"
   },
   {
    "duration": 15,
    "start_time": "2021-12-22T18:12:24.461Z"
   },
   {
    "duration": 16,
    "start_time": "2021-12-22T18:12:24.479Z"
   },
   {
    "duration": 16,
    "start_time": "2021-12-22T18:12:24.498Z"
   },
   {
    "duration": 46,
    "start_time": "2021-12-22T18:12:24.517Z"
   },
   {
    "duration": 3,
    "start_time": "2021-12-22T18:12:24.565Z"
   },
   {
    "duration": 59,
    "start_time": "2021-12-22T18:12:24.570Z"
   },
   {
    "duration": 39,
    "start_time": "2021-12-22T18:12:24.632Z"
   },
   {
    "duration": 1473,
    "start_time": "2021-12-22T18:12:24.674Z"
   },
   {
    "duration": -191,
    "start_time": "2021-12-22T18:12:26.341Z"
   },
   {
    "duration": 21,
    "start_time": "2021-12-22T18:12:52.583Z"
   },
   {
    "duration": 20,
    "start_time": "2021-12-22T18:13:28.026Z"
   },
   {
    "duration": 21,
    "start_time": "2021-12-22T18:14:07.981Z"
   },
   {
    "duration": 20,
    "start_time": "2021-12-22T18:14:23.127Z"
   },
   {
    "duration": 892,
    "start_time": "2021-12-22T18:32:21.486Z"
   },
   {
    "duration": 95,
    "start_time": "2021-12-22T18:32:22.380Z"
   },
   {
    "duration": 31,
    "start_time": "2021-12-22T18:32:22.479Z"
   },
   {
    "duration": 15,
    "start_time": "2021-12-22T18:32:22.512Z"
   },
   {
    "duration": 31,
    "start_time": "2021-12-22T18:32:22.530Z"
   },
   {
    "duration": 18,
    "start_time": "2021-12-22T18:32:22.563Z"
   },
   {
    "duration": 17,
    "start_time": "2021-12-22T18:32:22.583Z"
   },
   {
    "duration": 15,
    "start_time": "2021-12-22T18:32:22.603Z"
   },
   {
    "duration": 3,
    "start_time": "2021-12-22T18:32:22.620Z"
   },
   {
    "duration": 65,
    "start_time": "2021-12-22T18:32:22.626Z"
   },
   {
    "duration": 15,
    "start_time": "2021-12-22T18:32:22.694Z"
   },
   {
    "duration": 19,
    "start_time": "2021-12-22T18:32:22.712Z"
   },
   {
    "duration": 40,
    "start_time": "2021-12-22T18:32:22.733Z"
   },
   {
    "duration": 442,
    "start_time": "2021-12-22T18:35:36.245Z"
   },
   {
    "duration": 984,
    "start_time": "2021-12-22T18:35:41.670Z"
   },
   {
    "duration": 90,
    "start_time": "2021-12-22T18:35:42.656Z"
   },
   {
    "duration": 30,
    "start_time": "2021-12-22T18:35:42.749Z"
   },
   {
    "duration": 14,
    "start_time": "2021-12-22T18:35:42.782Z"
   },
   {
    "duration": 14,
    "start_time": "2021-12-22T18:35:42.799Z"
   },
   {
    "duration": 18,
    "start_time": "2021-12-22T18:35:42.815Z"
   },
   {
    "duration": 16,
    "start_time": "2021-12-22T18:35:42.859Z"
   },
   {
    "duration": 14,
    "start_time": "2021-12-22T18:35:42.878Z"
   },
   {
    "duration": 4,
    "start_time": "2021-12-22T18:35:42.894Z"
   },
   {
    "duration": 34,
    "start_time": "2021-12-22T18:35:42.900Z"
   },
   {
    "duration": 36,
    "start_time": "2021-12-22T18:35:42.936Z"
   },
   {
    "duration": 18,
    "start_time": "2021-12-22T18:35:42.974Z"
   },
   {
    "duration": 15,
    "start_time": "2021-12-22T18:35:42.994Z"
   },
   {
    "duration": 3,
    "start_time": "2021-12-22T18:35:59.784Z"
   },
   {
    "duration": 39,
    "start_time": "2021-12-22T18:36:02.728Z"
   },
   {
    "duration": 14,
    "start_time": "2021-12-22T18:36:24.271Z"
   },
   {
    "duration": 16,
    "start_time": "2021-12-22T18:36:26.544Z"
   },
   {
    "duration": 29,
    "start_time": "2021-12-22T18:36:33.897Z"
   },
   {
    "duration": 16,
    "start_time": "2021-12-22T18:36:36.636Z"
   },
   {
    "duration": 856,
    "start_time": "2021-12-22T18:36:56.756Z"
   },
   {
    "duration": 90,
    "start_time": "2021-12-22T18:36:57.615Z"
   },
   {
    "duration": 27,
    "start_time": "2021-12-22T18:36:57.711Z"
   },
   {
    "duration": 19,
    "start_time": "2021-12-22T18:36:57.740Z"
   },
   {
    "duration": 15,
    "start_time": "2021-12-22T18:36:57.761Z"
   },
   {
    "duration": 24,
    "start_time": "2021-12-22T18:36:57.779Z"
   },
   {
    "duration": 15,
    "start_time": "2021-12-22T18:36:57.807Z"
   },
   {
    "duration": 36,
    "start_time": "2021-12-22T18:36:57.825Z"
   },
   {
    "duration": 4,
    "start_time": "2021-12-22T18:36:57.863Z"
   },
   {
    "duration": 36,
    "start_time": "2021-12-22T18:36:57.869Z"
   },
   {
    "duration": 14,
    "start_time": "2021-12-22T18:36:57.907Z"
   },
   {
    "duration": 36,
    "start_time": "2021-12-22T18:36:57.923Z"
   },
   {
    "duration": 17,
    "start_time": "2021-12-22T18:36:57.962Z"
   },
   {
    "duration": 955,
    "start_time": "2021-12-22T18:38:38.325Z"
   },
   {
    "duration": 84,
    "start_time": "2021-12-22T18:38:39.283Z"
   },
   {
    "duration": 27,
    "start_time": "2021-12-22T18:38:39.370Z"
   },
   {
    "duration": 14,
    "start_time": "2021-12-22T18:38:39.399Z"
   },
   {
    "duration": 15,
    "start_time": "2021-12-22T18:38:39.415Z"
   },
   {
    "duration": 44,
    "start_time": "2021-12-22T18:38:39.433Z"
   },
   {
    "duration": 16,
    "start_time": "2021-12-22T18:38:39.480Z"
   },
   {
    "duration": 12,
    "start_time": "2021-12-22T18:38:39.501Z"
   },
   {
    "duration": 4,
    "start_time": "2021-12-22T18:38:39.516Z"
   },
   {
    "duration": 71,
    "start_time": "2021-12-22T18:38:39.523Z"
   },
   {
    "duration": 14,
    "start_time": "2021-12-22T18:38:39.597Z"
   },
   {
    "duration": 18,
    "start_time": "2021-12-22T18:38:39.613Z"
   },
   {
    "duration": 14,
    "start_time": "2021-12-22T18:38:39.633Z"
   },
   {
    "duration": 920,
    "start_time": "2021-12-23T08:28:00.259Z"
   },
   {
    "duration": 509,
    "start_time": "2021-12-23T08:28:01.182Z"
   },
   {
    "duration": 77,
    "start_time": "2021-12-23T08:28:01.694Z"
   },
   {
    "duration": 62,
    "start_time": "2021-12-23T08:28:01.773Z"
   },
   {
    "duration": 62,
    "start_time": "2021-12-23T08:28:01.837Z"
   },
   {
    "duration": 63,
    "start_time": "2021-12-23T08:28:01.901Z"
   },
   {
    "duration": 63,
    "start_time": "2021-12-23T08:28:01.966Z"
   },
   {
    "duration": 62,
    "start_time": "2021-12-23T08:28:02.032Z"
   },
   {
    "duration": 23,
    "start_time": "2021-12-23T08:28:02.096Z"
   },
   {
    "duration": 93,
    "start_time": "2021-12-23T08:28:02.121Z"
   },
   {
    "duration": 63,
    "start_time": "2021-12-23T08:28:02.216Z"
   },
   {
    "duration": 68,
    "start_time": "2021-12-23T08:28:02.281Z"
   },
   {
    "duration": 64,
    "start_time": "2021-12-23T08:28:02.351Z"
   },
   {
    "duration": 96,
    "start_time": "2021-12-23T09:19:39.169Z"
   },
   {
    "duration": 98,
    "start_time": "2021-12-23T09:25:59.124Z"
   },
   {
    "duration": 98,
    "start_time": "2021-12-23T09:26:08.607Z"
   },
   {
    "duration": 481,
    "start_time": "2021-12-23T09:30:34.540Z"
   },
   {
    "duration": 98,
    "start_time": "2021-12-23T09:48:09.517Z"
   },
   {
    "duration": 92,
    "start_time": "2021-12-23T09:48:55.592Z"
   },
   {
    "duration": 92,
    "start_time": "2021-12-23T09:50:39.444Z"
   },
   {
    "duration": 93,
    "start_time": "2021-12-23T09:51:44.814Z"
   },
   {
    "duration": 95,
    "start_time": "2021-12-23T09:52:20.855Z"
   },
   {
    "duration": 1019,
    "start_time": "2021-12-23T12:41:56.653Z"
   },
   {
    "duration": 596,
    "start_time": "2021-12-23T12:41:57.675Z"
   },
   {
    "duration": 120,
    "start_time": "2021-12-23T12:41:58.278Z"
   },
   {
    "duration": 72,
    "start_time": "2021-12-23T12:41:58.404Z"
   },
   {
    "duration": 70,
    "start_time": "2021-12-23T12:41:58.479Z"
   },
   {
    "duration": 75,
    "start_time": "2021-12-23T12:41:58.552Z"
   },
   {
    "duration": 71,
    "start_time": "2021-12-23T12:41:58.631Z"
   },
   {
    "duration": 68,
    "start_time": "2021-12-23T12:41:58.707Z"
   },
   {
    "duration": 92,
    "start_time": "2021-12-23T12:41:58.778Z"
   },
   {
    "duration": 70,
    "start_time": "2021-12-23T12:41:58.873Z"
   },
   {
    "duration": 78,
    "start_time": "2021-12-23T12:41:58.945Z"
   },
   {
    "duration": 72,
    "start_time": "2021-12-23T12:41:59.026Z"
   },
   {
    "duration": 75,
    "start_time": "2021-12-23T12:49:08.505Z"
   },
   {
    "duration": 74,
    "start_time": "2021-12-23T12:49:14.277Z"
   },
   {
    "duration": 185,
    "start_time": "2021-12-23T13:03:01.095Z"
   },
   {
    "duration": 136,
    "start_time": "2021-12-23T13:03:03.690Z"
   },
   {
    "duration": 130,
    "start_time": "2021-12-23T13:03:11.465Z"
   },
   {
    "duration": 623,
    "start_time": "2021-12-23T13:03:15.694Z"
   },
   {
    "duration": 592,
    "start_time": "2021-12-23T13:03:16.319Z"
   },
   {
    "duration": 84,
    "start_time": "2021-12-23T13:03:16.913Z"
   },
   {
    "duration": 6,
    "start_time": "2021-12-23T13:03:16.999Z"
   },
   {
    "duration": 74,
    "start_time": "2021-12-23T13:03:17.007Z"
   },
   {
    "duration": 73,
    "start_time": "2021-12-23T13:03:17.083Z"
   },
   {
    "duration": 72,
    "start_time": "2021-12-23T13:03:17.158Z"
   },
   {
    "duration": 74,
    "start_time": "2021-12-23T13:03:17.232Z"
   },
   {
    "duration": 72,
    "start_time": "2021-12-23T13:03:17.308Z"
   },
   {
    "duration": 90,
    "start_time": "2021-12-23T13:03:17.382Z"
   },
   {
    "duration": 74,
    "start_time": "2021-12-23T13:03:17.473Z"
   },
   {
    "duration": 76,
    "start_time": "2021-12-23T13:03:17.548Z"
   },
   {
    "duration": 75,
    "start_time": "2021-12-23T13:03:17.626Z"
   },
   {
    "duration": 73,
    "start_time": "2021-12-23T13:03:34.816Z"
   },
   {
    "duration": 6,
    "start_time": "2021-12-23T13:03:42.647Z"
   },
   {
    "duration": 72,
    "start_time": "2021-12-23T13:03:51.328Z"
   },
   {
    "duration": 6,
    "start_time": "2021-12-23T13:03:56.703Z"
   },
   {
    "duration": 73,
    "start_time": "2021-12-23T13:04:08.520Z"
   },
   {
    "duration": 7,
    "start_time": "2021-12-23T13:04:13.983Z"
   },
   {
    "duration": 74,
    "start_time": "2021-12-23T13:04:23.320Z"
   },
   {
    "duration": 6,
    "start_time": "2021-12-23T13:04:28.007Z"
   },
   {
    "duration": 76,
    "start_time": "2021-12-23T13:07:28.160Z"
   },
   {
    "duration": 107,
    "start_time": "2021-12-23T13:30:07.790Z"
   },
   {
    "duration": 101,
    "start_time": "2021-12-23T13:30:17.512Z"
   },
   {
    "duration": 274,
    "start_time": "2021-12-23T13:53:06.974Z"
   },
   {
    "duration": 80,
    "start_time": "2021-12-23T13:53:18.461Z"
   },
   {
    "duration": 77,
    "start_time": "2021-12-23T13:53:44.591Z"
   },
   {
    "duration": 75,
    "start_time": "2021-12-23T13:54:18.297Z"
   },
   {
    "duration": 206,
    "start_time": "2021-12-23T13:54:49.345Z"
   },
   {
    "duration": 76,
    "start_time": "2021-12-23T13:55:11.942Z"
   },
   {
    "duration": 78,
    "start_time": "2021-12-23T13:55:15.129Z"
   },
   {
    "duration": 214,
    "start_time": "2021-12-23T13:55:25.657Z"
   },
   {
    "duration": 79,
    "start_time": "2021-12-23T13:55:32.709Z"
   },
   {
    "duration": 208,
    "start_time": "2021-12-23T13:56:56.847Z"
   },
   {
    "duration": 79,
    "start_time": "2021-12-23T13:57:00.521Z"
   },
   {
    "duration": 80,
    "start_time": "2021-12-23T13:57:27.883Z"
   },
   {
    "duration": 76,
    "start_time": "2021-12-23T13:58:48.563Z"
   },
   {
    "duration": 75,
    "start_time": "2021-12-23T14:00:04.979Z"
   },
   {
    "duration": 217,
    "start_time": "2021-12-23T14:00:26.863Z"
   },
   {
    "duration": 215,
    "start_time": "2021-12-23T14:00:40.246Z"
   },
   {
    "duration": 202,
    "start_time": "2021-12-23T14:00:45.402Z"
   },
   {
    "duration": 77,
    "start_time": "2021-12-23T14:00:51.104Z"
   },
   {
    "duration": 344,
    "start_time": "2021-12-23T14:05:46.845Z"
   },
   {
    "duration": 239,
    "start_time": "2021-12-23T14:07:58.529Z"
   },
   {
    "duration": 201,
    "start_time": "2021-12-23T14:08:26.184Z"
   },
   {
    "duration": 77,
    "start_time": "2021-12-23T14:09:08.113Z"
   },
   {
    "duration": 76,
    "start_time": "2021-12-23T14:09:34.404Z"
   },
   {
    "duration": 76,
    "start_time": "2021-12-23T14:12:00.287Z"
   },
   {
    "duration": 653,
    "start_time": "2021-12-23T14:15:00.093Z"
   },
   {
    "duration": 602,
    "start_time": "2021-12-23T14:15:00.748Z"
   },
   {
    "duration": 81,
    "start_time": "2021-12-23T14:15:01.352Z"
   },
   {
    "duration": 6,
    "start_time": "2021-12-23T14:15:01.435Z"
   },
   {
    "duration": 95,
    "start_time": "2021-12-23T14:15:01.443Z"
   },
   {
    "duration": 5,
    "start_time": "2021-12-23T14:15:01.540Z"
   },
   {
    "duration": 85,
    "start_time": "2021-12-23T14:15:01.547Z"
   },
   {
    "duration": 5,
    "start_time": "2021-12-23T14:15:01.634Z"
   },
   {
    "duration": 86,
    "start_time": "2021-12-23T14:15:01.641Z"
   },
   {
    "duration": 6,
    "start_time": "2021-12-23T14:15:01.729Z"
   },
   {
    "duration": 90,
    "start_time": "2021-12-23T14:15:01.736Z"
   },
   {
    "duration": 6,
    "start_time": "2021-12-23T14:15:01.828Z"
   },
   {
    "duration": 79,
    "start_time": "2021-12-23T14:15:01.835Z"
   },
   {
    "duration": 89,
    "start_time": "2021-12-23T14:15:01.916Z"
   },
   {
    "duration": 74,
    "start_time": "2021-12-23T14:15:02.007Z"
   },
   {
    "duration": 78,
    "start_time": "2021-12-23T14:15:02.083Z"
   },
   {
    "duration": 75,
    "start_time": "2021-12-23T14:15:02.162Z"
   }
  ],
  "kernelspec": {
   "display_name": "Python 3 (ipykernel)",
   "language": "python",
   "name": "python3"
  },
  "language_info": {
   "codemirror_mode": {
    "name": "ipython",
    "version": 3
   },
   "file_extension": ".py",
   "mimetype": "text/x-python",
   "name": "python",
   "nbconvert_exporter": "python",
   "pygments_lexer": "ipython3",
   "version": "3.9.5"
  },
  "toc": {
   "base_numbering": 1,
   "nav_menu": {},
   "number_sections": true,
   "sideBar": true,
   "skip_h1_title": true,
   "title_cell": "Table of Contents",
   "title_sidebar": "Финальный проект: SQL",
   "toc_cell": false,
   "toc_position": {
    "height": "calc(100% - 180px)",
    "left": "10px",
    "top": "150px",
    "width": "165px"
   },
   "toc_section_display": true,
   "toc_window_display": true
  }
 },
 "nbformat": 4,
 "nbformat_minor": 2
}
