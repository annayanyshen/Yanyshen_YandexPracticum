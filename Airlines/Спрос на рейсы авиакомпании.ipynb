{
 "cells": [
  {
   "cell_type": "markdown",
   "metadata": {
    "toc": true
   },
   "source": [
    "<h1>Содержание<span class=\"tocSkip\"></span></h1>\n",
    "<div class=\"toc\"><ul class=\"toc-item\"><li><span><a href=\"#Описание-проекта\" data-toc-modified-id=\"Описание-проекта-1\"><span class=\"toc-item-num\">1&nbsp;&nbsp;</span>Описание проекта</a></span></li><li><span><a href=\"#Загрузка-и-предобработка-данных\" data-toc-modified-id=\"Загрузка-и-предобработка-данных-2\"><span class=\"toc-item-num\">2&nbsp;&nbsp;</span>Загрузка и предобработка данных</a></span></li><li><span><a href=\"#Топ-10-городов-по-количеству-рейсов\" data-toc-modified-id=\"Топ-10-городов-по-количеству-рейсов-3\"><span class=\"toc-item-num\">3&nbsp;&nbsp;</span>Топ-10 городов по количеству рейсов</a></span></li><li><span><a href=\"#Распределение-числа-полетов-по-моделям-самолетов\" data-toc-modified-id=\"Распределение-числа-полетов-по-моделям-самолетов-4\"><span class=\"toc-item-num\">4&nbsp;&nbsp;</span>Распределение числа полетов по моделям самолетов</a></span></li><li><span><a href=\"#Визуализация-числа-рейсов-по-городам\" data-toc-modified-id=\"Визуализация-числа-рейсов-по-городам-5\"><span class=\"toc-item-num\">5&nbsp;&nbsp;</span>Визуализация числа рейсов по городам</a></span></li><li><span><a href=\"#Визуализация-топ-10-городов-по-среднему-количеству-рейсов-в-день\" data-toc-modified-id=\"Визуализация-топ-10-городов-по-среднему-количеству-рейсов-в-день-6\"><span class=\"toc-item-num\">6&nbsp;&nbsp;</span>Визуализация топ-10 городов по среднему количеству рейсов в день</a></span></li><li><span><a href=\"#Вывод\" data-toc-modified-id=\"Вывод-7\"><span class=\"toc-item-num\">7&nbsp;&nbsp;</span>Вывод</a></span></li><li><span><a href=\"#Чек-лист-готовности-проекта\" data-toc-modified-id=\"Чек-лист-готовности-проекта-8\"><span class=\"toc-item-num\">8&nbsp;&nbsp;</span>Чек-лист готовности проекта</a></span></li></ul></div>"
   ]
  },
  {
   "cell_type": "markdown",
   "metadata": {},
   "source": [
    "# Аналитика в авиакомпании"
   ]
  },
  {
   "cell_type": "markdown",
   "metadata": {},
   "source": [
    "## Описание проекта"
   ]
  },
  {
   "cell_type": "markdown",
   "metadata": {},
   "source": [
    "Аналитику предоставлены данные от российской авиакомпании, выполняющей внутренние пассажирские авиаперевозки. \n",
    "\n",
    "Задача аналитика заключается в исследовании спроса пассажиров на рейсы в города, где проходят крупнейшие фестивали. \n",
    "\n",
    "Предыдущий этап работы включал в себя построение SQL-запросов о количестве рейсов в определенные даты, на определенных моделях самолетов и прибывающие в указанные города, а также были подготовлены данные о количестве рейсов в города во время фестивалей."
   ]
  },
  {
   "cell_type": "markdown",
   "metadata": {},
   "source": [
    "Датасеты содержат результаты запросов с предыдущего этапа работы. \n",
    "\n",
    "/datasets/query_1.csv — результат первого запроса. Содержит информацию о model — модели самолета и flights_amount — количестве рейсов для каждой модели самолетов model в сентябре 2018 года.\n",
    "\n",
    "/datasets/query_3.csv — результат третьего запроса. Содержит информацию о city — городах и average_flights — среднем количестве рейсов, прибывающих в город city за день в августе 2018 года."
   ]
  },
  {
   "cell_type": "markdown",
   "metadata": {},
   "source": [
    "## Загрузка и предобработка данных"
   ]
  },
  {
   "cell_type": "code",
   "execution_count": 1,
   "metadata": {},
   "outputs": [
    {
     "data": {
      "text/html": [
       "<div>\n",
       "<style scoped>\n",
       "    .dataframe tbody tr th:only-of-type {\n",
       "        vertical-align: middle;\n",
       "    }\n",
       "\n",
       "    .dataframe tbody tr th {\n",
       "        vertical-align: top;\n",
       "    }\n",
       "\n",
       "    .dataframe thead th {\n",
       "        text-align: right;\n",
       "    }\n",
       "</style>\n",
       "<table border=\"1\" class=\"dataframe\">\n",
       "  <thead>\n",
       "    <tr style=\"text-align: right;\">\n",
       "      <th></th>\n",
       "      <th>model</th>\n",
       "      <th>flights_amount</th>\n",
       "    </tr>\n",
       "  </thead>\n",
       "  <tbody>\n",
       "    <tr>\n",
       "      <th>0</th>\n",
       "      <td>Airbus A319-100</td>\n",
       "      <td>607</td>\n",
       "    </tr>\n",
       "    <tr>\n",
       "      <th>1</th>\n",
       "      <td>Airbus A321-200</td>\n",
       "      <td>960</td>\n",
       "    </tr>\n",
       "    <tr>\n",
       "      <th>2</th>\n",
       "      <td>Boeing 737-300</td>\n",
       "      <td>630</td>\n",
       "    </tr>\n",
       "    <tr>\n",
       "      <th>3</th>\n",
       "      <td>Boeing 767-300</td>\n",
       "      <td>600</td>\n",
       "    </tr>\n",
       "    <tr>\n",
       "      <th>4</th>\n",
       "      <td>Boeing 777-300</td>\n",
       "      <td>300</td>\n",
       "    </tr>\n",
       "    <tr>\n",
       "      <th>5</th>\n",
       "      <td>Bombardier CRJ-200</td>\n",
       "      <td>4446</td>\n",
       "    </tr>\n",
       "    <tr>\n",
       "      <th>6</th>\n",
       "      <td>Cessna 208 Caravan</td>\n",
       "      <td>4557</td>\n",
       "    </tr>\n",
       "    <tr>\n",
       "      <th>7</th>\n",
       "      <td>Sukhoi SuperJet-100</td>\n",
       "      <td>4185</td>\n",
       "    </tr>\n",
       "  </tbody>\n",
       "</table>\n",
       "</div>"
      ],
      "text/plain": [
       "                 model  flights_amount\n",
       "0      Airbus A319-100             607\n",
       "1      Airbus A321-200             960\n",
       "2       Boeing 737-300             630\n",
       "3       Boeing 767-300             600\n",
       "4       Boeing 777-300             300\n",
       "5   Bombardier CRJ-200            4446\n",
       "6   Cessna 208 Caravan            4557\n",
       "7  Sukhoi SuperJet-100            4185"
      ]
     },
     "execution_count": 1,
     "metadata": {},
     "output_type": "execute_result"
    }
   ],
   "source": [
    "import pandas as pd\n",
    "import matplotlib.pyplot as plt\n",
    "import seaborn as sns\n",
    "model_flights = pd.read_csv('/datasets/query_1.csv')\n",
    "model_flights"
   ]
  },
  {
   "cell_type": "code",
   "execution_count": 2,
   "metadata": {},
   "outputs": [
    {
     "data": {
      "text/html": [
       "<div>\n",
       "<style scoped>\n",
       "    .dataframe tbody tr th:only-of-type {\n",
       "        vertical-align: middle;\n",
       "    }\n",
       "\n",
       "    .dataframe tbody tr th {\n",
       "        vertical-align: top;\n",
       "    }\n",
       "\n",
       "    .dataframe thead th {\n",
       "        text-align: right;\n",
       "    }\n",
       "</style>\n",
       "<table border=\"1\" class=\"dataframe\">\n",
       "  <thead>\n",
       "    <tr style=\"text-align: right;\">\n",
       "      <th></th>\n",
       "      <th>city</th>\n",
       "      <th>average_flights</th>\n",
       "    </tr>\n",
       "  </thead>\n",
       "  <tbody>\n",
       "    <tr>\n",
       "      <th>0</th>\n",
       "      <td>Абакан</td>\n",
       "      <td>3.870968</td>\n",
       "    </tr>\n",
       "    <tr>\n",
       "      <th>1</th>\n",
       "      <td>Анадырь</td>\n",
       "      <td>1.000000</td>\n",
       "    </tr>\n",
       "    <tr>\n",
       "      <th>2</th>\n",
       "      <td>Анапа</td>\n",
       "      <td>2.161290</td>\n",
       "    </tr>\n",
       "    <tr>\n",
       "      <th>3</th>\n",
       "      <td>Архангельск</td>\n",
       "      <td>5.354839</td>\n",
       "    </tr>\n",
       "    <tr>\n",
       "      <th>4</th>\n",
       "      <td>Астрахань</td>\n",
       "      <td>2.451613</td>\n",
       "    </tr>\n",
       "    <tr>\n",
       "      <th>...</th>\n",
       "      <td>...</td>\n",
       "      <td>...</td>\n",
       "    </tr>\n",
       "    <tr>\n",
       "      <th>96</th>\n",
       "      <td>Чита</td>\n",
       "      <td>1.580645</td>\n",
       "    </tr>\n",
       "    <tr>\n",
       "      <th>97</th>\n",
       "      <td>Элиста</td>\n",
       "      <td>4.870968</td>\n",
       "    </tr>\n",
       "    <tr>\n",
       "      <th>98</th>\n",
       "      <td>Южно-Сахалинск</td>\n",
       "      <td>4.290323</td>\n",
       "    </tr>\n",
       "    <tr>\n",
       "      <th>99</th>\n",
       "      <td>Якутск</td>\n",
       "      <td>2.741935</td>\n",
       "    </tr>\n",
       "    <tr>\n",
       "      <th>100</th>\n",
       "      <td>Ярославль</td>\n",
       "      <td>1.322581</td>\n",
       "    </tr>\n",
       "  </tbody>\n",
       "</table>\n",
       "<p>101 rows × 2 columns</p>\n",
       "</div>"
      ],
      "text/plain": [
       "               city  average_flights\n",
       "0            Абакан         3.870968\n",
       "1           Анадырь         1.000000\n",
       "2             Анапа         2.161290\n",
       "3       Архангельск         5.354839\n",
       "4         Астрахань         2.451613\n",
       "..              ...              ...\n",
       "96             Чита         1.580645\n",
       "97           Элиста         4.870968\n",
       "98   Южно-Сахалинск         4.290323\n",
       "99           Якутск         2.741935\n",
       "100       Ярославль         1.322581\n",
       "\n",
       "[101 rows x 2 columns]"
      ]
     },
     "execution_count": 2,
     "metadata": {},
     "output_type": "execute_result"
    }
   ],
   "source": [
    "city_flights = pd.read_csv('/datasets/query_3.csv')\n",
    "city_flights "
   ]
  },
  {
   "cell_type": "code",
   "execution_count": 3,
   "metadata": {
    "scrolled": false
   },
   "outputs": [
    {
     "name": "stdout",
     "output_type": "stream",
     "text": [
      "<class 'pandas.core.frame.DataFrame'>\n",
      "RangeIndex: 8 entries, 0 to 7\n",
      "Data columns (total 2 columns):\n",
      " #   Column          Non-Null Count  Dtype \n",
      "---  ------          --------------  ----- \n",
      " 0   model           8 non-null      object\n",
      " 1   flights_amount  8 non-null      int64 \n",
      "dtypes: int64(1), object(1)\n",
      "memory usage: 256.0+ bytes\n"
     ]
    }
   ],
   "source": [
    "model_flights.info()"
   ]
  },
  {
   "cell_type": "markdown",
   "metadata": {},
   "source": [
    "в таблице о моделях самолетов и количестве рейсов типы данных соответствуют ожиданиям - строковый тип у названий моделей самолетов и целый тип для количества полетов"
   ]
  },
  {
   "cell_type": "code",
   "execution_count": 4,
   "metadata": {},
   "outputs": [
    {
     "data": {
      "text/plain": [
       "model             0\n",
       "flights_amount    0\n",
       "dtype: int64"
      ]
     },
     "execution_count": 4,
     "metadata": {},
     "output_type": "execute_result"
    }
   ],
   "source": [
    "model_flights.isna().sum()"
   ]
  },
  {
   "cell_type": "markdown",
   "metadata": {},
   "source": [
    "проверила на наличие пропусков, их нет"
   ]
  },
  {
   "cell_type": "code",
   "execution_count": 5,
   "metadata": {
    "scrolled": false
   },
   "outputs": [
    {
     "name": "stdout",
     "output_type": "stream",
     "text": [
      "<class 'pandas.core.frame.DataFrame'>\n",
      "RangeIndex: 101 entries, 0 to 100\n",
      "Data columns (total 2 columns):\n",
      " #   Column           Non-Null Count  Dtype  \n",
      "---  ------           --------------  -----  \n",
      " 0   city             101 non-null    object \n",
      " 1   average_flights  101 non-null    float64\n",
      "dtypes: float64(1), object(1)\n",
      "memory usage: 1.7+ KB\n"
     ]
    }
   ],
   "source": [
    "city_flights.info()"
   ]
  },
  {
   "cell_type": "markdown",
   "metadata": {},
   "source": [
    "во второй таблице с названиями городов и средним числом полетов с типами данных тоже все в порядке: города - строковый, среднее число полетов - вещественный, так как есть дробные числа"
   ]
  },
  {
   "cell_type": "code",
   "execution_count": 6,
   "metadata": {},
   "outputs": [
    {
     "data": {
      "text/plain": [
       "city               0\n",
       "average_flights    0\n",
       "dtype: int64"
      ]
     },
     "execution_count": 6,
     "metadata": {},
     "output_type": "execute_result"
    }
   ],
   "source": [
    "city_flights.isna().sum()"
   ]
  },
  {
   "cell_type": "markdown",
   "metadata": {},
   "source": [
    "пропусков во второй таблице тоже нет"
   ]
  },
  {
   "cell_type": "markdown",
   "metadata": {},
   "source": [
    "## Топ-10 городов по количеству рейсов"
   ]
  },
  {
   "cell_type": "code",
   "execution_count": 7,
   "metadata": {},
   "outputs": [
    {
     "data": {
      "text/html": [
       "<div>\n",
       "<style scoped>\n",
       "    .dataframe tbody tr th:only-of-type {\n",
       "        vertical-align: middle;\n",
       "    }\n",
       "\n",
       "    .dataframe tbody tr th {\n",
       "        vertical-align: top;\n",
       "    }\n",
       "\n",
       "    .dataframe thead th {\n",
       "        text-align: right;\n",
       "    }\n",
       "</style>\n",
       "<table border=\"1\" class=\"dataframe\">\n",
       "  <thead>\n",
       "    <tr style=\"text-align: right;\">\n",
       "      <th></th>\n",
       "      <th>city</th>\n",
       "      <th>average_flights</th>\n",
       "    </tr>\n",
       "  </thead>\n",
       "  <tbody>\n",
       "    <tr>\n",
       "      <th>43</th>\n",
       "      <td>Москва</td>\n",
       "      <td>129.774194</td>\n",
       "    </tr>\n",
       "    <tr>\n",
       "      <th>70</th>\n",
       "      <td>Санкт-Петербург</td>\n",
       "      <td>31.161290</td>\n",
       "    </tr>\n",
       "    <tr>\n",
       "      <th>54</th>\n",
       "      <td>Новосибирск</td>\n",
       "      <td>17.322581</td>\n",
       "    </tr>\n",
       "    <tr>\n",
       "      <th>33</th>\n",
       "      <td>Красноярск</td>\n",
       "      <td>11.580645</td>\n",
       "    </tr>\n",
       "    <tr>\n",
       "      <th>20</th>\n",
       "      <td>Екатеринбург</td>\n",
       "      <td>11.322581</td>\n",
       "    </tr>\n",
       "    <tr>\n",
       "      <th>67</th>\n",
       "      <td>Ростов-на-Дону</td>\n",
       "      <td>10.193548</td>\n",
       "    </tr>\n",
       "    <tr>\n",
       "      <th>63</th>\n",
       "      <td>Пермь</td>\n",
       "      <td>10.129032</td>\n",
       "    </tr>\n",
       "    <tr>\n",
       "      <th>10</th>\n",
       "      <td>Брянск</td>\n",
       "      <td>10.000000</td>\n",
       "    </tr>\n",
       "    <tr>\n",
       "      <th>74</th>\n",
       "      <td>Сочи</td>\n",
       "      <td>9.612903</td>\n",
       "    </tr>\n",
       "    <tr>\n",
       "      <th>84</th>\n",
       "      <td>Ульяновск</td>\n",
       "      <td>9.580645</td>\n",
       "    </tr>\n",
       "  </tbody>\n",
       "</table>\n",
       "</div>"
      ],
      "text/plain": [
       "               city  average_flights\n",
       "43           Москва       129.774194\n",
       "70  Санкт-Петербург        31.161290\n",
       "54      Новосибирск        17.322581\n",
       "33       Красноярск        11.580645\n",
       "20     Екатеринбург        11.322581\n",
       "67   Ростов-на-Дону        10.193548\n",
       "63            Пермь        10.129032\n",
       "10           Брянск        10.000000\n",
       "74             Сочи         9.612903\n",
       "84        Ульяновск         9.580645"
      ]
     },
     "execution_count": 7,
     "metadata": {},
     "output_type": "execute_result"
    }
   ],
   "source": [
    "city_flights.sort_values(by = 'average_flights', ascending = False).head(10)"
   ]
  },
  {
   "cell_type": "markdown",
   "metadata": {},
   "source": [
    "вывела список 10 городов с наибольшим числом полетов в среднем "
   ]
  },
  {
   "cell_type": "markdown",
   "metadata": {},
   "source": [
    "## Распределение числа полетов по моделям самолетов"
   ]
  },
  {
   "cell_type": "code",
   "execution_count": 8,
   "metadata": {},
   "outputs": [
    {
     "data": {
      "image/png": "[encoded data removed]",
      "text/plain": [
       "<Figure size 648x360 with 1 Axes>"
      ]
     },
     "metadata": {
      "needs_background": "light"
     },
     "output_type": "display_data"
    }
   ],
   "source": [
    "model_flights.sort_values(by = 'flights_amount', ascending = False).plot(kind = 'bar', figsize = (9, 5), x = 'model')\n",
    "plt.xticks(rotation=45)\n",
    "plt.title('Число полетов для каждой модели самолетов')\n",
    "plt.show()"
   ]
  },
  {
   "cell_type": "markdown",
   "metadata": {},
   "source": [
    "Среди моделей самолетов сильно выделяются три по числу купленных билетов: Cessna 208 Caravan, Bombardier CRJ-200 и Sukhoi SuperJet-100 - свыше 4000 билетов, у остальных - меньше 1000\n",
    "\n",
    "Cамолет Cessna 208 caravan является небольшим одномоторным легким самолетом, который предназначен для непродолжительных полетов, вмещает в себя до 11 пассажиров\n",
    "\n",
    "Bombardier CRJ-200 - небольшой региональный самолет, вместимостью до 50 пассажиров\n",
    "\n",
    "Sukhoi SuperJet-100 - российский самолет, перевозка до 108 пассажиров\n",
    "\n",
    "Остальные самолеты в выборке - аэробусы и боинги, которые являются более вместимыми. \n",
    "Так как данные у нас о российской авиакомпании, выполняющей внутренние рейсы, получается, что гораздо чаще внутри страны летают самолеты небольшой вместимости, ведь 77% данных о полетах приходится на регионы (не Москву), значит, пассажиропоток небольшой и нет необходимости ставить на рейсы самолеты большой вместимости, плюс они дороже в эксплуатации и обслуживании. "
   ]
  },
  {
   "cell_type": "markdown",
   "metadata": {},
   "source": [
    "## Визуализация числа рейсов по городам"
   ]
  },
  {
   "cell_type": "code",
   "execution_count": 9,
   "metadata": {
    "scrolled": false
   },
   "outputs": [
    {
     "data": {
      "image/png": "[encoded data removed]",
      "text/plain": [
       "<Figure size 1080x2520 with 1 Axes>"
      ]
     },
     "metadata": {
      "needs_background": "light"
     },
     "output_type": "display_data"
    }
   ],
   "source": [
    "city_flights.sort_values(by = 'average_flights').plot(kind = 'barh', figsize = (15, 35), x = 'city')\n",
    "plt.show()"
   ]
  },
  {
   "cell_type": "markdown",
   "metadata": {},
   "source": [
    "Для отображения распределения числа рейсов по городам выбрала столбчатую горизонтальную диаграмму, предвариетльно отсортировав данные по среднему количеству прибывших рейсов в город. Как и ожидается, сильно выделяется среднее число рейсов, прибывающих в Москву - почти четверть от всех данных, Санкт-Петербург на втором месте с 6%, остальное делят между собой регионы, доля рейсов мала по сравнению со столицей. "
   ]
  },
  {
   "cell_type": "markdown",
   "metadata": {},
   "source": [
    "## Визуализация топ-10 городов по среднему количеству рейсов в день"
   ]
  },
  {
   "cell_type": "code",
   "execution_count": 10,
   "metadata": {},
   "outputs": [
    {
     "data": {
      "image/png": "[encoded data removed]",
      "text/plain": [
       "<Figure size 720x360 with 1 Axes>"
      ]
     },
     "metadata": {
      "needs_background": "light"
     },
     "output_type": "display_data"
    }
   ],
   "source": [
    "city_flights.sort_values(by = 'average_flights', ascending = False).head(10).plot(kind = 'bar', figsize = (10, 5), x = 'city')\n",
    "plt.xticks(rotation=45)\n",
    "plt.show()"
   ]
  },
  {
   "cell_type": "markdown",
   "metadata": {},
   "source": [
    "При визуализации топ 10 городов по среднему количеству рейсов в день удобно построить столбчатую диаграмму, на ней хорошо видно, что Москва сильно выделяется среди остальных городов, далее идут наиболее крупные города России с примерно одинаковым показателем. \n",
    "\n",
    "Москва является столицей, она наиболее связана с остальными городами и направлениями, поэтому наибольшая доля рейсов приходится на нее.\n",
    "\n",
    "Далее располагаются города-миллионники: Санкт-Петербург (он выделяется на фоне городов с меньшим населением своими показателями рейсов, но на фоне Москвы его можно сравнивать с остальными миллионниками). К миллионникам в этом списке относятся СПб, Новосибирск, Красноярск, Екатеринбург, Ростов-на-Дону, Пермь. В этих городах помимо большого числа населения есть большие аэропорты, которые связаны как с остальными городами страны, так и есть возможность полететь из них за границу. В эти города летают многие авиакомпании России. \n",
    "    \n",
    "Сочи - курортный город, который принимает множество туристов и спортсменов и, хоть он и не миллионник, его появление в списке топ10 городов по среднему числу рейсов не удивляет.\n",
    "    \n",
    "Брянск и Ульяновск - относительно небольшие города, но они тоже попали в список. В обоих городах есть международные аэропорты, в (и из которых) которые совершают рейсы многие авиакомпании, видимо, этим и обусловлено их появление в нашем датасете"
   ]
  },
  {
   "cell_type": "markdown",
   "metadata": {},
   "source": [
    "## Вывод"
   ]
  },
  {
   "cell_type": "markdown",
   "metadata": {},
   "source": [
    "В рамках данного проекта мне предстояло изучить базу данных и проанализировать спрос пассажиров на рейсы в города, где проходят крупнейшие фестивали. \n",
    "\n",
    "В рамках построения SQL-запросов я получила таблицу, определяющую недели в году, когда летают рейсы в Москву, а также недели, в которые проходят фестивали в Москве. К сожалению, на данном этапе нельзя говорить о репрезентативности полученных результатов, невозможно сказать определенно, были ли связаны рейсы с днями проведения крупнейших фестивалей. Данные о числе проданных билетов по неделям примерно постоянны, а в неделю проведения фестиваля Park Live билетов вообще намного меньше, чем обычно. Но это не значит, что эти значения коррелируют между собой, необходимо проводить более глубокий анализ и искать зависимости. \n",
    "\n",
    "Кроме этого, был проведен анализ наиболее оппулярных моделей самолетов для полетов внутри страны, ими оказались относительно небольшие самолеты Cessna 208 Caravan, Bombardier CRJ-200 и Sukhoi SuperJet-100, из чего я сделала вывод, что пассажиропоток внутренних авиаперевозок наименьшим образом нуждается во вместиетльных боингах и аэробусов, они все же предпочтительней на больших дистанциях, а также не стоит заблывать о их обслуживании и использовании топлива. \n",
    "\n",
    "Также было проанализировано среднее число рейсов в день в городах России, здесь ожидаемо лидирует Москва, как центр всех передвижений, на нее приходится четверть от всех рейсов, а остальные три четверти делят между собой регионы, где в топ10 городов с наибольшим средним числом рейсов в основном входят города-миллионники и города чуть поменьше, но с международными аэропортами, которые могут их связывать с другими городами России и другими странами\n"
   ]
  },
  {
   "cell_type": "markdown",
   "metadata": {},
   "source": [
    "## Чек-лист готовности проекта"
   ]
  },
  {
   "cell_type": "markdown",
   "metadata": {},
   "source": [
    "- [x]  импортировать файлы\n",
    "- [x]  изучить данные в них\n",
    "- [x]  проверить типы данных на корректность\n",
    "- [x]  выбрать топ-10 городов по количеству рейсов\n",
    "- [x]  построить график: модели самолетов и количество рейсов,\n",
    "- [x]  построить график: города и количество рейсов, \n",
    "- [x]  построить график: топ-10 городов и количество рейсов;\n",
    "- [x]  сделать выводы по каждому из графиков, пояснить результат.\n",
    "\n"
   ]
  }
 ],
 "metadata": {
  "ExecuteTimeLog": [
   {
    "duration": 1107,
    "start_time": "2021-09-12T21:09:15.722Z"
   },
   {
    "duration": 27,
    "start_time": "2021-09-12T21:10:16.094Z"
   },
   {
    "duration": 9,
    "start_time": "2021-09-12T21:11:00.036Z"
   },
   {
    "duration": 8,
    "start_time": "2021-09-12T21:11:11.939Z"
   },
   {
    "duration": 426,
    "start_time": "2021-09-12T21:12:16.830Z"
   },
   {
    "duration": 327,
    "start_time": "2021-09-12T21:12:23.078Z"
   },
   {
    "duration": 8,
    "start_time": "2021-09-12T21:12:32.251Z"
   },
   {
    "duration": 7,
    "start_time": "2021-09-12T21:12:41.428Z"
   },
   {
    "duration": 7,
    "start_time": "2021-09-12T21:13:12.967Z"
   },
   {
    "duration": 8,
    "start_time": "2021-09-12T21:14:36.496Z"
   },
   {
    "duration": 347,
    "start_time": "2021-09-12T21:15:50.940Z"
   },
   {
    "duration": 16,
    "start_time": "2021-09-12T21:16:20.114Z"
   },
   {
    "duration": 14,
    "start_time": "2021-09-12T21:16:33.121Z"
   },
   {
    "duration": 12,
    "start_time": "2021-09-12T21:16:44.180Z"
   },
   {
    "duration": 396,
    "start_time": "2021-09-12T21:19:10.980Z"
   },
   {
    "duration": 720,
    "start_time": "2021-09-12T21:19:52.983Z"
   },
   {
    "duration": 25,
    "start_time": "2021-09-12T21:19:55.913Z"
   },
   {
    "duration": 8,
    "start_time": "2021-09-12T21:19:58.574Z"
   },
   {
    "duration": 8,
    "start_time": "2021-09-12T21:20:00.295Z"
   },
   {
    "duration": 9,
    "start_time": "2021-09-12T21:20:02.291Z"
   },
   {
    "duration": 9,
    "start_time": "2021-09-12T21:20:04.311Z"
   },
   {
    "duration": 12,
    "start_time": "2021-09-12T21:20:05.974Z"
   },
   {
    "duration": 353,
    "start_time": "2021-09-12T21:20:20.438Z"
   },
   {
    "duration": 280,
    "start_time": "2021-09-12T21:20:30.190Z"
   },
   {
    "duration": 299,
    "start_time": "2021-09-12T21:20:35.665Z"
   },
   {
    "duration": 298,
    "start_time": "2021-09-12T21:22:44.842Z"
   },
   {
    "duration": 322,
    "start_time": "2021-09-12T21:23:05.508Z"
   },
   {
    "duration": 363,
    "start_time": "2021-09-12T21:23:38.453Z"
   },
   {
    "duration": 319,
    "start_time": "2021-09-12T21:23:48.829Z"
   },
   {
    "duration": 350,
    "start_time": "2021-09-12T21:24:07.569Z"
   },
   {
    "duration": 2361,
    "start_time": "2021-09-12T21:25:31.279Z"
   },
   {
    "duration": 2365,
    "start_time": "2021-09-12T21:25:40.513Z"
   },
   {
    "duration": 2301,
    "start_time": "2021-09-12T21:25:48.154Z"
   },
   {
    "duration": 2504,
    "start_time": "2021-09-12T21:25:52.916Z"
   },
   {
    "duration": 779,
    "start_time": "2021-09-12T21:26:07.154Z"
   },
   {
    "duration": 1132,
    "start_time": "2021-09-12T21:26:21.535Z"
   },
   {
    "duration": 805,
    "start_time": "2021-09-12T21:26:28.660Z"
   },
   {
    "duration": 708,
    "start_time": "2021-09-12T21:27:34.454Z"
   },
   {
    "duration": 735,
    "start_time": "2021-09-12T21:28:20.702Z"
   },
   {
    "duration": 421,
    "start_time": "2021-09-12T21:28:46.112Z"
   },
   {
    "duration": 1248,
    "start_time": "2021-09-12T21:28:58.383Z"
   },
   {
    "duration": 660,
    "start_time": "2021-09-12T21:30:23.074Z"
   },
   {
    "duration": 648,
    "start_time": "2021-09-12T21:30:48.365Z"
   },
   {
    "duration": 569,
    "start_time": "2021-09-12T21:30:51.254Z"
   },
   {
    "duration": 948,
    "start_time": "2021-09-12T21:31:57.089Z"
   },
   {
    "duration": 357,
    "start_time": "2021-09-12T21:32:08.125Z"
   },
   {
    "duration": 569,
    "start_time": "2021-09-12T21:32:10.395Z"
   },
   {
    "duration": 660,
    "start_time": "2021-09-12T21:32:23.489Z"
   },
   {
    "duration": 785,
    "start_time": "2021-09-12T21:33:22.380Z"
   },
   {
    "duration": 332,
    "start_time": "2021-09-12T21:34:38.538Z"
   },
   {
    "duration": 1658,
    "start_time": "2021-09-12T21:35:46.217Z"
   },
   {
    "duration": 1061,
    "start_time": "2021-09-13T06:05:08.776Z"
   },
   {
    "duration": 21,
    "start_time": "2021-09-13T06:05:09.840Z"
   },
   {
    "duration": 7,
    "start_time": "2021-09-13T06:05:09.863Z"
   },
   {
    "duration": 6,
    "start_time": "2021-09-13T06:05:09.872Z"
   },
   {
    "duration": 7,
    "start_time": "2021-09-13T06:05:09.880Z"
   },
   {
    "duration": 7,
    "start_time": "2021-09-13T06:05:09.889Z"
   },
   {
    "duration": 12,
    "start_time": "2021-09-13T06:05:09.897Z"
   },
   {
    "duration": 221,
    "start_time": "2021-09-13T06:05:09.911Z"
   },
   {
    "duration": 1039,
    "start_time": "2021-09-13T06:05:10.134Z"
   },
   {
    "duration": 451,
    "start_time": "2021-09-13T06:05:11.175Z"
   },
   {
    "duration": 209,
    "start_time": "2021-09-13T06:05:20.498Z"
   },
   {
    "duration": 689,
    "start_time": "2021-09-13T06:05:25.986Z"
   },
   {
    "duration": 849,
    "start_time": "2021-09-13T06:05:31.272Z"
   },
   {
    "duration": 226,
    "start_time": "2021-09-13T06:06:11.130Z"
   },
   {
    "duration": 783,
    "start_time": "2021-09-13T07:26:43.575Z"
   },
   {
    "duration": 274,
    "start_time": "2021-09-13T07:27:25.163Z"
   },
   {
    "duration": 169,
    "start_time": "2021-09-13T07:27:34.574Z"
   },
   {
    "duration": 318,
    "start_time": "2021-09-13T07:27:48.931Z"
   },
   {
    "duration": 177,
    "start_time": "2021-09-13T07:30:16.643Z"
   },
   {
    "duration": 463,
    "start_time": "2021-09-13T07:30:28.936Z"
   },
   {
    "duration": 176,
    "start_time": "2021-09-13T07:30:38.300Z"
   },
   {
    "duration": 184,
    "start_time": "2021-09-13T07:30:51.949Z"
   },
   {
    "duration": 81,
    "start_time": "2021-09-13T07:38:39.987Z"
   },
   {
    "duration": 212,
    "start_time": "2021-09-13T07:38:45.795Z"
   },
   {
    "duration": 1297,
    "start_time": "2021-09-13T07:38:54.121Z"
   },
   {
    "duration": 1422,
    "start_time": "2021-09-13T07:39:03.017Z"
   },
   {
    "duration": 1401,
    "start_time": "2021-09-13T07:39:12.599Z"
   },
   {
    "duration": 1450,
    "start_time": "2021-09-13T07:39:38.658Z"
   },
   {
    "duration": 1367,
    "start_time": "2021-09-13T07:40:05.512Z"
   },
   {
    "duration": 1230,
    "start_time": "2021-09-13T07:40:10.574Z"
   },
   {
    "duration": 967,
    "start_time": "2021-09-13T07:40:36.534Z"
   },
   {
    "duration": 1256,
    "start_time": "2021-09-13T07:40:48.567Z"
   },
   {
    "duration": 1393,
    "start_time": "2021-09-13T07:41:05.538Z"
   },
   {
    "duration": 1418,
    "start_time": "2021-09-13T07:41:09.045Z"
   },
   {
    "duration": 1411,
    "start_time": "2021-09-13T07:41:16.682Z"
   },
   {
    "duration": 1434,
    "start_time": "2021-09-13T07:43:14.822Z"
   },
   {
    "duration": 449,
    "start_time": "2021-09-13T08:10:34.354Z"
   },
   {
    "duration": 262,
    "start_time": "2021-09-13T08:10:47.379Z"
   },
   {
    "duration": 223,
    "start_time": "2021-09-13T08:14:07.109Z"
   },
   {
    "duration": 278,
    "start_time": "2021-09-13T08:14:10.782Z"
   },
   {
    "duration": 179,
    "start_time": "2021-09-13T08:14:13.927Z"
   },
   {
    "duration": 1107,
    "start_time": "2021-09-13T08:14:34.309Z"
   },
   {
    "duration": 183,
    "start_time": "2021-09-13T08:15:10.200Z"
   },
   {
    "duration": 1160,
    "start_time": "2021-09-13T08:15:21.311Z"
   },
   {
    "duration": 1129,
    "start_time": "2021-09-13T08:15:27.714Z"
   },
   {
    "duration": 1397,
    "start_time": "2021-09-13T08:15:37.047Z"
   },
   {
    "duration": 265,
    "start_time": "2021-09-13T08:15:47.707Z"
   },
   {
    "duration": 1773,
    "start_time": "2021-09-13T08:15:54.346Z"
   },
   {
    "duration": 1883,
    "start_time": "2021-09-13T08:16:04.129Z"
   },
   {
    "duration": 1862,
    "start_time": "2021-09-13T08:16:18.074Z"
   },
   {
    "duration": 2090,
    "start_time": "2021-09-13T08:16:27.440Z"
   },
   {
    "duration": 2021,
    "start_time": "2021-09-13T08:16:34.098Z"
   },
   {
    "duration": 2057,
    "start_time": "2021-09-13T08:16:46.905Z"
   },
   {
    "duration": 358,
    "start_time": "2021-09-13T12:09:15.500Z"
   },
   {
    "duration": 1474,
    "start_time": "2021-09-13T12:09:24.233Z"
   },
   {
    "duration": 28,
    "start_time": "2021-09-13T12:09:25.710Z"
   },
   {
    "duration": 9,
    "start_time": "2021-09-13T12:09:25.740Z"
   },
   {
    "duration": 11,
    "start_time": "2021-09-13T12:09:25.752Z"
   },
   {
    "duration": 13,
    "start_time": "2021-09-13T12:09:25.765Z"
   },
   {
    "duration": 8,
    "start_time": "2021-09-13T12:09:25.781Z"
   },
   {
    "duration": 35,
    "start_time": "2021-09-13T12:09:25.791Z"
   },
   {
    "duration": 370,
    "start_time": "2021-09-13T12:09:25.829Z"
   },
   {
    "duration": 2192,
    "start_time": "2021-09-13T12:09:26.202Z"
   },
   {
    "duration": 3047,
    "start_time": "2021-09-13T12:09:28.396Z"
   },
   {
    "duration": 375,
    "start_time": "2021-09-13T12:09:31.446Z"
   },
   {
    "duration": 3024,
    "start_time": "2021-09-13T12:09:46.305Z"
   },
   {
    "duration": 99,
    "start_time": "2021-09-13T12:33:02.628Z"
   },
   {
    "duration": 97,
    "start_time": "2021-09-13T12:33:11.390Z"
   },
   {
    "duration": 71,
    "start_time": "2022-03-31T09:12:34.480Z"
   },
   {
    "duration": 1670,
    "start_time": "2022-03-31T09:12:42.405Z"
   },
   {
    "duration": 26,
    "start_time": "2022-03-31T09:12:44.078Z"
   },
   {
    "duration": 15,
    "start_time": "2022-03-31T09:12:44.107Z"
   },
   {
    "duration": 12,
    "start_time": "2022-03-31T09:12:44.125Z"
   },
   {
    "duration": 17,
    "start_time": "2022-03-31T09:12:44.139Z"
   },
   {
    "duration": 28,
    "start_time": "2022-03-31T09:12:44.159Z"
   },
   {
    "duration": 12,
    "start_time": "2022-03-31T09:12:44.189Z"
   },
   {
    "duration": 512,
    "start_time": "2022-03-31T09:12:44.204Z"
   },
   {
    "duration": 6529,
    "start_time": "2022-03-31T09:12:44.718Z"
   },
   {
    "duration": 3195,
    "start_time": "2022-03-31T09:12:51.281Z"
   },
   {
    "duration": 292,
    "start_time": "2022-03-31T09:12:54.482Z"
   },
   {
    "duration": 1430,
    "start_time": "2022-03-31T09:15:43.127Z"
   },
   {
    "duration": 20,
    "start_time": "2022-03-31T09:15:44.560Z"
   },
   {
    "duration": 23,
    "start_time": "2022-03-31T09:15:44.582Z"
   },
   {
    "duration": 32,
    "start_time": "2022-03-31T09:15:44.609Z"
   },
   {
    "duration": 32,
    "start_time": "2022-03-31T09:15:44.644Z"
   },
   {
    "duration": 36,
    "start_time": "2022-03-31T09:15:44.679Z"
   },
   {
    "duration": 33,
    "start_time": "2022-03-31T09:15:44.718Z"
   },
   {
    "duration": 300,
    "start_time": "2022-03-31T09:15:44.753Z"
   },
   {
    "duration": 2611,
    "start_time": "2022-03-31T09:15:45.056Z"
   },
   {
    "duration": 283,
    "start_time": "2022-03-31T09:15:47.671Z"
   }
  ],
  "kernelspec": {
   "display_name": "Python 3 (ipykernel)",
   "language": "python",
   "name": "python3"
  },
  "language_info": {
   "codemirror_mode": {
    "name": "ipython",
    "version": 3
   },
   "file_extension": ".py",
   "mimetype": "text/x-python",
   "name": "python",
   "nbconvert_exporter": "python",
   "pygments_lexer": "ipython3",
   "version": "3.9.5"
  },
  "toc": {
   "base_numbering": 1,
   "nav_menu": {},
   "number_sections": true,
   "sideBar": true,
   "skip_h1_title": true,
   "title_cell": "Содержание",
   "title_sidebar": "Содержание",
   "toc_cell": true,
   "toc_position": {},
   "toc_section_display": true,
   "toc_window_display": true
  }
 },
 "nbformat": 4,
 "nbformat_minor": 2
}
